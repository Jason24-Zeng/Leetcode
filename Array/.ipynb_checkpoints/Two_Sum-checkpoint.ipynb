{
 "cells": [
  {
   "cell_type": "markdown",
   "metadata": {},
   "source": [
    "Given an array of integers nums and an integer target, return indices of the two numbers such that they add up to target.\n",
    "\n",
    "You may assume that each input would have exactly one solution, and you may not use the same element twice.\n",
    "\n",
    "You can return the answer in any order.\n",
    "\n",
    "Example 1:\n",
    "\n",
    "```\n",
    "Input: nums = [2,7,11,15], target = 9\n",
    "Output: [0,1]\n",
    "Output: Because nums[0] + nums[1] == 9, we return [0, 1].\n",
    "```"
   ]
  },
  {
   "cell_type": "code",
   "execution_count": 32,
   "metadata": {},
   "outputs": [],
   "source": [
    "# version 1\n",
    "class Solution:\n",
    "    def twoSum(self, nums, target: int):\n",
    "        lenn = len(nums)\n",
    "        i = 0\n",
    "        j = 1\n",
    "        if lenn < 2:\n",
    "            return False\n",
    "        while True:\n",
    "            if j < lenn:\n",
    "                if nums[i] + nums[j] == target:\n",
    "                    return [i,j]\n",
    "                else:\n",
    "                    j += 1\n",
    "            else:\n",
    "                if i < lenn - 1:\n",
    "                    i += 1\n",
    "                    j = i + 1\n",
    "                else:\n",
    "                    return False\n",
    " ## runtime: 7600 ms           "
   ]
  },
  {
   "cell_type": "code",
   "execution_count": 59,
   "metadata": {},
   "outputs": [],
   "source": [
    "# version 2\n",
    "class Solution:\n",
    "    def twoSum(self, nums, target: int):\n",
    "        hash_table = {}\n",
    "        lenn = len(nums)\n",
    "        for ind, num in enumerate(nums):\n",
    "            sec_num = target - num\n",
    "            if sec_num in nums[ind+1:lenn]:\n",
    "                new_ind = nums[ind+1:lenn].index(sec_num) + ind + 1\n",
    "                return [ind, new_ind]\n",
    "            else:\n",
    "                 pass\n",
    "                \n",
    "## runtime: 1024 ms"
   ]
  },
  {
   "cell_type": "code",
   "execution_count": 45,
   "metadata": {},
   "outputs": [],
   "source": [
    "# version 3\n",
    "class Solution:\n",
    "    def twoSum(self, nums, target: int):\n",
    "        hash_table = {}\n",
    "        for ind, num in enumerate(nums):\n",
    "            sec_num = target - num\n",
    "            if sec_num not in hash_table:\n",
    "                hash_table[num] = ind\n",
    "            else:\n",
    "                 return [hash_table[sec_num], ind]\n",
    "                \n",
    "## runtime: 40 ms"
   ]
  },
  {
   "cell_type": "code",
   "execution_count": 61,
   "metadata": {},
   "outputs": [
    {
     "name": "stdout",
     "output_type": "stream",
     "text": [
      "[0, 1]\n"
     ]
    }
   ],
   "source": [
    "if __name__ == \"__main__\":\n",
    "    solution = Solution()\n",
    "    print(solution.twoSum(nums = [3,3], target = 6))"
   ]
  },
  {
   "cell_type": "code",
   "execution_count": 41,
   "metadata": {},
   "outputs": [
    {
     "data": {
      "text/plain": [
       "array([2, 3])"
      ]
     },
     "execution_count": 41,
     "metadata": {},
     "output_type": "execute_result"
    }
   ],
   "source": [
    "import numpy\n",
    "numpy.array(list([2,3]))"
   ]
  },
  {
   "cell_type": "code",
   "execution_count": null,
   "metadata": {},
   "outputs": [],
   "source": []
  },
  {
   "cell_type": "code",
   "execution_count": null,
   "metadata": {},
   "outputs": [],
   "source": []
  },
  {
   "cell_type": "markdown",
   "metadata": {},
   "source": []
  }
 ],
 "metadata": {
  "kernelspec": {
   "display_name": "Python 3",
   "language": "python",
   "name": "python3"
  },
  "language_info": {
   "codemirror_mode": {
    "name": "ipython",
    "version": 3
   },
   "file_extension": ".py",
   "mimetype": "text/x-python",
   "name": "python",
   "nbconvert_exporter": "python",
   "pygments_lexer": "ipython3",
   "version": "3.6.12"
  }
 },
 "nbformat": 4,
 "nbformat_minor": 4
}
