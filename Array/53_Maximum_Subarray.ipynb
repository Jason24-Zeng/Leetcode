{
 "cells": [
  {
   "cell_type": "markdown",
   "metadata": {},
   "source": [
    "Given an integer array nums, find the contiguous subarray (containing at least one number) which has the largest sum and return its sum.\n",
    "\n",
    "Follow up: If you have figured out the O(n) solution, try coding another solution using the divide and conquer approach, which is more subtle.\n",
    "\n",
    " \n",
    "\n",
    "Example 1:\n",
    "```python\n",
    "Input: nums = [-2,1,-3,4,-1,2,1,-5,4]\n",
    "Output: 6\n",
    "Explanation: [4,-1,2,1] has the largest sum = 6.\n",
    "    \n",
    "```"
   ]
  },
  {
   "cell_type": "code",
   "execution_count": 31,
   "metadata": {},
   "outputs": [],
   "source": [
    "# version 1\n",
    "class Solution:\n",
    "    def maxSubArray(self, nums) -> int:\n",
    "        i = 0\n",
    "        lenn = len(nums)\n",
    "        if lenn == 0:\n",
    "            return False\n",
    "        elif lenn == 1:\n",
    "            return nums[0]\n",
    "        elif max(nums) <= 0:\n",
    "            return max(nums)\n",
    "        while nums[i] <= 0:\n",
    "            i += 1\n",
    "        sums = [nums[i]]\n",
    "        sum_s = nums[i]\n",
    "        if i == lenn - 1:\n",
    "            return sum_s\n",
    "        i+=1\n",
    "        while True:\n",
    "            if i == lenn - 1:\n",
    "                sum_s += nums[i]\n",
    "                sums.append(sum_s)\n",
    "                print(sums)\n",
    "                return max(sums)\n",
    "            else:\n",
    "                sum_s += nums[i]\n",
    "                if sum_s > 0:\n",
    "                    sums.append(sum_s)\n",
    "                    print(sums, nums[i])\n",
    "                elif sum_s <= 0:\n",
    "                    sum_s = 0\n",
    "            i += 1\n",
    "                \n",
    "## 48 ms                \n",
    "            "
   ]
  },
  {
   "cell_type": "code",
   "execution_count": 34,
   "metadata": {},
   "outputs": [],
   "source": [
    "## version 2: Dynamic Programming\n",
    "class Solution:\n",
    "    def maxSubArray(self, nums) -> int:\n",
    "        if max(nums) < 0:\n",
    "            return max(nums)\n",
    "        lenn = len(nums)\n",
    "        dp = [0 for _ in range(lenn)]\n",
    "        dp[0] = nums[0]\n",
    "        for ind in range(1,lenn):\n",
    "            dp[ind] = max(0, dp[ind-1]) + nums[ind]\n",
    "        return max(dp)"
   ]
  },
  {
   "cell_type": "code",
   "execution_count": 36,
   "metadata": {},
   "outputs": [],
   "source": []
  },
  {
   "cell_type": "code",
   "execution_count": 35,
   "metadata": {},
   "outputs": [
    {
     "name": "stdout",
     "output_type": "stream",
     "text": [
      "6\n"
     ]
    }
   ],
   "source": [
    "## testing\n",
    "if __name__ == \"__main__\":\n",
    "    solution = Solution()\n",
    "    print(solution.maxSubArray(nums = [2,3,2,1]))"
   ]
  },
  {
   "cell_type": "code",
   "execution_count": null,
   "metadata": {},
   "outputs": [],
   "source": []
  },
  {
   "cell_type": "code",
   "execution_count": null,
   "metadata": {},
   "outputs": [],
   "source": []
  },
  {
   "cell_type": "code",
   "execution_count": null,
   "metadata": {},
   "outputs": [],
   "source": []
  }
 ],
 "metadata": {
  "kernelspec": {
   "display_name": "Python 3",
   "language": "python",
   "name": "python3"
  },
  "language_info": {
   "codemirror_mode": {
    "name": "ipython",
    "version": 3
   },
   "file_extension": ".py",
   "mimetype": "text/x-python",
   "name": "python",
   "nbconvert_exporter": "python",
   "pygments_lexer": "ipython3",
   "version": "3.6.12"
  }
 },
 "nbformat": 4,
 "nbformat_minor": 4
}
