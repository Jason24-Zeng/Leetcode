{
 "cells": [
  {
   "cell_type": "markdown",
   "metadata": {},
   "source": [
    "Given an integer array, you need to find one continuous subarray that if you only sort this subarray in ascending order, then the whole array will be sorted in ascending order, too.\n",
    "\n",
    "You need to find the shortest such subarray and output its length.\n",
    "\n",
    "Example 1:\n",
    "```\n",
    "Input: [2, 6, 4, 8, 10, 9, 15]\n",
    "Output: 5\n",
    "Explanation: You need to sort [6, 4, 8, 10, 9] in ascending order to make the whole array sorted in ascending order.\n",
    "```\n",
    "Note:\n",
    "Then length of the input array is in range [1, 10,000].\n",
    "The input array may contain duplicates, so ascending order here means <=."
   ]
  },
  {
   "cell_type": "code",
   "execution_count": 198,
   "metadata": {},
   "outputs": [],
   "source": [
    "# version 1\n",
    "class Solution:\n",
    "    def findUnsortedSubarray(self, nums) -> int:\n",
    "        lenn = len(nums)\n",
    "        pointer1 = 1\n",
    "        pointer2 = lenn - 2\n",
    "        low = 0\n",
    "        high = lenn - 1\n",
    "        if lenn == 1:\n",
    "            return 0\n",
    "        if lenn == 2:\n",
    "            return 0 if nums[0] <= nums[1] else 2\n",
    "        # find low index\n",
    "        while True:\n",
    "            if pointer1 < lenn - 1:\n",
    "                if nums[pointer1] >= nums[pointer1-1]:\n",
    "                    pointer1 += 1\n",
    "                else:\n",
    "                    break\n",
    "            if pointer1 == lenn - 1:\n",
    "                if nums[pointer1] < nums[pointer1-1]:\n",
    "                    low = pointer1# 4 for 5 num array\n",
    "                    low1 = 0\n",
    "                    for i in range(lenn):\n",
    "                        if nums[i] > nums[low]:\n",
    "                            \n",
    "                            return low - i + 1\n",
    "                    \n",
    "                    return low - low1 + 1\n",
    "                else:\n",
    "                    return 0\n",
    "        for i in range(pointer1):\n",
    "            if nums[i] > min(nums[pointer1:lenn]):\n",
    "                low = i\n",
    "                break\n",
    "            if i == pointer1 - 1:\n",
    "                low = 0\n",
    "                break\n",
    "        #print('low',low)  \n",
    "        # find high index\n",
    "        while pointer2>=low:\n",
    "            if nums[pointer2] <= nums[pointer2 + 1]:\n",
    "                pointer2 -= 1\n",
    "                #print(pointer2)\n",
    "            else:\n",
    "                high = pointer2\n",
    "                #print('high', high)\n",
    "                break\n",
    "        high_num = max(nums[low:pointer2+1])\n",
    "        #print(high_num)\n",
    "        for i in range(high+1, lenn):\n",
    "            if high_num <= nums[i]:\n",
    "                #print(high_num)\n",
    "                high = i\n",
    "                #print(high_num,low,high, nums[high])\n",
    "                break\n",
    "            if i == lenn - 1:\n",
    "                high = lenn\n",
    "                break\n",
    "        print(high, low)\n",
    "        return (high - low)        \n",
    "                "
   ]
  },
  {
   "cell_type": "code",
   "execution_count": 223,
   "metadata": {},
   "outputs": [],
   "source": [
    "### version 2\n",
    "class Solution:\n",
    "    def findUnsortedSubarray(self, nums) -> int:\n",
    "        num1 = nums.copy()\n",
    "        nums.sort()\n",
    "        print(num1, nums)\n",
    "        lenn = len(nums)\n",
    "        if lenn == 1:\n",
    "            return 0\n",
    "        if lenn == 2:\n",
    "            return 2 if num1[1]<num1[0] else 0\n",
    "        for i in range(lenn):\n",
    "            if i < lenn - 1:\n",
    "                if nums[i] != num1[i]:\n",
    "                    low = i\n",
    "                    break\n",
    "            if i == lenn - 1:\n",
    "                return 0\n",
    "        for j in range(1,lenn+1):\n",
    "            if j < lenn:\n",
    "                if nums[lenn - j]!= num1[lenn - j ]:\n",
    "                    high = lenn - j\n",
    "                    break\n",
    "            if j == lenn:\n",
    "                return \n",
    "            #print(j)\n",
    "        #print(high, low)           \n",
    "        return high - low + 1\n",
    "                "
   ]
  },
  {
   "cell_type": "code",
   "execution_count": 224,
   "metadata": {},
   "outputs": [
    {
     "name": "stdout",
     "output_type": "stream",
     "text": [
      "[2, 1, 3, 4, 5] [1, 2, 3, 4, 5]\n",
      "1\n",
      "2\n",
      "3\n",
      "2\n"
     ]
    }
   ],
   "source": [
    "if __name__ == '__main__':\n",
    "    solution = Solution()\n",
    "    print(solution.findUnsortedSubarray(nums = [2,1,3,4,5]))"
   ]
  },
  {
   "cell_type": "code",
   "execution_count": 203,
   "metadata": {},
   "outputs": [],
   "source": [
    "A = [1,3,5,4,2]\n",
    "A.sort()"
   ]
  },
  {
   "cell_type": "code",
   "execution_count": 204,
   "metadata": {},
   "outputs": [
    {
     "name": "stdout",
     "output_type": "stream",
     "text": [
      "[1, 2, 3, 4, 5]\n"
     ]
    }
   ],
   "source": [
    "print(A)"
   ]
  },
  {
   "cell_type": "code",
   "execution_count": null,
   "metadata": {},
   "outputs": [],
   "source": []
  },
  {
   "cell_type": "code",
   "execution_count": null,
   "metadata": {},
   "outputs": [],
   "source": []
  },
  {
   "cell_type": "code",
   "execution_count": null,
   "metadata": {},
   "outputs": [],
   "source": []
  }
 ],
 "metadata": {
  "kernelspec": {
   "display_name": "Python 3",
   "language": "python",
   "name": "python3"
  },
  "language_info": {
   "codemirror_mode": {
    "name": "ipython",
    "version": 3
   },
   "file_extension": ".py",
   "mimetype": "text/x-python",
   "name": "python",
   "nbconvert_exporter": "python",
   "pygments_lexer": "ipython3",
   "version": "3.6.12"
  }
 },
 "nbformat": 4,
 "nbformat_minor": 4
}
