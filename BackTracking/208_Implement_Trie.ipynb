{
 "cells": [
  {
   "cell_type": "markdown",
   "metadata": {},
   "source": [
    "Implement a trie with insert, search, and startsWith methods.\n",
    "\n",
    "Example:\n",
    "```\n",
    "Trie trie = new Trie();\n",
    "\n",
    "trie.insert(\"apple\");\n",
    "trie.search(\"apple\");   // returns true\n",
    "trie.search(\"app\");     // returns false\n",
    "trie.startsWith(\"app\"); // returns true\n",
    "trie.insert(\"app\");   \n",
    "trie.search(\"app\");     // returns true\n",
    "\n",
    "```\n",
    "Note:\n",
    "\n",
    "You may assume that all inputs are consist of lowercase letters a-z.\n",
    "All inputs are guaranteed to be non-empty strings."
   ]
  },
  {
   "cell_type": "code",
   "execution_count": 10,
   "metadata": {},
   "outputs": [],
   "source": [
    "class Trie:\n",
    "\n",
    "    def __init__(self):\n",
    "        \"\"\"\n",
    "        Initialize your data structure here.\n",
    "        \"\"\"\n",
    "        self.trie = {}\n",
    "        \n",
    "\n",
    "    def insert(self, word: str) -> None:\n",
    "        \"\"\"\n",
    "        Inserts a word into the trie.\n",
    "        \"\"\"\n",
    "        node = self.trie\n",
    "        for letter in word[:]:            \n",
    "            node = node.setdefault(letter,{})\n",
    "        node['#'] = word\n",
    "\n",
    "    def search(self, word: str) -> bool:\n",
    "        \"\"\"\n",
    "        Returns if the word is in the trie.\n",
    "        \"\"\"\n",
    "        node = self.trie\n",
    "        for letter in word:\n",
    "            if letter in node:\n",
    "                node = node[letter]\n",
    "            else:\n",
    "                return False\n",
    "        if '#' in node:\n",
    "            return True\n",
    "        else:\n",
    "            return False\n",
    "\n",
    "    def startsWith(self, prefix: str) -> bool:\n",
    "        \"\"\"\n",
    "        Returns if there is any word in the trie that starts with the given prefix.\n",
    "        \"\"\"\n",
    "        node = self.trie\n",
    "        for letter in prefix:\n",
    "            if letter in node:\n",
    "                node = node[letter]\n",
    "            else:\n",
    "                return False\n",
    "        return True\n",
    "        \n",
    "        \n",
    "\n",
    "\n",
    "# Your Trie object will be instantiated and called as such:\n",
    "# obj = Trie()\n",
    "# obj.insert(word)\n",
    "# param_2 = obj.search(word)\n",
    "# param_3 = obj.startsWith(prefix)"
   ]
  },
  {
   "cell_type": "code",
   "execution_count": 11,
   "metadata": {},
   "outputs": [
    {
     "name": "stdout",
     "output_type": "stream",
     "text": [
      "False\n",
      "True\n",
      "False\n",
      "True\n",
      "True\n"
     ]
    }
   ],
   "source": [
    "if __name__ == '__main__':\n",
    "    trie = Trie()\n",
    "    print(trie.search(\"a\"))\n",
    "    trie.insert(\"apple\")\n",
    "    print(trie.search(\"apple\"))\n",
    "    print(trie.search(\"app\"))\n",
    "    print(trie.startsWith(\"app\"))\n",
    "    trie.insert(\"app\")   \n",
    "    print(trie.search(\"app\"))\n",
    "    "
   ]
  },
  {
   "cell_type": "code",
   "execution_count": 4,
   "metadata": {},
   "outputs": [
    {
     "name": "stdout",
     "output_type": "stream",
     "text": [
      "a\n",
      "p\n",
      "p\n",
      "l\n",
      "e\n"
     ]
    }
   ],
   "source": [
    "word = 'apple'\n",
    "for letter in word[:]:\n",
    "    print(letter)"
   ]
  },
  {
   "cell_type": "code",
   "execution_count": 5,
   "metadata": {},
   "outputs": [
    {
     "data": {
      "text/plain": [
       "'apple'"
      ]
     },
     "execution_count": 5,
     "metadata": {},
     "output_type": "execute_result"
    }
   ],
   "source": [
    "str(word)"
   ]
  },
  {
   "cell_type": "code",
   "execution_count": null,
   "metadata": {},
   "outputs": [],
   "source": []
  },
  {
   "cell_type": "code",
   "execution_count": null,
   "metadata": {},
   "outputs": [],
   "source": []
  },
  {
   "cell_type": "code",
   "execution_count": null,
   "metadata": {},
   "outputs": [],
   "source": []
  },
  {
   "cell_type": "code",
   "execution_count": null,
   "metadata": {},
   "outputs": [],
   "source": []
  },
  {
   "cell_type": "code",
   "execution_count": null,
   "metadata": {},
   "outputs": [],
   "source": []
  },
  {
   "cell_type": "code",
   "execution_count": null,
   "metadata": {},
   "outputs": [],
   "source": []
  },
  {
   "cell_type": "code",
   "execution_count": null,
   "metadata": {},
   "outputs": [],
   "source": []
  }
 ],
 "metadata": {
  "kernelspec": {
   "display_name": "Python 3",
   "language": "python",
   "name": "python3"
  },
  "language_info": {
   "codemirror_mode": {
    "name": "ipython",
    "version": 3
   },
   "file_extension": ".py",
   "mimetype": "text/x-python",
   "name": "python",
   "nbconvert_exporter": "python",
   "pygments_lexer": "ipython3",
   "version": "3.6.12"
  }
 },
 "nbformat": 4,
 "nbformat_minor": 4
}
