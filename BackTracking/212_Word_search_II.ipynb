{
 "cells": [
  {
   "cell_type": "markdown",
   "metadata": {},
   "source": [
    "Given a 2D board and a list of words from the dictionary, find all words in the board.\n",
    "\n",
    "Each word must be constructed from letters of sequentially adjacent cell, where \"adjacent\" cells are those horizontally or vertically neighboring. The same letter cell may not be used more than once in a word.\n",
    "\n",
    " \n",
    "\n",
    "Example:\n",
    "```python\n",
    "Input: \n",
    "board = [\n",
    "  ['o','a','a','n'],\n",
    "  ['e','t','a','e'],\n",
    "  ['i','h','k','r'],\n",
    "  ['i','f','l','v']\n",
    "]\n",
    "words = [\"oath\",\"pea\",\"eat\",\"rain\"]\n",
    "\n",
    "Output: [\"eat\",\"oath\"]\n",
    "```\n",
    "\n",
    "Note:\n",
    "\n",
    "All inputs are consist of lowercase letters a-z.\n",
    "The values of words are distinct."
   ]
  },
  {
   "cell_type": "code",
   "execution_count": null,
   "metadata": {},
   "outputs": [],
   "source": []
  },
  {
   "cell_type": "code",
   "execution_count": 68,
   "metadata": {},
   "outputs": [],
   "source": [
    "# Without Try, timelimitedExcess, we can first operate on the word using trie node to minimize the search time \n",
    "class Solution:\n",
    "    def __init__(self):\n",
    "        self.board = None\n",
    "        self.list = []\n",
    "        self.trie = {}\n",
    "        \n",
    "    def create_trie(self, words, word_key = '#'):\n",
    "        \n",
    "        for word in words:\n",
    "            self.node = self.trie\n",
    "            for letter in word:\n",
    "                self.node = self.node.setdefault(letter, {})\n",
    "            self.node[word_key] = word\n",
    "            \n",
    "            \n",
    "    def findWords(self, board, words):\n",
    "        if len(board) == 0 or len(board[0]) == 0:\n",
    "            return []\n",
    "        if self.board == None:\n",
    "            self.board = board\n",
    "            self.height = len(board)\n",
    "            self.width = len(board[0])\n",
    "        if len(words) == 0:\n",
    "            return self.list\n",
    "        self.create_trie(words, '#')\n",
    "        \n",
    "        for i in range(self.height):\n",
    "            for j in range(self.width):\n",
    "                if self.board[i][j] in self.trie:\n",
    "                    self._backtrack(row = i, col = j, node = self.trie)\n",
    "        return self.list\n",
    "    def _backtrack(self, row, col, node):\n",
    "        letter = self.board[row][col]\n",
    "        currNode = node[letter]\n",
    "        # 检验这个node处有没有word\n",
    "        wordmatch = currNode.pop('#', False)\n",
    "        # 避免后续可能造成多次查找并插入list的问题，我们直接把这个word删除掉\n",
    "        \n",
    "        if wordmatch:\n",
    "            \n",
    "            self.list.append(wordmatch)\n",
    "            \n",
    "        #print(row, col)\n",
    "        #print(row < 0, row == self.height, col == self.width, col < 0)\n",
    "        \n",
    "        self.board[row][col] = '$'\n",
    "        for rowoffset, coloffset in [(1,0), (0,1), (-1,0), (0,-1)]:\n",
    "            if row < 0 or row == self.height or col < 0 or col == self.width or self.board[row][col] not in currNode:\n",
    "                continue\n",
    "            self._backtrack(row+rowoffset, col+coloffset, currNode)\n",
    "        self.board[row][col] = letter\n",
    "        \n",
    "        \n",
    "            "
   ]
  },
  {
   "cell_type": "code",
   "execution_count": 63,
   "metadata": {},
   "outputs": [
    {
     "name": "stdout",
     "output_type": "stream",
     "text": [
      "{'o': {'a': {'t': {'h': {'#': 'oath'}}}}, 'd': {'i': {'g': {'#': 'dig'}}, 'o': {'g': {'#': 'dog', 's': {'#': 'dogs'}}}}}\n",
      "{'i': {'g': {'#': 'dig'}}, 'o': {'g': {'#': 'dog', 's': {'#': 'dogs'}}}} dict_items([('i', {'g': {'#': 'dig'}}), ('o', {'g': {'#': 'dog', 's': {'#': 'dogs'}}})])\n",
      "dict_items([('i', {'g': {'#': 'dig'}}), ('o', {'g': {'#': 'dog', 's': {'#': 'dogs'}}})])\n"
     ]
    },
    {
     "data": {
      "text/plain": [
       "True"
      ]
     },
     "execution_count": 63,
     "metadata": {},
     "output_type": "execute_result"
    }
   ],
   "source": [
    "solution = Solution()\n",
    "words = [\"oath\",\"dig\",\"dog\",\"dogs\"]\n",
    "solution.create_trie(words, '#')\n",
    "print(solution.trie)\n",
    "node = solution.trie['d']\n",
    "print(node, node.items())\n",
    "print(node.items())\n",
    "# t = True\n",
    "# while t == True:\n",
    "#     for key, value in node.items():\n",
    "#         if key == '#':\n",
    "#             print(value)\n",
    "#             t = False\n",
    "#             break\n",
    "#         else:\n",
    "#             node = value\n",
    "'o' in node\n",
    "    \n"
   ]
  },
  {
   "cell_type": "code",
   "execution_count": null,
   "metadata": {},
   "outputs": [],
   "source": []
  },
  {
   "cell_type": "code",
   "execution_count": 34,
   "metadata": {},
   "outputs": [],
   "source": [
    "class Solution:\n",
    "    def findWords(self, board, words):\n",
    "        WORD_KEY = '$'\n",
    "        \n",
    "        trie = {}\n",
    "        for word in words:\n",
    "            node = trie\n",
    "            for letter in word:\n",
    "                # retrieve the next node; If not found, create a empty node.\n",
    "                node = node.setdefault(letter, {})\n",
    "            # mark the existence of a word in trie node\n",
    "            node[WORD_KEY] = word\n",
    "        \n",
    "        rowNum = len(board)\n",
    "        colNum = len(board[0])\n",
    "        \n",
    "        matchedWords = []\n",
    "        \n",
    "        def backtracking(row, col, parent):    \n",
    "            \n",
    "            letter = board[row][col]\n",
    "            currNode = parent[letter]\n",
    "            \n",
    "            # check if we find a match of word\n",
    "            word_match = currNode.pop(WORD_KEY, False)\n",
    "            if word_match:\n",
    "                # also we removed the matched word to avoid duplicates,\n",
    "                #   as well as avoiding using set() for results.\n",
    "                matchedWords.append(word_match)\n",
    "            \n",
    "            # Before the EXPLORATION, mark the cell as visited \n",
    "            board[row][col] = '#'\n",
    "            \n",
    "            # Explore the neighbors in 4 directions, i.e. up, right, down, left\n",
    "            for (rowOffset, colOffset) in [(-1, 0), (0, 1), (1, 0), (0, -1)]:\n",
    "                newRow, newCol = row + rowOffset, col + colOffset     \n",
    "                if newRow < 0 or newRow >= rowNum or newCol < 0 or newCol >= colNum:\n",
    "                    continue\n",
    "                if not board[newRow][newCol] in currNode:\n",
    "                    continue\n",
    "                backtracking(newRow, newCol, currNode)\n",
    "        \n",
    "            # End of EXPLORATION, we restore the cell\n",
    "            board[row][col] = letter\n",
    "        \n",
    "            # Optimization: incrementally remove the matched leaf node in Trie.\n",
    "            if not currNode:\n",
    "                parent.pop(letter)\n",
    "\n",
    "        for row in range(rowNum):\n",
    "            for col in range(colNum):\n",
    "                # starting from each of the cells\n",
    "                if board[row][col] in trie:\n",
    "                    backtracking(row, col, trie)\n",
    "        \n",
    "        return matchedWords    "
   ]
  },
  {
   "cell_type": "code",
   "execution_count": 12,
   "metadata": {},
   "outputs": [
    {
     "name": "stdout",
     "output_type": "stream",
     "text": [
      "['e', '#', 'a', 'e']\n"
     ]
    }
   ],
   "source": [
    "print(board[1])"
   ]
  },
  {
   "cell_type": "code",
   "execution_count": 35,
   "metadata": {},
   "outputs": [],
   "source": [
    "board = None\n",
    "board = [\n",
    "  ['o','a','a','n'],\n",
    "  ['e','t','a','e'],\n",
    "  ['i','h','k','r'],\n",
    "  ['i','f','l','v']\n",
    "]"
   ]
  },
  {
   "cell_type": "code",
   "execution_count": 69,
   "metadata": {},
   "outputs": [
    {
     "name": "stdout",
     "output_type": "stream",
     "text": [
      "['a']\n"
     ]
    }
   ],
   "source": [
    "if __name__ == '__main__':\n",
    "#     board = [\n",
    "#       ['o','a','a','n'],\n",
    "#       ['e','t','a','e'],\n",
    "#       ['i','h','k','r'],\n",
    "#       ['i','f','l','v']\n",
    "#     ]\n",
    "    #words = [\"oath\",\"pea\",\"eat\",\"rain\"]\n",
    "    board = [[\"a\",\"a\"]]\n",
    "    words = [\"a\"]\n",
    "    solution = Solution()\n",
    "    print(solution.findWords(board, words))\n",
    "    #print(solution.board)"
   ]
  },
  {
   "cell_type": "code",
   "execution_count": null,
   "metadata": {},
   "outputs": [],
   "source": []
  },
  {
   "cell_type": "code",
   "execution_count": null,
   "metadata": {},
   "outputs": [],
   "source": []
  },
  {
   "cell_type": "code",
   "execution_count": null,
   "metadata": {},
   "outputs": [],
   "source": []
  },
  {
   "cell_type": "code",
   "execution_count": null,
   "metadata": {},
   "outputs": [],
   "source": []
  },
  {
   "cell_type": "code",
   "execution_count": null,
   "metadata": {},
   "outputs": [],
   "source": []
  }
 ],
 "metadata": {
  "kernelspec": {
   "display_name": "Python 3",
   "language": "python",
   "name": "python3"
  },
  "language_info": {
   "codemirror_mode": {
    "name": "ipython",
    "version": 3
   },
   "file_extension": ".py",
   "mimetype": "text/x-python",
   "name": "python",
   "nbconvert_exporter": "python",
   "pygments_lexer": "ipython3",
   "version": "3.6.12"
  }
 },
 "nbformat": 4,
 "nbformat_minor": 4
}
