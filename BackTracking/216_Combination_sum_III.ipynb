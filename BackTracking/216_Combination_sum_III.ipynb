{
 "cells": [
  {
   "cell_type": "markdown",
   "metadata": {},
   "source": [
    "Find all valid combinations of k numbers that sum up to n such that the following conditions are true:\n",
    "\n",
    "Only numbers 1 through 9 are used.\n",
    "Each number is used at most once.\n",
    "Return a list of all possible valid combinations. The list must not contain the same combination twice, and the combinations may be returned in any order.\n",
    "\n",
    " \n",
    "\n",
    "Example 1:\n",
    "```\n",
    "Input: k = 3, n = 7\n",
    "Output: [[1,2,4]]\n",
    "Explanation:\n",
    "1 + 2 + 4 = 7\n",
    "There are no other valid combinations.\n",
    "```\n",
    "Example 2:\n",
    "```\n",
    "Input: k = 3, n = 9\n",
    "Output: [[1,2,6],[1,3,5],[2,3,4]]\n",
    "Explanation:\n",
    "1 + 2 + 6 = 9\n",
    "1 + 3 + 5 = 9\n",
    "2 + 3 + 4 = 9\n",
    "There are no other valid combinations.\n",
    "```\n",
    "Example 3:\n",
    "```\n",
    "Input: k = 4, n = 1\n",
    "Output: []\n",
    "Explanation: There are no valid combinations. [1,2,1] is not valid because 1 is used twice.\n",
    "```\n",
    "Example 4:\n",
    "```\n",
    "Input: k = 3, n = 2\n",
    "Output: []\n",
    "Explanation: There are no valid combinations.\n",
    "```\n",
    "Example 5:\n",
    "```\n",
    "Input: k = 9, n = 45\n",
    "Output: [[1,2,3,4,5,6,7,8,9]]\n",
    "Explanation:\n",
    "1 + 2 + 3 + 4 + 5 + 6 + 7 + 8 + 9 = 45\n",
    "There are no other valid combinations.\n",
    "``` \n",
    "\n",
    "Constraints:\n",
    "\n",
    "- 2 <= k <= 9\n",
    "- 1 <= n <= 60"
   ]
  },
  {
   "cell_type": "code",
   "execution_count": 59,
   "metadata": {},
   "outputs": [],
   "source": [
    "class Solution:\n",
    "    def combinationSum3(self, k: int, n: int):\n",
    "        result = []\n",
    "        end = 9\n",
    "        step = k\n",
    "        def combine(start = 0, target = n, listA = []):\n",
    "            nonlocal step\n",
    "            if start > end:\n",
    "                return\n",
    "            if step == 0:\n",
    "                if target == 0:\n",
    "                    #print(listA, start)\n",
    "                    result.append(listA)\n",
    "                    return\n",
    "                else:\n",
    "                    return\n",
    "            if (step+2*start+1)*step/2 > target or (19-step)*step/2 < target or 10 - start < step:\n",
    "                print(step, listA, start, (step+2*start+1)*step/2 > target, (19-step)*step/2 < n)\n",
    "                return\n",
    "            if target < 0:\n",
    "                return\n",
    "            \n",
    "#             for i in range(start+1, end+1):                \n",
    "            step -= 1\n",
    "            combine(start + 1, target - start - 1, listA + [start + 1])\n",
    "            step += 1\n",
    "            combine(start + 1, target, listA)\n",
    "        combine()\n",
    "        return result"
   ]
  },
  {
   "cell_type": "code",
   "execution_count": 60,
   "metadata": {},
   "outputs": [
    {
     "name": "stdout",
     "output_type": "stream",
     "text": [
      "1 [1, 2, 3, 4, 5, 6, 7, 8] 9 True True\n",
      "2 [1, 2, 3, 4, 5, 6, 7] 8 True True\n",
      "3 [1, 2, 3, 4, 5, 6] 7 True True\n",
      "4 [1, 2, 3, 4, 5] 6 True True\n",
      "5 [1, 2, 3, 4] 5 True True\n",
      "6 [1, 2, 3] 4 True True\n",
      "7 [1, 2] 3 True True\n",
      "8 [1] 2 True True\n",
      "9 [] 1 True False\n",
      "[[1, 2, 3, 4, 5, 6, 7, 8, 9]]\n"
     ]
    }
   ],
   "source": [
    "if __name__ == '__main__':\n",
    "    solution = Solution()\n",
    "    k = 9\n",
    "    n = 45\n",
    "    print(solution.combinationSum3(k,n))"
   ]
  },
  {
   "cell_type": "code",
   "execution_count": null,
   "metadata": {},
   "outputs": [],
   "source": []
  },
  {
   "cell_type": "code",
   "execution_count": null,
   "metadata": {},
   "outputs": [],
   "source": []
  },
  {
   "cell_type": "code",
   "execution_count": null,
   "metadata": {},
   "outputs": [],
   "source": []
  }
 ],
 "metadata": {
  "kernelspec": {
   "display_name": "Python 3",
   "language": "python",
   "name": "python3"
  },
  "language_info": {
   "codemirror_mode": {
    "name": "ipython",
    "version": 3
   },
   "file_extension": ".py",
   "mimetype": "text/x-python",
   "name": "python",
   "nbconvert_exporter": "python",
   "pygments_lexer": "ipython3",
   "version": "3.6.12"
  }
 },
 "nbformat": 4,
 "nbformat_minor": 4
}
