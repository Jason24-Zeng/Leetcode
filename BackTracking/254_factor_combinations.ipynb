{
 "cells": [
  {
   "cell_type": "markdown",
   "metadata": {},
   "source": [
    "\n",
    "Numbers can be regarded as product of its factors. For example,\n",
    "\n",
    "8 = 2 x 2 x 2;\n",
    "  = 2 x 4.\n",
    "Write a function that takes an integer n and return all possible combinations of its factors.\n",
    "\n",
    "Note:\n",
    "\n",
    "You may assume that n is always positive.\n",
    "Factors should be greater than 1 and less than n.\n",
    "Example 1:\n",
    "```\n",
    "Input: 1\n",
    "Output: []\n",
    "```\n",
    "Example 2:\n",
    "```\n",
    "Input: 37\n",
    "Output:[]\n",
    "```\n",
    "Example 3:\n",
    "```\n",
    "Input: 12\n",
    "Output:\n",
    "[\n",
    "  [2, 6],\n",
    "  [2, 2, 3],\n",
    "  [3, 4]\n",
    "]\n",
    "```\n",
    "Example 4:\n",
    "```\n",
    "Input: 32\n",
    "Output:\n",
    "[\n",
    "  [2, 16],\n",
    "  [2, 2, 8],\n",
    "  [2, 2, 2, 4],\n",
    "  [2, 2, 2, 2, 2],\n",
    "  [2, 4, 4],\n",
    "  [4, 8]\n",
    "]\n",
    "```"
   ]
  },
  {
   "cell_type": "code",
   "execution_count": 39,
   "metadata": {},
   "outputs": [],
   "source": [
    "class Solution:\n",
    "    def getFactors(self, n: int):\n",
    "        if n < 4:\n",
    "            return []\n",
    "        result = []\n",
    "        \n",
    "        def helper(start = 2, target = n, listA = []):\n",
    "            #print(listA)\n",
    "            for num in range(start, int(target**0.5)+1):\n",
    "                if target%num == 0:\n",
    "                    result.append(listA + [num, target//num])\n",
    "                    helper(num, target//num, listA + [num])\n",
    "        helper()\n",
    "        return result\n",
    "            \n",
    "                \n",
    "        "
   ]
  },
  {
   "cell_type": "code",
   "execution_count": 41,
   "metadata": {},
   "outputs": [
    {
     "name": "stdout",
     "output_type": "stream",
     "text": [
      "[[2, 16], [2, 2, 8], [2, 2, 2, 4], [2, 2, 2, 2, 2], [2, 4, 4], [4, 8]]\n"
     ]
    }
   ],
   "source": [
    "if __name__ == '__main__':\n",
    "    solution = Solution()\n",
    "    n = 32\n",
    "    print(solution.getFactors(n))"
   ]
  },
  {
   "cell_type": "code",
   "execution_count": null,
   "metadata": {},
   "outputs": [],
   "source": []
  },
  {
   "cell_type": "code",
   "execution_count": null,
   "metadata": {},
   "outputs": [],
   "source": []
  },
  {
   "cell_type": "code",
   "execution_count": null,
   "metadata": {},
   "outputs": [],
   "source": []
  },
  {
   "cell_type": "code",
   "execution_count": null,
   "metadata": {},
   "outputs": [],
   "source": []
  },
  {
   "cell_type": "code",
   "execution_count": null,
   "metadata": {},
   "outputs": [],
   "source": []
  },
  {
   "cell_type": "code",
   "execution_count": null,
   "metadata": {},
   "outputs": [],
   "source": []
  }
 ],
 "metadata": {
  "kernelspec": {
   "display_name": "Python 3",
   "language": "python",
   "name": "python3"
  },
  "language_info": {
   "codemirror_mode": {
    "name": "ipython",
    "version": 3
   },
   "file_extension": ".py",
   "mimetype": "text/x-python",
   "name": "python",
   "nbconvert_exporter": "python",
   "pygments_lexer": "ipython3",
   "version": "3.6.12"
  }
 },
 "nbformat": 4,
 "nbformat_minor": 4
}
