{
 "cells": [
  {
   "cell_type": "markdown",
   "metadata": {},
   "source": [
    "Given a string s, return all the palindromic permutations (without duplicates) of it. Return an empty list if no palindromic permutation could be form.\n",
    "\n",
    "Example 1:\n",
    "```python\n",
    "Input: \"aabb\"\n",
    "Output: [\"abba\", \"baab\"]\n",
    "```\n",
    "Example 2:\n",
    "```python\n",
    "Input: \"abc\"\n",
    "Output: []\n",
    "```"
   ]
  },
  {
   "cell_type": "code",
   "execution_count": 27,
   "metadata": {},
   "outputs": [],
   "source": [
    "from collections import defaultdict\n",
    "class Solution:\n",
    "    def generatePalindromes(self, s: str):\n",
    "        if len(s) == 0:\n",
    "            return []\n",
    "        dict_s = defaultdict(list)\n",
    "        for str_ in s:\n",
    "            if str_ not in dict_s:\n",
    "                dict_s[str_] = 1\n",
    "            else:\n",
    "                dict_s[str_] += 1\n",
    "        count_odd = 0\n",
    "        \n",
    "        for key, value in dict_s.items():\n",
    "            if value % 2 != 0:\n",
    "                count_odd += 1\n",
    "                odd_key = key\n",
    "                if count_odd >= 2:\n",
    "                    return []\n",
    "        lens = len(s)\n",
    "        result = []\n",
    "        def helper(start, string = ''):\n",
    "            nonlocal odd_key\n",
    "            if count_odd == 1 and string == '':\n",
    "                dict_s[odd_key] -= 1\n",
    "                helper(start+1, odd_key)\n",
    "            else:\n",
    "                if start == lens:\n",
    "                    result.append(string)\n",
    "                    return\n",
    "                for key, value in dict_s.items():\n",
    "                    if value == 0:\n",
    "                        continue\n",
    "                    else:\n",
    "                        dict_s[key] -= 2\n",
    "                        helper(start+2, key + string + key)\n",
    "                        dict_s[key] += 2\n",
    "        helper(0) \n",
    "        return result"
   ]
  },
  {
   "cell_type": "code",
   "execution_count": 29,
   "metadata": {},
   "outputs": [
    {
     "name": "stdout",
     "output_type": "stream",
     "text": [
      "['hgh']\n"
     ]
    }
   ],
   "source": [
    "if __name__ == '__main__':\n",
    "    solution = Solution()\n",
    "    s = \"hhg\"\n",
    "    print(solution.generatePalindromes(s))"
   ]
  },
  {
   "cell_type": "code",
   "execution_count": 3,
   "metadata": {},
   "outputs": [],
   "source": [
    "from collections import defaultdict\n",
    "dict_s = defaultdict(list)\n",
    "s = \"aabb\"\n",
    "for str_ in s:\n",
    "    if str_ not in dict_s:\n",
    "        dict_s[str_] = 1\n",
    "    else:\n",
    "        dict_s[str_] += 1"
   ]
  },
  {
   "cell_type": "code",
   "execution_count": 6,
   "metadata": {},
   "outputs": [
    {
     "name": "stdout",
     "output_type": "stream",
     "text": [
      "2\n",
      "2\n"
     ]
    }
   ],
   "source": [
    "for key, values in dict_s.items():\n",
    "    print(values)"
   ]
  },
  {
   "cell_type": "code",
   "execution_count": null,
   "metadata": {},
   "outputs": [],
   "source": []
  },
  {
   "cell_type": "code",
   "execution_count": null,
   "metadata": {},
   "outputs": [],
   "source": []
  },
  {
   "cell_type": "code",
   "execution_count": null,
   "metadata": {},
   "outputs": [],
   "source": []
  }
 ],
 "metadata": {
  "kernelspec": {
   "display_name": "Python 3",
   "language": "python",
   "name": "python3"
  },
  "language_info": {
   "codemirror_mode": {
    "name": "ipython",
    "version": 3
   },
   "file_extension": ".py",
   "mimetype": "text/x-python",
   "name": "python",
   "nbconvert_exporter": "python",
   "pygments_lexer": "ipython3",
   "version": "3.6.12"
  }
 },
 "nbformat": 4,
 "nbformat_minor": 4
}
