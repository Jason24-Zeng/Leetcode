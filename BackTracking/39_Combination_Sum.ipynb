{
 "cells": [
  {
   "cell_type": "markdown",
   "metadata": {},
   "source": [
    "Given an array of distinct integers candidates and a target integer target, return a list of all unique combinations of candidates where the chosen numbers sum to target. You may return the combinations in any order.\n",
    "\n",
    "The same number may be chosen from candidates an unlimited number of times. Two combinations are unique if the frequency of at least one of the chosen numbers is different.\n",
    "\n",
    "It is guaranteed that the number of unique combinations that sum up to target is less than 150 combinations for the given input.\n",
    "\n",
    " \n",
    "\n",
    "Example 1:\n",
    "```\n",
    "Input: candidates = [2,3,6,7], target = 7\n",
    "Output: [[2,2,3],[7]]\n",
    "Explanation:\n",
    "2 and 3 are candidates, and 2 + 2 + 3 = 7. Note that 2 can be used multiple times.\n",
    "7 is a candidate, and 7 = 7.\n",
    "These are the only two combinations.\n",
    "```\n",
    "Example 2:\n",
    "```\n",
    "Input: candidates = [2,3,5], target = 8\n",
    "Output: [[2,2,2,2],[2,3,3],[3,5]]\n",
    "```\n",
    "Example 3:\n",
    "```\n",
    "Input: candidates = [2], target = 1\n",
    "Output: []\n",
    "```\n",
    "Example 4:\n",
    "```\n",
    "Input: candidates = [1], target = 1\n",
    "Output: [[1]]\n",
    "```\n",
    "Example 5:\n",
    "```\n",
    "Input: candidates = [1], target = 2\n",
    "Output: [[1,1]]\n",
    "```\n",
    "\n",
    "Constraints:\n",
    "\n",
    "- 1 <= candidates.length <= 30\n",
    "- 1 <= candidates[i] <= 200\n",
    "- All elements of candidates are distinct.\n",
    "- 1 <= target <= 500"
   ]
  },
  {
   "cell_type": "code",
   "execution_count": 22,
   "metadata": {},
   "outputs": [],
   "source": [
    "# 显然得用递归\n",
    "class Solution:\n",
    "    \n",
    "    \n",
    "    def combinationSum(self, candidates, target: int):\n",
    "        list_com = []\n",
    "        def _combination(target, start, sums = []):\n",
    "            if target == 0:\n",
    "                list_com.append(list(sums))\n",
    "                return\n",
    "            elif target < 0:\n",
    "                return\n",
    "            for i in range(start, len(candidates)):\n",
    "                sums.append(candidates[i])\n",
    "                _combination(target-candidates[i], i, sums)\n",
    "                #print(list_com)\n",
    "                sums.pop(-1)\n",
    "        _combination(target, 0, [])\n",
    "        return list_com\n",
    "            \n",
    "            \n",
    "        "
   ]
  },
  {
   "cell_type": "code",
   "execution_count": 35,
   "metadata": {},
   "outputs": [],
   "source": [
    "class Solution:\n",
    "    def combinationSum(self, candidate, target: int):\n",
    "        list_comb = self._combination(candidates, target, 0, [], [])\n",
    "        return list_comb\n",
    "    def _combination(self, candidates, target, start, sums = [], list_com = list([])):\n",
    "        if target == 0:\n",
    "            list_com.append(sums[:])\n",
    "            # 这里必须写作 sums[:] 或者 list(sums)，问什么不能直接写sum?\n",
    "            # print(list_com)\n",
    "            return\n",
    "        elif target < 0:\n",
    "            return\n",
    "        for i in range(start, len(candidates)):\n",
    "            sums.append(candidates[i])\n",
    "            self._combination(candidates, target-candidates[i], i, sums, list_com)\n",
    "            sums.pop(-1)\n",
    "        return list_com"
   ]
  },
  {
   "cell_type": "code",
   "execution_count": 36,
   "metadata": {},
   "outputs": [
    {
     "name": "stdout",
     "output_type": "stream",
     "text": [
      "[[2, 2, 3], [7]]\n"
     ]
    }
   ],
   "source": [
    "if __name__ == '__main__':\n",
    "    solution = Solution()\n",
    "    candidates = [2,3,6,7]\n",
    "    target = 7\n",
    "    print(solution.combinationSum(candidates, target))"
   ]
  },
  {
   "cell_type": "code",
   "execution_count": null,
   "metadata": {},
   "outputs": [],
   "source": []
  },
  {
   "cell_type": "code",
   "execution_count": null,
   "metadata": {},
   "outputs": [],
   "source": []
  }
 ],
 "metadata": {
  "kernelspec": {
   "display_name": "Python 3",
   "language": "python",
   "name": "python3"
  },
  "language_info": {
   "codemirror_mode": {
    "name": "ipython",
    "version": 3
   },
   "file_extension": ".py",
   "mimetype": "text/x-python",
   "name": "python",
   "nbconvert_exporter": "python",
   "pygments_lexer": "ipython3",
   "version": "3.6.12"
  }
 },
 "nbformat": 4,
 "nbformat_minor": 4
}
