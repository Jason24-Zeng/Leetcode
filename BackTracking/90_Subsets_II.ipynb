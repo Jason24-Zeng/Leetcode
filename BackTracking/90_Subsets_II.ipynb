{
 "cells": [
  {
   "cell_type": "markdown",
   "metadata": {},
   "source": [
    "Given a collection of integers that might contain duplicates, nums, return all possible subsets (the power set).\n",
    "\n",
    "Note: The solution set must not contain duplicate subsets.\n",
    "\n",
    "Example:\n",
    "```python\n",
    "Input: [1,2,2]\n",
    "Output:\n",
    "[\n",
    "  [2],\n",
    "  [1],\n",
    "  [1,2,2],\n",
    "  [2,2],\n",
    "  [1,2],\n",
    "  []\n",
    "]\n",
    "```"
   ]
  },
  {
   "cell_type": "code",
   "execution_count": 24,
   "metadata": {},
   "outputs": [],
   "source": [
    "class Solution:\n",
    "    def subsetsWithDup(self, nums):\n",
    "        nums.sort()\n",
    "        result = [[]]\n",
    "        end = len(nums) - 1\n",
    "        def helper(start, new_list = [[]]):\n",
    "            nonlocal result\n",
    "            with_num_list = []\n",
    "            #print(new_list)\n",
    "            for num in new_list:\n",
    "                with_num_list.append(num + [nums[start]])\n",
    "            #print(with_num_list)\n",
    "            result+=with_num_list\n",
    "            if start + 1 > end:\n",
    "                return \n",
    "            elif nums[start + 1] == nums[start]:\n",
    "                helper(start+1, with_num_list)\n",
    "            else:\n",
    "                helper(start+1, result)\n",
    "        helper(0)\n",
    "        return result\n",
    "                \n",
    "                \n",
    "                \n",
    "        "
   ]
  },
  {
   "cell_type": "code",
   "execution_count": 25,
   "metadata": {},
   "outputs": [
    {
     "name": "stdout",
     "output_type": "stream",
     "text": [
      "[[]]\n",
      "[[1]]\n",
      "[[1]]\n",
      "[[1, 1]]\n",
      "[[], [1], [1, 1]]\n",
      "[[2], [1, 2], [1, 1, 2]]\n",
      "[[], [1], [1, 1], [2], [1, 2], [1, 1, 2]]\n"
     ]
    }
   ],
   "source": [
    "if __name__ == '__main__':\n",
    "    solution = Solution()\n",
    "    nums = [1,1,2]\n",
    "    print(solution.subsetsWithDup(nums))"
   ]
  },
  {
   "cell_type": "code",
   "execution_count": 15,
   "metadata": {},
   "outputs": [
    {
     "data": {
      "text/plain": [
       "[[1]]"
      ]
     },
     "execution_count": 15,
     "metadata": {},
     "output_type": "execute_result"
    }
   ],
   "source": [
    "a = []\n",
    "a.append([1])\n",
    "a"
   ]
  },
  {
   "cell_type": "code",
   "execution_count": null,
   "metadata": {},
   "outputs": [],
   "source": []
  },
  {
   "cell_type": "code",
   "execution_count": null,
   "metadata": {},
   "outputs": [],
   "source": []
  }
 ],
 "metadata": {
  "kernelspec": {
   "display_name": "Python 3",
   "language": "python",
   "name": "python3"
  },
  "language_info": {
   "codemirror_mode": {
    "name": "ipython",
    "version": 3
   },
   "file_extension": ".py",
   "mimetype": "text/x-python",
   "name": "python",
   "nbconvert_exporter": "python",
   "pygments_lexer": "ipython3",
   "version": "3.6.12"
  }
 },
 "nbformat": 4,
 "nbformat_minor": 4
}
