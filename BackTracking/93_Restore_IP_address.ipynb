{
 "cells": [
  {
   "cell_type": "markdown",
   "metadata": {},
   "source": [
    "Given a string s containing only digits, return all possible valid IP addresses that can be obtained from s. You can return them in any order.\n",
    "\n",
    "A valid IP address consists of exactly four integers, each integer is between 0 and 255, separated by single dots and cannot have leading zeros. For example, \"0.1.2.201\" and \"192.168.1.1\" are valid IP addresses and \"0.011.255.245\", \"192.168.1.312\" and \"192.168@1.1\" are invalid IP addresses. \n",
    "\n",
    " \n",
    "\n",
    "Example 1:\n",
    "```\n",
    "Input: s = \"25525511135\"\n",
    "Output: [\"255.255.11.135\",\"255.255.111.35\"]\n",
    "```\n",
    "Example 2:\n",
    "```\n",
    "Input: s = \"0000\"\n",
    "Output: [\"0.0.0.0\"]\n",
    "```\n",
    "Example 3:\n",
    "```\n",
    "Input: s = \"1111\"\n",
    "Output: [\"1.1.1.1\"]\n",
    "```\n",
    "Example 4:\n",
    "```\n",
    "Input: s = \"010010\"\n",
    "Output: [\"0.10.0.10\",\"0.100.1.0\"]\n",
    "```\n",
    "Example 5:\n",
    "```\n",
    "Input: s = \"101023\"\n",
    "Output: [\"1.0.10.23\",\"1.0.102.3\",\"10.1.0.23\",\"10.10.2.3\",\"101.0.2.3\"]\n",
    "```\n",
    "\n",
    "Constraints:\n",
    "\n",
    "0 <= s.length <= 3000\n",
    "s consists of digits only."
   ]
  },
  {
   "cell_type": "code",
   "execution_count": 32,
   "metadata": {},
   "outputs": [],
   "source": [
    "class Solution:\n",
    "    def restoreIpAddresses(self, s: str):\n",
    "        lens = len(s)\n",
    "        break_p = 3\n",
    "        result = []\n",
    "        def helper(start = 0, store = ''):\n",
    "            nonlocal break_p\n",
    "            if start > lens - 1:\n",
    "                return\n",
    "            if s[start] == '0':\n",
    "                if break_p == 0:\n",
    "                    if start == lens - 1:\n",
    "                        result.append(store + '0')\n",
    "                        return\n",
    "                    else:\n",
    "                        return\n",
    "                if store == '':\n",
    "                    break_p -= 1\n",
    "                    helper(start+1, '0.')\n",
    "                    break_p += 1\n",
    "                    return\n",
    "                else:\n",
    "                    break_p -= 1\n",
    "                    helper(start+1,store + s[start] +'.')\n",
    "                    break_p += 1\n",
    "                    return\n",
    "            if break_p == 0:\n",
    "                if int(s[start:lens]) <= 255:\n",
    "                    result.append(store + s[start:lens])\n",
    "                    return\n",
    "                else:\n",
    "                    return\n",
    "            for i in range(1, min(lens-start,4)):#lens-1-start最大到lens - 2给后续留空间\n",
    "                if int(s[start:start+i]) > 255:\n",
    "                    return\n",
    "                else:\n",
    "                    break_p -= 1\n",
    "                    #print(store + s[start: start + i] +'.', break_p)\n",
    "                    helper(start + i, store + s[start: start + i] +'.')\n",
    "                    break_p += 1\n",
    "        helper()\n",
    "        return result\n",
    "            \n",
    "            \n",
    "            \n",
    "            "
   ]
  },
  {
   "cell_type": "code",
   "execution_count": 36,
   "metadata": {},
   "outputs": [
    {
     "name": "stdout",
     "output_type": "stream",
     "text": [
      "2. 2\n",
      "2.5. 1\n",
      "2.5.5. 0\n",
      "2.5.52. 0\n",
      "2.55. 1\n",
      "2.55.2. 0\n",
      "2.55.25. 0\n",
      "2.55.255. 0\n",
      "25. 2\n",
      "25.5. 1\n",
      "25.5.2. 0\n",
      "25.5.25. 0\n",
      "25.5.255. 0\n",
      "25.52. 1\n",
      "25.52.5. 0\n",
      "25.52.55. 0\n",
      "255. 2\n",
      "255.2. 1\n",
      "255.2.5. 0\n",
      "255.2.55. 0\n",
      "255.25. 1\n",
      "255.25.5. 0\n",
      "255.25.51. 0\n",
      "255.255. 1\n",
      "255.255.1. 0\n",
      "255.255.11. 0\n",
      "255.255.111. 0\n",
      "['255.255.11.135', '255.255.111.35']\n"
     ]
    }
   ],
   "source": [
    "if __name__ == '__main__':\n",
    "    solution = Solution()\n",
    "    s = \"25525511135\"\n",
    "    print(solution.restoreIpAddresses(s))"
   ]
  },
  {
   "cell_type": "code",
   "execution_count": 3,
   "metadata": {},
   "outputs": [
    {
     "data": {
      "text/plain": [
       "''"
      ]
     },
     "execution_count": 3,
     "metadata": {},
     "output_type": "execute_result"
    }
   ],
   "source": [
    "s = 'sdf'\n",
    "s[1:1]"
   ]
  },
  {
   "cell_type": "code",
   "execution_count": 6,
   "metadata": {},
   "outputs": [
    {
     "data": {
      "text/plain": [
       "'0a.'"
      ]
     },
     "execution_count": 6,
     "metadata": {},
     "output_type": "execute_result"
    }
   ],
   "source": [
    "'0' + 'a' + '.'"
   ]
  },
  {
   "cell_type": "code",
   "execution_count": null,
   "metadata": {},
   "outputs": [],
   "source": []
  },
  {
   "cell_type": "code",
   "execution_count": null,
   "metadata": {},
   "outputs": [],
   "source": []
  },
  {
   "cell_type": "code",
   "execution_count": null,
   "metadata": {},
   "outputs": [],
   "source": []
  }
 ],
 "metadata": {
  "kernelspec": {
   "display_name": "Python 3",
   "language": "python",
   "name": "python3"
  },
  "language_info": {
   "codemirror_mode": {
    "name": "ipython",
    "version": 3
   },
   "file_extension": ".py",
   "mimetype": "text/x-python",
   "name": "python",
   "nbconvert_exporter": "python",
   "pygments_lexer": "ipython3",
   "version": "3.6.12"
  }
 },
 "nbformat": 4,
 "nbformat_minor": 4
}
