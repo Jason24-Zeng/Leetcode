{
 "cells": [
  {
   "cell_type": "markdown",
   "metadata": {},
   "source": [
    "You are given an array of k linked-lists lists, each linked-list is sorted in ascending order.\n",
    "\n",
    "Merge all the linked-lists into one sorted linked-list and return it.\n",
    "\n",
    " \n",
    "\n",
    "Example 1:\n",
    "```python\n",
    "Input: lists = [[1,4,5],[1,3,4],[2,6]]\n",
    "Output: [1,1,2,3,4,4,5,6]\n",
    "Explanation: The linked-lists are:\n",
    "[\n",
    "  1->4->5,\n",
    "  1->3->4,\n",
    "  2->6\n",
    "]\n",
    "merging them into one sorted list:\n",
    "1->1->2->3->4->4->5->6\n",
    "```\n",
    "Example 2:\n",
    "```python\n",
    "Input: lists = []\n",
    "Output: []\n",
    "```\n",
    "Example 3:\n",
    "```python\n",
    "Input: lists = [[]]\n",
    "Output: []\n",
    "``` \n",
    "\n",
    "Constraints:\n",
    "\n",
    "- k == lists.length\n",
    "- 0 <= k <= 10^4\n",
    "- 0 <= lists[i].length <= 500\n",
    "- -10^4 <= lists[i][j] <= 10^4\n",
    "- lists[i] is sorted in ascending order.\n",
    "- The sum of lists[i].length won't exceed 10^4."
   ]
  },
  {
   "cell_type": "code",
   "execution_count": null,
   "metadata": {},
   "outputs": [],
   "source": [
    "class Solution(object):\n",
    "    def mergeKLists(self, lists):\n",
    "        \"\"\"\n",
    "        :type lists: List[ListNode]\n",
    "        :rtype: ListNode\n",
    "        \"\"\"\n",
    "        amount = len(lists)\n",
    "        interval = 1\n",
    "        while interval < amount:\n",
    "            for i in range(0, amount - interval, interval * 2):\n",
    "                lists[i] = self.merge2Lists(lists[i], lists[i + interval])\n",
    "            interval *= 2\n",
    "        return lists[0] if amount > 0 else None\n",
    "\n",
    "    def merge2Lists(self, l1, l2):\n",
    "        head = point = ListNode(0)\n",
    "        while l1 and l2:\n",
    "            if l1.val <= l2.val:\n",
    "                point.next = l1\n",
    "                l1 = l1.next\n",
    "            else:\n",
    "                point.next = l2\n",
    "                l2 = l1\n",
    "                l1 = point.next.next\n",
    "            point = point.next\n",
    "        if not l1:\n",
    "            point.next=l2\n",
    "        else:\n",
    "            point.next=l1\n",
    "        return head.next"
   ]
  },
  {
   "cell_type": "code",
   "execution_count": 9,
   "metadata": {},
   "outputs": [],
   "source": [
    "#Definition for singly-linked list.\n",
    "class ListNode:\n",
    "    def __init__(self, val=0, next=None):\n",
    "        self.val = val\n",
    "        self.next = next"
   ]
  },
  {
   "cell_type": "code",
   "execution_count": 128,
   "metadata": {},
   "outputs": [],
   "source": [
    "def CreateNode(lists):\n",
    "    root = ListNode(lists[0])\n",
    "    prev = root\n",
    "    for i in lists[1:]:\n",
    "        now = ListNode(i)\n",
    "        prev.next = now\n",
    "        prev = prev.next\n",
    "    return root\n",
    "def mergetwolist(node1,node2):\n",
    "    if not node1:\n",
    "        if not node2:\n",
    "            node1 = node2\n",
    "            return\n",
    "        return\n",
    "    prev = None\n",
    "    #node1_val = node1.val\n",
    "    if not node2:\n",
    "        return\n",
    "    #node2_val = node2.val\n",
    "    suffix = None\n",
    "    while node1:\n",
    "        if not node2:\n",
    "            \n",
    "            break\n",
    "\n",
    "        if node1.val >= node2.val:\n",
    "            print(node1.val, node2.val)\n",
    "            if prev == None:\n",
    "                node2.next, node2, prev = node1, node2.next, node2\n",
    "                suffix = prev\n",
    "                print(suffix.val)\n",
    "            else:\n",
    "                prev.next, node2 = node2, node2.next,\n",
    "                prev = prev.next\n",
    "                prev.next = node1\n",
    "                print(prev.next.val)\n",
    "                    \n",
    "        else:\n",
    "            #print(prev == None)\n",
    "            node1, prev = node1.next, node1\n",
    "            \n",
    "    #print(prev.val)            \n",
    "    node1.next = node2\n",
    "    #print(prev.val, prev.next.val, prev.next.next.val)\n",
    "    if suffix:\n",
    "        node1 = suffix\n",
    "        #print(node1)\n",
    "    return node1\n"
   ]
  },
  {
   "cell_type": "code",
   "execution_count": 129,
   "metadata": {},
   "outputs": [
    {
     "name": "stdout",
     "output_type": "stream",
     "text": [
      "4 1\n",
      "1\n",
      "4 2\n",
      "4\n",
      "4 3\n",
      "4\n"
     ]
    }
   ],
   "source": [
    "list2 = [1,2,3]\n",
    "list1 = [4,5,6]\n",
    "node1 = CreateNode(list1)\n",
    "node2 = CreateNode(list2)\n",
    "node1 = mergetwolist(node1,node2)\n",
    "# print(node1.val, node2.next.val, node2.val)\n",
    "# node2, prev = node2.next, node2\n",
    "# print(prev.val, prev.next.val, node2.val)\n",
    "# prev.next = node1\n",
    "# print(prev.val, prev.next.val, prev.next.next.val)\n",
    "# node2.next, node2, prev = node1, node2.next, node2\n",
    "# suffix = prev\n",
    "# node2, prev.next = node2.next, node2\n",
    "# prev = prev.next\n",
    "# prev.next = node1\n"
   ]
  },
  {
   "cell_type": "code",
   "execution_count": 130,
   "metadata": {},
   "outputs": [
    {
     "name": "stdout",
     "output_type": "stream",
     "text": [
      "1\n",
      "2\n",
      "3\n",
      "4\n"
     ]
    }
   ],
   "source": [
    "while node1:\n",
    "    print(node1.val)\n",
    "    node1 = node1.next\n"
   ]
  },
  {
   "cell_type": "code",
   "execution_count": 86,
   "metadata": {},
   "outputs": [
    {
     "name": "stdout",
     "output_type": "stream",
     "text": [
      "1\n",
      "2\n",
      "3\n"
     ]
    }
   ],
   "source": [
    "while node2:\n",
    "    print(node2.val)\n",
    "    node2 = node2.next"
   ]
  },
  {
   "cell_type": "code",
   "execution_count": 91,
   "metadata": {},
   "outputs": [
    {
     "name": "stdout",
     "output_type": "stream",
     "text": [
      "3 4\n"
     ]
    }
   ],
   "source": [
    "prev = None\n",
    "\n",
    "prev = ListNode(3)\n",
    "node1 = prev\n",
    "prev.next = ListNode(4)\n",
    "print(node1.val, node1.next.val)"
   ]
  },
  {
   "cell_type": "code",
   "execution_count": null,
   "metadata": {},
   "outputs": [],
   "source": []
  },
  {
   "cell_type": "code",
   "execution_count": null,
   "metadata": {},
   "outputs": [],
   "source": []
  },
  {
   "cell_type": "code",
   "execution_count": null,
   "metadata": {},
   "outputs": [],
   "source": []
  }
 ],
 "metadata": {
  "kernelspec": {
   "display_name": "Python 3",
   "language": "python",
   "name": "python3"
  },
  "language_info": {
   "codemirror_mode": {
    "name": "ipython",
    "version": 3
   },
   "file_extension": ".py",
   "mimetype": "text/x-python",
   "name": "python",
   "nbconvert_exporter": "python",
   "pygments_lexer": "ipython3",
   "version": "3.6.12"
  }
 },
 "nbformat": 4,
 "nbformat_minor": 4
}
