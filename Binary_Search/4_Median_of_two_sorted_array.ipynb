{
 "cells": [
  {
   "cell_type": "markdown",
   "metadata": {},
   "source": [
    "Given two sorted arrays nums1 and nums2 of size m and n respectively, return the median of the two sorted arrays.\n",
    "\n",
    "Follow up: The overall run time complexity should be O(log (m+n)).\n",
    "\n",
    " \n",
    "\n",
    "Example 1:\n",
    "```python\n",
    "Input: nums1 = [1,3], nums2 = [2]\n",
    "Output: 2.00000\n",
    "Explanation: merged array = [1,2,3] and median is 2.\n",
    "```\n",
    "Example 2:\n",
    "```python\n",
    "Input: nums1 = [1,2], nums2 = [3,4]\n",
    "Output: 2.50000\n",
    "Explanation: merged array = [1,2,3,4] and median is (2 + 3) / 2 = 2.5.\n",
    "```\n",
    "Example 3:\n",
    "```python\n",
    "Input: nums1 = [0,0], nums2 = [0,0]\n",
    "Output: 0.00000\n",
    "```\n",
    "Example 4:\n",
    "```python\n",
    "Input: nums1 = [], nums2 = [1]\n",
    "Output: 1.00000\n",
    "```\n",
    "Example 5:\n",
    "```python\n",
    "Input: nums1 = [2], nums2 = []\n",
    "Output: 2.00000\n",
    "```"
   ]
  },
  {
   "cell_type": "code",
   "execution_count": 57,
   "metadata": {},
   "outputs": [],
   "source": [
    "class Solution:\n",
    "    def findMedianSortedArrays(self, nums1, nums2) -> float:\n",
    "        len1, len2 = len(nums1), len(nums2)\n",
    "        if len1 > len2:\n",
    "            len1, len2, nums1, nums2 = len2, len1, nums2, nums1\n",
    "        if len1 == 0:\n",
    "            if len2 == 0:\n",
    "                return None\n",
    "            elif len2%2 == 0:\n",
    "                return (nums2[len2//2-1] + nums2[len2//2])/2\n",
    "            elif len2%2 == 1:\n",
    "                return float(nums2[len2//2])\n",
    "        total_len = len1 + len2\n",
    "        div, mod = divmod(total_len, 2)\n",
    "        if mod == 1:\n",
    "            if nums1[0] >= nums2[div-1]:\n",
    "                return float(min(nums1[0], nums2[div]))\n",
    "            elif nums1[len1 - 1] <= nums2[div - len1]:\n",
    "                return float(nums2[div-len1])\n",
    "            for i in range(1, len1):\n",
    "                if nums1[i-1] <= nums2[div-i] and nums1[i] >= nums2[div -i-1]:\n",
    "                    return float(min(nums2[div-i], nums1[i]))\n",
    "        else:\n",
    "            if nums1[0] >= nums2[div-1]:\n",
    "                if len1 == len2:\n",
    "                    return float(nums1[0] + nums2[-1])/2\n",
    "                elif nums1[0] == nums2[div-1]:\n",
    "                    return float(nums1[0])\n",
    "                else:\n",
    "                    return float(nums2[div - 1] + min(nums1[0], nums2[div]))/2\n",
    "            elif nums1[len1-1] <= nums2[div-len1]:\n",
    "                if len1 == len2:\n",
    "                    return float(nums1[-1] + nums2[0])/2\n",
    "                elif nums1[len1-1] == nums2[div-len1]:\n",
    "                    return float(nums1[len1-1])\n",
    "                else:\n",
    "                    return float(max(nums1[len1 - 1], nums2[div-len1-1]) + nums2[div-len1])/2\n",
    "            for i in range(1, len1):\n",
    "                if nums1[i-1] <= nums2[div-i] and nums1[i] >= nums2[div-i -1]:\n",
    "                    return float((max(nums1[i-1], nums2[div-i-1])) + min(nums1[i], nums2[div-i]))/2\n",
    "            \n",
    "                    \n",
    "        "
   ]
  },
  {
   "cell_type": "code",
   "execution_count": 58,
   "metadata": {},
   "outputs": [
    {
     "name": "stdout",
     "output_type": "stream",
     "text": [
      "2.5\n"
     ]
    }
   ],
   "source": [
    "if __name__ == '__main__':\n",
    "    solution = Solution()\n",
    "    nums1 = [3] #[-1,0,0,0,0,0,1]\n",
    "    nums2 = [1,2,4]\n",
    "    print(solution.findMedianSortedArrays(nums1, nums2))"
   ]
  },
  {
   "cell_type": "code",
   "execution_count": 6,
   "metadata": {},
   "outputs": [
    {
     "data": {
      "text/plain": [
       "(4, 1)"
      ]
     },
     "execution_count": 6,
     "metadata": {},
     "output_type": "execute_result"
    }
   ],
   "source": [
    "divmod(9,2)"
   ]
  },
  {
   "cell_type": "code",
   "execution_count": 19,
   "metadata": {},
   "outputs": [
    {
     "data": {
      "text/plain": [
       "0"
      ]
     },
     "execution_count": 19,
     "metadata": {},
     "output_type": "execute_result"
    }
   ],
   "source": [
    "1//2"
   ]
  },
  {
   "cell_type": "code",
   "execution_count": null,
   "metadata": {},
   "outputs": [],
   "source": []
  },
  {
   "cell_type": "code",
   "execution_count": null,
   "metadata": {},
   "outputs": [],
   "source": []
  },
  {
   "cell_type": "code",
   "execution_count": null,
   "metadata": {},
   "outputs": [],
   "source": []
  },
  {
   "cell_type": "code",
   "execution_count": null,
   "metadata": {},
   "outputs": [],
   "source": []
  },
  {
   "cell_type": "code",
   "execution_count": null,
   "metadata": {},
   "outputs": [],
   "source": []
  },
  {
   "cell_type": "code",
   "execution_count": null,
   "metadata": {},
   "outputs": [],
   "source": []
  },
  {
   "cell_type": "code",
   "execution_count": null,
   "metadata": {},
   "outputs": [],
   "source": []
  }
 ],
 "metadata": {
  "kernelspec": {
   "display_name": "Python 3",
   "language": "python",
   "name": "python3"
  },
  "language_info": {
   "codemirror_mode": {
    "name": "ipython",
    "version": 3
   },
   "file_extension": ".py",
   "mimetype": "text/x-python",
   "name": "python",
   "nbconvert_exporter": "python",
   "pygments_lexer": "ipython3",
   "version": "3.6.12"
  }
 },
 "nbformat": 4,
 "nbformat_minor": 4
}
