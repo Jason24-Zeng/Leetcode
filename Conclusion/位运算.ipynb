{
 "cells": [
  {
   "cell_type": "markdown",
   "metadata": {},
   "source": [
    "## 位运算\n",
    "- &（交运算） 可用与判断数x的二进制表示的某一位是否为1，1<<k表示有2^(k),其二进制表示就是100(k=2)"
   ]
  },
  {
   "cell_type": "code",
   "execution_count": 2,
   "metadata": {},
   "outputs": [
    {
     "name": "stdout",
     "output_type": "stream",
     "text": [
      "1\n",
      "0\n",
      "4\n",
      "0\n"
     ]
    }
   ],
   "source": [
    "# x = 5即101\n",
    "x = 5\n",
    "k = 0\n",
    "print(x & (1 << k))\n",
    "k += 1\n",
    "print(x & (1 << k))\n",
    "k += 1\n",
    "print(x & (1 << k))\n",
    "k += 1\n",
    "print(x & (1 << k))"
   ]
  },
  {
   "cell_type": "code",
   "execution_count": null,
   "metadata": {},
   "outputs": [],
   "source": []
  },
  {
   "cell_type": "code",
   "execution_count": null,
   "metadata": {},
   "outputs": [],
   "source": []
  }
 ],
 "metadata": {
  "kernelspec": {
   "display_name": "Python 3",
   "language": "python",
   "name": "python3"
  },
  "language_info": {
   "codemirror_mode": {
    "name": "ipython",
    "version": 3
   },
   "file_extension": ".py",
   "mimetype": "text/x-python",
   "name": "python",
   "nbconvert_exporter": "python",
   "pygments_lexer": "ipython3",
   "version": "3.7.8"
  }
 },
 "nbformat": 4,
 "nbformat_minor": 4
}
