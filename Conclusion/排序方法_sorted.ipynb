{
 "cells": [
  {
   "cell_type": "markdown",
   "metadata": {},
   "source": [
    "## Quick Sort -- 快排\n",
    "\n",
    "- 快速排序，简称快排，是python默认的排序方式，用sorted()函数直接调用时，若不设置排序方式，则默认使用快速排序\n",
    "- 排序方法，一种很接近分治方法的排序方。给定一个数组nums, 其算法步骤是:\n",
    "    - 在left < right(数组存在两个数)的基础上, 取一个标准数（一般取该数组的第1个数）pivot = start，数组的第2个数定义为index， 最后一个数定位end = right\n",
    "    - 定义一个指针i等于index,区别index想要的是其左边全是小于pivot的，自己和右边是大于或者等于pivot的，而i表示扫描到第几个数了\n",
    "    - while i <= right, 那么首先比较nums[i] 与pivot的大小关系，如果nums[i] < pivot，那么我们交换nums[i]与nums[index], 然后index ++(左边多了一个小于pivot的数)，若大于不做处理， 无论最终什么情况，i ++\n",
    "    - 最后交换nums[index-1]和pivot, 这样index左边的就全是小于pivot的数，右边的是等于或者大于pivot的数\n",
    "    - 根据上一步得到的两个分组重复以上步骤\n",
    "    - base条件，len(nums) == 1, 直接return nums\n",
    "- 时间复杂度 最差 O(n^2), 一般会是 O(nlogn)， 一般会比其他的排列方式，比如归并排列要快。"
   ]
  },
  {
   "cell_type": "code",
   "execution_count": 16,
   "metadata": {},
   "outputs": [],
   "source": [
    "class Qsort(object):\n",
    "    def __call__(self, nums):\n",
    "        self.nums = nums\n",
    "        self.quicksort(0, len(self.nums) - 1)\n",
    "        #print(a, len(self.nums) - 1)\n",
    "        return self.nums\n",
    "    def quicksort(self, left=None, right=None):\n",
    "        left = 0 if not isinstance(left, (int, float)) else left\n",
    "        right = len(self.nums) - 1 if not isinstance(right, (int, float)) else right\n",
    "        if left < right:\n",
    "            partition_id = self.partition(left, right)\n",
    "            self.quicksort(left, partition_id - 1)\n",
    "            self.quicksort(partition_id + 1, right)\n",
    "    def partition(self, left, right):\n",
    "        pivot = left\n",
    "        index = pivot + 1\n",
    "        i = index\n",
    "        while i <= right:\n",
    "            if self.nums[i] < nums[pivot]:\n",
    "                self.swap(i, index)\n",
    "                index += 1\n",
    "            i += 1\n",
    "        self.swap(pivot, index-1)\n",
    "        return index - 1\n",
    "    def swap(self, i, j):\n",
    "        self.nums[i], self.nums[j] = self.nums[j], self.nums[i]"
   ]
  },
  {
   "cell_type": "code",
   "execution_count": 18,
   "metadata": {},
   "outputs": [
    {
     "name": "stdout",
     "output_type": "stream",
     "text": [
      "[1, 1, 2, 2, 2, 3, 3, 3, 4]\n"
     ]
    }
   ],
   "source": [
    "if __name__ == '__main__':\n",
    "    nums = [2,1,3,3,2,3,4,1,2]\n",
    "    sort = Qsort()\n",
    "    print(sort(nums))"
   ]
  },
  {
   "cell_type": "code",
   "execution_count": null,
   "metadata": {},
   "outputs": [],
   "source": []
  },
  {
   "cell_type": "code",
   "execution_count": null,
   "metadata": {},
   "outputs": [],
   "source": []
  }
 ],
 "metadata": {
  "kernelspec": {
   "display_name": "Python 3",
   "language": "python",
   "name": "python3"
  },
  "language_info": {
   "codemirror_mode": {
    "name": "ipython",
    "version": 3
   },
   "file_extension": ".py",
   "mimetype": "text/x-python",
   "name": "python",
   "nbconvert_exporter": "python",
   "pygments_lexer": "ipython3",
   "version": "3.7.8"
  }
 },
 "nbformat": 4,
 "nbformat_minor": 4
}
