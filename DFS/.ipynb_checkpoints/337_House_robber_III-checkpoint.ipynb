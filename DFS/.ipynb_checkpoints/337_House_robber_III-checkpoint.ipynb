{
 "cells": [
  {
   "cell_type": "markdown",
   "metadata": {},
   "source": [
    "The thief has found himself a new place for his thievery again. There is only one entrance to this area, called the \"root.\" Besides the root, each house has one and only one parent house. After a tour, the smart thief realized that \"all houses in this place forms a binary tree\". It will automatically contact the police if two directly-linked houses were broken into on the same night.\n",
    "\n",
    "Determine the maximum amount of money the thief can rob tonight without alerting the police.\n",
    "\n",
    "Example 1:\n",
    "```python\n",
    "Input: [3,2,3,null,3,null,1]\n",
    "\n",
    "     3\n",
    "    / \\\n",
    "   2   3\n",
    "    \\   \\ \n",
    "     3   1\n",
    "\n",
    "Output: 7 \n",
    "Explanation: Maximum amount of money the thief can rob = 3 + 3 + 1 = 7.\n",
    "```\n",
    "Example 2:\n",
    "```python\n",
    "Input: [3,4,5,1,3,null,1]\n",
    "\n",
    "     3\n",
    "    / \\\n",
    "   4   5\n",
    "  / \\   \\ \n",
    " 1   3   1\n",
    "\n",
    "Output: 9\n",
    "Explanation: Maximum amount of money the thief can rob = 4 + 5 = 9.\n",
    "```"
   ]
  },
  {
   "cell_type": "code",
   "execution_count": null,
   "metadata": {},
   "outputs": [],
   "source": [
    "# Definition for a binary tree node.\n",
    "# class TreeNode:\n",
    "#     def __init__(self, val=0, left=None, right=None):\n",
    "#         self.val = val\n",
    "#         self.left = left\n",
    "#         self.right = right\n",
    "\n",
    "# 方法没问题超时间了，因为对很多节点做了多次运算\n",
    "class Solution:\n",
    "    def rob(self, root: TreeNode) -> int:\n",
    "        def max_money(node, choose):\n",
    "            if not node:\n",
    "                return 0\n",
    "#             if not node.left and not node.right:\n",
    "#                 if choose == True:\n",
    "#                     return node.val\n",
    "#                 else: \n",
    "#                     return 0\n",
    "            if choose == True:\n",
    "                return node.val + max_money(node.left, False) + max_money(node.right, False)\n",
    "            else:\n",
    "                return max(max_money(node.left, True), max_money(node.left, False)) + max(max_money(node.right, True), max_money(node.right, False))\n",
    "        return max(max_money(root, True), max_money(root, False))"
   ]
  },
  {
   "cell_type": "code",
   "execution_count": null,
   "metadata": {},
   "outputs": [],
   "source": [
    "class Solution:\n",
    "    def rob(self, root: TreeNode) -> int:\n",
    "        def max_money(node):\n",
    "            if not node:\n",
    "                return (0, 0)\n",
    "#             if not node.left and not node.right:\n",
    "#                 if choose == True:\n",
    "#                     return node.val\n",
    "#                 else: \n",
    "#                     return 0\n",
    "            left_rob, left_not_rob = max_money(node.left)            \n",
    "            right_rob, right_not_rob = max_money(node.right)\n",
    "            rob = node.val + left_not_rob + right_not_rob\n",
    "            not_rob = max(left_not_rob, left_rob)+ max(right_not_rob, right_rob)\n",
    "            return (rob, not_rob)\n",
    "        return max(max_money(root))"
   ]
  },
  {
   "cell_type": "code",
   "execution_count": null,
   "metadata": {},
   "outputs": [],
   "source": []
  },
  {
   "cell_type": "code",
   "execution_count": null,
   "metadata": {},
   "outputs": [],
   "source": []
  },
  {
   "cell_type": "code",
   "execution_count": null,
   "metadata": {},
   "outputs": [],
   "source": []
  },
  {
   "cell_type": "code",
   "execution_count": null,
   "metadata": {},
   "outputs": [],
   "source": []
  },
  {
   "cell_type": "code",
   "execution_count": null,
   "metadata": {},
   "outputs": [],
   "source": []
  },
  {
   "cell_type": "code",
   "execution_count": null,
   "metadata": {},
   "outputs": [],
   "source": []
  }
 ],
 "metadata": {
  "kernelspec": {
   "display_name": "Python 3",
   "language": "python",
   "name": "python3"
  },
  "language_info": {
   "codemirror_mode": {
    "name": "ipython",
    "version": 3
   },
   "file_extension": ".py",
   "mimetype": "text/x-python",
   "name": "python",
   "nbconvert_exporter": "python",
   "pygments_lexer": "ipython3",
   "version": "3.6.12"
  }
 },
 "nbformat": 4,
 "nbformat_minor": 4
}
