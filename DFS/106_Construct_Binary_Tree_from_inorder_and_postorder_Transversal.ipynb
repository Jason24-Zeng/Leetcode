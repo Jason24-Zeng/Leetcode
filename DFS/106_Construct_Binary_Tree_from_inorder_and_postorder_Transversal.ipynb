{
 "cells": [
  {
   "cell_type": "markdown",
   "metadata": {},
   "source": [
    "Given inorder and postorder traversal of a tree, construct the binary tree.\n",
    "\n",
    "Note:\n",
    "You may assume that duplicates do not exist in the tree.\n",
    "\n",
    "For example, given\n",
    "```python\n",
    "inorder = [9,3,15,20,7]\n",
    "postorder = [9,15,7,20,3]\n",
    "Return the following binary tree:\n",
    "\n",
    "    3\n",
    "   / \\\n",
    "  9  20\n",
    "    /  \\\n",
    "   15   7\n",
    "```"
   ]
  },
  {
   "cell_type": "code",
   "execution_count": null,
   "metadata": {},
   "outputs": [],
   "source": [
    "# Definition for a binary tree node.\n",
    "# class TreeNode:\n",
    "#     def __init__(self, val=0, left=None, right=None):\n",
    "#         self.val = val\n",
    "#         self.left = left\n",
    "#         self.right = right\n",
    "class Solution:\n",
    "    def buildTree(self, inorder: List[int], postorder: List[int]) -> TreeNode:\n",
    "        if len(postorder) == 0:\n",
    "            return None\n",
    "        num = postorder[-1]\n",
    "        root = Treenode(num)\n",
    "        inord_id = inorder.index(num)\n",
    "\n",
    "        root.left = self.buildTree(inorder[0:inord_id], postoroder[0:inord_id])\n",
    "        if inord_id + 1 <= len(postorder) - 1:\n",
    "            root.right = self.buildTree(inorder[inord_id+1:], postorder[inord_id:-1])\n",
    "        else:\n",
    "            pass\n",
    "        return root\n",
    "        "
   ]
  },
  {
   "cell_type": "code",
   "execution_count": null,
   "metadata": {},
   "outputs": [],
   "source": [
    "class Solution:\n",
    "    def buildTree(self, inorder: List[int], postorder: List[int]) -> TreeNode:\n",
    "        if len(postorder) == 0:\n",
    "            return None\n",
    "        def helper(start, end):\n",
    "            if start > end:\n",
    "                return None\n",
    "            num = postorder.pop()\n",
    "            root = Treenode(num)\n",
    "            inord_id = inorder.index(num)\n",
    "            \n",
    "            root.left = helper(start, inord_id - 1)\n",
    "            root.right = helper(inorder_id + 1, end)\n",
    "            return root\n",
    "        return helper(0, len(inoder) - 1)"
   ]
  },
  {
   "cell_type": "code",
   "execution_count": null,
   "metadata": {},
   "outputs": [],
   "source": [
    "# Definition for a binary tree node.\n",
    "# class TreeNode:\n",
    "#     def __init__(self, val=0, left=None, right=None):\n",
    "#         self.val = val\n",
    "#         self.left = left\n",
    "#         self.right = right\n",
    "class Solution:\n",
    "    def buildTree(self, inorder: List[int], postorder: List[int]) -> TreeNode:\n",
    "        def helper(in_left, in_right):\n",
    "            # if there is no elements to construct subtrees\n",
    "            if in_left > in_right:\n",
    "                return None\n",
    "            \n",
    "            # pick up the last element as a root\n",
    "            val = postorder.pop()\n",
    "            root = TreeNode(val)\n",
    "\n",
    "            # root splits inorder list\n",
    "            # into left and right subtrees\n",
    "            index = idx_map[val]\n",
    " \n",
    "            # build right subtree\n",
    "            root.right = helper(index + 1, in_right)\n",
    "            # build left subtree\n",
    "            root.left = helper(in_left, index - 1)\n",
    "            return root\n",
    "        \n",
    "        # build a hashmap value -> its index\n",
    "        idx_map = {val:idx for idx, val in enumerate(inorder)} \n",
    "        return helper(0, len(inorder) - 1)"
   ]
  },
  {
   "cell_type": "code",
   "execution_count": null,
   "metadata": {},
   "outputs": [],
   "source": []
  },
  {
   "cell_type": "code",
   "execution_count": null,
   "metadata": {},
   "outputs": [],
   "source": []
  },
  {
   "cell_type": "code",
   "execution_count": null,
   "metadata": {},
   "outputs": [],
   "source": []
  },
  {
   "cell_type": "code",
   "execution_count": null,
   "metadata": {},
   "outputs": [],
   "source": []
  }
 ],
 "metadata": {
  "kernelspec": {
   "display_name": "Python 3",
   "language": "python",
   "name": "python3"
  },
  "language_info": {
   "codemirror_mode": {
    "name": "ipython",
    "version": 3
   },
   "file_extension": ".py",
   "mimetype": "text/x-python",
   "name": "python",
   "nbconvert_exporter": "python",
   "pygments_lexer": "ipython3",
   "version": "3.6.12"
  }
 },
 "nbformat": 4,
 "nbformat_minor": 4
}
