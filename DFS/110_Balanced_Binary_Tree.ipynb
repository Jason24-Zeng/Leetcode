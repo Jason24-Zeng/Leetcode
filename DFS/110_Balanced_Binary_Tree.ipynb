{
 "cells": [
  {
   "cell_type": "markdown",
   "metadata": {},
   "source": [
    "Given a binary tree, determine if it is height-balanced.\n",
    "\n",
    "For this problem, a height-balanced binary tree is defined as:\n",
    "\n",
    "a binary tree in which the left and right subtrees of every node differ in height by no more than 1.\n",
    "\n",
    " \n",
    "\n",
    "Example 1:\n",
    "\n",
    "```python\n",
    "Input: root = [3,9,20,null,null,15,7]\n",
    "Output: true\n",
    "```\n",
    "Example 2:\n",
    "\n",
    "```python\n",
    "Input: root = [1,2,2,3,3,null,null,4,4]\n",
    "Output: false\n",
    "```\n",
    "Example 3:\n",
    "```python\n",
    "Input: root = []\n",
    "Output: true\n",
    "```"
   ]
  },
  {
   "cell_type": "code",
   "execution_count": null,
   "metadata": {},
   "outputs": [],
   "source": [
    "# Definition for a binary tree node.\n",
    "# class TreeNode:\n",
    "#     def __init__(self, val=0, left=None, right=None):\n",
    "#         self.val = val\n",
    "#         self.left = left\n",
    "#         self.right = right\n",
    "class Solution:\n",
    "    def isBalanced(self, root: TreeNode) -> bool:\n",
    "        if not root:\n",
    "            return True\n",
    "        stack = [(root, 0)]\n",
    "        isbalance = True\n",
    "        def helper(node):\n",
    "            nonlocal isbalance\n",
    "            if not node.left:\n",
    "                lsublen = 0\n",
    "            else:\n",
    "                lsublen = max(helper(node.left)) + 1\n",
    "            if not node.right:\n",
    "                rsublen = 0\n",
    "            else:\n",
    "                rsublen = max(helper(node.right)) + 1\n",
    "            if abs(lsublen - rsublen) >= 2:\n",
    "                #print(isbalance)\n",
    "                isbalance = False\n",
    "            \n",
    "            \n",
    "            #print(lsublen,rsublen, node.val)\n",
    "            return lsublen, rsublen\n",
    "        helper(root)\n",
    "        return isbalance\n",
    "                    "
   ]
  },
  {
   "cell_type": "code",
   "execution_count": null,
   "metadata": {},
   "outputs": [],
   "source": []
  },
  {
   "cell_type": "code",
   "execution_count": null,
   "metadata": {},
   "outputs": [],
   "source": []
  },
  {
   "cell_type": "code",
   "execution_count": null,
   "metadata": {},
   "outputs": [],
   "source": []
  },
  {
   "cell_type": "code",
   "execution_count": null,
   "metadata": {},
   "outputs": [],
   "source": []
  },
  {
   "cell_type": "code",
   "execution_count": null,
   "metadata": {},
   "outputs": [],
   "source": []
  },
  {
   "cell_type": "code",
   "execution_count": null,
   "metadata": {},
   "outputs": [],
   "source": []
  }
 ],
 "metadata": {
  "kernelspec": {
   "display_name": "Python 3",
   "language": "python",
   "name": "python3"
  },
  "language_info": {
   "codemirror_mode": {
    "name": "ipython",
    "version": 3
   },
   "file_extension": ".py",
   "mimetype": "text/x-python",
   "name": "python",
   "nbconvert_exporter": "python",
   "pygments_lexer": "ipython3",
   "version": "3.6.12"
  }
 },
 "nbformat": 4,
 "nbformat_minor": 4
}
