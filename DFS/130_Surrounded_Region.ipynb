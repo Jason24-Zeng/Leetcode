{
 "cells": [
  {
   "cell_type": "markdown",
   "metadata": {},
   "source": []
  },
  {
   "cell_type": "code",
   "execution_count": 6,
   "metadata": {},
   "outputs": [],
   "source": []
  },
  {
   "cell_type": "code",
   "execution_count": 29,
   "metadata": {},
   "outputs": [],
   "source": [
    "class Solution:\n",
    "    def solve(self, board) -> None:\n",
    "        \"\"\"\n",
    "        Do not return anything, modify board in-place instead.\n",
    "        \"\"\"\n",
    "        if len(board) == 0:\n",
    "            return\n",
    "        height, width = len(board), len(board[-1])\n",
    "        if height <= 1 or width <= 1:\n",
    "            return\n",
    "        boards = [(i, 0) for i in range(height)] + [(i, width - 1) for i in range(height)] + [(0, j) for j in range(width)] + [(height-1, j) for j in range(width)]\n",
    "        \n",
    "        \n",
    "        def fill(x, y):\n",
    "            if x< 0 or x > height - 1 or y < 0 or y > width - 1:\n",
    "                return\n",
    "            if board[x][y] == 'E' or board[x][y] == 'X':\n",
    "                return\n",
    "            else: \n",
    "                board[x][y] = 'E'\n",
    "                for i ,j in [(x+1, y), (x-1, y), (x, y-1), (x, y + 1)]:\n",
    "                    fill(i, j)\n",
    "                \n",
    "        for new_x, new_y in boards:\n",
    "            fill(new_x, new_y)\n",
    "        print(board)\n",
    "        for i in range(height):\n",
    "            for j in range(width):\n",
    "                if board[i][j] == 'X':\n",
    "                    continue\n",
    "                elif board[i][j] == 'E':\n",
    "                    board[i][j] = 'O'\n",
    "                else:\n",
    "                    print(i,j)\n",
    "                    board[i][j] = 'X'"
   ]
  },
  {
   "cell_type": "code",
   "execution_count": 44,
   "metadata": {},
   "outputs": [],
   "source": [
    "class Solution:\n",
    "    def solve(self, board) -> None:\n",
    "        \"\"\"\n",
    "        Do not return anything, modify board in-place instead.\n",
    "        \"\"\"\n",
    "        if len(board) == 0:\n",
    "            return\n",
    "        height, width = len(board), len(board[-1])\n",
    "        if height <= 1 or width <= 1:\n",
    "            return\n",
    "        need_to_fill = []\n",
    "        \n",
    "        def fill(x, y):\n",
    "            stack = [(x,y)]\n",
    "            seen = []\n",
    "            not_include = False\n",
    "            while stack:\n",
    "                x, y = stack.pop(0)\n",
    "                if x< 0 or x > height - 1 or y < 0 or y > width - 1:\n",
    "                    not_include = True\n",
    "                    continue\n",
    "                \n",
    "                if board[x][y] == 'E' or board[x][y] == 'X':\n",
    "                    continue\n",
    "                \n",
    "                else: \n",
    "                    seen.append((x,y))\n",
    "                    board[x][y] = 'E'\n",
    "                for i ,j in [(x+1, y), (x-1, y), (x, y-1), (x, y + 1)]:\n",
    "                    stack.append((i,j))\n",
    "            if not_include == True:\n",
    "                need_to_fill.append(seen)\n",
    "                \n",
    "        for new_x in range(height):\n",
    "            for new_y in range(width):\n",
    "                fill(new_x, new_y)\n",
    "        print(board)\n",
    "        print(need_to_fill)\n",
    "        if need_to_fill:    \n",
    "            for seen in need_to_fill:\n",
    "                for x, y in seen:\n",
    "                    print(x,y)\n",
    "                    board[x][y] = 'O'\n",
    "        for i in range(height):\n",
    "            for j in range(width):\n",
    "                if board[i][j] == 'E':\n",
    "                    board[i][j] = 'X'"
   ]
  },
  {
   "cell_type": "code",
   "execution_count": 45,
   "metadata": {},
   "outputs": [
    {
     "name": "stdout",
     "output_type": "stream",
     "text": [
      "[['X', 'X', 'X', 'X'], ['X', 'E', 'E', 'X'], ['X', 'E', 'X', 'X'], ['X', 'X', 'E', 'X']]\n",
      "[[(3, 2)]]\n",
      "3 2\n",
      "[['X', 'X', 'X', 'X'], ['X', 'X', 'X', 'X'], ['X', 'X', 'X', 'X'], ['X', 'X', 'O', 'X']]\n"
     ]
    }
   ],
   "source": [
    "if __name__ == '__main__':\n",
    "    solution = Solution()\n",
    "    board = [[\"X\",\"X\",\"X\",\"X\"],[\"X\",\"O\",\"O\",\"X\"],[\"X\",\"O\",\"X\",\"X\"],[\"X\",\"X\",\"O\",\"X\"]]\n",
    "    #[[\"O\",\"O\",\"O\",\"O\",\"X\",\"X\"],[\"O\",\"O\",\"O\",\"O\",\"O\",\"O\"],[\"O\",\"X\",\"O\",\"X\",\"O\",\"O\"],[\"O\",\"X\",\"O\",\"O\",\"X\",\"O\"],[\"O\",\"X\",\"O\",\"X\",\"O\",\"O\"],[\"O\",\"X\",\"O\",\"O\",\"O\",\"O\"]]\n",
    "    solution.solve(board)\n",
    "    print(board)"
   ]
  },
  {
   "cell_type": "code",
   "execution_count": null,
   "metadata": {},
   "outputs": [],
   "source": [
    "\n",
    "[[\"O\",\"O\",\"O\",\"O\",\"X\",\"X\"],\n",
    " [\"O\",\"O\",\"O\",\"O\",\"O\",\"O\"],\n",
    " [\"O\",\"X\",\"O\",\"X\",\"O\",\"O\"],\n",
    " [\"O\",\"X\",\"O\",\"O\",\"X\",\"O\"],\n",
    " [\"O\",\"X\",\"O\",\"X\",\"O\",\"O\"],\n",
    " [\"O\",\"X\",\"O\",\"O\",\"O\",\"O\"]]"
   ]
  },
  {
   "cell_type": "code",
   "execution_count": 11,
   "metadata": {},
   "outputs": [
    {
     "data": {
      "text/plain": [
       "True"
      ]
     },
     "execution_count": 11,
     "metadata": {},
     "output_type": "execute_result"
    }
   ],
   "source": [
    "a = [(1,2)]\n",
    "(1,2) in a"
   ]
  },
  {
   "cell_type": "code",
   "execution_count": null,
   "metadata": {},
   "outputs": [],
   "source": []
  },
  {
   "cell_type": "code",
   "execution_count": null,
   "metadata": {},
   "outputs": [],
   "source": []
  },
  {
   "cell_type": "code",
   "execution_count": null,
   "metadata": {},
   "outputs": [],
   "source": []
  },
  {
   "cell_type": "code",
   "execution_count": null,
   "metadata": {},
   "outputs": [],
   "source": []
  }
 ],
 "metadata": {
  "kernelspec": {
   "display_name": "Python 3",
   "language": "python",
   "name": "python3"
  },
  "language_info": {
   "codemirror_mode": {
    "name": "ipython",
    "version": 3
   },
   "file_extension": ".py",
   "mimetype": "text/x-python",
   "name": "python",
   "nbconvert_exporter": "python",
   "pygments_lexer": "ipython3",
   "version": "3.6.12"
  }
 },
 "nbformat": 4,
 "nbformat_minor": 4
}
