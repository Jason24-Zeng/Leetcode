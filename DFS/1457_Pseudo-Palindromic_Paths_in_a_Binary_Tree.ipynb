{
 "cells": [
  {
   "cell_type": "markdown",
   "metadata": {},
   "source": [
    "Given a binary tree where node values are digits from 1 to 9. A path in the binary tree is said to be pseudo-palindromic if at least one permutation of the node values in the path is a palindrome.\n",
    "\n",
    "Return the number of pseudo-palindromic paths going from the root node to leaf nodes.\n",
    "\n",
    " \n",
    "\n",
    "Example 1:\n",
    "```\n",
    "\n",
    "\n",
    "Input: root = [2,3,1,3,1,null,1]\n",
    "Output: 2 \n",
    "Explanation: The figure above represents the given binary tree. There are three paths going from the root node to leaf nodes: the red path [2,3,3], the green path [2,1,1], and the path [2,3,1]. Among these paths only red path and green path are pseudo-palindromic paths since the red path [2,3,3] can be rearranged in [3,2,3] (palindrome) and the green path [2,1,1] can be rearranged in [1,2,1] (palindrome).\n",
    "```\n",
    "Example 2:\n",
    "\n",
    "```\n",
    "\n",
    "Input: root = [2,1,1,1,3,null,null,null,null,null,1]\n",
    "Output: 1 \n",
    "Explanation: The figure above represents the given binary tree. There are three paths going from the root node to leaf nodes: the green path [2,1,1], the path [2,1,3,1], and the path [2,1]. Among these paths only the green path is pseudo-palindromic since [2,1,1] can be rearranged in [1,2,1] (palindrome).\n",
    "```\n",
    "Example 3:\n",
    "```\n",
    "Input: root = [9]\n",
    "Output: 1\n",
    "``` \n",
    "\n",
    "Constraints:\n",
    "\n",
    "- The given binary tree will have between 1 and 10^5 nodes.\n",
    "- Node values are digits from 1 to 9."
   ]
  },
  {
   "cell_type": "code",
   "execution_count": null,
   "metadata": {},
   "outputs": [],
   "source": [
    "# Definition for a binary tree node.\n",
    "# class TreeNode:\n",
    "#     def __init__(self, val=0, left=None, right=None):\n",
    "#         self.val = val\n",
    "#         self.left = left\n",
    "#         self.right = right\n",
    "from collections import deque\n",
    "class Solution:\n",
    "    def pseudoPalindromicPaths (self, root: TreeNode) -> int:\n",
    "        array = [0] * 10\n",
    "        if not root:\n",
    "            return 0\n",
    "        stack = deque([(root, array)])\n",
    "        count = 0\n",
    "        while stack:\n",
    "            node, array = stack.popleft()\n",
    "            array[node.val] += 1\n",
    "            if not node.left and not node.right and self.checkpseudo(array):\n",
    "                count += 1\n",
    "                continue\n",
    "            if node.left:\n",
    "                stack.append((node.left, array.copy()))\n",
    "            if node.right:\n",
    "                stack.append((node.right, array.copy()))\n",
    "        return count\n",
    "            \n",
    "        \n",
    "    def checkpseudo(self, arrayåç):\n",
    "        count = 0\n",
    "        for i in range(10):\n",
    "            if array[i] & 1 != 0:\n",
    "                count += 1\n",
    "        return count <= 1"
   ]
  },
  {
   "cell_type": "code",
   "execution_count": null,
   "metadata": {},
   "outputs": [],
   "source": []
  },
  {
   "cell_type": "code",
   "execution_count": null,
   "metadata": {},
   "outputs": [],
   "source": []
  }
 ],
 "metadata": {
  "kernelspec": {
   "display_name": "Python 3",
   "language": "python",
   "name": "python3"
  },
  "language_info": {
   "codemirror_mode": {
    "name": "ipython",
    "version": 3
   },
   "file_extension": ".py",
   "mimetype": "text/x-python",
   "name": "python",
   "nbconvert_exporter": "python",
   "pygments_lexer": "ipython3",
   "version": "3.6.11"
  }
 },
 "nbformat": 4,
 "nbformat_minor": 4
}
