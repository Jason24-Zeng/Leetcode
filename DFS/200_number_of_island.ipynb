{
 "cells": [
  {
   "cell_type": "markdown",
   "metadata": {},
   "source": [
    "Given an m x n 2d grid map of '1's (land) and '0's (water), return the number of islands.\n",
    "\n",
    "An island is surrounded by water and is formed by connecting adjacent lands horizontally or vertically. You may assume all four edges of the grid are all surrounded by water.\n",
    "\n",
    " \n",
    "\n",
    "Example 1:\n",
    "```python\n",
    "Input: grid = [\n",
    "  [\"1\",\"1\",\"1\",\"1\",\"0\"],\n",
    "  [\"1\",\"1\",\"0\",\"1\",\"0\"],\n",
    "  [\"1\",\"1\",\"0\",\"0\",\"0\"],\n",
    "  [\"0\",\"0\",\"0\",\"0\",\"0\"]\n",
    "]\n",
    "Output: 1\n",
    "```\n",
    "Example 2:\n",
    "```python\n",
    "Input: grid = [\n",
    "  [\"1\",\"1\",\"0\",\"0\",\"0\"],\n",
    "  [\"1\",\"1\",\"0\",\"0\",\"0\"],\n",
    "  [\"0\",\"0\",\"1\",\"0\",\"0\"],\n",
    "  [\"0\",\"0\",\"0\",\"1\",\"1\"]\n",
    "]\n",
    "Output: 3\n",
    "```"
   ]
  },
  {
   "cell_type": "code",
   "execution_count": 17,
   "metadata": {},
   "outputs": [],
   "source": [
    "# version 1, DFS fill\n",
    "class Solution:\n",
    "    \n",
    "    def numIslands(self, grid) -> int:\n",
    "        num_island = 0\n",
    "        height, width = len(grid), len(grid[0])\n",
    "        \n",
    "        if height == 0 or width == 0:\n",
    "            return 0\n",
    "        def fill_island(i, j):\n",
    "            grid[i][j] = '0'\n",
    "            if i + 1 <= height-1:\n",
    "                if grid[i+1][j] == '1':\n",
    "                    fill_island(i+1, j)\n",
    "            if j + 1 <= width-1:\n",
    "                if grid[i][j+1] == '1':\n",
    "                    fill_island(i, j+1)\n",
    "            if i - 1 >= 0:\n",
    "                if grid[i-1][j] == '1':\n",
    "                    fill_island(i-1, j)\n",
    "            if j - 1 >= 0:\n",
    "                if  grid[i][j-1] == '1':\n",
    "                    fill_island(i, j-1)\n",
    "        for i in range(len(grid)):\n",
    "            for j in range(len(grid[0])):\n",
    "                if grid[i][j] == '1':\n",
    "                    \n",
    "                    num_island += 1\n",
    "                    fill_island(i, j)\n",
    "        return num_island            "
   ]
  },
  {
   "cell_type": "code",
   "execution_count": 39,
   "metadata": {},
   "outputs": [],
   "source": [
    "# version 2, BFS fill\n",
    "class Solution:    \n",
    "    def numIslands(self, grid) -> int:\n",
    "        num_island = 0\n",
    "        height, width = len(grid), len(grid[0])        \n",
    "        if height == 0 or width == 0:\n",
    "            return 0\n",
    "        stack = []\n",
    "        def fill_island(stack):\n",
    "            while stack:\n",
    "                new_i, new_j = stack.pop()\n",
    "                print(num_island, grid)               \n",
    "                if new_i < height - 1 and grid[new_i+1][new_j] == '1':\n",
    "                    grid[new_i+1][new_j] = '0'\n",
    "                    \n",
    "                    stack.append((new_i + 1, new_j))\n",
    "                if new_j < width - 1 and grid[new_i][new_j+1] == '1':\n",
    "                    grid[new_i][new_j+1] = '0'\n",
    "                    stack.append((new_i, new_j + 1))\n",
    "                if new_i > 0 and grid[new_i-1][new_j] == '1':\n",
    "                    grid[new_i-1][new_j] = '0'\n",
    "                    stack.append((new_i - 1, new_j))\n",
    "                if new_j > 0 and grid[new_i][new_j-1] == '1':\n",
    "                    grid[new_i][new_j-1] = '0'\n",
    "                    stack.append((new_i, new_j - 1))                      \n",
    "        for i in range(height):\n",
    "            for j in range(width):\n",
    "                if grid[i][j] == '1':\n",
    "                    num_island += 1\n",
    "                    grid[i][j] = '0'\n",
    "                    stack.append((i,j))\n",
    "                    fill_island(stack)\n",
    "        return num_island"
   ]
  },
  {
   "cell_type": "code",
   "execution_count": 44,
   "metadata": {},
   "outputs": [],
   "source": [
    "# version 3, BFS fill\n",
    "class Solution:    \n",
    "    def numIslands(self, grid) -> int:\n",
    "        num_island = 0\n",
    "        height, width = len(grid), len(grid[0])        \n",
    "        if height == 0 or width == 0:\n",
    "            return 0\n",
    "        stack = []\n",
    "        def fill_island(stack):\n",
    "            while stack:\n",
    "                new_i, new_j = stack.pop()\n",
    "                grid[new_i][new_j] = '0'               \n",
    "                if new_i < height - 1 and grid[new_i+1][new_j] == '1':                                        \n",
    "                    stack.append((new_i + 1, new_j))\n",
    "                if new_j < width - 1 and grid[new_i][new_j+1] == '1':                   \n",
    "                    stack.append((new_i, new_j + 1))\n",
    "                if new_i > 0 and grid[new_i-1][new_j] == '1':\n",
    "                    stack.append((new_i - 1, new_j))\n",
    "                if new_j > 0 and grid[new_i][new_j-1] == '1':\n",
    "                    stack.append((new_i, new_j - 1))                      \n",
    "        for i in range(height):\n",
    "            for j in range(width):\n",
    "                if grid[i][j] == '1':\n",
    "                    num_island += 1\n",
    "                    #grid[i][j] = '0'\n",
    "                    stack.append((i,j))\n",
    "                    fill_island(stack)\n",
    "        return num_island"
   ]
  },
  {
   "cell_type": "code",
   "execution_count": 45,
   "metadata": {},
   "outputs": [
    {
     "name": "stdout",
     "output_type": "stream",
     "text": [
      "1\n"
     ]
    }
   ],
   "source": [
    "if __name__ == '__main__':\n",
    "    grid = [[\"1\",\"1\",\"1\"],[\"0\",\"1\",\"0\"],[\"1\",\"1\",\"1\"]]\n",
    "    solution = Solution()\n",
    "    print(solution.numIslands(grid))"
   ]
  },
  {
   "cell_type": "code",
   "execution_count": null,
   "metadata": {},
   "outputs": [],
   "source": []
  },
  {
   "cell_type": "code",
   "execution_count": 4,
   "metadata": {},
   "outputs": [],
   "source": [
    " grid = [\n",
    "  [\"1\",\"1\",\"0\",\"0\",\"0\"],\n",
    "  [\"1\",\"1\",\"0\",\"0\",\"0\"],\n",
    "  [\"0\",\"0\",\"1\",\"0\",\"0\"],\n",
    "  [\"0\",\"0\",\"0\",\"1\",\"1\"]\n",
    "]"
   ]
  },
  {
   "cell_type": "code",
   "execution_count": 7,
   "metadata": {},
   "outputs": [
    {
     "name": "stdout",
     "output_type": "stream",
     "text": [
      "5\n"
     ]
    },
    {
     "data": {
      "text/plain": [
       "'1'"
      ]
     },
     "execution_count": 7,
     "metadata": {},
     "output_type": "execute_result"
    }
   ],
   "source": [
    "print(len(grid[0]))\n",
    "grid[3][4]"
   ]
  },
  {
   "cell_type": "code",
   "execution_count": null,
   "metadata": {},
   "outputs": [],
   "source": []
  },
  {
   "cell_type": "code",
   "execution_count": null,
   "metadata": {},
   "outputs": [],
   "source": []
  },
  {
   "cell_type": "code",
   "execution_count": null,
   "metadata": {},
   "outputs": [],
   "source": []
  },
  {
   "cell_type": "code",
   "execution_count": null,
   "metadata": {},
   "outputs": [],
   "source": []
  }
 ],
 "metadata": {
  "kernelspec": {
   "display_name": "Python 3",
   "language": "python",
   "name": "python3"
  },
  "language_info": {
   "codemirror_mode": {
    "name": "ipython",
    "version": 3
   },
   "file_extension": ".py",
   "mimetype": "text/x-python",
   "name": "python",
   "nbconvert_exporter": "python",
   "pygments_lexer": "ipython3",
   "version": "3.6.12"
  }
 },
 "nbformat": 4,
 "nbformat_minor": 4
}
