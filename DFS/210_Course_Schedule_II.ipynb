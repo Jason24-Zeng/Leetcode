{
 "cells": [
  {
   "cell_type": "markdown",
   "metadata": {},
   "source": [
    "There are a total of n courses you have to take labelled from 0 to n - 1.\n",
    "\n",
    "Some courses may have prerequisites, for example, if prerequisites[i] = [ai, bi] this means you must take the course bi before the course ai.\n",
    "\n",
    "Given the total number of courses numCourses and a list of the prerequisite pairs, return the ordering of courses you should take to finish all courses.\n",
    "\n",
    "If there are many valid answers, return any of them. If it is impossible to finish all courses, return an empty array.\n",
    "\n",
    " \n",
    "\n",
    "Example 1:\n",
    "```python\n",
    "Input: numCourses = 2, prerequisites = [[1,0]]\n",
    "Output: [0,1]\n",
    "Explanation: There are a total of 2 courses to take. To take course 1 you should have finished course 0. So the correct course order is [0,1].\n",
    "```\n",
    "Example 2:\n",
    "```python\n",
    "Input: numCourses = 4, prerequisites = [[1,0],[2,0],[3,1],[3,2]]\n",
    "Output: [0,2,1,3]\n",
    "Explanation: There are a total of 4 courses to take. To take course 3 you should have finished both courses 1 and 2. Both courses 1 and 2 should be taken after you finished course 0.\n",
    "So one correct course order is [0,1,2,3]. Another correct ordering is [0,2,1,3].\n",
    "```\n",
    "Example 3:\n",
    "```python\n",
    "Input: numCourses = 1, prerequisites = []\n",
    "Output: [0]\n",
    "``` \n",
    "\n",
    "Constraints:\n",
    "\n",
    "- 1 <= numCourses <= 2000\n",
    "- 0 <= prerequisites.length <= numCourses * (numCourses - 1)\n",
    "- prerequisites[i].length == 2\n",
    "- 0 <= ai, bi < numCourses\n",
    "- ai != bi\n",
    "- All the pairs [ai, bi] are distinct."
   ]
  },
  {
   "cell_type": "code",
   "execution_count": 23,
   "metadata": {},
   "outputs": [],
   "source": [
    "from collections import defaultdict\n",
    "class Solution:\n",
    "    def __init__(self):\n",
    "        self.blue = 1\n",
    "        self.green = 2\n",
    "        self.red = 3\n",
    "    def findOrder(self, numCourses: int, prerequisites):\n",
    "        course_order = defaultdict(list)\n",
    "        for course, prereq in prerequisites:\n",
    "            course_order[prereq].append(course)\n",
    "        order_list = []\n",
    "        isCycle = False\n",
    "        course_state = [self.blue] * numCourses\n",
    "        def list_course(course_num):\n",
    "            nonlocal order_list, isCycle\n",
    "            if isCycle:\n",
    "                return\n",
    "            course_state[course_num] = self.green\n",
    "            if course_num in course_order:                            \n",
    "                for next_course in course_order[course_num]:\n",
    "                    if course_state[next_course] == self.green:\n",
    "                        isCycle = True\n",
    "                        return\n",
    "                    elif course_state[next_course] == self.blue:\n",
    "                        list_course(next_course)\n",
    "                    else: #self.red\n",
    "                        continue\n",
    "            course_state[course_num] = self.red\n",
    "            order_list.append(course_num)\n",
    "            print(order_list)\n",
    "        for i in range(numCourses):\n",
    "            if course_state[i] == self.blue:\n",
    "                list_course(i)\n",
    "            if isCycle == True:\n",
    "                return []\n",
    "        return order_list[::-1]\n",
    "                \n",
    "                \n",
    "            \n",
    "            "
   ]
  },
  {
   "cell_type": "code",
   "execution_count": 24,
   "metadata": {},
   "outputs": [
    {
     "name": "stdout",
     "output_type": "stream",
     "text": [
      "[3]\n",
      "[3, 1]\n",
      "[3, 1, 2]\n",
      "[3, 1, 2, 0]\n",
      "[0, 2, 1, 3]\n"
     ]
    }
   ],
   "source": [
    "if __name__ == '__main__':\n",
    "    solution = Solution()\n",
    "    numCourses = 4\n",
    "    prerequisites = [[1,0],[2,0],[3,1],[3,2]]\n",
    "    print(solution.findOrder(numCourses, prerequisites))\n",
    "    "
   ]
  },
  {
   "cell_type": "code",
   "execution_count": 1,
   "metadata": {},
   "outputs": [],
   "source": [
    "from collections import defaultdict"
   ]
  },
  {
   "cell_type": "code",
   "execution_count": 5,
   "metadata": {},
   "outputs": [],
   "source": [
    "new_dict  = defaultdict(list)\n",
    "new_dict[3].append(2)\n",
    "new_dict[3].append(4)"
   ]
  },
  {
   "cell_type": "code",
   "execution_count": 14,
   "metadata": {},
   "outputs": [
    {
     "data": {
      "text/plain": [
       "defaultdict(list, {3: [2, 4], 4: [], 1: []})"
      ]
     },
     "execution_count": 14,
     "metadata": {},
     "output_type": "execute_result"
    }
   ],
   "source": [
    "new_dict"
   ]
  },
  {
   "cell_type": "code",
   "execution_count": 15,
   "metadata": {},
   "outputs": [
    {
     "data": {
      "text/plain": [
       "False"
      ]
     },
     "execution_count": 15,
     "metadata": {},
     "output_type": "execute_result"
    }
   ],
   "source": [
    "2 in new_dict"
   ]
  },
  {
   "cell_type": "code",
   "execution_count": null,
   "metadata": {},
   "outputs": [],
   "source": []
  },
  {
   "cell_type": "code",
   "execution_count": null,
   "metadata": {},
   "outputs": [],
   "source": []
  },
  {
   "cell_type": "code",
   "execution_count": null,
   "metadata": {},
   "outputs": [],
   "source": []
  },
  {
   "cell_type": "code",
   "execution_count": null,
   "metadata": {},
   "outputs": [],
   "source": []
  },
  {
   "cell_type": "code",
   "execution_count": null,
   "metadata": {},
   "outputs": [],
   "source": []
  }
 ],
 "metadata": {
  "kernelspec": {
   "display_name": "Python 3",
   "language": "python",
   "name": "python3"
  },
  "language_info": {
   "codemirror_mode": {
    "name": "ipython",
    "version": 3
   },
   "file_extension": ".py",
   "mimetype": "text/x-python",
   "name": "python",
   "nbconvert_exporter": "python",
   "pygments_lexer": "ipython3",
   "version": "3.6.12"
  }
 },
 "nbformat": 4,
 "nbformat_minor": 4
}
