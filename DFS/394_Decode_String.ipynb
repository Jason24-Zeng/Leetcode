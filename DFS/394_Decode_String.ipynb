{
 "cells": [
  {
   "cell_type": "markdown",
   "metadata": {},
   "source": [
    "Given an encoded string, return its decoded string.\n",
    "\n",
    "The encoding rule is: k[encoded_string], where the encoded_string inside the square brackets is being repeated exactly k times. Note that k is guaranteed to be a positive integer.\n",
    "\n",
    "You may assume that the input string is always valid; No extra white spaces, square brackets are well-formed, etc.\n",
    "\n",
    "Furthermore, you may assume that the original data does not contain any digits and that digits are only for those repeat numbers, k. For example, there won't be input like 3a or 2[4].\n",
    "\n",
    " \n",
    "\n",
    "Example 1:\n",
    "```python\n",
    "Input: s = \"3[a]2[bc]\"\n",
    "Output: \"aaabcbc\"\n",
    "```\n",
    "Example 2:\n",
    "````python\n",
    "Input: s = \"3[a2[c]]\"\n",
    "Output: \"accaccacc\"\n",
    "```\n",
    "Example 3:\n",
    "```python\n",
    "Input: s = \"2[abc]3[cd]ef\"\n",
    "Output: \"abcabccdcdcdef\"\n",
    "```\n",
    "Example 4:\n",
    "```python\n",
    "Input: s = \"abc3[cd]xyz\"\n",
    "Output: \"abccdcdcdxyz\"\n",
    "```"
   ]
  },
  {
   "cell_type": "code",
   "execution_count": 65,
   "metadata": {},
   "outputs": [],
   "source": [
    "class Solution:\n",
    "    def decodeString(self, s: str) -> str:\n",
    "        start = 0\n",
    "        end =len(s)-1\n",
    "        substring, digit = '', 0\n",
    "        def decode(start):\n",
    "            digit = 0\n",
    "            substring = ''\n",
    "            while start <= end:\n",
    "                if s[start].isdigit():\n",
    "                    digit = 10*digit + int(s[start])\n",
    "                    #print(digit)\n",
    "                elif s[start] == '[':\n",
    "                    #prevString = substring\n",
    "                    start, prevString = decode(start+1)                    \n",
    "                    substring += prevString * digit\n",
    "                    digit = 0\n",
    "                    #substring = ''\n",
    "                elif s[start] == ']':                    \n",
    "                    return start, substring \n",
    "                else:\n",
    "                    substring += s[start]\n",
    "                start += 1\n",
    "            return start, substring \n",
    "        return decode(start)[1]\n",
    "                    \n",
    "                    "
   ]
  },
  {
   "cell_type": "code",
   "execution_count": 67,
   "metadata": {},
   "outputs": [],
   "source": [
    "class Solution:\n",
    "    def decodeString(self, s: str) -> str:\n",
    "        stack = []\n",
    "        count, currString = 0, ''\n",
    "        for ch in s:\n",
    "            if ch.isdigit():\n",
    "                count = count * 10 + int(ch)\n",
    "            elif ch == '[':\n",
    "                stack.append(currString)\n",
    "                stack.append(count)\n",
    "                count = 0\n",
    "                currString =''\n",
    "            elif ch == ']':\n",
    "                PrevCount = stack.pop()\n",
    "                PrevString = stack.pop()\n",
    "                currString = PrevString + currString * PrevCount\n",
    "            else:\n",
    "                currString += ch\n",
    "        return currString\n",
    "                "
   ]
  },
  {
   "cell_type": "code",
   "execution_count": 68,
   "metadata": {},
   "outputs": [
    {
     "name": "stdout",
     "output_type": "stream",
     "text": [
      "abababcdabababcd\n"
     ]
    }
   ],
   "source": [
    "if __name__ == '__main__':\n",
    "    s ='2[3[ab]cd]'\n",
    "    # \n",
    "    #\"2[abc]3[cd]ef\"\n",
    "    solution = Solution()\n",
    "    print(solution.decodeString(s))"
   ]
  },
  {
   "cell_type": "code",
   "execution_count": 17,
   "metadata": {},
   "outputs": [],
   "source": [
    "class Solution:\n",
    "    def decodeString(self, s: str) -> str:\n",
    "        stack = []\n",
    "        currString, count = \"\", 0\n",
    "        for ch in s:\n",
    "            if ch.isdigit():\n",
    "                count = 10*count + int(ch)\n",
    "            elif ch == '[':\n",
    "                stack.append(currString)\n",
    "                stack.append(count)\n",
    "                currString = \"\"\n",
    "                count  = 0\n",
    "            elif ch == ']':\n",
    "                Prevcount = stack.pop()\n",
    "                prevString = stack.pop()\n",
    "                currString = prevString + currString * Prevcount\n",
    "                #stack.append(curr)\n",
    "            else:\n",
    "                currString += ch\n",
    "        return currString\n",
    "            \n",
    "                \n",
    "            \n",
    "            \n",
    "            \n",
    "        "
   ]
  },
  {
   "cell_type": "code",
   "execution_count": 22,
   "metadata": {},
   "outputs": [],
   "source": [
    "# recursive\n",
    "class Solution:\n",
    "    def decodeString(self, s: str) -> str:\n",
    "        n = len(s)\n",
    "        ind = 0\n",
    "        def helper(ind):\n",
    "            subs = ''\n",
    "            k = 0\n",
    "            while ind < n and s[ind]!=']':\n",
    "                if s[ind].isdigit():\n",
    "                    k = k*10 + int(s[ind])\n",
    "                elif s[ind] == '[':\n",
    "                    st, ind = helper(ind+1)\n",
    "                    subs += k * st\n",
    "                    k = 0\n",
    "                else:\n",
    "                    subs += s[ind]\n",
    "                ind += 1\n",
    "            return (subs, ind)\n",
    "        return helper(ind)[0]\n",
    "                "
   ]
  },
  {
   "cell_type": "code",
   "execution_count": 27,
   "metadata": {},
   "outputs": [
    {
     "ename": "UnboundLocalError",
     "evalue": "local variable 'prevString' referenced before assignment",
     "output_type": "error",
     "traceback": [
      "\u001b[1;31m---------------------------------------------------------------------------\u001b[0m",
      "\u001b[1;31mUnboundLocalError\u001b[0m                         Traceback (most recent call last)",
      "\u001b[1;32m<ipython-input-27-faaa8c3625c4>\u001b[0m in \u001b[0;36m<module>\u001b[1;34m\u001b[0m\n\u001b[0;32m      2\u001b[0m     \u001b[0ms\u001b[0m \u001b[1;33m=\u001b[0m \u001b[1;34m\"2[abc]3[cd]ef\"\u001b[0m\u001b[1;33m\u001b[0m\u001b[1;33m\u001b[0m\u001b[0m\n\u001b[0;32m      3\u001b[0m     \u001b[0msolution\u001b[0m \u001b[1;33m=\u001b[0m \u001b[0mSolution\u001b[0m\u001b[1;33m(\u001b[0m\u001b[1;33m)\u001b[0m\u001b[1;33m\u001b[0m\u001b[1;33m\u001b[0m\u001b[0m\n\u001b[1;32m----> 4\u001b[1;33m     \u001b[0mprint\u001b[0m\u001b[1;33m(\u001b[0m\u001b[0msolution\u001b[0m\u001b[1;33m.\u001b[0m\u001b[0mdecodeString\u001b[0m\u001b[1;33m(\u001b[0m\u001b[0ms\u001b[0m\u001b[1;33m)\u001b[0m\u001b[1;33m)\u001b[0m\u001b[1;33m\u001b[0m\u001b[1;33m\u001b[0m\u001b[0m\n\u001b[0m",
      "\u001b[1;32m<ipython-input-26-d58b30f1967e>\u001b[0m in \u001b[0;36mdecodeString\u001b[1;34m(self, s)\u001b[0m\n\u001b[0;32m     17\u001b[0m                     \u001b[0msubstring\u001b[0m \u001b[1;33m+=\u001b[0m \u001b[0ms\u001b[0m\u001b[1;33m[\u001b[0m\u001b[0mstart\u001b[0m\u001b[1;33m]\u001b[0m\u001b[1;33m\u001b[0m\u001b[1;33m\u001b[0m\u001b[0m\n\u001b[0;32m     18\u001b[0m                 \u001b[0mstart\u001b[0m \u001b[1;33m+=\u001b[0m \u001b[1;36m1\u001b[0m\u001b[1;33m\u001b[0m\u001b[1;33m\u001b[0m\u001b[0m\n\u001b[1;32m---> 19\u001b[1;33m         \u001b[1;32mreturn\u001b[0m \u001b[0mdecode\u001b[0m\u001b[1;33m(\u001b[0m\u001b[0mstart\u001b[0m\u001b[1;33m)\u001b[0m\u001b[1;33m\u001b[0m\u001b[1;33m\u001b[0m\u001b[0m\n\u001b[0m\u001b[0;32m     20\u001b[0m \u001b[1;33m\u001b[0m\u001b[0m\n\u001b[0;32m     21\u001b[0m \u001b[1;33m\u001b[0m\u001b[0m\n",
      "\u001b[1;32m<ipython-input-26-d58b30f1967e>\u001b[0m in \u001b[0;36mdecode\u001b[1;34m(start)\u001b[0m\n\u001b[0;32m     11\u001b[0m                 \u001b[1;32melif\u001b[0m \u001b[0ms\u001b[0m\u001b[1;33m[\u001b[0m\u001b[0mstart\u001b[0m\u001b[1;33m]\u001b[0m \u001b[1;33m==\u001b[0m \u001b[1;34m'['\u001b[0m\u001b[1;33m:\u001b[0m\u001b[1;33m\u001b[0m\u001b[1;33m\u001b[0m\u001b[0m\n\u001b[0;32m     12\u001b[0m                     \u001b[0mprevString\u001b[0m \u001b[1;33m=\u001b[0m \u001b[0msubstring\u001b[0m\u001b[1;33m\u001b[0m\u001b[1;33m\u001b[0m\u001b[0m\n\u001b[1;32m---> 13\u001b[1;33m                     \u001b[0msubstring\u001b[0m \u001b[1;33m=\u001b[0m \u001b[0mdecode\u001b[0m\u001b[1;33m(\u001b[0m\u001b[0mstart\u001b[0m\u001b[1;33m+\u001b[0m\u001b[1;36m1\u001b[0m\u001b[1;33m)\u001b[0m\u001b[1;33m\u001b[0m\u001b[1;33m\u001b[0m\u001b[0m\n\u001b[0m\u001b[0;32m     14\u001b[0m                 \u001b[1;32melif\u001b[0m \u001b[0ms\u001b[0m\u001b[1;33m[\u001b[0m\u001b[0mstart\u001b[0m\u001b[1;33m]\u001b[0m \u001b[1;33m==\u001b[0m \u001b[1;34m']'\u001b[0m\u001b[1;33m:\u001b[0m\u001b[1;33m\u001b[0m\u001b[1;33m\u001b[0m\u001b[0m\n\u001b[0;32m     15\u001b[0m                     \u001b[1;32mreturn\u001b[0m \u001b[0mprevString\u001b[0m \u001b[1;33m+\u001b[0m \u001b[0msubstring\u001b[0m \u001b[1;33m*\u001b[0m \u001b[0mdigit\u001b[0m\u001b[1;33m\u001b[0m\u001b[1;33m\u001b[0m\u001b[0m\n",
      "\u001b[1;32m<ipython-input-26-d58b30f1967e>\u001b[0m in \u001b[0;36mdecode\u001b[1;34m(start)\u001b[0m\n\u001b[0;32m     13\u001b[0m                     \u001b[0msubstring\u001b[0m \u001b[1;33m=\u001b[0m \u001b[0mdecode\u001b[0m\u001b[1;33m(\u001b[0m\u001b[0mstart\u001b[0m\u001b[1;33m+\u001b[0m\u001b[1;36m1\u001b[0m\u001b[1;33m)\u001b[0m\u001b[1;33m\u001b[0m\u001b[1;33m\u001b[0m\u001b[0m\n\u001b[0;32m     14\u001b[0m                 \u001b[1;32melif\u001b[0m \u001b[0ms\u001b[0m\u001b[1;33m[\u001b[0m\u001b[0mstart\u001b[0m\u001b[1;33m]\u001b[0m \u001b[1;33m==\u001b[0m \u001b[1;34m']'\u001b[0m\u001b[1;33m:\u001b[0m\u001b[1;33m\u001b[0m\u001b[1;33m\u001b[0m\u001b[0m\n\u001b[1;32m---> 15\u001b[1;33m                     \u001b[1;32mreturn\u001b[0m \u001b[0mprevString\u001b[0m \u001b[1;33m+\u001b[0m \u001b[0msubstring\u001b[0m \u001b[1;33m*\u001b[0m \u001b[0mdigit\u001b[0m\u001b[1;33m\u001b[0m\u001b[1;33m\u001b[0m\u001b[0m\n\u001b[0m\u001b[0;32m     16\u001b[0m                 \u001b[1;32melse\u001b[0m\u001b[1;33m:\u001b[0m\u001b[1;33m\u001b[0m\u001b[1;33m\u001b[0m\u001b[0m\n\u001b[0;32m     17\u001b[0m                     \u001b[0msubstring\u001b[0m \u001b[1;33m+=\u001b[0m \u001b[0ms\u001b[0m\u001b[1;33m[\u001b[0m\u001b[0mstart\u001b[0m\u001b[1;33m]\u001b[0m\u001b[1;33m\u001b[0m\u001b[1;33m\u001b[0m\u001b[0m\n",
      "\u001b[1;31mUnboundLocalError\u001b[0m: local variable 'prevString' referenced before assignment"
     ]
    }
   ],
   "source": [
    "if __name__ == '__main__':\n",
    "    s = \"2[abc]3[cd]ef\"\n",
    "    solution = Solution()\n",
    "    print(solution.decodeString(s))"
   ]
  },
  {
   "cell_type": "code",
   "execution_count": 12,
   "metadata": {},
   "outputs": [
    {
     "data": {
      "text/plain": [
       "False"
      ]
     },
     "execution_count": 12,
     "metadata": {},
     "output_type": "execute_result"
    }
   ],
   "source": [
    "'['.isdigit()"
   ]
  },
  {
   "cell_type": "code",
   "execution_count": 6,
   "metadata": {},
   "outputs": [
    {
     "data": {
      "text/plain": [
       "[[2, 'abc', [4, '', 'acd']], 3, '', 'f']"
      ]
     },
     "execution_count": 6,
     "metadata": {},
     "output_type": "execute_result"
    }
   ],
   "source": [
    "[[2,'abc', [4, '', 'acd']], 3, '','f']\n"
   ]
  },
  {
   "cell_type": "code",
   "execution_count": null,
   "metadata": {},
   "outputs": [],
   "source": []
  },
  {
   "cell_type": "code",
   "execution_count": null,
   "metadata": {},
   "outputs": [],
   "source": []
  },
  {
   "cell_type": "code",
   "execution_count": null,
   "metadata": {},
   "outputs": [],
   "source": []
  }
 ],
 "metadata": {
  "kernelspec": {
   "display_name": "Python 3",
   "language": "python",
   "name": "python3"
  },
  "language_info": {
   "codemirror_mode": {
    "name": "ipython",
    "version": 3
   },
   "file_extension": ".py",
   "mimetype": "text/x-python",
   "name": "python",
   "nbconvert_exporter": "python",
   "pygments_lexer": "ipython3",
   "version": "3.6.12"
  }
 },
 "nbformat": 4,
 "nbformat_minor": 4
}
