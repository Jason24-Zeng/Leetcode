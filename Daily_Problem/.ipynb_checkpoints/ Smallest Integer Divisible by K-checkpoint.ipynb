{
 "cells": [
  {
   "cell_type": "markdown",
   "metadata": {},
   "source": [
    "Given a positive integer K, you need to find the length of the smallest positive integer N such that N is divisible by K, and N only contains the digit 1.\n",
    "\n",
    "Return the length of N. If there is no such N, return -1.\n",
    "\n",
    "Note: N may not fit in a 64-bit signed integer.\n",
    "\n",
    " \n",
    "\n",
    "Example 1:\n",
    "\n",
    "Input: K = 1\n",
    "Output: 1\n",
    "Explanation: The smallest answer is N = 1, which has length 1.\n",
    "Example 2:\n",
    "\n",
    "Input: K = 2\n",
    "Output: -1\n",
    "Explanation: There is no such positive integer N divisible by 2."
   ]
  },
  {
   "cell_type": "code",
   "execution_count": null,
   "metadata": {},
   "outputs": [],
   "source": [
    "class Solution:\n",
    "    def smallestRepunitDivByK(self, K: int) -> int:\n",
    "        if K%5 == 0 or K%2 == 0:\n",
    "            return -1\n",
    "        remainders = 0\n",
    "        seen = {}\n",
    "        for index in range(K):\n",
    "            remainders = (remainders * 10 + 1)%K\n",
    "            if remainders in seen:\n",
    "                return -1\n",
    "            else:\n",
    "                if remainders == 0:\n",
    "                    return index + 1\n",
    "                seen[remainder] = 1\n",
    "                \n",
    "        return - 1\n",
    "            \n",
    "        "
   ]
  },
  {
   "cell_type": "code",
   "execution_count": null,
   "metadata": {},
   "outputs": [],
   "source": []
  },
  {
   "cell_type": "code",
   "execution_count": null,
   "metadata": {},
   "outputs": [],
   "source": []
  },
  {
   "cell_type": "code",
   "execution_count": null,
   "metadata": {},
   "outputs": [],
   "source": []
  }
 ],
 "metadata": {
  "kernelspec": {
   "display_name": "Python 3",
   "language": "python",
   "name": "python3"
  },
  "language_info": {
   "codemirror_mode": {
    "name": "ipython",
    "version": 3
   },
   "file_extension": ".py",
   "mimetype": "text/x-python",
   "name": "python",
   "nbconvert_exporter": "python",
   "pygments_lexer": "ipython3",
   "version": "3.7.8"
  }
 },
 "nbformat": 4,
 "nbformat_minor": 4
}
