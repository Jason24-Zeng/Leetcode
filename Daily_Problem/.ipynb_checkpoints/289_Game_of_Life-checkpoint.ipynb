{
 "cells": [
  {
   "cell_type": "markdown",
   "metadata": {},
   "source": [
    "According to Wikipedia's article: \"The Game of Life, also known simply as Life, is a cellular automaton devised by the British mathematician John Horton Conway in 1970.\"\n",
    "\n",
    "The board is made up of an m x n grid of cells, where each cell has an initial state: live (represented by a 1) or dead (represented by a 0). Each cell interacts with its eight neighbors (horizontal, vertical, diagonal) using the following four rules (taken from the above Wikipedia article):\n",
    "\n",
    "- Any live cell with fewer than two live neighbors dies as if caused by under-population.\n",
    "- Any live cell with two or three live neighbors lives on to the next generation.\n",
    "- Any live cell with more than three live neighbors dies, as if by over-population.\n",
    "- Any dead cell with exactly three live neighbors becomes a live cell, as if by reproduction.\n",
    "The next state is created by applying the above rules simultaneously to every cell in the current state, where births and deaths occur simultaneously. Given the current state of the m x n grid board, return the next state.\n",
    "Example 1:\n",
    "```\n",
    "\n",
    "Input: board = [[0,1,0],[0,0,1],[1,1,1],[0,0,0]]\n",
    "Output: [[0,0,0],[1,0,1],[0,1,1],[0,1,0]]\n",
    "```\n",
    "Example 2:\n",
    "```\n",
    "\n",
    "Input: board = [[1,1],[1,0]]\n",
    "Output: [[1,1],[1,1]]\n",
    "``` \n",
    "\n",
    "Constraints:\n",
    "\n",
    "- m == board.length\n",
    "- n == board[i].length\n",
    "- 1 <= m, n <= 25\n",
    "- board[i][j] is 0 or 1.\n",
    " \n",
    "\n",
    "Follow up:\n",
    "\n",
    "- Could you solve it in-place? Remember that the board needs to be updated simultaneously: You cannot update some cells first and then use their updated values to update other cells.\n",
    "- In this question, we represent the board using a 2D array. In principle, the board is infinite, which would cause problems when the active area encroaches upon the border of the array (i.e., live cells reach the border). How would you address these problems?"
   ]
  },
  {
   "cell_type": "code",
   "execution_count": null,
   "metadata": {},
   "outputs": [],
   "source": [
    "class Solution:\n",
    "    def gameOfLife(self, board: List[List[int]]) -> None:\n",
    "        \"\"\"\n",
    "        Do not return anything, modify board in-place instead.\n",
    "        \"\"\"\n",
    "        height, width = len(board), len(board[0])\n",
    "        # status\n",
    "        # 0: die -> die; 1: live -> live; 2: live -> die; 3: die -> live\n",
    "        def status(i, j):\n",
    "            count = 0\n",
    "            for st_i, st_j in ((1,0), (0,1), (1,1), (1,-1)):\n",
    "                if 0 <= st_i + i < height and 0 <= st_j + j < width:\n",
    "                    if board[st_i+i][st_j+j] == 1:\n",
    "                        count += 1\n",
    "                if 0 <= i - st_i < height and 0 <= j - st_j < width:\n",
    "                    if 1 <= board[i-st_i][j-st_j] <= 2:\n",
    "                        count += 1\n",
    "            if board[i][j] == 0 and count == 3:\n",
    "                board[i][j] = 3\n",
    "            elif board[i][j] == 1 and (count not in (2, 3)):\n",
    "                board[i][j] = 2\n",
    "        for i in range(height):\n",
    "            for j in range(width):\n",
    "                status(i, j)\n",
    "        for i in range(height):\n",
    "            for j in range(width):\n",
    "                board[i][j] %= 2"
   ]
  }
 ],
 "metadata": {
  "kernelspec": {
   "display_name": "Python 3",
   "language": "python",
   "name": "python3"
  },
  "language_info": {
   "codemirror_mode": {
    "name": "ipython",
    "version": 3
   },
   "file_extension": ".py",
   "mimetype": "text/x-python",
   "name": "python",
   "nbconvert_exporter": "python",
   "pygments_lexer": "ipython3",
   "version": "3.6.11"
  }
 },
 "nbformat": 4,
 "nbformat_minor": 4
}
