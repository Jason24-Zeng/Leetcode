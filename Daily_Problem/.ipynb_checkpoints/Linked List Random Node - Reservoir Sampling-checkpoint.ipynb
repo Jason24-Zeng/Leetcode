{
 "cells": [
  {
   "cell_type": "markdown",
   "metadata": {},
   "source": [
    "Given a singly linked list, return a random node's value from the linked list. Each node must have the same probability of being chosen.\n",
    "\n",
    "Follow up:\n",
    "What if the linked list is extremely large and its length is unknown to you? Could you solve this efficiently without using extra space?\n",
    "\n",
    "Example:\n",
    "```\n",
    "// Init a singly linked list [1,2,3].\n",
    "ListNode head = new ListNode(1);\n",
    "head.next = new ListNode(2);\n",
    "head.next.next = new ListNode(3);\n",
    "Solution solution = new Solution(head);\n",
    "\n",
    "// getRandom() should return either 1, 2, or 3 randomly. Each element should have equal probability of returning.\n",
    "solution.getRandom();\n",
    "```"
   ]
  },
  {
   "cell_type": "code",
   "execution_count": null,
   "metadata": {},
   "outputs": [],
   "source": [
    "# Definition for singly-linked list.\n",
    "# class ListNode:\n",
    "#     def __init__(self, val=0, next=None):\n",
    "#         self.val = val\n",
    "#         self.next = next\n",
    "class Solution:\n",
    "\n",
    "    def __init__(self, head: ListNode):\n",
    "        \"\"\"\n",
    "        @param head The linked list's head.\n",
    "        Note that the head is guaranteed to be not null, so it contains at least one node.\n",
    "        \"\"\"\n",
    "        self.head = head\n",
    "        \n",
    "\n",
    "    def getRandom(self) -> int:\n",
    "        \"\"\"\n",
    "        Returns a random node's value.\n",
    "        \"\"\"\n",
    "        scope = 1\n",
    "        chosen_value = 0\n",
    "        curr = self.head\n",
    "        while curr:\n",
    "            if random.random() < 1/scope:\n",
    "                chosen_value = curr.val\n",
    "            curr = curr.next\n",
    "            scope += 1\n",
    "        return chosen_value\n",
    "        \n",
    "\n",
    "\n",
    "# Your Solution object will be instantiated and called as such:\n",
    "# obj = Solution(head)\n",
    "# param_1 = obj.getRandom()"
   ]
  },
  {
   "cell_type": "code",
   "execution_count": null,
   "metadata": {},
   "outputs": [],
   "source": []
  },
  {
   "cell_type": "code",
   "execution_count": null,
   "metadata": {},
   "outputs": [],
   "source": []
  },
  {
   "cell_type": "code",
   "execution_count": null,
   "metadata": {},
   "outputs": [],
   "source": []
  }
 ],
 "metadata": {
  "kernelspec": {
   "display_name": "Python 3",
   "language": "python",
   "name": "python3"
  },
  "language_info": {
   "codemirror_mode": {
    "name": "ipython",
    "version": 3
   },
   "file_extension": ".py",
   "mimetype": "text/x-python",
   "name": "python",
   "nbconvert_exporter": "python",
   "pygments_lexer": "ipython3",
   "version": "3.7.8"
  }
 },
 "nbformat": 4,
 "nbformat_minor": 4
}
