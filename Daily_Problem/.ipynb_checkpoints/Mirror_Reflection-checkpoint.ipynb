{
 "cells": [
  {
   "cell_type": "markdown",
   "metadata": {},
   "source": [
    "There is a special square room with mirrors on each of the four walls.  Except for the southwest corner, there are receptors on each of the remaining corners, numbered 0, 1, and 2.\n",
    "\n",
    "The square room has walls of length p, and a laser ray from the southwest corner first meets the east wall at a distance q from the 0th receptor.\n",
    "\n",
    "Return the number of the receptor that the ray meets first.  (It is guaranteed that the ray will meet a receptor eventually.)\n",
    "\n",
    " \n",
    "\n",
    "Example 1:\n",
    "```python\n",
    "Input: p = 2, q = 1\n",
    "Output: 2\n",
    "Explanation: The ray meets receptor 2 the first time it gets reflected back to the left wall.\n",
    "```\n",
    "Note:\n",
    "\n",
    "- 1 <= p <= 1000\n",
    "- 0 <= q <= p"
   ]
  },
  {
   "cell_type": "code",
   "execution_count": null,
   "metadata": {},
   "outputs": [],
   "source": [
    "class Solution:\n",
    "    def mirrorReflection(self, p: int, q: int) -> int:\n",
    "        def gcd(a, b):\n",
    "            if b == 0:\n",
    "                return a\n",
    "            else:\n",
    "                a, b = b, a%b\n",
    "                return gcd(a, b)\n",
    "        greatest_common_divider = gcd(p, q)\n",
    "        print(greatest_common_divider)\n",
    "        p /= greatest_common_divider\n",
    "        q /= greatest_common_divider\n",
    "        if q%2 == 0:\n",
    "            return 0\n",
    "        if p%2 == 0:\n",
    "            return 2\n",
    "        else:\n",
    "            return 1"
   ]
  },
  {
   "cell_type": "code",
   "execution_count": null,
   "metadata": {},
   "outputs": [],
   "source": []
  }
 ],
 "metadata": {
  "kernelspec": {
   "display_name": "Python 3",
   "language": "python",
   "name": "python3"
  },
  "language_info": {
   "codemirror_mode": {
    "name": "ipython",
    "version": 3
   },
   "file_extension": ".py",
   "mimetype": "text/x-python",
   "name": "python",
   "nbconvert_exporter": "python",
   "pygments_lexer": "ipython3",
   "version": "3.7.8"
  }
 },
 "nbformat": 4,
 "nbformat_minor": 4
}
