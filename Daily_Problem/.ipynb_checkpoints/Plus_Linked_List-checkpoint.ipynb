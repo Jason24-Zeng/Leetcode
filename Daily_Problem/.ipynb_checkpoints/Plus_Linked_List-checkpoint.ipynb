{
 "cells": [
  {
   "cell_type": "markdown",
   "metadata": {},
   "source": [
    "Given a non-negative integer represented as a linked list of digits, plus one to the integer.\n",
    "\n",
    "The digits are stored such that the most significant digit is at the head of the list.\n",
    "\n",
    " \n",
    "\n",
    "Example 1:\n",
    "```python\n",
    "Input: head = [1,2,3]\n",
    "Output: [1,2,4]\n",
    "```\n",
    "Example 2:\n",
    "```python\n",
    "Input: head = [0]\n",
    "Output: [1]\n",
    "```"
   ]
  },
  {
   "cell_type": "code",
   "execution_count": null,
   "metadata": {},
   "outputs": [],
   "source": [
    "# Definition for singly-linked list.\n",
    "# class ListNode:\n",
    "#     def __init__(self, val=0, next=None):\n",
    "#         self.val = val\n",
    "#         self.next = next\n",
    "class Solution:\n",
    "    def plusOne(self, head: ListNode) -> ListNode:\n",
    "        stack = []\n",
    "        addition = 1\n",
    "        root = head\n",
    "        while head:\n",
    "            stack.append(head)\n",
    "            head = head.next\n",
    "        while stack:\n",
    "            new_node = stack.pop(-1)\n",
    "            addition, new_node.val = divmod(new_node.val + addition, 10)\n",
    "        if addition != 0:\n",
    "            pre = ListNode(addition)\n",
    "            pre.next = root\n",
    "            return pre\n",
    "        else:\n",
    "            return root\n",
    "            "
   ]
  }
 ],
 "metadata": {
  "kernelspec": {
   "display_name": "Python 3",
   "language": "python",
   "name": "python3"
  },
  "language_info": {
   "codemirror_mode": {
    "name": "ipython",
    "version": 3
   },
   "file_extension": ".py",
   "mimetype": "text/x-python",
   "name": "python",
   "nbconvert_exporter": "python",
   "pygments_lexer": "ipython3",
   "version": "3.7.8"
  }
 },
 "nbformat": 4,
 "nbformat_minor": 4
}
