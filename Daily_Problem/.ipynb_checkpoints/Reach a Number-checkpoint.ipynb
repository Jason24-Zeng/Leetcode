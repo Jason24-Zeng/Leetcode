{
 "cells": [
  {
   "cell_type": "markdown",
   "metadata": {},
   "source": [
    "You are standing at position 0 on an infinite number line. There is a goal at position target.\n",
    "\n",
    "On each move, you can either go left or right. During the n-th move (starting from 1), you take n steps.\n",
    "\n",
    "Return the minimum number of steps required to reach the destination.\n",
    "\n",
    "Example 1:\n",
    "```python\n",
    "Input: target = 3\n",
    "Output: 2\n",
    "Explanation:\n",
    "On the first move we step from 0 to 1.\n",
    "On the second step we step from 1 to 3.\n",
    "```\n",
    "Example 2:\n",
    "```python\n",
    "Input: target = 2\n",
    "Output: 3\n",
    "Explanation:\n",
    "On the first move we step from 0 to 1.\n",
    "On the second move we step  from 1 to -1.\n",
    "On the third move we step from -1 to 2.\n",
    "```\n",
    "Note:\n",
    "- target will be a non-zero integer in the range [-10^9, 10^9]."
   ]
  },
  {
   "cell_type": "code",
   "execution_count": null,
   "metadata": {},
   "outputs": [],
   "source": [
    "class Solution:\n",
    "    def reachNumber(self, target: int) -> int:\n",
    "        target = abs(target)\n",
    "        k = int((2*target)**0.5)\n",
    "        while True:\n",
    "            diff = k * (k + 1) //2 - target\n",
    "            if diff >= 0 and diff & 1 == 0:\n",
    "                return k\n",
    "            k += 1"
   ]
  }
 ],
 "metadata": {
  "kernelspec": {
   "display_name": "Python 3",
   "language": "python",
   "name": "python3"
  },
  "language_info": {
   "codemirror_mode": {
    "name": "ipython",
    "version": 3
   },
   "file_extension": ".py",
   "mimetype": "text/x-python",
   "name": "python",
   "nbconvert_exporter": "python",
   "pygments_lexer": "ipython3",
   "version": "3.6.11"
  }
 },
 "nbformat": 4,
 "nbformat_minor": 4
}
