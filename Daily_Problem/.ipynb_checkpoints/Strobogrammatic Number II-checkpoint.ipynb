{
 "cells": [
  {
   "cell_type": "markdown",
   "metadata": {},
   "source": [
    "A strobogrammatic number is a number that looks the same when rotated 180 degrees (looked at upside down).\n",
    "\n",
    "Find all strobogrammatic numbers that are of length = n.\n",
    "\n",
    "Example:\n",
    "```\n",
    "Input:  n = 2\n",
    "Output: [\"11\",\"69\",\"88\",\"96\"]\n",
    "```"
   ]
  },
  {
   "cell_type": "code",
   "execution_count": null,
   "metadata": {},
   "outputs": [],
   "source": [
    "class Solution:\n",
    "    def findStrobogrammatic(self, n: int) -> List[str]:\n",
    "        list_remain = {'0':'0', '1':'1', '6':'9', \"9\":\"6\", '8':'8'}\n",
    "        #res = []\n",
    "        div, mod =  divmod(n,2)\n",
    "        stack = ['']\n",
    "        if mod == 1:\n",
    "            stack = ['1', '0', '8']\n",
    "            \n",
    "        for time in range(div):\n",
    "            lens = len(stack)\n",
    "            while lens:\n",
    "                lens -= 1\n",
    "                num = stack.pop(0)\n",
    "                for i in list_remain.keys():\n",
    "                    if time!= div-1 or i!= '0':\n",
    "                        stack.append(i + num + list_remain[i])\n",
    "        return stack\n",
    "                \n",
    "            \n",
    "        "
   ]
  },
  {
   "cell_type": "code",
   "execution_count": null,
   "metadata": {},
   "outputs": [],
   "source": []
  },
  {
   "cell_type": "code",
   "execution_count": null,
   "metadata": {},
   "outputs": [],
   "source": []
  }
 ],
 "metadata": {
  "kernelspec": {
   "display_name": "Python 3",
   "language": "python",
   "name": "python3"
  },
  "language_info": {
   "codemirror_mode": {
    "name": "ipython",
    "version": 3
   },
   "file_extension": ".py",
   "mimetype": "text/x-python",
   "name": "python",
   "nbconvert_exporter": "python",
   "pygments_lexer": "ipython3",
   "version": "3.7.8"
  }
 },
 "nbformat": 4,
 "nbformat_minor": 4
}
