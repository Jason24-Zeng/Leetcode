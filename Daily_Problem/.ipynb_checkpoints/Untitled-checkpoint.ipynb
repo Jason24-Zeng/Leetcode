{
 "cells": [
  {
   "cell_type": "markdown",
   "metadata": {},
   "source": [
    "Given a sorted list of disjoint intervals, each interval intervals[i] = [a, b] represents the set of real numbers x such that a <= x < b.\n",
    "\n",
    "We remove the intersections between any interval in intervals and the interval toBeRemoved.\n",
    "\n",
    "Return a sorted list of intervals after all such removals.\n",
    "\n",
    " \n",
    "\n",
    "Example 1:\n",
    "```\n",
    "Input: intervals = [[0,2],[3,4],[5,7]], toBeRemoved = [1,6]\n",
    "Output: [[0,1],[6,7]]\n",
    "```\n",
    "Example 2:\n",
    "```\n",
    "Input: intervals = [[0,5]], toBeRemoved = [2,3]\n",
    "Output: [[0,2],[3,5]]\n",
    "```\n",
    "Example 3:\n",
    "```\n",
    "Input: intervals = [[-5,-4],[-3,-2],[1,2],[3,5],[8,9]], toBeRemoved = [-1,4]\n",
    "Output: [[-5,-4],[-3,-2],[4,5],[8,9]]\n",
    "``` \n",
    "\n",
    "Constraints:\n",
    "\n",
    "- 1 <= intervals.length <= 10^4\n",
    "- -10^9 <= intervals[i][0] < intervals[i][1] <= 10^9"
   ]
  },
  {
   "cell_type": "code",
   "execution_count": null,
   "metadata": {},
   "outputs": [],
   "source": [
    "class Solution:\n",
    "    def removeInterval(self, intervals: List[List[int]], toBeRemoved: List[int]) -> List[List[int]]:\n",
    "        new_list = []\n",
    "        state = 1\n",
    "        left, right = toBeRemoved[0], toBeRemoved[1]\n",
    "        for interval in intervals:\n",
    "            if left <= interval[0]:\n",
    "                if right >= interval[1]:\n",
    "                    continue\n",
    "                else:\n",
    "                    new_list.append([max(right, interval[0]), interval[1]])\n",
    "            else:\n",
    "                new_list.append([interval[0], min(left, interval[1])])\n",
    "                if right >= interval[1]:\n",
    "                    continue\n",
    "                else:\n",
    "                    new_list.append([right, interval[1]])\n",
    "        return new_list\n",
    "                    "
   ]
  },
  {
   "cell_type": "code",
   "execution_count": null,
   "metadata": {},
   "outputs": [],
   "source": []
  },
  {
   "cell_type": "code",
   "execution_count": null,
   "metadata": {},
   "outputs": [],
   "source": []
  },
  {
   "cell_type": "code",
   "execution_count": null,
   "metadata": {},
   "outputs": [],
   "source": []
  },
  {
   "cell_type": "code",
   "execution_count": null,
   "metadata": {},
   "outputs": [],
   "source": []
  }
 ],
 "metadata": {
  "kernelspec": {
   "display_name": "Python 3",
   "language": "python",
   "name": "python3"
  },
  "language_info": {
   "codemirror_mode": {
    "name": "ipython",
    "version": 3
   },
   "file_extension": ".py",
   "mimetype": "text/x-python",
   "name": "python",
   "nbconvert_exporter": "python",
   "pygments_lexer": "ipython3",
   "version": "3.7.8"
  }
 },
 "nbformat": 4,
 "nbformat_minor": 4
}
