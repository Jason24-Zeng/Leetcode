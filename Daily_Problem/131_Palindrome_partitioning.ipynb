{
 "cells": [
  {
   "cell_type": "markdown",
   "metadata": {},
   "source": [
    "Given a string s, partition s such that every substring of the partition is a palindrome. Return all possible palindrome partitioning of s.\n",
    "\n",
    "A palindrome string is a string that reads the same backward as forward.\n",
    "\n",
    " \n",
    "\n",
    "Example 1:\n",
    "```\n",
    "Input: s = \"aab\"\n",
    "Output: [[\"a\",\"a\",\"b\"],[\"aa\",\"b\"]]\n",
    "```\n",
    "Example 2:\n",
    "```\n",
    "Input: s = \"a\"\n",
    "Output: [[\"a\"]]\n",
    "```"
   ]
  },
  {
   "cell_type": "code",
   "execution_count": 1,
   "metadata": {},
   "outputs": [],
   "source": [
    "class Solution:\n",
    "    def partition(self, s: str):\n",
    "        def isPalindrome(start, end):\n",
    "            while start <= end:\n",
    "                if s[start] != s[end]: \n",
    "                    return False\n",
    "                start += 1\n",
    "                end -=1\n",
    "            return True\n",
    "        \n",
    "        def helper(start = 0, path = []):\n",
    "            if start >= lens: \n",
    "                result.append(path)\n",
    "                \n",
    "            for ind in range(start, lens):\n",
    "                if isPalindrome(start, ind):\n",
    "                    helper(ind+ 1, path + [s[start:ind+ 1]])\n",
    "        lens = len(s)\n",
    "        result = []\n",
    "        helper()\n",
    "        return result"
   ]
  }
 ],
 "metadata": {
  "kernelspec": {
   "display_name": "Python 3",
   "language": "python",
   "name": "python3"
  },
  "language_info": {
   "codemirror_mode": {
    "name": "ipython",
    "version": 3
   },
   "file_extension": ".py",
   "mimetype": "text/x-python",
   "name": "python",
   "nbconvert_exporter": "python",
   "pygments_lexer": "ipython3",
   "version": "3.7.8"
  }
 },
 "nbformat": 4,
 "nbformat_minor": 4
}
