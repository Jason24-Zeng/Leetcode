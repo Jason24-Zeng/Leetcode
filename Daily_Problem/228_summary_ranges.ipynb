{
 "cells": [
  {
   "cell_type": "markdown",
   "metadata": {},
   "source": [
    "You are given a sorted unique integer array nums.\n",
    "\n",
    "Return the smallest sorted list of ranges that cover all the numbers in the array exactly. That is, each element of nums is covered by exactly one of the ranges, and there is no integer x such that x is in one of the ranges but not in nums.\n",
    "\n",
    "Each range [a,b] in the list should be output as:\n",
    "```\n",
    "- \"a->b\" if a != b\n",
    "- \"a\" if a == b\n",
    "``` \n",
    "\n",
    "Example 1:\n",
    "```python\n",
    "Input: nums = [0,1,2,4,5,7]\n",
    "Output: [\"0->2\",\"4->5\",\"7\"]\n",
    "Explanation: The ranges are:\n",
    "[0,2] --> \"0->2\"\n",
    "[4,5] --> \"4->5\"\n",
    "[7,7] --> \"7\"\n",
    "```"
   ]
  },
  {
   "cell_type": "code",
   "execution_count": 21,
   "metadata": {},
   "outputs": [],
   "source": [
    "class Solution:\n",
    "    def summaryRanges(self, nums):\n",
    "        if len(nums) == 0:\n",
    "            return []\n",
    "        list1 = []\n",
    "        start, end = 0, len(nums) - 1\n",
    "        def finder(start, end):\n",
    "            if end - start == nums[end] - nums[start]:\n",
    "                list1.append((nums[start], nums[end]))\n",
    "                return\n",
    "            mid = start + (end-start)//2\n",
    "            finder(start, mid)\n",
    "            finder(mid+1, end)\n",
    "        finder(start, end)\n",
    "        pre_end = None\n",
    "        pre_start = None\n",
    "        list2 = []\n",
    "        for start, end in list1:\n",
    "            \n",
    "            if pre_end == None:\n",
    "                pre_start = start\n",
    "                pre_end = end\n",
    "            elif start - pre_end == 1:\n",
    "                pre_end = end\n",
    "            else:\n",
    "                \n",
    "                if pre_start == pre_end:\n",
    "                    list2.append(str(pre_start))\n",
    "                else:\n",
    "                    list2.append(str(pre_start)+'->'+str(pre_end))\n",
    "                pre_start = start\n",
    "                pre_end = end\n",
    "        if pre_start == pre_end:\n",
    "            list2.append(str(pre_start))\n",
    "        else:\n",
    "            list2.append(str(pre_start)+'->'+str(pre_end))       \n",
    "        return list2"
   ]
  },
  {
   "cell_type": "code",
   "execution_count": 22,
   "metadata": {},
   "outputs": [
    {
     "name": "stdout",
     "output_type": "stream",
     "text": [
      "['-1']\n"
     ]
    }
   ],
   "source": [
    "if __name__ == '__main__':\n",
    "    solution = Solution()\n",
    "    nums = [-1]\n",
    "    print(solution.summaryRanges(nums))"
   ]
  },
  {
   "cell_type": "code",
   "execution_count": 10,
   "metadata": {},
   "outputs": [
    {
     "ename": "ValueError",
     "evalue": "invalid literal for int() with base 10: '-inf'",
     "output_type": "error",
     "traceback": [
      "\u001b[1;31m---------------------------------------------------------------------------\u001b[0m",
      "\u001b[1;31mValueError\u001b[0m                                Traceback (most recent call last)",
      "\u001b[1;32m<ipython-input-10-9501bbb43cb6>\u001b[0m in \u001b[0;36m<module>\u001b[1;34m\u001b[0m\n\u001b[1;32m----> 1\u001b[1;33m \u001b[0mint\u001b[0m\u001b[1;33m(\u001b[0m\u001b[1;34m'-inf'\u001b[0m\u001b[1;33m)\u001b[0m\u001b[1;33m\u001b[0m\u001b[1;33m\u001b[0m\u001b[0m\n\u001b[0m",
      "\u001b[1;31mValueError\u001b[0m: invalid literal for int() with base 10: '-inf'"
     ]
    }
   ],
   "source": [
    "int('-inf')"
   ]
  },
  {
   "cell_type": "code",
   "execution_count": null,
   "metadata": {},
   "outputs": [],
   "source": []
  },
  {
   "cell_type": "code",
   "execution_count": null,
   "metadata": {},
   "outputs": [],
   "source": []
  }
 ],
 "metadata": {
  "kernelspec": {
   "display_name": "Python 3",
   "language": "python",
   "name": "python3"
  },
  "language_info": {
   "codemirror_mode": {
    "name": "ipython",
    "version": 3
   },
   "file_extension": ".py",
   "mimetype": "text/x-python",
   "name": "python",
   "nbconvert_exporter": "python",
   "pygments_lexer": "ipython3",
   "version": "3.6.12"
  }
 },
 "nbformat": 4,
 "nbformat_minor": 4
}
