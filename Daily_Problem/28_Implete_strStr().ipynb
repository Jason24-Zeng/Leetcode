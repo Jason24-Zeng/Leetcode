{
 "cells": [
  {
   "cell_type": "markdown",
   "metadata": {},
   "source": [
    "Implement strStr().\n",
    "\n",
    "Return the index of the first occurrence of needle in haystack, or -1 if needle is not part of haystack.\n",
    "\n",
    "Clarification:\n",
    "\n",
    "What should we return when needle is an empty string? This is a great question to ask during an interview.\n",
    "\n",
    "For the purpose of this problem, we will return 0 when needle is an empty string. This is consistent to C's strstr() and Java's indexOf().\n",
    "\n",
    " \n",
    "\n",
    "Example 1:\n",
    "```\n",
    "Input: haystack = \"hello\", needle = \"ll\"\n",
    "Output: 2\n",
    "```\n",
    "Example 2:\n",
    "```\n",
    "Input: haystack = \"aaaaa\", needle = \"bba\"\n",
    "Output: -1\n",
    "```\n",
    "Example 3:\n",
    "```\n",
    "Input: haystack = \"\", needle = \"\"\n",
    "Output: 0\n",
    "```\n",
    "\n",
    "Constraints:\n",
    "\n",
    "- 0 <= haystack.length, needle.length <= 5 * 104\n",
    "- haystack and needle consist of only lower-case English characters."
   ]
  },
  {
   "cell_type": "code",
   "execution_count": null,
   "metadata": {
    "tags": [
     "Solution_1:_Substring_Linear_Time_Complexity"
    ]
   },
   "outputs": [],
   "source": [
    "class Solution:\n",
    "    def strStr(self, haystack: str, needle: str) -> int:\n",
    "        if needle == \"\":\n",
    "            return 0\n",
    "        pointer1, pointer2 = 0, 0\n",
    "        while pointer1 <= len(haystack) - len(needle):\n",
    "            if needle == haystack[pointer1: pointer1 + len(needle)]:\n",
    "                return pointer1\n",
    "            pointer1 += 1\n",
    "        return -1"
   ]
  },
  {
   "cell_type": "code",
   "execution_count": null,
   "metadata": {
    "tags": [
     "Solution_2:_two_pointer_method"
    ]
   },
   "outputs": [],
   "source": [
    "class Solution:\n",
    "    def strStr(self, haystack: str, needle: str) -> int:\n",
    "        if needle == \"\":\n",
    "            return 0\n",
    "        pointer1, pointer2 = 0, 0\n",
    "        while pointer1 <= len(haystack) - len(needle):\n",
    "            if haystack[pointer1+pointer2] == needle[pointer2]:\n",
    "                if pointer2 == len(needle) - 1:\n",
    "                    print(pointer2, pointer1)\n",
    "                    return pointer1\n",
    "                else:\n",
    "                    pointer2 += 1\n",
    "            else:\n",
    "                pointer1 += 1\n",
    "                pointer2 = 0\n",
    "        return -1"
   ]
  },
  {
   "cell_type": "code",
   "execution_count": null,
   "metadata": {
    "tags": [
     "Solution_3:_Rabin_Karp"
    ]
   },
   "outputs": [],
   "source": [
    "class Solution:\n",
    "    def strStr(self, haystack: str, needle: str) -> int:\n",
    "        lenh, lenn = len(haystack), len(needle)\n",
    "        if lenh < lenn:\n",
    "            return -1\n",
    "        letter_num = 26\n",
    "        mod = 2**31\n",
    "        hay_to_int = lambda i: ord(haystack[i]) - ord('a')\n",
    "        needle_to_int = lambda i: ord(needle[i]) - ord('a')\n",
    "        h = need = 0\n",
    "        for i in range(lenn):\n",
    "            h = (h*letter_num + hay_to_int(i))%mod\n",
    "            need = (need*letter_num + needle_to_int(i))%mod\n",
    "        if h == need:\n",
    "            return 0\n",
    "        power_needle = pow(letter_num, lenn, mod)\n",
    "        for start in range(1, lenh - lenn + 1):\n",
    "            h = (h*letter_num - hay_to_int(start-1)*power_needle+hay_to_int(start+lenn-1))%mod\n",
    "            if h == need:\n",
    "                return start\n",
    "        return -1\n",
    "            "
   ]
  },
  {
   "cell_type": "code",
   "execution_count": null,
   "metadata": {},
   "outputs": [],
   "source": []
  },
  {
   "cell_type": "code",
   "execution_count": null,
   "metadata": {},
   "outputs": [],
   "source": []
  },
  {
   "cell_type": "code",
   "execution_count": null,
   "metadata": {},
   "outputs": [],
   "source": []
  }
 ],
 "metadata": {
  "celltoolbar": "Tags",
  "kernelspec": {
   "display_name": "Python 3",
   "language": "python",
   "name": "python3"
  },
  "language_info": {
   "codemirror_mode": {
    "name": "ipython",
    "version": 3
   },
   "file_extension": ".py",
   "mimetype": "text/x-python",
   "name": "python",
   "nbconvert_exporter": "python",
   "pygments_lexer": "ipython3",
   "version": "3.7.8"
  }
 },
 "nbformat": 4,
 "nbformat_minor": 4
}
