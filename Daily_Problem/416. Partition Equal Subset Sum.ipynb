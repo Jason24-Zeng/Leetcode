{
 "cells": [
  {
   "cell_type": "markdown",
   "metadata": {},
   "source": [
    "Given a non-empty array nums containing only positive integers, find if the array can be partitioned into two subsets such that the sum of elements in both subsets is equal.\n",
    "\n",
    " \n",
    "\n",
    "Example 1:\n",
    "```\n",
    "Input: nums = [1,5,11,5]\n",
    "Output: true\n",
    "Explanation: The array can be partitioned as [1, 5, 5] and [11].\n",
    "```\n",
    "Example 2:\n",
    "```\n",
    "Input: nums = [1,2,3,5]\n",
    "Output: false\n",
    "Explanation: The array cannot be partitioned into equal sum subsets.\n",
    "```\n",
    "Constraints:\n",
    "\n",
    "- 1 <= nums.length <= 200\n",
    "- 1 <= nums[i] <= 100"
   ]
  },
  {
   "cell_type": "code",
   "execution_count": null,
   "metadata": {},
   "outputs": [],
   "source": [
    "class Solution:\n",
    "    def canPartition(self, nums: List[int]) -> bool:\n",
    "        sum_num = sum(nums)\n",
    "        div, mod = divmod(sum_num, 2)\n",
    "        if mod == 1:\n",
    "            return False\n",
    "        dp = [True] + [False] * (div)\n",
    "        for num in nums:\n",
    "            if num > div:\n",
    "                continue\n",
    "            for i in range(div, num - 1, -1):\n",
    "                if dp[i - num] == True:                    \n",
    "                    dp[i] = True\n",
    "                    if i == div:\n",
    "                        return True\n",
    "            #print(dp)\n",
    "        return dp[-1]\n",
    "        \n",
    "        "
   ]
  },
  {
   "cell_type": "code",
   "execution_count": 1,
   "metadata": {},
   "outputs": [
    {
     "data": {
      "text/plain": [
       "0.00390625"
      ]
     },
     "execution_count": 1,
     "metadata": {},
     "output_type": "execute_result"
    }
   ],
   "source": [
    "0.5 **8"
   ]
  },
  {
   "cell_type": "code",
   "execution_count": null,
   "metadata": {},
   "outputs": [],
   "source": []
  }
 ],
 "metadata": {
  "kernelspec": {
   "display_name": "Python 3",
   "language": "python",
   "name": "python3"
  },
  "language_info": {
   "codemirror_mode": {
    "name": "ipython",
    "version": 3
   },
   "file_extension": ".py",
   "mimetype": "text/x-python",
   "name": "python",
   "nbconvert_exporter": "python",
   "pygments_lexer": "ipython3",
   "version": "3.7.8"
  }
 },
 "nbformat": 4,
 "nbformat_minor": 4
}
