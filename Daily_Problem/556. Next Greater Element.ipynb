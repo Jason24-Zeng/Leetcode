{
 "cells": [
  {
   "cell_type": "markdown",
   "metadata": {},
   "source": [
    "Given a positive integer n, find the smallest integer which has exactly the same digits existing in the integer n and is greater in value than n. If no such positive integer exists, return -1.\n",
    "\n",
    "Note that the returned integer should fit in 32-bit integer, if there is a valid answer but it does not fit in 32-bit integer, return -1.\n",
    "\n",
    " \n",
    "\n",
    "Example 1:\n",
    "```\n",
    "Input: n = 12\n",
    "Output: 21\n",
    "```\n",
    "Example 2:\n",
    "```\n",
    "Input: n = 21\n",
    "Output: -1\n",
    "```\n",
    "\n",
    "Constraints:\n",
    "\n",
    "- 1 <= n <= 2^31 - 1"
   ]
  },
  {
   "cell_type": "code",
   "execution_count": 12,
   "metadata": {},
   "outputs": [],
   "source": [
    "class Solution:\n",
    "    def nextGreaterElement(self, n: int) -> int:\n",
    "        if n <= 10:\n",
    "            return -1\n",
    "        stored_n = list(str(n))\n",
    "        check_n = [int(stored_n.pop(-1))]\n",
    "        while stored_n:\n",
    "            new_digit = int(stored_n.pop(-1))\n",
    "            check_n.append(new_digit)\n",
    "            if new_digit < check_n[-2]:\n",
    "                index = 0\n",
    "                while check_n[index] <= new_digit:\n",
    "                    index += 1\n",
    "                stored_n.append(str(check_n.pop(index)))\n",
    "                stored_n += [str(i) for i in sorted(check_n)]\n",
    "                #print(stored_n)\n",
    "                new_num = int(\"\".join(stored_n))\n",
    "                return new_num if new_num < 2 ** 31 - 1 else - 1\n",
    "        return -1\n",
    "        "
   ]
  },
  {
   "cell_type": "code",
   "execution_count": 15,
   "metadata": {},
   "outputs": [
    {
     "name": "stdout",
     "output_type": "stream",
     "text": [
      "['9', '1', '9', '9', '9', '9', '9', '9', '9', '9']\n",
      "-1\n"
     ]
    }
   ],
   "source": [
    "if __name__ == '__main__':\n",
    "    n = 1999999999\n",
    "    solution = Solution()\n",
    "    print(solution.nextGreaterElement(n))"
   ]
  }
 ],
 "metadata": {
  "kernelspec": {
   "display_name": "Python 3",
   "language": "python",
   "name": "python3"
  },
  "language_info": {
   "codemirror_mode": {
    "name": "ipython",
    "version": 3
   },
   "file_extension": ".py",
   "mimetype": "text/x-python",
   "name": "python",
   "nbconvert_exporter": "python",
   "pygments_lexer": "ipython3",
   "version": "3.7.8"
  }
 },
 "nbformat": 4,
 "nbformat_minor": 4
}
