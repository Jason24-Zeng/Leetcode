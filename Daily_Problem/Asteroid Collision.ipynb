{
 "cells": [
  {
   "cell_type": "markdown",
   "metadata": {},
   "source": [
    "We are given an array asteroids of integers representing asteroids in a row.\n",
    "\n",
    "For each asteroid, the absolute value represents its size, and the sign represents its direction (positive meaning right, negative meaning left). Each asteroid moves at the same speed.\n",
    "\n",
    "Find out the state of the asteroids after all collisions. If two asteroids meet, the smaller one will explode. If both are the same size, both will explode. Two asteroids moving in the same direction will never meet.\n",
    "\n",
    " \n",
    "\n",
    "Example 1:\n",
    "```python\n",
    "Input: asteroids = [5,10,-5]\n",
    "Output: [5,10]\n",
    "Explanation: The 10 and -5 collide resulting in 10.  The 5 and 10 never collide.\n",
    "```\n",
    "Example 2:\n",
    "```python\n",
    "Input: asteroids = [8,-8]\n",
    "Output: []\n",
    "Explanation: The 8 and -8 collide exploding each other.\n",
    "```\n",
    "Example 3:\n",
    "```python\n",
    "Input: asteroids = [10,2,-5]\n",
    "Output: [10]\n",
    "Explanation: The 2 and -5 collide resulting in -5. The 10 and -5 collide resulting in 10.\n",
    "```\n",
    "Example 4:\n",
    "```python\n",
    "Input: asteroids = [-2,-1,1,2]\n",
    "Output: [-2,-1,1,2]\n",
    "Explanation: The -2 and -1 are moving left, while the 1 and 2 are moving right. Asteroids moving the same direction never meet, so no asteroids will meet each other.\n",
    "```\n",
    " \n",
    "\n",
    "Constraints:\n",
    "\n",
    "- 1 <= asteroids <= 104\n",
    "- -1000 <= asteroids[i] <= 1000\n",
    "- asteroids[i] != 0"
   ]
  },
  {
   "cell_type": "code",
   "execution_count": 7,
   "metadata": {},
   "outputs": [
    {
     "name": "stdout",
     "output_type": "stream",
     "text": [
      "0\n",
      "1\n",
      "2\n",
      "3\n",
      "10\n",
      "0\n",
      "1\n",
      "2\n",
      "3\n",
      "10\n",
      "0\n",
      "1\n",
      "2\n",
      "3\n",
      "10\n",
      "0\n",
      "1\n",
      "2\n",
      "3\n",
      "10\n",
      "0\n",
      "1\n",
      "2\n",
      "3\n",
      "10\n",
      "0\n",
      "1\n",
      "2\n",
      "3\n",
      "10\n",
      "0\n",
      "1\n",
      "2\n",
      "3\n",
      "10\n",
      "0\n",
      "1\n",
      "2\n",
      "3\n",
      "10\n",
      "0\n",
      "1\n",
      "2\n",
      "3\n",
      "10\n",
      "0\n",
      "1\n",
      "2\n",
      "3\n",
      "10\n"
     ]
    }
   ],
   "source": [
    "for j in range(10):\n",
    "    for i in range(9):\n",
    "        print(i)\n",
    "        if i == 3:\n",
    "            break\n",
    "    else:\n",
    "        continue\n",
    "    print(10)"
   ]
  },
  {
   "cell_type": "code",
   "execution_count": 52,
   "metadata": {},
   "outputs": [],
   "source": [
    "class Solution:\n",
    "    def asteroidCollision(self, asteroids):\n",
    "        pre_asteroid = []\n",
    "        while len(asteroids) > 0:\n",
    "            new_asteroid = asteroids.pop(0)\n",
    "            print(new_asteroid)\n",
    "            if pre_asteroid == []:\n",
    "                pre_asteroid.append(new_asteroid)\n",
    "            else:\n",
    "                while new_asteroid < 0 and len(pre_asteroid) != 0:#loop\n",
    "                    print(new_asteroid, pre_asteroid[-1])\n",
    "                    if pre_asteroid[-1] > 0:\n",
    "                        if pre_asteroid[-1] > abs(new_asteroid):\n",
    "                            break\n",
    "                        elif pre_asteroid[-1] == abs(new_asteroid):\n",
    "                            print(1)\n",
    "                            pre_asteroid.pop()\n",
    "                            break\n",
    "                        else:\n",
    "                            pre_asteroid.pop()\n",
    "                            if len(pre_asteroid) == 0:                                \n",
    "                                pre_asteroid.append(new_asteroid)\n",
    "                                break\n",
    "                    else:                        \n",
    "                        pre_asteroid.append(new_asteroid)\n",
    "                        break\n",
    "                else:                    \n",
    "                    if new_asteroid > 0:\n",
    "                        #print(new_asteroid)\n",
    "                        pre_asteroid.append(new_asteroid)\n",
    "                    continue\n",
    "        return pre_asteroid"
   ]
  },
  {
   "cell_type": "code",
   "execution_count": 56,
   "metadata": {},
   "outputs": [
    {
     "name": "stdout",
     "output_type": "stream",
     "text": [
      "10\n",
      "2\n",
      "-5\n",
      "-5 2\n",
      "-5 10\n",
      "[10]\n"
     ]
    }
   ],
   "source": [
    "if __name__ == '__main__':\n",
    "    asteroids = [10,2, -5]\n",
    "    solution = Solution()\n",
    "    print(solution.asteroidCollision(asteroids))"
   ]
  },
  {
   "cell_type": "code",
   "execution_count": 10,
   "metadata": {},
   "outputs": [
    {
     "ename": "IndexError",
     "evalue": "list index out of range",
     "output_type": "error",
     "traceback": [
      "\u001b[1;31m---------------------------------------------------------------------------\u001b[0m",
      "\u001b[1;31mIndexError\u001b[0m                                Traceback (most recent call last)",
      "\u001b[1;32m<ipython-input-10-a01440cf14bb>\u001b[0m in \u001b[0;36m<module>\u001b[1;34m\u001b[0m\n\u001b[1;32m----> 1\u001b[1;33m \u001b[0ma\u001b[0m\u001b[1;33m[\u001b[0m\u001b[1;33m-\u001b[0m\u001b[1;36m1\u001b[0m\u001b[1;33m]\u001b[0m\u001b[1;33m\u001b[0m\u001b[1;33m\u001b[0m\u001b[0m\n\u001b[0m",
      "\u001b[1;31mIndexError\u001b[0m: list index out of range"
     ]
    }
   ],
   "source": [
    "a[-1]"
   ]
  },
  {
   "cell_type": "code",
   "execution_count": 12,
   "metadata": {},
   "outputs": [
    {
     "ename": "IndexError",
     "evalue": "list index out of range",
     "output_type": "error",
     "traceback": [
      "\u001b[1;31m---------------------------------------------------------------------------\u001b[0m",
      "\u001b[1;31mIndexError\u001b[0m                                Traceback (most recent call last)",
      "\u001b[1;32m<ipython-input-12-0c307701283c>\u001b[0m in \u001b[0;36m<module>\u001b[1;34m\u001b[0m\n\u001b[1;32m----> 1\u001b[1;33m \u001b[0mlen\u001b[0m\u001b[1;33m(\u001b[0m\u001b[0ma\u001b[0m\u001b[1;33m)\u001b[0m \u001b[1;33m==\u001b[0m \u001b[1;36m0\u001b[0m \u001b[1;32mand\u001b[0m \u001b[0mlen\u001b[0m\u001b[1;33m(\u001b[0m\u001b[0ma\u001b[0m\u001b[1;33m)\u001b[0m \u001b[1;33m==\u001b[0m \u001b[1;36m0\u001b[0m  \u001b[1;32mand\u001b[0m \u001b[0ma\u001b[0m\u001b[1;33m[\u001b[0m\u001b[1;33m-\u001b[0m\u001b[1;36m1\u001b[0m\u001b[1;33m]\u001b[0m \u001b[1;33m<\u001b[0m \u001b[1;36m0\u001b[0m\u001b[1;33m\u001b[0m\u001b[1;33m\u001b[0m\u001b[0m\n\u001b[0m",
      "\u001b[1;31mIndexError\u001b[0m: list index out of range"
     ]
    }
   ],
   "source": [
    "len(a) == 0 and len(a) == 0  and a[-1] < 0"
   ]
  },
  {
   "cell_type": "code",
   "execution_count": null,
   "metadata": {},
   "outputs": [],
   "source": []
  },
  {
   "cell_type": "code",
   "execution_count": null,
   "metadata": {},
   "outputs": [],
   "source": []
  },
  {
   "cell_type": "code",
   "execution_count": null,
   "metadata": {},
   "outputs": [],
   "source": []
  },
  {
   "cell_type": "code",
   "execution_count": null,
   "metadata": {},
   "outputs": [],
   "source": []
  },
  {
   "cell_type": "code",
   "execution_count": null,
   "metadata": {},
   "outputs": [],
   "source": []
  }
 ],
 "metadata": {
  "kernelspec": {
   "display_name": "Python 3",
   "language": "python",
   "name": "python3"
  },
  "language_info": {
   "codemirror_mode": {
    "name": "ipython",
    "version": 3
   },
   "file_extension": ".py",
   "mimetype": "text/x-python",
   "name": "python",
   "nbconvert_exporter": "python",
   "pygments_lexer": "ipython3",
   "version": "3.6.12"
  }
 },
 "nbformat": 4,
 "nbformat_minor": 4
}
