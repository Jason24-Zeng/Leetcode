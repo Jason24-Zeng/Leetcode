{
 "cells": [
  {
   "cell_type": "markdown",
   "metadata": {},
   "source": [
    "You have an initial power of P, an initial score of 0, and a bag of tokens where tokens[i] is the value of the ith token (0-indexed).\n",
    "\n",
    "Your goal is to maximize your total score by potentially playing each token in one of two ways:\n",
    "\n",
    "If your current power is at least tokens[i], you may play the ith token face up, losing tokens[i] power and gaining 1 score.\n",
    "If your current score is at least 1, you may play the ith token face down, gaining tokens[i] power and losing 1 score.\n",
    "Each token may be played at most once and in any order. You do not have to play all the tokens.\n",
    "\n",
    "Return the largest possible score you can achieve after playing any number of tokens.\n",
    "\n",
    " \n",
    "\n",
    "Example 1:\n",
    "```\n",
    "Input: tokens = [100], P = 50\n",
    "Output: 0\n",
    "Explanation: Playing the only token in the bag is impossible because you either have too little power or too little score.\n",
    "```\n",
    "Example 2:\n",
    "```\n",
    "Input: tokens = [100,200], P = 150\n",
    "Output: 1\n",
    "Explanation: Play the 0th token (100) face up, your power becomes 50 and score becomes 1.\n",
    "There is no need to play the 1st token since you cannot play it face up to add to your score.\n",
    "```\n",
    "Example 3:\n",
    "```\n",
    "Input: tokens = [100,200,300,400], P = 200\n",
    "Output: 2\n",
    "```\n",
    "Explanation: Play the tokens in this order to get a score of 2:\n",
    "1. Play the 0th token (100) face up, your power becomes 100 and score becomes 1.\n",
    "2. Play the 3rd token (400) face down, your power becomes 500 and score becomes 0.\n",
    "3. Play the 1st token (200) face up, your power becomes 300 and score becomes 1.\n",
    "4. Play the 2nd token (300) face up, your power becomes 0 and score becomes 2.\n",
    " \n",
    "\n",
    "Constraints:\n",
    "\n",
    "- 0 <= tokens.length <= 1000\n",
    "- 0 <= tokens[i], P < 104"
   ]
  },
  {
   "cell_type": "code",
   "execution_count": 1,
   "metadata": {},
   "outputs": [],
   "source": [
    "class Solution:\n",
    "    def bagOfTokensScore(self, tokens, P: int) -> int:\n",
    "        tokens.sort()\n",
    "        start, end = 0, len(tokens) - 1\n",
    "        max_count, count = 0, 0\n",
    "        while start < end:\n",
    "            if P >= tokens[start]:\n",
    "                P -= tokens[start]\n",
    "                count += 1\n",
    "                start += 1\n",
    "            elif P <= tokens[start] and count > 0:\n",
    "                P += tokens[end]\n",
    "                count -= 1\n",
    "                end -= 1\n",
    "            else:\n",
    "                break\n",
    "        if start == end and P <= tokens[start]:\n",
    "            count += 1\n",
    "        return count\n",
    "                "
   ]
  },
  {
   "cell_type": "code",
   "execution_count": 12,
   "metadata": {},
   "outputs": [],
   "source": [
    "releaseTimes = [9,29,49,50]\n",
    "keysPressed = \"cbcd\"\n",
    "releaseDuration = [releaseTimes[0]] + [(releaseTimes[i] - releaseTimes[i-1]) for i in range(1, len(releaseTimes))]"
   ]
  },
  {
   "cell_type": "code",
   "execution_count": 13,
   "metadata": {},
   "outputs": [
    {
     "name": "stdout",
     "output_type": "stream",
     "text": [
      "[9, 20, 20, 1]\n"
     ]
    }
   ],
   "source": [
    "print(releaseDuration)"
   ]
  },
  {
   "cell_type": "code",
   "execution_count": null,
   "metadata": {},
   "outputs": [],
   "source": []
  },
  {
   "cell_type": "code",
   "execution_count": 17,
   "metadata": {},
   "outputs": [
    {
     "name": "stdout",
     "output_type": "stream",
     "text": [
      "{9: 'c', 20: 'c', 1: 'd'}\n"
     ]
    },
    {
     "data": {
      "text/plain": [
       "20"
      ]
     },
     "execution_count": 17,
     "metadata": {},
     "output_type": "execute_result"
    }
   ],
   "source": [
    "list1 = {}\n",
    "for i, st in zip(releaseDuration, keysPressed):\n",
    "    list1[i] = st\n",
    "print(list1)\n",
    "max(list1)   "
   ]
  },
  {
   "cell_type": "code",
   "execution_count": 15,
   "metadata": {},
   "outputs": [
    {
     "data": {
      "text/plain": [
       "True"
      ]
     },
     "execution_count": 15,
     "metadata": {},
     "output_type": "execute_result"
    }
   ],
   "source": [
    "'c' > 'b'"
   ]
  },
  {
   "cell_type": "code",
   "execution_count": 18,
   "metadata": {},
   "outputs": [],
   "source": [
    "nums = [-12,-9,-3,-12,-6,15,20,-25,-20,-15,-10]"
   ]
  },
  {
   "cell_type": "code",
   "execution_count": 21,
   "metadata": {},
   "outputs": [
    {
     "data": {
      "text/plain": [
       "[-12, -9, -3, -12, -6, 15, 20, -25, -20, -15, -10]"
      ]
     },
     "execution_count": 21,
     "metadata": {},
     "output_type": "execute_result"
    }
   ],
   "source": [
    "nums[0:len(nums)]"
   ]
  },
  {
   "cell_type": "code",
   "execution_count": 24,
   "metadata": {},
   "outputs": [
    {
     "data": {
      "text/plain": [
       "3"
      ]
     },
     "execution_count": 24,
     "metadata": {},
     "output_type": "execute_result"
    }
   ],
   "source": [
    "set1 = set([-2,3,-4,3])\n",
    "len(set1)"
   ]
  },
  {
   "cell_type": "code",
   "execution_count": 29,
   "metadata": {},
   "outputs": [],
   "source": [
    "heights = [[1,2,1,1,1],[1,2,1,2,1],[1,2,1,2,1],[1,2,1,2,1],[1,1,1,2,1]]\n",
    "LRmatrix = [[abs(heights[j][i] - heights[j][i-1]) for i in range(1, len(heights[0]))] for j in range(len(heights))]\n",
    "UDmatrix = [[abs(heights[j][i] - heights[j-1][i]) for i in range(len(heights[0]))] for j in range(1, len(heights))]"
   ]
  },
  {
   "cell_type": "code",
   "execution_count": 30,
   "metadata": {},
   "outputs": [
    {
     "data": {
      "text/plain": [
       "[[0, 0, 0, 1, 0], [0, 0, 0, 0, 0], [0, 0, 0, 0, 0], [0, 1, 0, 0, 0]]"
      ]
     },
     "execution_count": 30,
     "metadata": {},
     "output_type": "execute_result"
    }
   ],
   "source": [
    "UDmatrix"
   ]
  },
  {
   "cell_type": "code",
   "execution_count": null,
   "metadata": {},
   "outputs": [],
   "source": [
    "LRmatrix = [[abs(heights[j][i] - heights[j][i-1]) for i in range(1, len(heights[0]))] for j in range(len(heights))]\n",
    "        UDmatrix = [[abs(heights[j][i] - heights[j-1][i]) for i in range(len(heights[0]))] for j in range(1, len(heights))]\n",
    "        check = [[False for i in range(len(heights[0]))] for j in range(len(heights))]\n",
    "        width, height = len(heights[0]), len(height)\n",
    "        def Effort(i = 0, j = 0):# Direc: 1- left\n",
    "            check[i][j] = True\n",
    "            if i - 1 < 0:\n",
    "                effort1 = float('inf')  \n",
    "            else: \n",
    "                max(LRmatrix[i-1][j], Effort(i-1, j))\n",
    "            effort2 = float('inf') if i + 1 > height - 1 else max(LRmatrix[i][j], Effort(i+1, j))    \n",
    "            effort3 = float('inf') if j - 1 < 0 else max(UDmatrix[i][j-1], Effort(i, j-1))\n",
    "            effort4 = float('inf') if j + 1 > width - 1 else max(UDmatrix[i][j+1], Effort(i, j+1))\n",
    "            return min(effort1, effort2, effort3, effort4)\n",
    "        "
   ]
  },
  {
   "cell_type": "code",
   "execution_count": 38,
   "metadata": {},
   "outputs": [
    {
     "ename": "ModuleNotFoundError",
     "evalue": "No module named 'deque'",
     "output_type": "error",
     "traceback": [
      "\u001b[1;31m---------------------------------------------------------------------------\u001b[0m",
      "\u001b[1;31mModuleNotFoundError\u001b[0m                       Traceback (most recent call last)",
      "\u001b[1;32m<ipython-input-38-ed71ecc4d45b>\u001b[0m in \u001b[0;36m<module>\u001b[1;34m\u001b[0m\n\u001b[0;32m      1\u001b[0m \u001b[1;31m# BFS\u001b[0m\u001b[1;33m\u001b[0m\u001b[1;33m\u001b[0m\u001b[1;33m\u001b[0m\u001b[0m\n\u001b[1;32m----> 2\u001b[1;33m \u001b[1;32mimport\u001b[0m \u001b[0mdeque\u001b[0m\u001b[1;33m\u001b[0m\u001b[1;33m\u001b[0m\u001b[0m\n\u001b[0m\u001b[0;32m      3\u001b[0m \u001b[1;32mclass\u001b[0m \u001b[0mSolution\u001b[0m\u001b[1;33m:\u001b[0m\u001b[1;33m\u001b[0m\u001b[1;33m\u001b[0m\u001b[0m\n\u001b[0;32m      4\u001b[0m     \u001b[1;32mdef\u001b[0m \u001b[0mminimumEffortPath\u001b[0m\u001b[1;33m(\u001b[0m\u001b[0mself\u001b[0m\u001b[1;33m,\u001b[0m \u001b[0mheights\u001b[0m\u001b[1;33m)\u001b[0m \u001b[1;33m->\u001b[0m \u001b[0mint\u001b[0m\u001b[1;33m:\u001b[0m\u001b[1;33m\u001b[0m\u001b[1;33m\u001b[0m\u001b[0m\n\u001b[0;32m      5\u001b[0m         \u001b[0mheight\u001b[0m\u001b[1;33m,\u001b[0m \u001b[0mwidth\u001b[0m \u001b[1;33m=\u001b[0m \u001b[0mlen\u001b[0m\u001b[1;33m(\u001b[0m\u001b[0mheights\u001b[0m\u001b[1;33m)\u001b[0m\u001b[1;33m,\u001b[0m \u001b[0mlen\u001b[0m\u001b[1;33m(\u001b[0m\u001b[0mheights\u001b[0m\u001b[1;33m[\u001b[0m\u001b[1;36m0\u001b[0m\u001b[1;33m]\u001b[0m\u001b[1;33m)\u001b[0m\u001b[1;33m\u001b[0m\u001b[1;33m\u001b[0m\u001b[0m\n",
      "\u001b[1;31mModuleNotFoundError\u001b[0m: No module named 'deque'"
     ]
    }
   ],
   "source": [
    "# BFS\n",
    "import deque\n",
    "class Solution:\n",
    "    def minimumEffortPath(self, heights) -> int:\n",
    "        height, width = len(heights), len(heights[0])\n",
    "        \n",
    "        check = [[float('inf') for i in range(width)] for j in range(height)]\n",
    "        check[-1][-1] = 0\n",
    "        stack = deque(())\n",
    "        stack.append((height, width))\n",
    "        direction = [(0,1),(0,-1),(1,0),(-1,0)]\n",
    "        while stack:\n",
    "            i ,j = stack.pop()\n",
    "            for xOff, yOff in direction:\n",
    "                if i + xOff < 0 or i + xOff >= height or j + yOff < 0 or j +yOff >= width:\n",
    "                    continue\n",
    "                if check[i+xOff][j+yOff] > abs(heights[i][j] - heights[i+xOff][j+yOff])\n",
    "                    if check[i+xOff][j+yOff] > max(abs(heights[i][j] - heights[i+xOff][j+yOff]), check[i][j]):\n",
    "                        check[i+xOff][j+yOff] = max(abs(heights[i][j] - heights[i+xOff][j+yOff]), check[i][j])\n",
    "                        stack.append((i+xOff, j + yOff))\n",
    "        return check[0][0]\n",
    "                    "
   ]
  },
  {
   "cell_type": "code",
   "execution_count": 37,
   "metadata": {},
   "outputs": [
    {
     "ename": "NameError",
     "evalue": "name 'deque' is not defined",
     "output_type": "error",
     "traceback": [
      "\u001b[1;31m---------------------------------------------------------------------------\u001b[0m",
      "\u001b[1;31mNameError\u001b[0m                                 Traceback (most recent call last)",
      "\u001b[1;32m<ipython-input-37-2ae5ca3be9eb>\u001b[0m in \u001b[0;36m<module>\u001b[1;34m\u001b[0m\n\u001b[0;32m      2\u001b[0m     \u001b[0msolution\u001b[0m \u001b[1;33m=\u001b[0m \u001b[0mSolution\u001b[0m\u001b[1;33m(\u001b[0m\u001b[1;33m)\u001b[0m\u001b[1;33m\u001b[0m\u001b[1;33m\u001b[0m\u001b[0m\n\u001b[0;32m      3\u001b[0m     \u001b[0mheights\u001b[0m \u001b[1;33m=\u001b[0m \u001b[1;33m[\u001b[0m\u001b[1;33m[\u001b[0m\u001b[1;36m1\u001b[0m\u001b[1;33m,\u001b[0m\u001b[1;36m2\u001b[0m\u001b[1;33m,\u001b[0m\u001b[1;36m2\u001b[0m\u001b[1;33m]\u001b[0m\u001b[1;33m,\u001b[0m\u001b[1;33m[\u001b[0m\u001b[1;36m3\u001b[0m\u001b[1;33m,\u001b[0m\u001b[1;36m8\u001b[0m\u001b[1;33m,\u001b[0m\u001b[1;36m2\u001b[0m\u001b[1;33m]\u001b[0m\u001b[1;33m,\u001b[0m\u001b[1;33m[\u001b[0m\u001b[1;36m5\u001b[0m\u001b[1;33m,\u001b[0m\u001b[1;36m3\u001b[0m\u001b[1;33m,\u001b[0m\u001b[1;36m5\u001b[0m\u001b[1;33m]\u001b[0m\u001b[1;33m]\u001b[0m\u001b[1;33m\u001b[0m\u001b[1;33m\u001b[0m\u001b[0m\n\u001b[1;32m----> 4\u001b[1;33m     \u001b[0mprint\u001b[0m\u001b[1;33m(\u001b[0m\u001b[0msolution\u001b[0m\u001b[1;33m.\u001b[0m\u001b[0mminimumEffortPath\u001b[0m\u001b[1;33m(\u001b[0m\u001b[0mheights\u001b[0m\u001b[1;33m)\u001b[0m\u001b[1;33m)\u001b[0m\u001b[1;33m\u001b[0m\u001b[1;33m\u001b[0m\u001b[0m\n\u001b[0m",
      "\u001b[1;32m<ipython-input-36-03282f6ee497>\u001b[0m in \u001b[0;36mminimumEffortPath\u001b[1;34m(self, heights)\u001b[0m\n\u001b[0;32m      5\u001b[0m \u001b[1;33m\u001b[0m\u001b[0m\n\u001b[0;32m      6\u001b[0m         \u001b[0mcheck\u001b[0m \u001b[1;33m=\u001b[0m \u001b[1;33m[\u001b[0m\u001b[1;33m[\u001b[0m\u001b[0mfloat\u001b[0m\u001b[1;33m(\u001b[0m\u001b[1;34m'inf'\u001b[0m\u001b[1;33m)\u001b[0m \u001b[1;32mfor\u001b[0m \u001b[0mi\u001b[0m \u001b[1;32min\u001b[0m \u001b[0mrange\u001b[0m\u001b[1;33m(\u001b[0m\u001b[0mwidth\u001b[0m\u001b[1;33m)\u001b[0m\u001b[1;33m]\u001b[0m \u001b[1;32mfor\u001b[0m \u001b[0mj\u001b[0m \u001b[1;32min\u001b[0m \u001b[0mrange\u001b[0m\u001b[1;33m(\u001b[0m\u001b[0mheight\u001b[0m\u001b[1;33m)\u001b[0m\u001b[1;33m]\u001b[0m\u001b[1;33m\u001b[0m\u001b[1;33m\u001b[0m\u001b[0m\n\u001b[1;32m----> 7\u001b[1;33m         \u001b[0mstack\u001b[0m \u001b[1;33m=\u001b[0m \u001b[0mdeque\u001b[0m\u001b[1;33m(\u001b[0m\u001b[1;33m(\u001b[0m\u001b[1;33m)\u001b[0m\u001b[1;33m)\u001b[0m\u001b[1;33m\u001b[0m\u001b[1;33m\u001b[0m\u001b[0m\n\u001b[0m\u001b[0;32m      8\u001b[0m         \u001b[0mstack\u001b[0m\u001b[1;33m.\u001b[0m\u001b[0mappend\u001b[0m\u001b[1;33m(\u001b[0m\u001b[1;33m(\u001b[0m\u001b[0mheight\u001b[0m\u001b[1;33m,\u001b[0m \u001b[0mwidth\u001b[0m\u001b[1;33m)\u001b[0m\u001b[1;33m)\u001b[0m\u001b[1;33m\u001b[0m\u001b[1;33m\u001b[0m\u001b[0m\n\u001b[0;32m      9\u001b[0m         \u001b[0mdirection\u001b[0m \u001b[1;33m=\u001b[0m \u001b[1;33m[\u001b[0m\u001b[1;33m(\u001b[0m\u001b[1;36m0\u001b[0m\u001b[1;33m,\u001b[0m\u001b[1;36m1\u001b[0m\u001b[1;33m)\u001b[0m\u001b[1;33m,\u001b[0m\u001b[1;33m(\u001b[0m\u001b[1;36m0\u001b[0m\u001b[1;33m,\u001b[0m\u001b[1;33m-\u001b[0m\u001b[1;36m1\u001b[0m\u001b[1;33m)\u001b[0m\u001b[1;33m,\u001b[0m\u001b[1;33m(\u001b[0m\u001b[1;36m1\u001b[0m\u001b[1;33m,\u001b[0m\u001b[1;36m0\u001b[0m\u001b[1;33m)\u001b[0m\u001b[1;33m,\u001b[0m\u001b[1;33m(\u001b[0m\u001b[1;33m-\u001b[0m\u001b[1;36m1\u001b[0m\u001b[1;33m,\u001b[0m\u001b[1;36m0\u001b[0m\u001b[1;33m)\u001b[0m\u001b[1;33m]\u001b[0m\u001b[1;33m\u001b[0m\u001b[1;33m\u001b[0m\u001b[0m\n",
      "\u001b[1;31mNameError\u001b[0m: name 'deque' is not defined"
     ]
    }
   ],
   "source": [
    "if __name__ == '__main__':\n",
    "    solution = Solution()\n",
    "    heights = [[1,2,2],[3,8,2],[5,3,5]]\n",
    "    print(solution.minimumEffortPath(heights))"
   ]
  },
  {
   "cell_type": "code",
   "execution_count": 33,
   "metadata": {},
   "outputs": [],
   "source": [
    "q = [(1,1), (2,1)]\n",
    "i, j = q.pop()"
   ]
  },
  {
   "cell_type": "markdown",
   "metadata": {},
   "source": [
    "class Solution:\n",
    "    def minimumEffortPath(self, heights: List[List[int]]) -> int:\n",
    "        check = [[False for i in range(len(heights[0]))] for j in range(len(heights))]\n",
    "        def Effort(starti, startj, endi, endj):\n",
    "            if check[starti][startj] == True:\n",
    "                return float('inf')\n",
    "            if starti < 0 or starti >= len(heights) - 1 or startj < 0 or startj >= len(heights[0]) - 1:\n",
    "                return float('inf')\n",
    "            check[starti][startj] = True\n",
    "            if starti > 0:\n",
    "                left = max(abs(heights[starti][startj] - heights[starti-1][startj]), Effort(starti - 1, startj, endi, endj))\n",
    "            else: \n",
    "                left = float('inf')\n",
    "            if starti < len(heights) - 1:\n",
    "                right = max(abs(heights[starti][startj] - heights[starti+1][startj]), Effort(starti + 1, startj, endi, endj))\n",
    "            else: \n",
    "                right = float('inf')\n",
    "            if startj > 0:\n",
    "                up = max(abs(heights[starti][startj] - heights[starti][startj-1]), Effort(starti, startj-1, endi, endj))\n",
    "            else: \n",
    "                up = float('inf')\n",
    "            if startj < len(heights[0])-1:\n",
    "                down = max(abs(heights[starti][startj] - heights[starti][startj+1]), Effort(starti, startj+1, endi, endj))\n",
    "            else: \n",
    "                down = float('inf')\n",
    "            return min(left, right, down, up)\n",
    "        return Effort(0,0,len(heights), len(heights[0]))"
   ]
  }
 ],
 "metadata": {
  "kernelspec": {
   "display_name": "Python 3",
   "language": "python",
   "name": "python3"
  },
  "language_info": {
   "codemirror_mode": {
    "name": "ipython",
    "version": 3
   },
   "file_extension": ".py",
   "mimetype": "text/x-python",
   "name": "python",
   "nbconvert_exporter": "python",
   "pygments_lexer": "ipython3",
   "version": "3.6.12"
  }
 },
 "nbformat": 4,
 "nbformat_minor": 4
}
