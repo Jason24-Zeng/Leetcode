{
 "cells": [
  {
   "cell_type": "markdown",
   "metadata": {},
   "source": [
    "Suppose you have n integers from 1 to n. We define a beautiful arrangement as an array that is constructed by these n numbers successfully if one of the following is true for the ith position (1 <= i <= n) in this array:\n",
    "\n",
    "- The number at the ith position is divisible by i.\n",
    "- i is divisible by the number at the ith position.\n",
    "- Given an integer n, return the number of the beautiful arrangements that you can construct."
   ]
  },
  {
   "cell_type": "code",
   "execution_count": null,
   "metadata": {},
   "outputs": [],
   "source": [
    "class Solution:\n",
    "    def countArrangement(self, n: int) -> int:\n",
    "        # self.res = 0\n",
    "        # def dfs(n,remain):\n",
    "        #     if n==N+1:\n",
    "        #         self.res+=1\n",
    "        #     else:\n",
    "        #         for i in range(len(remain)):                 \n",
    "        #             if remain[i]%n==0 or n%remain[i]==0:\n",
    "        #                 dfs(n+1,remain[:i]+remain[i+1:])\n",
    "        # dfs(1,[i+1 for i in range(N)])\n",
    "        # return self.res\n",
    "        self.count = 0\n",
    "        \n",
    "        def dfs(position, not_visited):\n",
    "            #nonlocal count\n",
    "            if position == n + 1:\n",
    "                self.count += 1\n",
    "            else:\n",
    "            \n",
    "                for i in range(len(not_visited)):\n",
    "                    if (position)%not_visited[i]==0 or not_visited[i]%(position) == 0:                    \n",
    "                        dfs(position + 1, not_visited[:i] + not_visited[i+1:])\n",
    "        dfs(1, [i for i in range(1, n + 1)])         \n",
    "        return self.count\n",
    "#         count = 0\n",
    "#         stack = [(1, [i for i in range(1, n + 1)])]\n",
    "#         while stack:\n",
    "            \n",
    "#             position, not_visited = stack.pop()\n",
    "#             if position == n + 1:\n",
    "#                 count += 1\n",
    "#                 continue\n",
    "#             for i in range(len(not_visited)):\n",
    "#                 if (position)%not_visited[i]==0 or not_visited[i]%(position) == 0:                    \n",
    "#                     stack.append((position + 1, not_visited[:i] + not_visited[i+1:]))               \n",
    "#         return count\n",
    "\n",
    "                \n",
    "                    \n",
    "        \n",
    "    "
   ]
  },
  {
   "cell_type": "code",
   "execution_count": null,
   "metadata": {},
   "outputs": [],
   "source": []
  }
 ],
 "metadata": {
  "kernelspec": {
   "display_name": "Python 3",
   "language": "python",
   "name": "python3"
  },
  "language_info": {
   "codemirror_mode": {
    "name": "ipython",
    "version": 3
   },
   "file_extension": ".py",
   "mimetype": "text/x-python",
   "name": "python",
   "nbconvert_exporter": "python",
   "pygments_lexer": "ipython3",
   "version": "3.6.11"
  }
 },
 "nbformat": 4,
 "nbformat_minor": 4
}
