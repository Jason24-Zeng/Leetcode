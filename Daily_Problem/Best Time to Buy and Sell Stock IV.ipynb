{
 "cells": [
  {
   "cell_type": "markdown",
   "metadata": {},
   "source": [
    "You are given an integer array prices where prices[i] is the price of a given stock on the ith day.\n",
    "\n",
    "Design an algorithm to find the maximum profit. You may complete at most k transactions.\n",
    "\n",
    "Notice that you may not engage in multiple transactions simultaneously (i.e., you must sell the stock before you buy again).\n",
    "\n",
    " \n",
    "\n",
    "Example 1:\n",
    "```python\n",
    "Input: k = 2, prices = [2,4,1]\n",
    "Output: 2\n",
    "Explanation: Buy on day 1 (price = 2) and sell on day 2 (price = 4), profit = 4-2 = 2.\n",
    "```\n",
    "Example 2:\n",
    "```python\n",
    "Input: k = 2, prices = [3,2,6,5,0,3]\n",
    "Output: 7\n",
    "Explanation: Buy on day 2 (price = 2) and sell on day 3 (price = 6), profit = 6-2 = 4. Then buy on day 5 (price = 0) and sell on day 6 (price = 3), profit = 3-0 = 3.\n",
    "```\n",
    " "
   ]
  },
  {
   "cell_type": "code",
   "execution_count": 48,
   "metadata": {},
   "outputs": [],
   "source": [
    "# 此题难度hard\n",
    "class Solution:\n",
    "    def maxProfit(self, k: int, prices: List[int]) -> int:\n",
    "        lenp = len(prices)\n",
    "        if lenp == 0 or k == 0:\n",
    "            return 0\n",
    "        if 2*k > lenp:\n",
    "            profit = 0\n",
    "            for i in range(lenp-1):\n",
    "                if prices[i] < prices[i+1]:\n",
    "                    profit += prices[i+1] - prices[i]\n",
    "            return profit\n",
    "        dp = [[[-math.inf]*2 for _ in range(k+1)] for _ in range(lenp)]\n",
    "        \n",
    "        dp[0][0][0] = 0\n",
    "        dp[0][1][1] = -prices[0]\n",
    "        for i in range(1, lenp):\n",
    "            for j in range(k+1):\n",
    "                dp[i][j][0] = max(dp[i-1][j][0], dp[i-1][j][1] + prices[i]) # 第一项是上个时间段没有持有股票，第二项是上个时间段持有，现在卖出，也就是现在没有了\n",
    "                if j > 0:\n",
    "                    dp[i][j][1] = max(dp[i-1][j-1][0] - prices[i], dp[i-1][j][1])\n",
    "        return max(dp[lenp-1][j][0] for j in range(k+1))"
   ]
  },
  {
   "cell_type": "code",
   "execution_count": 35,
   "metadata": {},
   "outputs": [],
   "source": [
    "class Solution:\n",
    "    def maxProfit(self, k: int, prices) -> int:\n",
    "        import math\n",
    "        n = len(prices)\n",
    "\n",
    "        # solve special cases\n",
    "        if not prices or k==0:\n",
    "            return 0\n",
    "\n",
    "        if 2*k > n:\n",
    "            res = 0\n",
    "            for i, j in zip(prices[1:], prices[:-1]):\n",
    "                res += max(0, i - j)\n",
    "            return res\n",
    "\n",
    "        # dp[i][used_k][ishold] = balance\n",
    "        # ishold: 0 nothold, 1 hold\n",
    "        dp = [[[-math.inf]*2 for _ in range(k+1)] for _ in range(n)]\n",
    "\n",
    "        # set starting value\n",
    "        dp[0][0][0] = 0\n",
    "        dp[0][1][1] = -prices[0]\n",
    "\n",
    "#         # fill the array\n",
    "#         for i in range(1, n):\n",
    "#             for j in range(k+1):\n",
    "#                 # transition equation\n",
    "#                 dp[i][j][0] = max(dp[i-1][j][0], dp[i-1][j][1]+prices[i])\n",
    "#                 # you can't hold stock without any transaction\n",
    "#                 if j > 0:\n",
    "#                     dp[i][j][1] = max(dp[i-1][j][1], dp[i-1][j-1][0]-prices[i])\n",
    "        for i in range(1, n):\n",
    "            for j in range(k+1):\n",
    "                dp[i][j][0] = max(dp[i-1][j][0], dp[i-1][j][1] + prices[i]) # 第一项是上个时间段没有持有股票，第二项是上个时间段持有，现在卖出，也就是现在没有了\n",
    "                if j > 0:\n",
    "                    dp[i][j][1] = max(dp[i-1][j-1][0] - prices[i], dp[i-1][j][1])\n",
    "\n",
    "        res = max(dp[n-1][j][0] for j in range(k+1))\n",
    "        return res"
   ]
  },
  {
   "cell_type": "code",
   "execution_count": 49,
   "metadata": {},
   "outputs": [
    {
     "name": "stdout",
     "output_type": "stream",
     "text": [
      "[[[0, -inf], [-inf, -2], [-inf, -inf]], [[0, -inf], [2, -2], [-inf, -inf]], [[0, -inf], [2, -1], [-inf, 1]]]\n",
      "2\n"
     ]
    }
   ],
   "source": [
    "if __name__ == '__main__':\n",
    "    solution = Solution()\n",
    "    k = 2\n",
    "    prices = [2,4,1]\n",
    "    #prices= [3,3,5,0,0,3,1,4]\n",
    "    print(solution.maxProfit(k, prices))"
   ]
  },
  {
   "cell_type": "code",
   "execution_count": 53,
   "metadata": {},
   "outputs": [
    {
     "name": "stdout",
     "output_type": "stream",
     "text": [
      "4 2\n",
      "3 4\n",
      "1 3\n",
      "5 1\n"
     ]
    }
   ],
   "source": [
    "prices = [2,4,3,1,5]\n",
    "for i, j in zip(prices[1:], prices[:-1]):\n",
    "    print(i, j)"
   ]
  },
  {
   "cell_type": "code",
   "execution_count": 2,
   "metadata": {},
   "outputs": [
    {
     "name": "stdout",
     "output_type": "stream",
     "text": [
      "[[[0, 0, 0, 0], [0, 0, 0, 0], [0, 0, 0, 0]], [[0, 0, 0, 0], [0, 0, 0, 0], [0, 0, 0, 0]]]\n"
     ]
    }
   ],
   "source": [
    "print(dp)"
   ]
  },
  {
   "cell_type": "code",
   "execution_count": null,
   "metadata": {},
   "outputs": [],
   "source": []
  },
  {
   "cell_type": "code",
   "execution_count": null,
   "metadata": {},
   "outputs": [],
   "source": []
  },
  {
   "cell_type": "code",
   "execution_count": null,
   "metadata": {},
   "outputs": [],
   "source": []
  },
  {
   "cell_type": "code",
   "execution_count": null,
   "metadata": {},
   "outputs": [],
   "source": []
  },
  {
   "cell_type": "code",
   "execution_count": null,
   "metadata": {},
   "outputs": [],
   "source": []
  },
  {
   "cell_type": "code",
   "execution_count": null,
   "metadata": {},
   "outputs": [],
   "source": []
  },
  {
   "cell_type": "code",
   "execution_count": null,
   "metadata": {},
   "outputs": [],
   "source": []
  }
 ],
 "metadata": {
  "kernelspec": {
   "display_name": "Python 3",
   "language": "python",
   "name": "python3"
  },
  "language_info": {
   "codemirror_mode": {
    "name": "ipython",
    "version": 3
   },
   "file_extension": ".py",
   "mimetype": "text/x-python",
   "name": "python",
   "nbconvert_exporter": "python",
   "pygments_lexer": "ipython3",
   "version": "3.6.12"
  }
 },
 "nbformat": 4,
 "nbformat_minor": 4
}
