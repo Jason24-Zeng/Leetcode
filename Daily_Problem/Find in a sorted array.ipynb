{
 "cells": [
  {
   "cell_type": "markdown",
   "metadata": {},
   "source": [
    "Given an integer array sorted in ascending order, write a function to search target in nums.  If target exists, then return its index, otherwise return -1. However, the array size is unknown to you. You may only access the array using an ArrayReader interface, where ArrayReader.get(k) returns the element of the array at index k (0-indexed).\n",
    "\n",
    "You may assume all integers in the array are less than 10000, and if you access the array out of bounds, ArrayReader.get will return 2147483647.\n",
    "\n",
    " \n",
    "\n",
    "Example 1:\n",
    "```python\n",
    "Input: array = [-1,0,3,5,9,12], target = 9\n",
    "Output: 4\n",
    "Explanation: 9 exists in nums and its index is 4\n",
    "```\n",
    "Example 2:\n",
    "```python\n",
    "Input: array = [-1,0,3,5,9,12], target = 2\n",
    "Output: -1\n",
    "Explanation: 2 does not exist in nums so return -1\n",
    "``` \n",
    "\n",
    "Constraints:\n",
    "\n",
    "- You may assume that all elements in the array are unique.\n",
    "- The value of each element in the array will be in the range [-9999, 9999].\n",
    "- The length of the array will be in the range [1, 10^4]."
   ]
  },
  {
   "cell_type": "code",
   "execution_count": null,
   "metadata": {},
   "outputs": [],
   "source": [
    "# \"\"\"\n",
    "# This is ArrayReader's API interface.\n",
    "# You should not implement it, or speculate about its implementation\n",
    "# \"\"\"\n",
    "#class ArrayReader:\n",
    "#    def get(self, index: int) -> int:\n",
    "\n",
    "class Solution:\n",
    "    def search(self, reader, target):\n",
    "        \"\"\"\n",
    "        :type reader: ArrayReader\n",
    "        :type target: int\n",
    "        :rtype: int\n",
    "        \"\"\"\n",
    "        index = 1\n",
    "        if reader.get(0) == target:\n",
    "            return 0\n",
    "        while reader.get(index) !=  2147483647 and reader.get(index) <= target:\n",
    "            index <<= 1\n",
    "        return binary_search(index>>1, index)\n",
    "        def binary_search(low, high):\n",
    "            if low == high:\n",
    "                return -1\n",
    "            mid = int(low + (high - low)/2)\n",
    "            val = reader.get(mid)\n",
    "            if val == target:\n",
    "                return mid\n",
    "            elif val > target:\n",
    "                return binary(low, mid-1)\n",
    "            else:\n",
    "                return binary(mid+1, high)"
   ]
  },
  {
   "cell_type": "code",
   "execution_count": 7,
   "metadata": {},
   "outputs": [
    {
     "name": "stdout",
     "output_type": "stream",
     "text": [
      "0\n",
      "0\n",
      "1\n",
      "2\n",
      "2\n",
      "4\n",
      "3\n",
      "6\n",
      "4\n",
      "8\n"
     ]
    }
   ],
   "source": [
    "\n",
    "for i in range(5):\n",
    "    i <<= 1\n",
    "    #print(i)\n",
    "    print(i>>1)\n",
    "    print(i)"
   ]
  },
  {
   "cell_type": "code",
   "execution_count": null,
   "metadata": {},
   "outputs": [],
   "source": [
    "# \"\"\"\n",
    "# This is ArrayReader's API interface.\n",
    "# You should not implement it, or speculate about its implementation\n",
    "# \"\"\"\n",
    "#class ArrayReader:\n",
    "#    def get(self, index: int) -> int:\n",
    "\n",
    "class Solution:\n",
    "    def search(self, reader, target):\n",
    "        \"\"\"\n",
    "        :type reader: ArrayReader\n",
    "        :type target: int\n",
    "        :rtype: int\n",
    "        \"\"\"\n",
    "        def search_k(k = 0):\n",
    "            if reader.get(k) > target or reader.get(k) ==  2147483647:\n",
    "                return -1\n",
    "            elif reader.get(k) == target:\n",
    "                return k\n",
    "            else:\n",
    "                return search_k(k+1)\n",
    "        return search_k()"
   ]
  },
  {
   "cell_type": "code",
   "execution_count": null,
   "metadata": {},
   "outputs": [],
   "source": []
  },
  {
   "cell_type": "code",
   "execution_count": null,
   "metadata": {},
   "outputs": [],
   "source": []
  },
  {
   "cell_type": "code",
   "execution_count": null,
   "metadata": {},
   "outputs": [],
   "source": []
  },
  {
   "cell_type": "code",
   "execution_count": null,
   "metadata": {},
   "outputs": [],
   "source": []
  },
  {
   "cell_type": "code",
   "execution_count": null,
   "metadata": {},
   "outputs": [],
   "source": []
  },
  {
   "cell_type": "code",
   "execution_count": null,
   "metadata": {},
   "outputs": [],
   "source": []
  }
 ],
 "metadata": {
  "kernelspec": {
   "display_name": "Python 3",
   "language": "python",
   "name": "python3"
  },
  "language_info": {
   "codemirror_mode": {
    "name": "ipython",
    "version": 3
   },
   "file_extension": ".py",
   "mimetype": "text/x-python",
   "name": "python",
   "nbconvert_exporter": "python",
   "pygments_lexer": "ipython3",
   "version": "3.6.12"
  }
 },
 "nbformat": 4,
 "nbformat_minor": 4
}
