{
 "cells": [
  {
   "cell_type": "markdown",
   "metadata": {
    "tags": [
     "Problems"
    ]
   },
   "source": [
    "Given an array of integers nums and an integer threshold, we will choose a positive integer divisor and divide all the array by it and sum the result of the division. Find the smallest divisor such that the result mentioned above is less than or equal to threshold.\n",
    "\n",
    "Each result of division is rounded to the nearest integer greater than or equal to that element. (For example: 7/3 = 3 and 10/2 = 5).\n",
    "\n",
    "It is guaranteed that there will be an answer.\n",
    "\n",
    " \n",
    "\n",
    "Example 1:\n",
    "```python\n",
    "Input: nums = [1,2,5,9], threshold = 6\n",
    "Output: 5\n",
    "Explanation: We can get a sum to 17 (1+2+5+9) if the divisor is 1. \n",
    "If the divisor is 4 we can get a sum to 7 (1+1+2+3) and if the divisor is 5 the sum will be 5 (1+1+1+2). \n",
    "```\n",
    "Example 2:\n",
    "```python\n",
    "Input: nums = [2,3,5,7,11], threshold = 11\n",
    "Output: 3\n",
    "```\n",
    "Example 3:\n",
    "```\n",
    "Input: nums = [19], threshold = 5\n",
    "Output: 4\n",
    "```\n",
    "\n",
    "Constraints:\n",
    "\n",
    "- 1 <= nums.length <= 5 * 10^4\n",
    "- 1 <= nums[i] <= 10^6\n",
    "- nums.length <= threshold <= 10^6"
   ]
  },
  {
   "cell_type": "code",
   "execution_count": 39,
   "metadata": {
    "tags": [
     "Function"
    ]
   },
   "outputs": [],
   "source": [
    "class Solution:\n",
    "    def smallestDivisor(self, nums: List[int], threshold: int) -> int:\n",
    "        if len(nums) == 1:\n",
    "            return math.ceil(nums[0]/threshold)\n",
    "        nums.sort()\n",
    "        total = sum(nums)\n",
    "        low = max(total//threshold, 1)\n",
    "        print(low)\n",
    "        high = math.ceil(max(nums)/threshold)* len(nums)\n",
    "        print(high)\n",
    "        while low < high:\n",
    "            # if high - low == 1:\n",
    "            #     return low\n",
    "            # #print(low, high)\n",
    "            mid = low + (high - low)//2\n",
    "            new_sum = sum([math.ceil(num/mid) for num in nums])\n",
    "            #print(mid, new_sum)\n",
    "            if low == mid:\n",
    "                if new_sum <= threshold:\n",
    "                    return low\n",
    "                else:\n",
    "                    return high\n",
    "            if new_sum > threshold:\n",
    "                low = mid\n",
    "            else:\n",
    "                high = mid"
   ]
  },
  {
   "cell_type": "code",
   "execution_count": 40,
   "metadata": {
    "tags": [
     "Testing"
    ]
   },
   "outputs": [
    {
     "name": "stdout",
     "output_type": "stream",
     "text": [
      "471503\n",
      "495280\n",
      "483391 11\n",
      "489335 11\n",
      "492307 11\n",
      "493793 11\n",
      "494536 11\n",
      "494908 11\n",
      "495094 11\n",
      "495187 11\n",
      "495233 11\n",
      "495256 11\n",
      "495268 11\n",
      "495274 11\n",
      "495277 11\n",
      "495278 11\n",
      "495279 11\n",
      "495280\n"
     ]
    }
   ],
   "source": [
    "if __name__ == '__main__':\n",
    "    solution = Solution()\n",
    "    nums =[962551,933661,905225,923035,990560]\n",
    "    threshold = 10\n",
    "    print(solution.smallestDivisor(nums, threshold))"
   ]
  },
  {
   "cell_type": "code",
   "execution_count": 9,
   "metadata": {},
   "outputs": [
    {
     "ename": "TypeError",
     "evalue": "unsupported operand type(s) for //: 'list' and 'int'",
     "output_type": "error",
     "traceback": [
      "\u001b[0;31m---------------------------------------------------------------------------\u001b[0m",
      "\u001b[0;31mTypeError\u001b[0m                                 Traceback (most recent call last)",
      "\u001b[0;32m<ipython-input-9-813ca0c78847>\u001b[0m in \u001b[0;36m<module>\u001b[0;34m\u001b[0m\n\u001b[1;32m      1\u001b[0m \u001b[0mnums\u001b[0m \u001b[0;34m=\u001b[0m \u001b[0;34m[\u001b[0m\u001b[0;36m1\u001b[0m\u001b[0;34m,\u001b[0m\u001b[0;36m2\u001b[0m\u001b[0;34m,\u001b[0m\u001b[0;36m3\u001b[0m\u001b[0;34m]\u001b[0m\u001b[0;34m\u001b[0m\u001b[0;34m\u001b[0m\u001b[0m\n\u001b[0;32m----> 2\u001b[0;31m \u001b[0mnums\u001b[0m\u001b[0;34m[\u001b[0m\u001b[0;34m:\u001b[0m\u001b[0;34m]\u001b[0m\u001b[0;34m//\u001b[0m\u001b[0;36m2\u001b[0m\u001b[0;34m\u001b[0m\u001b[0;34m\u001b[0m\u001b[0m\n\u001b[0m",
      "\u001b[0;31mTypeError\u001b[0m: unsupported operand type(s) for //: 'list' and 'int'"
     ]
    }
   ],
   "source": [
    "nums = [1,2,3]\n",
    "nums[:]//2"
   ]
  }
 ],
 "metadata": {
  "celltoolbar": "Tags",
  "kernelspec": {
   "display_name": "Python 3",
   "language": "python",
   "name": "python3"
  },
  "language_info": {
   "codemirror_mode": {
    "name": "ipython",
    "version": 3
   },
   "file_extension": ".py",
   "mimetype": "text/x-python",
   "name": "python",
   "nbconvert_exporter": "python",
   "pygments_lexer": "ipython3",
   "version": "3.7.8"
  }
 },
 "nbformat": 4,
 "nbformat_minor": 4
}
