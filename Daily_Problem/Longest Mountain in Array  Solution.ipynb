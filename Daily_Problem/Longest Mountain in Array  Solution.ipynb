{
 "cells": [
  {
   "cell_type": "markdown",
   "metadata": {},
   "source": [
    "Let's call any (contiguous) subarray B (of A) a mountain if the following properties hold:\n",
    "\n",
    "B.length >= 3\n",
    "There exists some 0 < i < B.length - 1 such that B[0] < B[1] < ... B[i-1] < B[i] > B[i+1] > ... > B[B.length - 1]\n",
    "(Note that B could be any subarray of A, including the entire array A.)\n",
    "\n",
    "Given an array A of integers, return the length of the longest mountain. \n",
    "\n",
    "Return 0 if there is no mountain.\n",
    "\n",
    "Example 1:\n",
    "```\n",
    "Input: [2,1,4,7,3,2,5]\n",
    "Output: 5\n",
    "Explanation: The largest mountain is [1,4,7,3,2] which has length 5.\n",
    "```\n",
    "Example 2:\n",
    "```\n",
    "Input: [2,2,2]\n",
    "Output: 0\n",
    "Explanation: There is no mountain.\n",
    "```\n",
    "Note:\n",
    "\n",
    "- 0 <= A.length <= 10000\n",
    "- 0 <= A[i] <= 10000\n",
    "\n",
    "Follow up:\n",
    "\n",
    "- Can you solve it using only one pass?\n",
    "- Can you solve it in O(1) space?"
   ]
  },
  {
   "cell_type": "code",
   "execution_count": null,
   "metadata": {},
   "outputs": [],
   "source": [
    "class Solution:\n",
    "    def longestMountain(self, A: List[int]) -> int:\n",
    "        max_length = 0\n",
    "        state_grow = 2 # 1: grow, 2: flat, 3: down\n",
    "        new_length = 1\n",
    "        if len(A) <= 2:\n",
    "            return 0\n",
    "        for i in range(1, len(A)):\n",
    "            if state_grow == 1:\n",
    "                if A[i] > A[i-1]:\n",
    "                    new_length += 1\n",
    "                elif A[i] == A[i-1]:\n",
    "                    state_grow = 2\n",
    "                else:\n",
    "                    new_length += 1\n",
    "                    state_grow = 3\n",
    "            elif state_grow == 2:\n",
    "                if A[i] > A[i-1]:\n",
    "                    state_grow = 1                    \n",
    "                    new_length = 2\n",
    "                    \n",
    "            elif state_grow == 3:\n",
    "                if A[i] > A[i-1]:\n",
    "                    #print(new_length)\n",
    "                    max_length = max(max_length, new_length)\n",
    "                    new_length = 2\n",
    "                    state_grow = 1\n",
    "                elif A[i] == A[i-1]:\n",
    "                    max_length = max(max_length, new_length)\n",
    "                    state_grow = 2\n",
    "                else:\n",
    "                    new_length += 1\n",
    "        if state_grow == 3:\n",
    "            max_length = max(max_length, new_length)            \n",
    "        return max_length if max_length >= 3 else 0\n",
    "        "
   ]
  },
  {
   "cell_type": "code",
   "execution_count": null,
   "metadata": {},
   "outputs": [],
   "source": []
  },
  {
   "cell_type": "code",
   "execution_count": null,
   "metadata": {},
   "outputs": [],
   "source": []
  }
 ],
 "metadata": {
  "kernelspec": {
   "display_name": "Python 3",
   "language": "python",
   "name": "python3"
  },
  "language_info": {
   "codemirror_mode": {
    "name": "ipython",
    "version": 3
   },
   "file_extension": ".py",
   "mimetype": "text/x-python",
   "name": "python",
   "nbconvert_exporter": "python",
   "pygments_lexer": "ipython3",
   "version": "3.7.8"
  }
 },
 "nbformat": 4,
 "nbformat_minor": 4
}
