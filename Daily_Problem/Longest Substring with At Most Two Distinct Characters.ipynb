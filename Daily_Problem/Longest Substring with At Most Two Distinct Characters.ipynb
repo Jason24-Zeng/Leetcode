{
 "cells": [
  {
   "cell_type": "markdown",
   "metadata": {},
   "source": [
    "Given a string s , find the length of the longest substring t  that contains at most 2 distinct characters.\n",
    "\n",
    "Example 1:\n",
    "```\n",
    "Input: \"eceba\"\n",
    "Output: 3\n",
    "Explanation: t is \"ece\" which its length is 3.\n",
    "```\n",
    "Example 2:\n",
    "```\n",
    "\n",
    "Input: \"ccaabbb\"\n",
    "Output: 5\n",
    "Explanation: t is \"aabbb\" which its length is 5.\n",
    "```"
   ]
  },
  {
   "cell_type": "code",
   "execution_count": null,
   "metadata": {},
   "outputs": [],
   "source": [
    "class Solution:\n",
    "    def lengthOfLongestSubstringTwoDistinct(self, s: str) -> int:\n",
    "        diction = {}\n",
    "        #print(diction.keys())\n",
    "        right = 0\n",
    "        lens = len(s)\n",
    "        if lens < 3:\n",
    "            return len(s)\n",
    "        max_value = 2\n",
    "        left, right = 0, 0\n",
    "        while right < lens: \n",
    "            diction[s[right]] = right\n",
    "            right += 1\n",
    "            if len(diction.keys()) == 3:\n",
    "                index = min(diction.values())\n",
    "                del diction[s[index]]\n",
    "                left = index + 1\n",
    "                    \n",
    "                \n",
    "            max_value = max(max_value, right - left)\n",
    "            \n",
    "        return max_value\n",
    "            \n",
    "            "
   ]
  }
 ],
 "metadata": {
  "kernelspec": {
   "display_name": "Python 3",
   "language": "python",
   "name": "python3"
  },
  "language_info": {
   "codemirror_mode": {
    "name": "ipython",
    "version": 3
   },
   "file_extension": ".py",
   "mimetype": "text/x-python",
   "name": "python",
   "nbconvert_exporter": "python",
   "pygments_lexer": "ipython3",
   "version": "3.7.8"
  }
 },
 "nbformat": 4,
 "nbformat_minor": 4
}
