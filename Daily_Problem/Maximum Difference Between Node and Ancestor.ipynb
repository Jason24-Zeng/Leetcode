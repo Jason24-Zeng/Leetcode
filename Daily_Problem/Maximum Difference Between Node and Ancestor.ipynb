{
 "cells": [
  {
   "cell_type": "markdown",
   "metadata": {},
   "source": [
    "Given the root of a binary tree, find the maximum value V for which there exist different nodes A and B where V = |A.val - B.val| and A is an ancestor of B.\n",
    "\n",
    "A node A is an ancestor of B if either: any child of A is equal to B, or any child of A is an ancestor of B.\n",
    "```python\n",
    "Input: root = [8,3,10,1,6,null,14,null,null,4,7,13]\n",
    "Output: 7\n",
    "Explanation: We have various ancestor-node differences, some of which are given below :\n",
    "|8 - 3| = 5\n",
    "|3 - 7| = 4\n",
    "|8 - 1| = 7\n",
    "|10 - 13| = 3\n",
    "Among all possible differences, the maximum value of 7 is obtained by |8 - 1| = 7.\n",
    "```"
   ]
  },
  {
   "cell_type": "code",
   "execution_count": null,
   "metadata": {
    "tags": [
     "Solution1"
    ]
   },
   "outputs": [],
   "source": [
    "#from collection import defaultdict\n",
    "# Definition for a binary tree node.\n",
    "# class TreeNode:\n",
    "#     def __init__(self, val=0, left=None, right=None):\n",
    "#         self.val = val\n",
    "#         self.left = left\n",
    "#         self.right = right\n",
    "class Solution:\n",
    "    def maxAncestorDiff(self, root: TreeNode) -> int:\n",
    "        max_val = 0\n",
    "        stack = [(root, [root.val])]\n",
    "        while stack:\n",
    "            lens = len(stack)\n",
    "            while lens:\n",
    "                lens -= 1\n",
    "                node, val_list = stack.pop(0)\n",
    "                max_val = max([max_val] + [abs(val - node.val) for val in val_list])\n",
    "                if node.left:\n",
    "                    stack.append((node.left, val_list + [node.left.val]))\n",
    "                if node.right:\n",
    "                    stack.append((node.right, val_list + [node.right.val]))\n",
    "        return max_val"
   ]
  },
  {
   "cell_type": "code",
   "execution_count": null,
   "metadata": {
    "tags": [
     "Solution2"
    ]
   },
   "outputs": [],
   "source": [
    "#from collection import defaultdict\n",
    "# Definition for a binary tree node.\n",
    "# class TreeNode:\n",
    "#     def __init__(self, val=0, left=None, right=None):\n",
    "#         self.val = val\n",
    "#         self.left = left\n",
    "#         self.right = right\n",
    "class Solution:\n",
    "    def maxAncestorDiff(self, root: TreeNode) -> int:\n",
    "        max_val = 0\n",
    "        def maxmin(node = root):\n",
    "            nonlocal max_val\n",
    "            if not node.left and not node.right:\n",
    "                return node.val, node.val\n",
    "            tag1 = [node.val, node.val]\n",
    "            tag2 = [node.val, node.val]\n",
    "            if node.left:\n",
    "                tag1 = maxmin(node.left)\n",
    "            if node.right:\n",
    "                tag2 = maxmin(node.right)\n",
    "            node_min = min(tag1[0], tag2[0])\n",
    "            node_max = max(tag1[1], tag2[1])\n",
    "            max_val = max(max_val, abs(node_min-node.val), abs(node_max-node.val))\n",
    "            return min(node_min, node.val),  max(node_max, node.val)\n",
    "        maxmin()\n",
    "        return max_val\n",
    "            \n",
    "            \n",
    "        "
   ]
  },
  {
   "cell_type": "code",
   "execution_count": null,
   "metadata": {},
   "outputs": [],
   "source": []
  },
  {
   "cell_type": "code",
   "execution_count": null,
   "metadata": {},
   "outputs": [],
   "source": []
  },
  {
   "cell_type": "code",
   "execution_count": null,
   "metadata": {},
   "outputs": [],
   "source": []
  }
 ],
 "metadata": {
  "celltoolbar": "Tags",
  "kernelspec": {
   "display_name": "Python 3",
   "language": "python",
   "name": "python3"
  },
  "language_info": {
   "codemirror_mode": {
    "name": "ipython",
    "version": 3
   },
   "file_extension": ".py",
   "mimetype": "text/x-python",
   "name": "python",
   "nbconvert_exporter": "python",
   "pygments_lexer": "ipython3",
   "version": "3.7.8"
  }
 },
 "nbformat": 4,
 "nbformat_minor": 4
}
