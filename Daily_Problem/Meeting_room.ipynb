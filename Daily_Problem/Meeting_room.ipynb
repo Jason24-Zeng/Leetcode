{
 "cells": [
  {
   "cell_type": "markdown",
   "metadata": {},
   "source": [
    "Given an array of meeting time intervals consisting of start and end times [[s1,e1],[s2,e2],...] (si < ei), find the minimum number of conference rooms required.\n",
    "\n",
    "Example 1:\n",
    "```\n",
    "Input: [[0, 30],[5, 10],[15, 20]]\n",
    "Output: 2\n",
    "```\n",
    "Example 2:\n",
    "```\n",
    "Input: [[7,10],[2,4]]\n",
    "Output: 1\n",
    "```\n",
    "NOTE: input types have been changed on April 15, 2019. Please reset to default code definition to get new method signature."
   ]
  },
  {
   "cell_type": "code",
   "execution_count": 38,
   "metadata": {},
   "outputs": [],
   "source": [
    "class Solution:\n",
    "    def minMeetingRooms(self, intervals) -> int:\n",
    "        if len(intervals) == 0:\n",
    "            return 0\n",
    "        intervals = sorted(intervals)\n",
    "        new_list = []\n",
    "        room_nums = 1\n",
    "        for i in range(len(intervals)):\n",
    "            if new_list == []:\n",
    "                new_list.append([intervals[i]])\n",
    "                print(new_list)\n",
    "            else:\n",
    "                for j in range(len(new_list)):\n",
    "                    print(new_list[j][-1][-1], intervals[i][0])\n",
    "                    if new_list[j][-1][-1] <= intervals[i][0]:\n",
    "                        new_list[j].append(intervals[i])\n",
    "                        break\n",
    "                else:\n",
    "                    new_list.append([intervals[i]])\n",
    "                    continue\n",
    "            \n",
    "        return len(new_list)\n",
    "            "
   ]
  },
  {
   "cell_type": "code",
   "execution_count": 68,
   "metadata": {},
   "outputs": [],
   "source": [
    "### Dynamic Programming, time cost too long\n",
    "class Solution:\n",
    "    def minMeetingRooms(self, intervals) -> int:\n",
    "        if len(intervals) == 0:\n",
    "            return 0\n",
    "        import numpy as np\n",
    "        crossion = np.array([0 for _ in range(np.max(np.asarray(intervals)))])\n",
    "        for interval in intervals:\n",
    "            crossion[interval[0]:interval[1]] += 1\n",
    "            print(interval, crossion)\n",
    "        return max(crossion)"
   ]
  },
  {
   "cell_type": "code",
   "execution_count": 69,
   "metadata": {},
   "outputs": [
    {
     "name": "stdout",
     "output_type": "stream",
     "text": [
      "[0, 30] [1 1 1 1 1 1 1 1 1 1 1 1 1 1 1 1 1 1 1 1 1 1 1 1 1 1 1 1 1 1]\n",
      "[5, 10] [1 1 1 1 1 2 2 2 2 2 1 1 1 1 1 1 1 1 1 1 1 1 1 1 1 1 1 1 1 1]\n",
      "[15, 20] [1 1 1 1 1 2 2 2 2 2 1 1 1 1 1 2 2 2 2 2 1 1 1 1 1 1 1 1 1 1]\n",
      "2\n"
     ]
    }
   ],
   "source": [
    "if __name__=='__main__':\n",
    "    solution = Solution()\n",
    "    intervals = [[0,30],[5,10],[15,20]]\n",
    "    print(solution.minMeetingRooms(intervals))"
   ]
  },
  {
   "cell_type": "code",
   "execution_count": 4,
   "metadata": {},
   "outputs": [],
   "source": [
    "sorted?"
   ]
  },
  {
   "cell_type": "code",
   "execution_count": 62,
   "metadata": {},
   "outputs": [
    {
     "name": "stdout",
     "output_type": "stream",
     "text": [
      "30\n"
     ]
    }
   ],
   "source": [
    "import numpy as np\n",
    "a = [[2,3],[0, 30],[3,4]]\n",
    "a = np.asarray(a)\n",
    "#a = sorted(a)\n",
    "print(np.max(a))"
   ]
  },
  {
   "cell_type": "code",
   "execution_count": 29,
   "metadata": {},
   "outputs": [
    {
     "name": "stdout",
     "output_type": "stream",
     "text": [
      "3\n"
     ]
    }
   ],
   "source": [
    "a = []\n",
    "a.append([[2,3]])\n",
    "print(a[-1][-1][-1])"
   ]
  },
  {
   "cell_type": "code",
   "execution_count": null,
   "metadata": {},
   "outputs": [],
   "source": []
  },
  {
   "cell_type": "code",
   "execution_count": null,
   "metadata": {},
   "outputs": [],
   "source": []
  },
  {
   "cell_type": "code",
   "execution_count": null,
   "metadata": {},
   "outputs": [],
   "source": []
  }
 ],
 "metadata": {
  "kernelspec": {
   "display_name": "Python 3",
   "language": "python",
   "name": "python3"
  },
  "language_info": {
   "codemirror_mode": {
    "name": "ipython",
    "version": 3
   },
   "file_extension": ".py",
   "mimetype": "text/x-python",
   "name": "python",
   "nbconvert_exporter": "python",
   "pygments_lexer": "ipython3",
   "version": "3.6.12"
  }
 },
 "nbformat": 4,
 "nbformat_minor": 4
}
