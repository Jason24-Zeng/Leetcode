{
 "cells": [
  {
   "cell_type": "markdown",
   "metadata": {},
   "source": [
    "\n",
    "Given a sorted array nums, remove the duplicates in-place such that duplicates appeared at most twice and return the new length.\n",
    "\n",
    "Do not allocate extra space for another array; you must do this by modifying the input array in-place with O(1) extra memory.\n",
    "\n",
    "Clarification:\n",
    "\n",
    "Confused why the returned value is an integer, but your answer is an array?\n",
    "\n",
    "Note that the input array is passed in by reference, which means a modification to the input array will be known to the caller.\n",
    "\n",
    "Internally you can think of this:\n",
    "```\n",
    "// nums is passed in by reference. (i.e., without making a copy)\n",
    "int len = removeDuplicates(nums);\n",
    "\n",
    "// any modification to nums in your function would be known by the caller.\n",
    "// using the length returned by your function, it prints the first len elements.\n",
    "for (int i = 0; i < len; i++) {\n",
    "    print(nums[i]);\n",
    "}\n",
    "```\n",
    " \n",
    "\n",
    "Example 1:\n",
    "```\n",
    "Input: nums = [1,1,1,2,2,3]\n",
    "Output: 5, nums = [1,1,2,2,3]\n",
    "Explanation: Your function should return length = 5, with the first five elements of nums being 1, 1, 2, 2 and 3 respectively. It doesn't matter what you leave beyond the returned length.\n",
    "Example 2:\n",
    "\n",
    "Input: nums = [0,0,1,1,1,1,2,3,3]\n",
    "Output: 7, nums = [0,0,1,1,2,3,3]\n",
    "Explanation: Your function should return length = 7, with the first seven elements of nums being modified to 0, 0, 1, 1, 2, 3 and 3 respectively. It doesn't matter what values are set beyond the returned length.\n",
    "``` \n",
    "\n",
    "Constraints:\n",
    "\n",
    "- 0 <= nums.length <= 3 * 104\n",
    "- -104 <= nums[i] <= 104\n",
    "- nums is sorted in ascending order."
   ]
  },
  {
   "cell_type": "code",
   "execution_count": null,
   "metadata": {},
   "outputs": [],
   "source": [
    "class Solution:\n",
    "    def removeDuplicates(self, nums: List[int]) -> int:\n",
    "        start = 0\n",
    "        count = 0\n",
    "        # if len(nums) == 0:\n",
    "        #     return 0\n",
    "        while start <= len(nums) - 1:\n",
    "            if count == 2:\n",
    "                if nums[start] == prev:\n",
    "                    nums.pop(start)\n",
    "                else:\n",
    "                    prev = nums[start]\n",
    "                    start += 1\n",
    "                    count = 1\n",
    "                    \n",
    "            else:\n",
    "                if start == 0:\n",
    "                    prev = nums[0]\n",
    "                if nums[start] == prev:\n",
    "                    count += 1\n",
    "                else:\n",
    "                    prev = nums[start]\n",
    "                    count = 1\n",
    "                start += 1\n",
    "        #print(start)\n",
    "        return start"
   ]
  },
  {
   "cell_type": "code",
   "execution_count": null,
   "metadata": {},
   "outputs": [],
   "source": []
  },
  {
   "cell_type": "code",
   "execution_count": null,
   "metadata": {},
   "outputs": [],
   "source": []
  },
  {
   "cell_type": "code",
   "execution_count": null,
   "metadata": {},
   "outputs": [],
   "source": []
  }
 ],
 "metadata": {
  "kernelspec": {
   "display_name": "Python 3",
   "language": "python",
   "name": "python3"
  },
  "language_info": {
   "codemirror_mode": {
    "name": "ipython",
    "version": 3
   },
   "file_extension": ".py",
   "mimetype": "text/x-python",
   "name": "python",
   "nbconvert_exporter": "python",
   "pygments_lexer": "ipython3",
   "version": "3.7.8"
  }
 },
 "nbformat": 4,
 "nbformat_minor": 4
}
