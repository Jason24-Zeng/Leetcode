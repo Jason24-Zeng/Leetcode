{
 "cells": [
  {
   "cell_type": "markdown",
   "metadata": {},
   "source": [
    "Suppose an array sorted in ascending order is rotated at some pivot unknown to you beforehand.\n",
    "\n",
    "(i.e., [0,0,1,2,2,5,6] might become [2,5,6,0,0,1,2]).\n",
    "\n",
    "You are given a target value to search. If found in the array return true, otherwise return false.\n",
    "\n",
    "Example 1:\n",
    "```\n",
    "Input: nums = [2,5,6,0,0,1,2], target = 0\n",
    "Output: true\n",
    "```\n",
    "Example 2:\n",
    "```\n",
    "Input: nums = [2,5,6,0,0,1,2], target = 3\n",
    "Output: false\n",
    "```"
   ]
  },
  {
   "cell_type": "code",
   "execution_count": null,
   "metadata": {},
   "outputs": [],
   "source": [
    "class Solution:\n",
    "    def search(self, nums: List[int], target: int) -> bool:\n",
    "        # Initilize two pointers\n",
    "        begin = 0\n",
    "        end = len(nums) - 1 \n",
    "        while begin <= end:\n",
    "            mid = (begin + end)//2\n",
    "            if nums[mid] == target:\n",
    "                return True\n",
    "            if nums[mid] == nums[end]: # Fail to estimate which side is sorted\n",
    "                end -= 1  # In worst case: O(n)\n",
    "            elif nums[mid] > nums[end]: # Left side of mid is sorted\n",
    "                if  nums[begin] <= target and target < nums[mid]: # Target in the left side\n",
    "                    end = mid - 1\n",
    "                else: # in right side\n",
    "                    begin = mid + 1\n",
    "            else: # Right side is sorted\n",
    "                if  nums[mid] < target and target <= nums[end]: # Target in the right side\n",
    "                    begin = mid + 1\n",
    "                else: # in left side\n",
    "                    end = mid - 1\n",
    "        return False"
   ]
  }
 ],
 "metadata": {
  "kernelspec": {
   "display_name": "Python 3",
   "language": "python",
   "name": "python3"
  },
  "language_info": {
   "codemirror_mode": {
    "name": "ipython",
    "version": 3
   },
   "file_extension": ".py",
   "mimetype": "text/x-python",
   "name": "python",
   "nbconvert_exporter": "python",
   "pygments_lexer": "ipython3",
   "version": "3.7.8"
  }
 },
 "nbformat": 4,
 "nbformat_minor": 4
}
