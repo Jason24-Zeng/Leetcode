{
 "cells": [
  {
   "cell_type": "markdown",
   "metadata": {},
   "source": [
    "Given a binary tree, find its minimum depth.\n",
    "\n",
    "The minimum depth is the number of nodes along the shortest path from the root node down to the nearest leaf node.\n",
    "\n",
    "Note: A leaf is a node with no children.\n",
    "\n",
    "Example 1:\n",
    "```python\n",
    "Input: root = [3,9,20,null,null,15,7]\n",
    "Output: 2\n",
    "```\n",
    "Example 2:\n",
    "```python\n",
    "Input: root = [2,null,3,null,4,null,5,null,6]\n",
    "Output: 5\n",
    "```"
   ]
  },
  {
   "cell_type": "code",
   "execution_count": null,
   "metadata": {},
   "outputs": [],
   "source": [
    "# Personal Point: we calculated layer by layer, \n",
    "# if there are any node which has no left and right, then return the depth of the layer\n",
    "\n",
    "# iteration\n",
    "# Definition for a binary tree node.\n",
    "# class TreeNode:\n",
    "#     def __init__(self, val=0, left=None, right=None):\n",
    "#         self.val = val\n",
    "#         self.left = left\n",
    "#         self.right = right\n",
    "class Solution:\n",
    "    def minDepth(self, root: TreeNode) -> int:\n",
    "        if not root:\n",
    "            return 0\n",
    "        stack = [root]\n",
    "        depth = 1\n",
    "        new_list = []\n",
    "        while stack:\n",
    "            node = stack.pop()\n",
    "            if not node.left and not node.right:\n",
    "                return depth\n",
    "            if node.left:\n",
    "                new_list.append(node.left)\n",
    "            if node.right:\n",
    "                new_list.append(node.right)\n",
    "            if stack == []:\n",
    "                stack, new_list = new_list, []\n",
    "                if stack != []:\n",
    "                    depth += 1\n",
    "        return depth\n",
    "                \n",
    "                "
   ]
  },
  {
   "cell_type": "code",
   "execution_count": null,
   "metadata": {},
   "outputs": [],
   "source": [
    "# version 2\n",
    "# Definition for a binary tree node.\n",
    "# class TreeNode:\n",
    "#     def __init__(self, val=0, left=None, right=None):\n",
    "#         self.val = val\n",
    "#         self.left = left\n",
    "#         self.right = right\n",
    "class Solution:\n",
    "    def minDepth(self, root: TreeNode) -> int:\n",
    "        if not root:\n",
    "            return 0\n",
    "        if root.left is None and root.right is None:\n",
    "            return 1\n",
    "#         if root.left and root.right:\n",
    "#             return min(minDepth(root.left) + 1, minDepth(root.right) + 1)\n",
    "#         elif root.left:\n",
    "#             return minDepth(root.left) + 1\n",
    "#         elif root.right:\n",
    "#             return minDepth(root.right) + 1\n",
    "        elif root.left is None:\n",
    "            return self.minDepth(root.right) + 1\n",
    "        elif root.right is None:\n",
    "            return self.minDepth(root.left) + 1\n",
    "        else:\n",
    "            return min(self.minDepth(root.right) + 1, self.minDepth(root.left) + 1)\n",
    "        "
   ]
  },
  {
   "cell_type": "code",
   "execution_count": null,
   "metadata": {},
   "outputs": [],
   "source": []
  },
  {
   "cell_type": "code",
   "execution_count": null,
   "metadata": {},
   "outputs": [],
   "source": []
  },
  {
   "cell_type": "code",
   "execution_count": null,
   "metadata": {},
   "outputs": [],
   "source": []
  },
  {
   "cell_type": "code",
   "execution_count": null,
   "metadata": {},
   "outputs": [],
   "source": []
  }
 ],
 "metadata": {
  "kernelspec": {
   "display_name": "Python 3",
   "language": "python",
   "name": "python3"
  },
  "language_info": {
   "codemirror_mode": {
    "name": "ipython",
    "version": 3
   },
   "file_extension": ".py",
   "mimetype": "text/x-python",
   "name": "python",
   "nbconvert_exporter": "python",
   "pygments_lexer": "ipython3",
   "version": "3.6.12"
  }
 },
 "nbformat": 4,
 "nbformat_minor": 4
}
