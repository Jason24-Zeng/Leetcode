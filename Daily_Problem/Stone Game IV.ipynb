{
 "cells": [
  {
   "cell_type": "markdown",
   "metadata": {},
   "source": [
    "Alice and Bob take turns playing a game, with Alice starting first.\n",
    "\n",
    "Initially, there are n stones in a pile.  On each player's turn, that player makes a move consisting of removing any non-zero square number of stones in the pile.\n",
    "\n",
    "Also, if a player cannot make a move, he/she loses the game.\n",
    "\n",
    "Given a positive integer n. Return True if and only if Alice wins the game otherwise return False, assuming both players play optimally.\n",
    "\n",
    " \n",
    "\n",
    "Example 1:\n",
    "```python\n",
    "Input: n = 1\n",
    "Output: true\n",
    "Explanation: Alice can remove 1 stone winning the game because Bob doesn't have any moves.\n",
    "```\n",
    "Example 2:\n",
    "```python\n",
    "Input: n = 2\n",
    "Output: false\n",
    "Explanation: Alice can only remove 1 stone, after that Bob removes the last one winning the game (2 -> 1 -> 0).\n",
    "```\n",
    "Example 3:\n",
    "```python\n",
    "Input: n = 4\n",
    "Output: true\n",
    "Explanation: n is already a perfect square, Alice can win with one move, removing 4 stones (4 -> 0).\n",
    "```\n",
    "Example 4:\n",
    "```python\n",
    "Input: n = 7\n",
    "Output: false\n",
    "Explanation: Alice can't win the game if Bob plays optimally.\n",
    "If Alice starts removing 4 stones, Bob will remove 1 stone then Alice should remove only 1 stone and finally Bob removes the last one (7 -> 3 -> 2 -> 1 -> 0). \n",
    "If Alice starts removing 1 stone, Bob will remove 4 stones then Alice only can remove 1 stone and finally Bob removes the last one (7 -> 6 -> 2 -> 1 -> 0).\n",
    "```\n",
    "Example 5:\n",
    "```python\n",
    "Input: n = 17\n",
    "Output: false\n",
    "Explanation: Alice can't win the game if Bob plays optimally.\n",
    "```\n",
    "\n",
    "Constraints:\n",
    "\n",
    "- 1 <= n <= 10^5"
   ]
  },
  {
   "cell_type": "code",
   "execution_count": 31,
   "metadata": {},
   "outputs": [],
   "source": [
    "class Solution:\n",
    "    def winnerSquareGame(self, n: int) -> bool:\n",
    "        \n",
    "        list1 = [True, True] + [False] * (n-1)\n",
    "        print(len(list1))\n",
    "        for i in range(2, len(list1)):\n",
    "            \n",
    "            num = int(i**(0.5))\n",
    "            print(num,i)\n",
    "            if num**2 == i:\n",
    "                #print(list1[i])\n",
    "                list1[i] = True\n",
    "                #print(list1)\n",
    "                continue\n",
    "            for j in reversed(range(1, num+1)):                \n",
    "                if list1[i - j**2] == False:\n",
    "                    #print(list1[i], i)\n",
    "                    list1[i] = True\n",
    "                    break                    \n",
    "            else:\n",
    "                continue\n",
    "        #print(list1)\n",
    "        return list1[n]"
   ]
  },
  {
   "cell_type": "code",
   "execution_count": 32,
   "metadata": {},
   "outputs": [
    {
     "name": "stdout",
     "output_type": "stream",
     "text": [
      "18\n",
      "1 2\n",
      "1 3\n",
      "False 3\n",
      "2 4\n",
      "2 5\n",
      "2 6\n",
      "False 6\n",
      "2 7\n",
      "2 8\n",
      "False 8\n",
      "3 9\n",
      "3 10\n",
      "3 11\n",
      "False 11\n",
      "3 12\n",
      "3 13\n",
      "False 13\n",
      "3 14\n",
      "False 14\n",
      "3 15\n",
      "4 16\n",
      "4 17\n",
      "False\n"
     ]
    }
   ],
   "source": [
    "if __name__ == '__main__':\n",
    "    solution = Solution()\n",
    "    print(solution.winnerSquareGame(17))"
   ]
  },
  {
   "cell_type": "code",
   "execution_count": null,
   "metadata": {},
   "outputs": [],
   "source": []
  },
  {
   "cell_type": "code",
   "execution_count": null,
   "metadata": {},
   "outputs": [],
   "source": []
  },
  {
   "cell_type": "code",
   "execution_count": null,
   "metadata": {},
   "outputs": [],
   "source": []
  },
  {
   "cell_type": "code",
   "execution_count": null,
   "metadata": {},
   "outputs": [],
   "source": []
  }
 ],
 "metadata": {
  "kernelspec": {
   "display_name": "Python 3",
   "language": "python",
   "name": "python3"
  },
  "language_info": {
   "codemirror_mode": {
    "name": "ipython",
    "version": 3
   },
   "file_extension": ".py",
   "mimetype": "text/x-python",
   "name": "python",
   "nbconvert_exporter": "python",
   "pygments_lexer": "ipython3",
   "version": "3.6.12"
  }
 },
 "nbformat": 4,
 "nbformat_minor": 4
}
