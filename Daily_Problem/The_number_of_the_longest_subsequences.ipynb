{
 "cells": [
  {
   "cell_type": "markdown",
   "metadata": {},
   "source": [
    "Given an integer array nums, return the number of longest increasing subsequences.\n",
    "\n",
    " \n",
    "\n",
    "Example 1:\n",
    "```python\n",
    "Input: nums = [1,3,5,4,7]\n",
    "Output: 2\n",
    "Explanation: The two longest increasing subsequences are [1, 3, 4, 7] and [1, 3, 5, 7].\n",
    "```\n",
    "Example 2:\n",
    "```python\n",
    "Input: nums = [2,2,2,2,2]\n",
    "Output: 5\n",
    "Explanation: The length of longest continuous increasing subsequence is 1, and there are 5 subsequences' length is 1, so output 5.\n",
    "```\n",
    "\n",
    " \n",
    "\n",
    "Constraints:\n",
    "\n",
    "- 0 <= nums.length <= 2000\n",
    "- -106 <= nums[i] <= 106"
   ]
  },
  {
   "cell_type": "code",
   "execution_count": 27,
   "metadata": {},
   "outputs": [],
   "source": [
    "class Solution:\n",
    "    def findNumberOfLIS(self, nums) -> int:\n",
    "        lenn = len(nums)\n",
    "        if lenn <= 1:\n",
    "            return lenn\n",
    "        lengths = [1 for _ in range(lenn)]\n",
    "        counts = [1 for _ in range(lenn)]\n",
    "        for i, num in enumerate(nums):\n",
    "            for j in range(i):\n",
    "                if nums[i] > nums[j]:\n",
    "                    if lengths[j] >= lengths[i]:\n",
    "                        lengths[i] = lengths[j] + 1\n",
    "                        counts[i] = counts[j]\n",
    "                    elif lengths[j] + 1 == lengths[i]:\n",
    "                        counts[i] += counts[j]\n",
    "        print(counts)\n",
    "        longest = max(lengths)\n",
    "        count_all = sum(c for i, c in enumerate(counts) if lengths[i] == longest)\n",
    "        return count_all\n",
    "                        \n",
    "                        \n",
    "                \n",
    "        "
   ]
  },
  {
   "cell_type": "code",
   "execution_count": 28,
   "metadata": {},
   "outputs": [
    {
     "name": "stdout",
     "output_type": "stream",
     "text": [
      "[1, 1, 1, 1, 2]\n",
      "2\n"
     ]
    }
   ],
   "source": [
    "if __name__ == '__main__':\n",
    "    solution = Solution()\n",
    "    nums = [1,3,5,4,7]\n",
    "    print(solution.findNumberOfLIS(nums))"
   ]
  },
  {
   "cell_type": "code",
   "execution_count": null,
   "metadata": {},
   "outputs": [],
   "source": []
  },
  {
   "cell_type": "code",
   "execution_count": null,
   "metadata": {},
   "outputs": [],
   "source": []
  },
  {
   "cell_type": "code",
   "execution_count": null,
   "metadata": {},
   "outputs": [],
   "source": []
  },
  {
   "cell_type": "code",
   "execution_count": null,
   "metadata": {},
   "outputs": [],
   "source": []
  },
  {
   "cell_type": "code",
   "execution_count": null,
   "metadata": {},
   "outputs": [],
   "source": []
  }
 ],
 "metadata": {
  "kernelspec": {
   "display_name": "Python 3",
   "language": "python",
   "name": "python3"
  },
  "language_info": {
   "codemirror_mode": {
    "name": "ipython",
    "version": 3
   },
   "file_extension": ".py",
   "mimetype": "text/x-python",
   "name": "python",
   "nbconvert_exporter": "python",
   "pygments_lexer": "ipython3",
   "version": "3.6.12"
  }
 },
 "nbformat": 4,
 "nbformat_minor": 4
}
