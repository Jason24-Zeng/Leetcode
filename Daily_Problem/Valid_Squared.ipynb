{
 "cells": [
  {
   "cell_type": "markdown",
   "metadata": {},
   "source": [
    "Given the coordinates of four points in 2D space, return whether the four points could construct a square.\n",
    "\n",
    "The coordinate (x,y) of a point is represented by an integer array with two integers.\n",
    "\n",
    "Example:\n",
    "```python\n",
    "Input: p1 = [0,0], p2 = [1,1], p3 = [1,0], p4 = [0,1]\n",
    "Output: True\n",
    "```"
   ]
  },
  {
   "cell_type": "code",
   "execution_count": null,
   "metadata": {},
   "outputs": [],
   "source": []
  },
  {
   "cell_type": "code",
   "execution_count": null,
   "metadata": {},
   "outputs": [],
   "source": [
    "class Solution:\n",
    "    def validSquare(self, p1: List[int], p2: List[int], p3: List[int], p4: List[int]) -> bool:\n",
    "        \n",
    "        def getDistance(p1, p2):\n",
    "            return (p1[0] - p2[0])**2 + (p1[1] - p2[1])**2\n",
    "        \n",
    "        points = [p1,p2,p3,p4]\n",
    "        cnt = collections.defaultdict(int)\n",
    "        for i in range(len(points)):\n",
    "            for j in range(i+1, len(points)):\n",
    "                cnt[getDistance(points[i], points[j])] += 1\n",
    "        \n",
    "        return len(cnt.values())==2 and 4 in cnt.values() and 2 in cnt.values()"
   ]
  },
  {
   "cell_type": "code",
   "execution_count": null,
   "metadata": {},
   "outputs": [],
   "source": []
  },
  {
   "cell_type": "code",
   "execution_count": null,
   "metadata": {},
   "outputs": [],
   "source": []
  }
 ],
 "metadata": {
  "kernelspec": {
   "display_name": "Python 3",
   "language": "python",
   "name": "python3"
  },
  "language_info": {
   "codemirror_mode": {
    "name": "ipython",
    "version": 3
   },
   "file_extension": ".py",
   "mimetype": "text/x-python",
   "name": "python",
   "nbconvert_exporter": "python",
   "pygments_lexer": "ipython3",
   "version": "3.7.8"
  }
 },
 "nbformat": 4,
 "nbformat_minor": 4
}
