{
 "cells": [
  {
   "cell_type": "code",
   "execution_count": 12,
   "metadata": {},
   "outputs": [
    {
     "name": "stdout",
     "output_type": "stream",
     "text": [
      "defaultdict(<class 'dict'>, {'head': {'head': {}}})\n"
     ]
    }
   ],
   "source": [
    "from collections import defaultdict\n",
    "res = head = defaultdict(dict)\n",
    "head = head.setdefault('head', {})\n",
    "head = head.setdefault('head', {})\n",
    "head = res\n",
    "head = head.setdefault('head', {})\n",
    "print(res)\n"
   ]
  },
  {
   "cell_type": "code",
   "execution_count": null,
   "metadata": {},
   "outputs": [],
   "source": []
  },
  {
   "cell_type": "code",
   "execution_count": 66,
   "metadata": {},
   "outputs": [],
   "source": [
    "from collections import defaultdict\n",
    "class Solution:\n",
    "    def __init__(self):\n",
    "        self.trie = {}\n",
    "        self.KEY = '#'\n",
    "        self.res = []\n",
    "    def build_trie(self, words):\n",
    "        for word in words:\n",
    "            head = self.trie\n",
    "            for i in range(len(word)):\n",
    "                head = head.setdefault(word[i],{})\n",
    "            head[self.KEY] = word\n",
    "        #self.trie = self.trie\n",
    "    def check(self, i, j, head):\n",
    "        \n",
    "        letter = self.board[i][j]\n",
    "        #print(letter, i, j)\n",
    "        head = head[letter] \n",
    "        matched_word = head.pop(self.KEY, False)\n",
    "        if matched_word:\n",
    "            self.res.append(matched_word)\n",
    "        self.board[i][j] = '$'\n",
    "        for direc in [[1,0],[0,1],[-1,0],[0,-1]]:\n",
    "            new_i, new_j = i+direc[0], j+direc[1]\n",
    "            if new_i < 0 or new_i > self.m - 1 or new_j < 0 or new_j > self.n - 1:\n",
    "                continue\n",
    "            if self.board[new_i][new_j] not in head:\n",
    "                continue\n",
    "            \n",
    "            self.check(new_i, new_j, head)\n",
    "        self.board[i][j] = letter\n",
    "        \n",
    "        if not head:\n",
    "            old_head.pop(letter)\n",
    "            \n",
    "    # def findWords(self, board: List[List[str]], words: List[str]) -> List[str]:    \n",
    "    def findWords(self, board, words):\n",
    "        self.board = board\n",
    "        self.m, self.n = len(board), len(board[0])\n",
    "        self.build_trie(words)\n",
    "        #print(self.trie)\n",
    "        for i in range(self.m):\n",
    "            for j in range(self.n):\n",
    "                if self.board[i][j] in self.trie:\n",
    "                    self.check(i, j, self.trie)\n",
    "        return self.res"
   ]
  },
  {
   "cell_type": "code",
   "execution_count": 67,
   "metadata": {},
   "outputs": [
    {
     "name": "stdout",
     "output_type": "stream",
     "text": [
      "['oath', 'eat']\n"
     ]
    }
   ],
   "source": [
    "if __name__ == '__main__':\n",
    "    solution = Solution()\n",
    "    board = [[\"o\",\"a\",\"a\",\"n\"],[\"e\",\"t\",\"a\",\"e\"],[\"i\",\"h\",\"k\",\"r\"],[\"i\",\"f\",\"l\",\"v\"]]\n",
    "    words = [\"oath\",\"pea\",\"eat\",\"rain\"]\n",
    "    print(solution.findWords(board, words))"
   ]
  },
  {
   "cell_type": "markdown",
   "metadata": {},
   "source": [
    "这道题最关键的一步，如何对已经搜查的地方剪纸：直接将time从7000ms变成了32ms\n",
    "    if not head:\n",
    "            old_head.pop(letter)"
   ]
  }
 ],
 "metadata": {
  "kernelspec": {
   "display_name": "Python 3",
   "language": "python",
   "name": "python3"
  },
  "language_info": {
   "codemirror_mode": {
    "name": "ipython",
    "version": 3
   },
   "file_extension": ".py",
   "mimetype": "text/x-python",
   "name": "python",
   "nbconvert_exporter": "python",
   "pygments_lexer": "ipython3",
   "version": "3.7.8"
  }
 },
 "nbformat": 4,
 "nbformat_minor": 4
}
