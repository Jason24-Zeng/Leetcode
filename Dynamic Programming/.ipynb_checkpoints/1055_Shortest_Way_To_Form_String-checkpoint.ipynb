{
 "cells": [
  {
   "cell_type": "markdown",
   "metadata": {},
   "source": [
    "From any string, we can form a subsequence of that string by deleting some number of characters (possibly no deletions).\n",
    "\n",
    "Given two strings source and target, return the minimum number of subsequences of source such that their concatenation equals target. If the task is impossible, return -1.\n",
    "\n",
    " \n",
    "\n",
    "Example 1:\n",
    "```\n",
    "Input: source = \"abc\", target = \"abcbc\"\n",
    "Output: 2\n",
    "Explanation: The target \"abcbc\" can be formed by \"abc\" and \"bc\", which are subsequences of source \"abc\".\n",
    "```\n",
    "Example 2:\n",
    "```\n",
    "Input: source = \"abc\", target = \"acdbc\"\n",
    "Output: -1\n",
    "Explanation: The target string cannot be constructed from the subsequences of source string due to the character \"d\" in target string.\n",
    "```\n",
    "Example 3:\n",
    "```\n",
    "Input: source = \"xyz\", target = \"xzyxz\"\n",
    "Output: 3\n",
    "Explanation: The target string can be constructed as follows \"xz\" + \"y\" + \"xz\".\n",
    "```\n",
    "\n",
    "Constraints:\n",
    "\n",
    "- Both the source and target strings consist of only lowercase English letters from \"a\"-\"z\".\n",
    "- The lengths of source and target string are between 1 and 1000."
   ]
  },
  {
   "cell_type": "code",
   "execution_count": null,
   "metadata": {},
   "outputs": [],
   "source": [
    "from collections import Counter\n",
    "class Solution:\n",
    "    def shortestWay(self, source: str, target: str) -> int:\n",
    "        lent = len(target)\n",
    "        lens = len(source)\n",
    "        pointer_i, pointer_j = 0, 0\n",
    "        num_str = 1\n",
    "        diction = Counter(source)\n",
    "        while pointer_i < lent:\n",
    "            if target[pointer_i] not in diction.keys():\n",
    "                return -1\n",
    "            if pointer_j >= lens:\n",
    "                pointer_j = 0\n",
    "                num_str += 1\n",
    "                \n",
    "            if source[pointer_j] == target[pointer_i]:\n",
    "                pointer_i += 1\n",
    "            pointer_j += 1\n",
    "        return num_str"
   ]
  }
 ],
 "metadata": {
  "kernelspec": {
   "display_name": "Python 3",
   "language": "python",
   "name": "python3"
  },
  "language_info": {
   "codemirror_mode": {
    "name": "ipython",
    "version": 3
   },
   "file_extension": ".py",
   "mimetype": "text/x-python",
   "name": "python",
   "nbconvert_exporter": "python",
   "pygments_lexer": "ipython3",
   "version": "3.6.11"
  }
 },
 "nbformat": 4,
 "nbformat_minor": 4
}
