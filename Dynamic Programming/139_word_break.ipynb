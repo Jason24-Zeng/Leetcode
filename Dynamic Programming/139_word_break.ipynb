{
 "cells": [
  {
   "cell_type": "markdown",
   "metadata": {},
   "source": [
    "Given a non-empty string s and a dictionary wordDict containing a list of non-empty words, determine if s can be segmented into a space-separated sequence of one or more dictionary words.\n",
    "\n",
    "Note:\n",
    "\n",
    "The same word in the dictionary may be reused multiple times in the segmentation.\n",
    "You may assume the dictionary does not contain duplicate words.\n",
    "Example 1:\n",
    "```\n",
    "Input: s = \"leetcode\", wordDict = [\"leet\", \"code\"]\n",
    "Output: true\n",
    "Explanation: Return true because \"leetcode\" can be segmented as \"leet code\".\n",
    "```\n",
    "Example 2:\n",
    "```\n",
    "Input: s = \"applepenapple\", wordDict = [\"apple\", \"pen\"]\n",
    "Output: true\n",
    "Explanation: Return true because \"applepenapple\" can be segmented as \"apple pen apple\".\n",
    "             Note that you are allowed to reuse a dictionary word.\n",
    "```\n",
    "Example 3:\n",
    "```\n",
    "Input: s = \"catsandog\", wordDict = [\"cats\", \"dog\", \"sand\", \"and\", \"cat\"]\n",
    "Output: false\n",
    "```"
   ]
  },
  {
   "cell_type": "code",
   "execution_count": 2,
   "metadata": {},
   "outputs": [],
   "source": [
    "## Version 1 : Dynamic Programming\n",
    "class Solution:\n",
    "    def wordBreak(self, s: str, wordDict) -> bool:\n",
    "        if not s:\n",
    "            return True\n",
    "        lenq = len(s)\n",
    "        dp = [True] + [False for _ in range(lenq)]\n",
    "        for i in range(1, lenq + 1):\n",
    "            for j in range(i):\n",
    "                if dp[j] and s[j:i] in wordDict:\n",
    "                    dp[i] = True\n",
    "        return dp[lenq]\n",
    "                    "
   ]
  },
  {
   "cell_type": "code",
   "execution_count": null,
   "metadata": {},
   "outputs": [],
   "source": [
    "### version 2: Breadth-First-Search"
   ]
  },
  {
   "cell_type": "code",
   "execution_count": null,
   "metadata": {},
   "outputs": [],
   "source": [
    "### version 3: not my work: DFS with memorization\n",
    "class Solution:\n",
    "    def wordBreak(self, s: str, wordDict: List[str]) -> bool:\n",
    "        \n",
    "        # dictionary:\n",
    "        # key: start index of substring\n",
    "        # value: True if s[idx:] can be made from wordDict.\n",
    "        substr_breakable_dict = {}\n",
    "        \n",
    "        \n",
    "        if len(set(s)) > len(set( ''.join(wordDict) ) ):\n",
    "            # Quick response on letter set\n",
    "            # If s has extra letters, which are not included in wordDict,\n",
    "            # Then, it is impossible to make s from wordDict\n",
    "            return False\n",
    "        \n",
    "        # -----------------------------------------------------\n",
    "        def helper(idx):\n",
    "            \n",
    "            if idx == len(s):\n",
    "                \n",
    "                # We can make s from wordDict\n",
    "                return True\n",
    "            \n",
    "            \n",
    "            if idx in substr_breakable_dict:\n",
    "                \n",
    "                # Quick response by look up table\n",
    "                return substr_breakable_dict[idx]\n",
    "            \n",
    "            \n",
    "            # Keep sovling in DFS with memoization\n",
    "            breakable = False\n",
    "            for prefix in wordDict:\n",
    "                \n",
    "                if s[idx:].startswith(prefix):\n",
    "                    # current substring starts with prefix\n",
    "                    \n",
    "                    if helper( idx+len(prefix) ):\n",
    "                        # check remaining part\n",
    "                        breakable = True\n",
    "                        break\n",
    "                \n",
    "            substr_breakable_dict[idx] = breakable\n",
    "            return breakable\n",
    "        \n",
    "        # -----------------------------------------------------\n",
    "        return helper(idx=0)"
   ]
  },
  {
   "cell_type": "code",
   "execution_count": 3,
   "metadata": {},
   "outputs": [
    {
     "name": "stdout",
     "output_type": "stream",
     "text": [
      "True\n"
     ]
    }
   ],
   "source": [
    "if __name__ == '__main__':\n",
    "    s = \"applepenapple\"\n",
    "    wordDict = [\"apple\", \"pen\"]\n",
    "    solution = Solution()\n",
    "    print(solution.wordBreak(s, wordDict))"
   ]
  },
  {
   "cell_type": "code",
   "execution_count": 10,
   "metadata": {},
   "outputs": [],
   "source": [
    "s = 'abcdeg' \n",
    "wordDict = [ 'ab', 'abc', 'cde','eg']"
   ]
  },
  {
   "cell_type": "code",
   "execution_count": 11,
   "metadata": {},
   "outputs": [],
   "source": [
    "substr_breakable_dict = {}\n",
    "def helper(idx):\n",
    "    if idx == len(s):\n",
    "                \n",
    "                # We can make s from wordDict\n",
    "        return True\n",
    "            \n",
    "            \n",
    "    if idx in substr_breakable_dict:\n",
    "                \n",
    "                # Quick response by look up table\n",
    "        return substr_breakable_dict[idx]\n",
    "    breakable = False\n",
    "    for prefix in wordDict:\n",
    "        if s.startswith(prefix):\n",
    "            print(prefix)\n",
    "            if helper(idx+len(prefix)):\n",
    "                breakable = True\n",
    "                break\n",
    "    substr_breakable_dict[idx] = breakable\n",
    "    return breakable"
   ]
  },
  {
   "cell_type": "code",
   "execution_count": 12,
   "metadata": {},
   "outputs": [
    {
     "name": "stdout",
     "output_type": "stream",
     "text": [
      "ab\n",
      "ab\n",
      "ab\n",
      "True\n"
     ]
    }
   ],
   "source": [
    "print(helper(0))"
   ]
  },
  {
   "cell_type": "code",
   "execution_count": null,
   "metadata": {},
   "outputs": [],
   "source": []
  },
  {
   "cell_type": "code",
   "execution_count": null,
   "metadata": {},
   "outputs": [],
   "source": []
  },
  {
   "cell_type": "code",
   "execution_count": null,
   "metadata": {},
   "outputs": [],
   "source": []
  }
 ],
 "metadata": {
  "kernelspec": {
   "display_name": "Python 3",
   "language": "python",
   "name": "python3"
  },
  "language_info": {
   "codemirror_mode": {
    "name": "ipython",
    "version": 3
   },
   "file_extension": ".py",
   "mimetype": "text/x-python",
   "name": "python",
   "nbconvert_exporter": "python",
   "pygments_lexer": "ipython3",
   "version": "3.6.12"
  }
 },
 "nbformat": 4,
 "nbformat_minor": 4
}
