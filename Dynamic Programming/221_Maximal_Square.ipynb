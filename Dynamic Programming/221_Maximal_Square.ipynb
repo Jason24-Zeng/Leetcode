{
 "cells": [
  {
   "cell_type": "markdown",
   "metadata": {},
   "source": [
    "Given a 2D binary matrix filled with 0's and 1's, find the largest square containing only 1's and return its area.\n",
    "\n",
    "Example:\n",
    "```\n",
    "Input: \n",
    "\n",
    "1 0 1 0 0\n",
    "1 0 1 1 1\n",
    "1 1 1 1 1\n",
    "1 0 0 1 0\n",
    "\n",
    "Output: 4\n",
    "```"
   ]
  },
  {
   "cell_type": "code",
   "execution_count": 17,
   "metadata": {},
   "outputs": [],
   "source": [
    "class Solution:\n",
    "    def maximalSquare(self, matrix) -> int:\n",
    "        if len(matrix) == 0:\n",
    "            return 0\n",
    "        if len(matrix) == 1:\n",
    "            for i in range(len(matrix[0])):\n",
    "                if matrix[0][i] == '1':\n",
    "                    return 1\n",
    "            return 0\n",
    "        \n",
    "        if len(matrix[0]) == 1:\n",
    "            for i in range(len(matrix)):\n",
    "                if matrix[i][0] == '1':\n",
    "                    return 1\n",
    "            return 0\n",
    "            \n",
    "        maxium = 0\n",
    "        for i in range(len(matrix)):\n",
    "            matrix[i][0] = int(matrix[i][0])\n",
    "            maxium = max(maxium,matrix[i][0])\n",
    "        for j in range(1, len(matrix[0])):\n",
    "            matrix[0][j] = int(matrix[0][j])\n",
    "            maxium = max(maxium,matrix[0][j])\n",
    "        for i in range(1, len(matrix)):\n",
    "            for j in range(1, len(matrix[0])):\n",
    "                if matrix[i][j] != '0':\n",
    "                    matrix[i][j] = min(int(matrix[i-1][j-1]), int(matrix[i][j-1]), int(matrix[i-1][j])) +1\n",
    "                    maxium = max(maxium, matrix[i][j])\n",
    "                else:\n",
    "                    matrix[i][j] = 0\n",
    "                \n",
    "        print(matrix)\n",
    "        return maxium**2"
   ]
  },
  {
   "cell_type": "code",
   "execution_count": 18,
   "metadata": {},
   "outputs": [
    {
     "name": "stdout",
     "output_type": "stream",
     "text": [
      "[[1, 0, 1, 1, 0, 1], [1, 1, 1, 2, 1, 1], [0, 1, 2, 0, 1, 2], [1, 1, 2, 0, 1, 0], [0, 1, 2, 1, 1, 1], [1, 1, 0, 1, 2, 2]]\n",
      "4\n"
     ]
    }
   ],
   "source": [
    "if __name__ == '__main__':\n",
    "    matrix =[[\"1\",\"0\",\"1\",\"1\",\"0\",\"1\"],\n",
    "             [\"1\",\"1\",\"1\",\"1\",\"1\",\"1\"],\n",
    "             [\"0\",\"1\",\"1\",\"0\",\"1\",\"1\"],\n",
    "             [\"1\",\"1\",\"1\",\"0\",\"1\",\"0\"],\n",
    "             [\"0\",\"1\",\"1\",\"1\",\"1\",\"1\"],\n",
    "             [\"1\",\"1\",\"0\",\"1\",\"1\",\"1\"]]\n",
    "    solution = Solution()\n",
    "    print(solution.maximalSquare(matrix))"
   ]
  },
  {
   "cell_type": "code",
   "execution_count": 9,
   "metadata": {},
   "outputs": [
    {
     "data": {
      "text/plain": [
       "1"
      ]
     },
     "execution_count": 9,
     "metadata": {},
     "output_type": "execute_result"
    }
   ],
   "source": [
    "a = [[1,0 ,1, 0, 0],\n",
    "     [1 ,0, 1, 1 ,1],\n",
    "     [1 ,1, 1, 1, 1],\n",
    "    [1, 0, 0 ,1, 0]]\n",
    "max(max(a))**2"
   ]
  },
  {
   "cell_type": "code",
   "execution_count": null,
   "metadata": {},
   "outputs": [],
   "source": []
  },
  {
   "cell_type": "code",
   "execution_count": null,
   "metadata": {},
   "outputs": [],
   "source": []
  }
 ],
 "metadata": {
  "kernelspec": {
   "display_name": "Python 3",
   "language": "python",
   "name": "python3"
  },
  "language_info": {
   "codemirror_mode": {
    "name": "ipython",
    "version": 3
   },
   "file_extension": ".py",
   "mimetype": "text/x-python",
   "name": "python",
   "nbconvert_exporter": "python",
   "pygments_lexer": "ipython3",
   "version": "3.6.12"
  }
 },
 "nbformat": 4,
 "nbformat_minor": 4
}
