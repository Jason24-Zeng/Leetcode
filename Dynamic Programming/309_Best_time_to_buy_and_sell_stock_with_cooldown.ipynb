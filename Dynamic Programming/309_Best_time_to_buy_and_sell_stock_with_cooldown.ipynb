{
 "cells": [
  {
   "cell_type": "markdown",
   "metadata": {},
   "source": [
    "Say you have an array for which the ith element is the price of a given stock on day i.\n",
    "\n",
    "Design an algorithm to find the maximum profit. You may complete as many transactions as you like (ie, buy one and sell one share of the stock multiple times) with the following restrictions:\n",
    "\n",
    "You may not engage in multiple transactions at the same time (ie, you must sell the stock before you buy again).\n",
    "After you sell your stock, you cannot buy stock on next day. (ie, cooldown 1 day)\n",
    "Example:\n",
    "```\n",
    "Input: [1,2,3,0,2]\n",
    "Output: 3 \n",
    "Explanation: transactions = [buy, sell, cooldown, buy, sell]\n",
    "```"
   ]
  },
  {
   "cell_type": "code",
   "execution_count": 39,
   "metadata": {},
   "outputs": [],
   "source": [
    "# version 1\n",
    "class Solution:\n",
    "    def maxProfit(self, prices) -> int:\n",
    "        lenp = len(prices)\n",
    "        \n",
    "        if lenp <= 1:\n",
    "            return 0\n",
    "        elif lenp == 2:\n",
    "            return prices[1] - prices[0]\n",
    "        else:\n",
    "            overal_max_profit = [0 for _ in range(lenp+2)]\n",
    "            for i in reversed(range(lenp-1)):\n",
    "                overal_max_profit[i] = overal_max_profit[i+1]\n",
    "                for j in range(i, lenp):\n",
    "                    overal_max_profit[i] = max(overal_max_profit[i], prices[j]-prices[i]+overal_max_profit[j+2])\n",
    "                print(i, overal_max_profit[i])\n",
    "            return overal_max_profit[0]"
   ]
  },
  {
   "cell_type": "code",
   "execution_count": 62,
   "metadata": {},
   "outputs": [],
   "source": [
    "# version 2\n",
    "class Solution:\n",
    "    def maxProfit(self, prices) -> int:\n",
    "        lenp = len(prices)\n",
    "        buy, sell, held = [0 for _ in range(lenp+1)], [float('-inf')]+[0 for _ in range(1,lenp+1)], [float('-inf')]+[0 for _ in range(1,lenp+1)]\n",
    "        for i in range(1, len(prices)+1):\n",
    "            buy[i] = max(buy[i-1], sell[i-1])\n",
    "            sell[i] = held[i-1] + prices[i-1]\n",
    "            held[i] = max(buy[i-1]-prices[i-1], held[i-1])\n",
    "        print(buy, sell, held)\n",
    "        return max(sell[-1], buy[-1])\n",
    "# class Solution:\n",
    "#     def maxProfit(self, prices) -> int:\n",
    "#         sold, held, reset = float('-inf'), float('-inf'), 0\n",
    "\n",
    "#         for price in prices:\n",
    "#             # Alternative: the calculation is done in parallel.\n",
    "#             # Therefore no need to keep temporary variables\n",
    "#             #sold, held, reset = held + price, max(held, reset-price), max(reset, sold)\n",
    "\n",
    "#             pre_sold = sold\n",
    "#             sold = held + price\n",
    "#             held = max(held, reset - price)\n",
    "#             reset = max(reset, pre_sold)\n",
    "\n",
    "#         return max(sold, reset)"
   ]
  },
  {
   "cell_type": "code",
   "execution_count": 63,
   "metadata": {},
   "outputs": [
    {
     "name": "stdout",
     "output_type": "stream",
     "text": [
      "[0, 0, 0, 1, 2, 3, 3] [-inf, -inf, 1, 2, 3, -1, 4] [-inf, -1, -1, -1, -1, 2, 2]\n",
      "4\n"
     ]
    }
   ],
   "source": [
    "if __name__ == '__main__':\n",
    "    solution = Solution()\n",
    "    prices = [1,2,3,4,0,2]\n",
    "    print(solution.maxProfit(prices))"
   ]
  },
  {
   "cell_type": "code",
   "execution_count": 16,
   "metadata": {},
   "outputs": [
    {
     "name": "stdout",
     "output_type": "stream",
     "text": [
      "3\n",
      "2\n",
      "1\n",
      "0\n"
     ]
    }
   ],
   "source": [
    "for i in reversed(range(4)):\n",
    "    print(i)"
   ]
  },
  {
   "cell_type": "code",
   "execution_count": null,
   "metadata": {},
   "outputs": [],
   "source": []
  },
  {
   "cell_type": "code",
   "execution_count": null,
   "metadata": {},
   "outputs": [],
   "source": []
  },
  {
   "cell_type": "code",
   "execution_count": null,
   "metadata": {},
   "outputs": [],
   "source": []
  }
 ],
 "metadata": {
  "kernelspec": {
   "display_name": "Python 3",
   "language": "python",
   "name": "python3"
  },
  "language_info": {
   "codemirror_mode": {
    "name": "ipython",
    "version": 3
   },
   "file_extension": ".py",
   "mimetype": "text/x-python",
   "name": "python",
   "nbconvert_exporter": "python",
   "pygments_lexer": "ipython3",
   "version": "3.6.12"
  }
 },
 "nbformat": 4,
 "nbformat_minor": 4
}
