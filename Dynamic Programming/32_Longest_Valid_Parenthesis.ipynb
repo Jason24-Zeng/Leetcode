{
 "cells": [
  {
   "cell_type": "markdown",
   "metadata": {},
   "source": [
    "Given a string containing just the characters '(' and ')', find the length of the longest valid (well-formed) parentheses substring.\n",
    "\n",
    " \n",
    "\n",
    "Example 1:\n",
    "```\n",
    "Input: s = \"(()\"\n",
    "Output: 2\n",
    "Explanation: The longest valid parentheses substring is \"()\".\n",
    "```\n",
    "Example 2:\n",
    "```\n",
    "Input: s = \")()())\"\n",
    "Output: 4\n",
    "Explanation: The longest valid parentheses substring is \"()()\".\n",
    "```\n",
    "Example 3:\n",
    "```\n",
    "Input: s = \"\"\n",
    "Output: 0\n",
    "```\n",
    "\n",
    "Constraints:\n",
    "\n",
    "- 0 <= s.length <= 3 * 104\n",
    "- s[i] is '(', or ')'."
   ]
  },
  {
   "cell_type": "code",
   "execution_count": null,
   "metadata": {},
   "outputs": [],
   "source": [
    "# Dynamic Programming\n",
    "class Solution:\n",
    "    def longestValidParentheses(self, s: str) -> int:\n",
    "        lens = len(s)\n",
    "        if lens <= 1:\n",
    "            return 0\n",
    "        dp = [0] * lens\n",
    "        for i in range(1, lens):\n",
    "            if s[i] == ')':\n",
    "                pre = i-dp[i-1] - 1\n",
    "                if  pre >= 0 and s[pre] == '(':\n",
    "                    if pre == 0:\n",
    "                        dp[i] = i + 1\n",
    "                    else:\n",
    "                        dp[i] = dp[i-1] + 2 + dp[pre-1]\n",
    "        \n",
    "        return max(dp)\n",
    "                    "
   ]
  },
  {
   "cell_type": "code",
   "execution_count": null,
   "metadata": {},
   "outputs": [],
   "source": [
    "# stacking\n",
    "class Solution:\n",
    "    def longestValidParentheses(self, s: str) -> int:\n",
    "        lens = len(s)\n",
    "\n",
    "        stack = [-1]\n",
    "        max_length = 0\n",
    "        for i in range(lens):\n",
    "            if s[i] == '(':\n",
    "                stack.append(i)\n",
    "            else:                \n",
    "                pre = stack.pop(-1)\n",
    "                if stack == []:\n",
    "                    stack.append(i)\n",
    "                else:\n",
    "                    max_length = max(max_length, i-stack[-1])\n",
    "        return max_length\n",
    "                    "
   ]
  },
  {
   "cell_type": "code",
   "execution_count": null,
   "metadata": {},
   "outputs": [],
   "source": []
  },
  {
   "cell_type": "code",
   "execution_count": null,
   "metadata": {},
   "outputs": [],
   "source": []
  }
 ],
 "metadata": {
  "kernelspec": {
   "display_name": "Python 3",
   "language": "python",
   "name": "python3"
  },
  "language_info": {
   "codemirror_mode": {
    "name": "ipython",
    "version": 3
   },
   "file_extension": ".py",
   "mimetype": "text/x-python",
   "name": "python",
   "nbconvert_exporter": "python",
   "pygments_lexer": "ipython3",
   "version": "3.7.8"
  }
 },
 "nbformat": 4,
 "nbformat_minor": 4
}
