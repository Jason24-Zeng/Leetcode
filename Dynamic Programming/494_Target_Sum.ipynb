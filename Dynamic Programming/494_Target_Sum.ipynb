{
 "cells": [
  {
   "cell_type": "markdown",
   "metadata": {},
   "source": [
    "You are given a list of non-negative integers, a1, a2, ..., an, and a target, S. Now you have 2 symbols + and -. For each integer, you should choose one from + and - as its new symbol.\n",
    "\n",
    "Find out how many ways to assign symbols to make sum of integers equal to target S.\n",
    "\n",
    "Example 1:\n",
    "```python\n",
    "Input: nums is [1, 1, 1, 1, 1], S is 3. \n",
    "Output: 5\n",
    "Explanation: \n",
    "\n",
    "-1+1+1+1+1 = 3\n",
    "+1-1+1+1+1 = 3\n",
    "+1+1-1+1+1 = 3\n",
    "+1+1+1-1+1 = 3\n",
    "+1+1+1+1-1 = 3\n",
    "\n",
    "There are 5 ways to assign symbols to make the sum of nums be target 3.\n",
    "```\n",
    "\n",
    "Constraints:\n",
    "\n",
    "- The length of the given array is positive and will not exceed 20.\n",
    "- The sum of elements in the given array will not exceed 1000.\n",
    "- Your output answer is guaranteed to be fitted in a 32-bit integer."
   ]
  },
  {
   "cell_type": "code",
   "execution_count": 79,
   "metadata": {},
   "outputs": [],
   "source": [
    "# Too long, 948ms\n",
    "class Solution:\n",
    "    def findTargetSumWays(self, nums, S: int) -> int:\n",
    "        sums = sum(nums)\n",
    "        lenn = len(nums)\n",
    "        if S > sums:\n",
    "            return 0\n",
    "        dp = [[ 0 for j in range(-sums, sums + 1)] for i in range(lenn)]\n",
    "        dp[0][sums - nums[0]] += 1\n",
    "        dp[0][sums + nums[0]] += 1\n",
    "        for ind in range(1, lenn):\n",
    "            for j in range(0, 2*sums + 1):\n",
    "                if j-nums[ind] < 0 and j + nums[ind] <= 2*sums:\n",
    "                    dp[ind][j] += dp[ind - 1][j+nums[ind]]\n",
    "                elif j - nums[ind] >= 0 and j + nums[ind] <= 2*sums:\n",
    "                    dp[ind][j] += dp[ind-1][j-nums[ind]] + dp[ind - 1][j+nums[ind]]\n",
    "                else:\n",
    "                    dp[ind][j] += dp[ind-1][j-nums[ind]]\n",
    "        return dp[lenn-1][sums + S]"
   ]
  },
  {
   "cell_type": "code",
   "execution_count": 5,
   "metadata": {},
   "outputs": [
    {
     "data": {
      "text/plain": [
       "[[0, 1, 0], [1, 0, 0], [1, 1, 0], [1, 1, 0]]"
      ]
     },
     "execution_count": 5,
     "metadata": {},
     "output_type": "execute_result"
    }
   ],
   "source": [
    "[[0 if i == j or i == 2 else 1 for i in range(3)] for j in range(4)]"
   ]
  },
  {
   "cell_type": "code",
   "execution_count": 80,
   "metadata": {},
   "outputs": [
    {
     "name": "stdout",
     "output_type": "stream",
     "text": [
      "34\n"
     ]
    }
   ],
   "source": [
    "if __name__ == '__main__':\n",
    "    solution = Solution()\n",
    "    nums = [5,5,8,1,4,7,1,3,8,4]\n",
    "    S = 8\n",
    "    print(solution.findTargetSumWays(nums, S))"
   ]
  },
  {
   "cell_type": "code",
   "execution_count": null,
   "metadata": {},
   "outputs": [],
   "source": []
  },
  {
   "cell_type": "code",
   "execution_count": null,
   "metadata": {},
   "outputs": [],
   "source": []
  },
  {
   "cell_type": "code",
   "execution_count": null,
   "metadata": {},
   "outputs": [],
   "source": []
  },
  {
   "cell_type": "code",
   "execution_count": null,
   "metadata": {},
   "outputs": [],
   "source": []
  }
 ],
 "metadata": {
  "kernelspec": {
   "display_name": "Python 3",
   "language": "python",
   "name": "python3"
  },
  "language_info": {
   "codemirror_mode": {
    "name": "ipython",
    "version": 3
   },
   "file_extension": ".py",
   "mimetype": "text/x-python",
   "name": "python",
   "nbconvert_exporter": "python",
   "pygments_lexer": "ipython3",
   "version": "3.6.12"
  }
 },
 "nbformat": 4,
 "nbformat_minor": 4
}
