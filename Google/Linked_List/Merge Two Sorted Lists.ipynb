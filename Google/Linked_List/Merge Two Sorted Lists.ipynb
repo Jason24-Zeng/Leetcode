{
 "cells": [
  {
   "cell_type": "code",
   "execution_count": null,
   "metadata": {},
   "outputs": [],
   "source": []
  },
  {
   "cell_type": "markdown",
   "metadata": {},
   "source": [
    "Merge two sorted linked lists and return it as a new sorted list. The new list should be made by splicing together the nodes of the first two lists.\n",
    "\n",
    " \n",
    "\n",
    "Example 1:\n",
    "\n",
    "```\n",
    "Input: l1 = [1,2,4], l2 = [1,3,4]\n",
    "Output: [1,1,2,3,4,4]\n",
    "```\n",
    "Example 2:\n",
    "```\n",
    "Input: l1 = [], l2 = []\n",
    "Output: []\n",
    "```\n",
    "Example 3:\n",
    "```\n",
    "Input: l1 = [], l2 = [0]\n",
    "Output: [0]\n",
    "``` \n",
    "\n",
    "Constraints:\n",
    "\n",
    "- The number of nodes in both lists is in the range [0, 50].\n",
    "- -100 <= Node.val <= 100\n",
    "- Both l1 and l2 are sorted in non-decreasing order."
   ]
  },
  {
   "cell_type": "code",
   "execution_count": null,
   "metadata": {},
   "outputs": [],
   "source": [
    "# Definition for singly-linked list.\n",
    "# class ListNode:\n",
    "#     def __init__(self, val=0, next=None):\n",
    "#         self.val = val\n",
    "#         self.next = next\n",
    "class Solution:\n",
    "    def mergeTwoLists(self, l1: ListNode, l2: ListNode) -> ListNode:\n",
    "        if not l1:\n",
    "            l1, l2 = l2, l1\n",
    "        head = node = ListNode(0)\n",
    "        #= l1\n",
    "        while l1 and l2:\n",
    "            if l1.val <= l2.val:\n",
    "                node.next = l1\n",
    "                l1 = l1.next\n",
    "            else:\n",
    "                node.next = l2\n",
    "                l2 = l2.next\n",
    "            node = node.next\n",
    "        if not l1:\n",
    "            node.next = l2\n",
    "        else:\n",
    "            node.next = l1\n",
    "        return head.next"
   ]
  },
  {
   "cell_type": "code",
   "execution_count": null,
   "metadata": {},
   "outputs": [],
   "source": []
  }
 ],
 "metadata": {
  "kernelspec": {
   "display_name": "Python 3",
   "language": "python",
   "name": "python3"
  },
  "language_info": {
   "codemirror_mode": {
    "name": "ipython",
    "version": 3
   },
   "file_extension": ".py",
   "mimetype": "text/x-python",
   "name": "python",
   "nbconvert_exporter": "python",
   "pygments_lexer": "ipython3",
   "version": "3.7.8"
  }
 },
 "nbformat": 4,
 "nbformat_minor": 4
}
