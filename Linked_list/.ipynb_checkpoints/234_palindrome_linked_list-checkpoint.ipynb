{
 "cells": [
  {
   "cell_type": "markdown",
   "metadata": {},
   "source": [
    "Given a singly linked list, determine if it is a palindrome.\n",
    "\n",
    "Example 1:\n",
    "```\n",
    "Input: 1->2\n",
    "Output: false\n",
    "```\n",
    "Example 2:\n",
    "```\n",
    "Input: 1->2->2->1\n",
    "Output: true\n",
    "```\n",
    "Follow up:\n",
    "Could you do it in O(n) time and O(1) space?"
   ]
  },
  {
   "cell_type": "code",
   "execution_count": 32,
   "metadata": {},
   "outputs": [],
   "source": [
    "# Definition for singly-linked list.\n",
    "# class ListNode:\n",
    "#     def __init__(self, val=0, next=None):\n",
    "#         self.val = val\n",
    "#         self.next = next\n",
    "# version 1 可提高空间：reverselink中变量有点太多\n",
    "class Solution:\n",
    "    def isPalindrome(self, head: ListNode) -> bool:\n",
    "        pointer1, pointer2 = head, head\n",
    "        temp = None\n",
    "        while pointer2 and pointer2.next:\n",
    "            pointer2 = pointer2.next.next\n",
    "            pointer1 = pointer1.next\n",
    "        head1 = pointer1\n",
    "        head2 = self.reverselink(head1)\n",
    "        while head2:\n",
    "            #print(head2.val, head.val)\n",
    "            if head2.val == head.val:\n",
    "                head2 = head2.next\n",
    "                head = head.next\n",
    "            else:\n",
    "                return False\n",
    "        return True\n",
    "    def reverselink(self, head):\n",
    "        curr, prev = head, None\n",
    "        # 解释这一段：curr代表现在这个current_node, prev表示已经创建好的reversed_previous_node,每次循环的目的就是将current_node加到previous_node的头上， 再把原链表中\n",
    "        # current_node后面的node赋为current_node以备再一次循环。\n",
    "        while curr:\n",
    "            temp = curr.next # current_node后面一个node提取出来\n",
    "            curr.next = prev # 将current_node加到prev前面\n",
    "            prev = curr # 然后合并成为prev\n",
    "            curr = temp # current_node变成预提取出来的node\n",
    "            # version 2: 在连续赋值语句中等式右边其实都是局部变量，而不是真正的变量值本身\n",
    "            # curr.next, curr, prev = prev, curr.next, curr\n",
    "        return prev"
   ]
  },
  {
   "cell_type": "code",
   "execution_count": 1,
   "metadata": {},
   "outputs": [],
   "source": [
    "class ListNode:\n",
    "    def __init__(self, x):\n",
    "        self.val = x\n",
    "        self.next = None"
   ]
  },
  {
   "cell_type": "code",
   "execution_count": 36,
   "metadata": {},
   "outputs": [],
   "source": [
    "listA = [1,2,6,6,6,2,1]\n",
    "for i in range(len(listA)):\n",
    "    name='A'+str(i+1)\n",
    "    locals()[name]=ListNode(listA[i])\n",
    "for i in range(len(listA)-1):\n",
    "    locals()['A'+str(i+1)].next = locals()['A' + str(i+2)]\n",
    "headA = A1\n"
   ]
  },
  {
   "cell_type": "code",
   "execution_count": 20,
   "metadata": {},
   "outputs": [
    {
     "name": "stdout",
     "output_type": "stream",
     "text": [
      "1\n",
      "6\n"
     ]
    }
   ],
   "source": [
    "print(A1.val)\n",
    "A1 = A1.next.next\n",
    "print(A1.val)"
   ]
  },
  {
   "cell_type": "code",
   "execution_count": 37,
   "metadata": {},
   "outputs": [
    {
     "name": "stdout",
     "output_type": "stream",
     "text": [
      "1 1\n",
      "2 2\n",
      "6 6\n",
      "6 6\n",
      "True\n"
     ]
    }
   ],
   "source": [
    "if __name__ == '__main__':\n",
    "    solution = Solution()\n",
    "    A2 = solution.isPalindrome(headA)\n",
    "print(A2)"
   ]
  },
  {
   "cell_type": "code",
   "execution_count": null,
   "metadata": {},
   "outputs": [],
   "source": []
  },
  {
   "cell_type": "code",
   "execution_count": null,
   "metadata": {},
   "outputs": [],
   "source": []
  },
  {
   "cell_type": "code",
   "execution_count": null,
   "metadata": {},
   "outputs": [],
   "source": []
  }
 ],
 "metadata": {
  "kernelspec": {
   "display_name": "Python 3",
   "language": "python",
   "name": "python3"
  },
  "language_info": {
   "codemirror_mode": {
    "name": "ipython",
    "version": 3
   },
   "file_extension": ".py",
   "mimetype": "text/x-python",
   "name": "python",
   "nbconvert_exporter": "python",
   "pygments_lexer": "ipython3",
   "version": "3.6.12"
  }
 },
 "nbformat": 4,
 "nbformat_minor": 4
}
