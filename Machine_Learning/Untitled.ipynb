{
 "cells": [
  {
   "cell_type": "code",
   "execution_count": 1,
   "metadata": {},
   "outputs": [],
   "source": [
    "import pandas as pd\n",
    "import numpy as np"
   ]
  },
  {
   "cell_type": "markdown",
   "metadata": {},
   "source": [
    "$\\lambda$"
   ]
  },
  {
   "cell_type": "code",
   "execution_count": null,
   "metadata": {},
   "outputs": [],
   "source": [
    "\n",
    "    "
   ]
  },
  {
   "cell_type": "markdown",
   "metadata": {},
   "source": [
    "Decision Tree CART:\n",
    "1. 注意对Tree做预剪枝，需要留意的是最大深度self.max_depth以及最小分裂self.min_splits\n",
    "2. 将不同样品的feature和label合并成训练集(X, Y)\n",
    "3. 根据训练集去build tree\n",
    "    -  Gini Index：calculates the amount of probability of a specific feature that is classified incorrectly when selected randomly. Gini index varies between values 0 and 1, where 0 expresses the purity of Gini Index $= 1 - \\Sigma^n_{i=1} (P_i)^2$, Where Pi denotes the probability of an element being classified for a distinct class. Note: the Information Gain is used in ID3, C4.5 algorithms."
   ]
  },
  {
   "cell_type": "code",
   "execution_count": null,
   "metadata": {},
   "outputs": [],
   "source": [
    "class DecisionTree(object):\n",
    "    def __init__(self, _max_depth, _min_splits):\n",
    "        self.max_depth = _max_depth\n",
    "        self.min_splits = _min_splits\n",
    "    \n",
    "    def fit(self, _feature, _label):\n",
    "        self.feature = _feature\n",
    "        self.label = _label\n",
    "        self.train_data = np.column_stack((self.feature, self.label))\n",
    "        self.build_tree()\n",
    "    \n",
    "    def compute_gini_similarity(self, groups, class_labels):\n",
    "        \"\"\"\n",
    "        compute the gini index for the groups and class_labels\n",
    "        \n",
    "        :param groups: List[List[feature]], groups is a list of list of features in each leaf node\n",
    "        :param class_labels: List[label], contains all the labels type in true label\n",
    "        \n",
    "        \"\"\"\n",
    "        num_sample = sum([len(group) for group in groups])\n",
    "        gini_score = 0\n",
    "        for group in groups:\n",
    "            size = float(len(group)) #取出某一leaf node的所有output list\n",
    "            if size == 0:\n",
    "                continue\n",
    "            score = 0.0\n",
    "            for label in class_labels: #对该group里所有的数进行判断，如果是pure的，那proportion = 1， gini_socre会是0， 越纯的Gini系数越小，越不容易再划分\n",
    "                proportion = (group[:,-1] == label).sum() / size\n",
    "                score += proportion * proportion\n",
    "            gini_score += (1.0 - score) * (size/num_sample) #将目前所有leaf node的gini_score加总\n",
    "        return gini_score\n",
    "    def terminal_node(self, _group):\n",
    "        \"\"\"\n",
    "        Function set terminal node as the most common class in the group to make prediction later on\n",
    "        is an helper function used to mark the leaf node in the tree based on the early stop condition\n",
    "        or actual stop condition which ever is meet early\n",
    "        :param _group:\n",
    "        :return:\n",
    "        \"\"\"\n",
    "        class_labels, count = np.unique(_group[:,-1], return_counts= True)\n",
    "        return class_labels[np.argmax(count)]\n",
    "    def split(self, index, val, data):\n",
    "        data_left = np.array([]).reshape(0, self.train_data.shape[1])\n",
    "        data_right = np.array([]).reshape(0, self.train_data.shape[1])\n",
    "        for row in data:\n",
    "            if row[index] <= val:\n",
    "                data_left = np.vstack((data_left, row))\n",
    "            if row[index] > val:\n",
    "                data_right = np.vstack((data_right, row))\n",
    "        return data_left, data_right\n",
    "    def best_split(self, data):\n",
    "        class_labels = np.unique(data)\n",
    "        best_index = 999\n",
    "        best_val = 999\n",
    "        best_score = 999\n",
    "        best_groups = None\n",
    "        for index in range(data.shape[1] - 1):\n",
    "            for row in data:\n",
    "                groups = self.split(index, row[index], data)\n",
    "                gini_score = self.comput_gini_simularity(groups, class_labels)\n",
    "                if gini_score < best_score:\n",
    "                    best_score = gini_score\n",
    "                    best_val = row[index]\n",
    "                    best_index = index\n",
    "                    best_groups = groups\n",
    "        result = {}\n",
    "        result['index'] = best_index\n",
    "        result['val'] = best_val\n",
    "        result['groups'] = best_groups\n",
    "        return result\n",
    "    def split_branch(self, node, depth):\n",
    "        left_node, right_node = node['groups']\n",
    "        del(node['groups'])\n",
    "        \n",
    "        if not isinstance(left_node, np.ndarray) or not isinstance(right_node, np.ndarray):\n",
    "            node['left'] = self.terminal_node(left_node + right_node)\n",
    "            node['right'] = self.terminal_node(left_node + right_node)\n",
    "            return\n",
    "        if depth >= self.max_depth:\n",
    "            node['left'] = self.terminal_node(left_node)\n",
    "            node['right'] = self.terminal_node(right_node)\n",
    "            return \n",
    "        if len(left_node) <= self.min_splits:\n",
    "            node['left'] = self.terminal_node(left_node)\n",
    "        else:\n",
    "            node['left'] = self.best_split(left_node)\n",
    "            self.split_brach(node['left'], depth + 1)\n",
    "        if len(right_node) <= self.min_splits:\n",
    "            node['right'] = self.terminal_node(right_node)\n",
    "        else:\n",
    "            node['left'] = self.terminal_node(right_node)\n",
    "            self.split_brach(node['right'], depth+1)\n",
    "    \n",
    "    def build_tree(self):\n",
    "        self.root = self.best_split(self.train_data)\n",
    "        self.split_brach(self.root, 1)\n",
    "        return self.root\n",
    "    \n",
    "    def _predit(self, node, row):\n",
    "        if row[node['index']] < node['val']:\n",
    "            if isinstance(node['left'], dict):\n",
    "                return self._predict(node['left'], row)\n",
    "            else:\n",
    "                return node['left']\n",
    "        else:\n",
    "            if isinstance(node['right'], dict):\n",
    "                return self._predict(node['right'])\n",
    "            else:\n",
    "                return node['right']\n",
    "    def predict(self, test_data):\n",
    "        self.predicted_label = np.array([])\n",
    "        for index in test_data:\n",
    "            self.predicted_label = np.append(self.predicted_label, self.predict(self.root, index))\n",
    "        return self.predicted_label"
   ]
  },
  {
   "cell_type": "code",
   "execution_count": 7,
   "metadata": {},
   "outputs": [
    {
     "name": "stdout",
     "output_type": "stream",
     "text": [
      "[1 2 3 4] [3 3 2 2]\n",
      "1\n"
     ]
    }
   ],
   "source": [
    "List_train  = [1,2,1,3,4,4,2,3,2,1]\n",
    "label, count = np.unique(List_train, return_counts = True)\n",
    "print(label, count)\n",
    "np.argmax(count)\n",
    "print(label[np.argmax(count)])"
   ]
  },
  {
   "cell_type": "code",
   "execution_count": 4,
   "metadata": {},
   "outputs": [
    {
     "name": "stdout",
     "output_type": "stream",
     "text": [
      "1 3\n",
      "2 3\n",
      "3 2\n",
      "4 2\n"
     ]
    }
   ],
   "source": [
    "for lab, c in zip(label, count):\n",
    "    print(lab, c)"
   ]
  },
  {
   "cell_type": "code",
   "execution_count": 11,
   "metadata": {},
   "outputs": [
    {
     "name": "stdout",
     "output_type": "stream",
     "text": [
      "[[0, 0, 0], [1, 0, 1], [0, 1, 1]]\n"
     ]
    }
   ],
   "source": [
    "A = [[1,1,0],[1,0,1],[0,0,0]]\n",
    "for row in range(len(A)//2):\n",
    "    A[row] , A[len(A) - 1 - row] = A[len(A) - 1 - row][::-1], A[row][::-1]\n",
    "print(A)"
   ]
  },
  {
   "cell_type": "code",
   "execution_count": 12,
   "metadata": {},
   "outputs": [],
   "source": [
    "for i in range(0):\n",
    "    print(i)"
   ]
  }
 ],
 "metadata": {
  "kernelspec": {
   "display_name": "Python [conda env:tensorflow]",
   "language": "python",
   "name": "conda-env-tensorflow-py"
  },
  "language_info": {
   "codemirror_mode": {
    "name": "ipython",
    "version": 3
   },
   "file_extension": ".py",
   "mimetype": "text/x-python",
   "name": "python",
   "nbconvert_exporter": "python",
   "pygments_lexer": "ipython3",
   "version": "3.7.8"
  }
 },
 "nbformat": 4,
 "nbformat_minor": 4
}
