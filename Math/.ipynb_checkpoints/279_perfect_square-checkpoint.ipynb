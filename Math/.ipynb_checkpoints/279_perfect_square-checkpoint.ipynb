{
 "cells": [
  {
   "cell_type": "markdown",
   "metadata": {},
   "source": [
    "Given a positive integer n, find the least number of perfect square numbers (for example, 1, 4, 9, 16, ...) which sum to n.\n",
    "\n",
    "Example 1:\n",
    "```\n",
    "Input: n = 12\n",
    "Output: 3 \n",
    "Explanation: 12 = 4 + 4 + 4.\n",
    "```"
   ]
  },
  {
   "cell_type": "code",
   "execution_count": 27,
   "metadata": {},
   "outputs": [],
   "source": [
    "class Solution:\n",
    "    def numSquares(self, n: int) -> int:\n",
    "        num_squared = []\n",
    "        i = 1\n",
    "        while n - i**2 >= 0:\n",
    "            num_squared.append(i**2)\n",
    "            if n- i**2 == 0:\n",
    "                return 1\n",
    "            i += 1\n",
    "        for ind in num_squared:\n",
    "            new_num = n - ind\n",
    "            for j in self.squared_list(new_num):\n",
    "                if self.issquared(new_num):\n",
    "                    return 2\n",
    "        for i in num_squared:\n",
    "            new_nums = n - i            \n",
    "            squared_list2 = self.squared_list(new_nums)\n",
    "            #print(squared_list)\n",
    "            for j in squared_list2:\n",
    "                new_new_nums = new_nums - j\n",
    "                if self.issquared(new_new_nums):\n",
    "                    return 3\n",
    "        return 4\n",
    "            \n",
    "        \n",
    "    def squared_list(self, num):\n",
    "        num_squared = []\n",
    "        i = 1\n",
    "        while num-i**2>=0:\n",
    "            num_squared.append(i**2)\n",
    "            i+=1\n",
    "        return num_squared\n",
    "    def issquared(self, n):\n",
    "        i = 1\n",
    "        while n - i**2 >= 0:\n",
    "            if n - i**2 == 0:\n",
    "                return True\n",
    "            else:\n",
    "                i+=1\n",
    "        return False\n",
    "    \n",
    "# 7068 ms version 1"
   ]
  },
  {
   "cell_type": "code",
   "execution_count": 76,
   "metadata": {},
   "outputs": [],
   "source": [
    "## version 2 2016ms use set to delete redudent number\n",
    "class Solution:\n",
    "    def numSquares(self, n: int) -> int:\n",
    "        \n",
    "        squared_list_l1 = self.squared_list(n)\n",
    "        if n in squared_list_l1:\n",
    "            return 1\n",
    "        remainder1 = [n-i for i in squared_list_l1]\n",
    "        remainder2 = []\n",
    "        for i in remainder1:\n",
    "            squared_list_l2 = self.squared_list(i)\n",
    "            remainder2 += [i - ind for ind in squared_list_l2]\n",
    "        remainder2= list(set(remainder2))\n",
    "        if 0 in remainder2:\n",
    "            return 2\n",
    "        remainder3 = []\n",
    "        for i in remainder2:\n",
    "            squared_list_l3 = self.squared_list(i)\n",
    "            remainder3 += [i - ind for ind in squared_list_l3]\n",
    "        remainder3 = list(set(remainder3))\n",
    "        if 0 in remainder3:\n",
    "            return 3\n",
    "        else:\n",
    "            return 4\n",
    "        \n",
    "        \n",
    "        \n",
    "            \n",
    "        \n",
    "    def squared_list(self, num):\n",
    "        num_squared = []\n",
    "        i = 1\n",
    "        while num-i**2>=0:\n",
    "            num_squared.append(i**2)\n",
    "            i+=1\n",
    "        return num_squared\n",
    "    def issquared(self, n):\n",
    "        i = 1\n",
    "        while n - i**2 >= 0:\n",
    "            if n - i**2 == 0:\n",
    "                return True\n",
    "            else:\n",
    "                i+=1\n",
    "        return False"
   ]
  },
  {
   "cell_type": "code",
   "execution_count": 81,
   "metadata": {},
   "outputs": [],
   "source": [
    "# version 4: 40ms\n",
    "class Solution:\n",
    "    def numSquares(self, n: int) -> int: \n",
    "        if self.issquared(n):\n",
    "            return 1\n",
    "        \n",
    "        num = n\n",
    "        while num % 4 == 0: # or we can write (n&3)==0 because 3 is 2-bit calcu is 000...0011, while to make this equation available, the last 2 of bit for n should be 0, which means n could be divided by 4.  \n",
    "            num /= 4   # or n >= 2， \n",
    "        _ , remainder = divmod(num, 8)\n",
    "        if remainder == 7:\n",
    "            return 4\n",
    "        \n",
    "        for ind in self.squared_list(n):\n",
    "            if self.issquared(n - ind):\n",
    "                return 2\n",
    "        return 3\n",
    "        \n",
    "        \n",
    "            \n",
    "        \n",
    "    def squared_list(self, num):\n",
    "        num_squared = [i**2 for i in range(int(num**0.5)+1)]\n",
    "        return num_squared\n",
    "    def issquared(self, n):\n",
    "        return n - int(n**0.5)**2 == 0"
   ]
  },
  {
   "cell_type": "code",
   "execution_count": null,
   "metadata": {},
   "outputs": [],
   "source": [
    "\n",
    "## version 3 \t1156 ms 修改了两个内置函数\n",
    "class Solution:\n",
    "    def numSquares(self, n: int) -> int:        \n",
    "        squared_list_l1 = self.squared_list(n)\n",
    "        if n in squared_list_l1:\n",
    "            return 1\n",
    "        remainder1 = [n-i for i in squared_list_l1]\n",
    "        remainder2 = []\n",
    "        for i in remainder1:\n",
    "            squared_list_l2 = self.squared_list(i)\n",
    "            remainder2 += [i - ind for ind in squared_list_l2]\n",
    "        remainder2= list(set(remainder2))\n",
    "        if 0 in remainder2:\n",
    "            return 2\n",
    "        remainder3 = []\n",
    "        for i in remainder2:\n",
    "            squared_list_l3 = self.squared_list(i)\n",
    "            remainder3 += [i - ind for ind in squared_list_l3]\n",
    "        remainder3 = list(set(remainder3))\n",
    "        if 0 in remainder3:\n",
    "            return 3\n",
    "        else:\n",
    "            return 4\n",
    "        \n",
    "        \n",
    "        \n",
    "            \n",
    "        \n",
    "    def squared_list(self, num):\n",
    "        num_squared = [i**2 for i in range(int(num**0.5)+1)]\n",
    "        return num_squared\n",
    "    def issquared(self, n):\n",
    "        return n - int(n**0.5)**2 == 0"
   ]
  },
  {
   "cell_type": "code",
   "execution_count": 82,
   "metadata": {},
   "outputs": [
    {
     "name": "stdout",
     "output_type": "stream",
     "text": [
      "3\n"
     ]
    }
   ],
   "source": [
    "a = 12\n",
    "if __name__ == '__main__':\n",
    "    solution = Solution()\n",
    "    #print(solution.issquared(81))\n",
    "    num = solution.numSquares(11)\n",
    "    print(num)"
   ]
  },
  {
   "cell_type": "code",
   "execution_count": 40,
   "metadata": {},
   "outputs": [
    {
     "ename": "TypeError",
     "evalue": "unsupported operand type(s) for +: 'set' and 'set'",
     "output_type": "error",
     "traceback": [
      "\u001b[1;31m---------------------------------------------------------------------------\u001b[0m",
      "\u001b[1;31mTypeError\u001b[0m                                 Traceback (most recent call last)",
      "\u001b[1;32m<ipython-input-40-5d74a98a1929>\u001b[0m in \u001b[0;36m<module>\u001b[1;34m\u001b[0m\n\u001b[1;32m----> 1\u001b[1;33m \u001b[0mset\u001b[0m\u001b[1;33m(\u001b[0m\u001b[1;33m[\u001b[0m\u001b[1;36m2\u001b[0m\u001b[1;33m,\u001b[0m\u001b[1;36m3\u001b[0m\u001b[1;33m]\u001b[0m \u001b[1;33m+\u001b[0m \u001b[1;33m[\u001b[0m\u001b[1;36m4\u001b[0m\u001b[1;33m,\u001b[0m\u001b[1;36m5\u001b[0m\u001b[1;33m]\u001b[0m\u001b[1;33m)\u001b[0m \u001b[1;33m+\u001b[0m \u001b[0mset\u001b[0m\u001b[1;33m(\u001b[0m\u001b[1;33m[\u001b[0m\u001b[1;36m3\u001b[0m\u001b[1;33m,\u001b[0m\u001b[1;36m3\u001b[0m\u001b[1;33m]\u001b[0m\u001b[1;33m)\u001b[0m\u001b[1;33m\u001b[0m\u001b[1;33m\u001b[0m\u001b[0m\n\u001b[0m",
      "\u001b[1;31mTypeError\u001b[0m: unsupported operand type(s) for +: 'set' and 'set'"
     ]
    }
   ],
   "source": [
    "set([2,3] + [4,5])"
   ]
  },
  {
   "cell_type": "code",
   "execution_count": null,
   "metadata": {},
   "outputs": [],
   "source": []
  },
  {
   "cell_type": "code",
   "execution_count": null,
   "metadata": {},
   "outputs": [],
   "source": []
  },
  {
   "cell_type": "code",
   "execution_count": null,
   "metadata": {},
   "outputs": [],
   "source": []
  },
  {
   "cell_type": "code",
   "execution_count": null,
   "metadata": {},
   "outputs": [],
   "source": []
  }
 ],
 "metadata": {
  "kernelspec": {
   "display_name": "Python 3",
   "language": "python",
   "name": "python3"
  },
  "language_info": {
   "codemirror_mode": {
    "name": "ipython",
    "version": 3
   },
   "file_extension": ".py",
   "mimetype": "text/x-python",
   "name": "python",
   "nbconvert_exporter": "python",
   "pygments_lexer": "ipython3",
   "version": "3.6.12"
  }
 },
 "nbformat": 4,
 "nbformat_minor": 4
}
