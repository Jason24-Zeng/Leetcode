{
 "cells": [
  {
   "cell_type": "markdown",
   "metadata": {},
   "source": [
    "You are given two non-empty linked lists representing two non-negative integers. The digits are stored in reverse order and each of their nodes contain a single digit. Add the two numbers and return it as a linked list.\n",
    "\n",
    "You may assume the two numbers do not contain any leading zero, except the number 0 itself.\n",
    "\n",
    "Example:\n",
    "```\n",
    "Input: (2 -> 4 -> 3) + (5 -> 6 -> 4)\n",
    "Output: 7 -> 0 -> 8\n",
    "```\n",
    "Explanation: 342 + 465 = 807."
   ]
  },
  {
   "cell_type": "code",
   "execution_count": 112,
   "metadata": {},
   "outputs": [],
   "source": [
    "# Definition for singly-linked list.\n",
    "# class ListNode:\n",
    "#     def __init__(self, val=0, next=None):\n",
    "#         self.val = val\n",
    "#         self.next = next\n",
    "class Solution:\n",
    "    def addTwoNumbers(self, l1: ListNode, l2: ListNode) -> ListNode:\n",
    "        next1 = 0\n",
    "        temp = l1\n",
    "        while l1 and l2:\n",
    "            next1, l1.val= divmod(l1.val + l2.val + next1,10)\n",
    "            if l1.next and l2.next:\n",
    "                l1 = l1.next\n",
    "                l2 = l2.next\n",
    "            else:\n",
    "                break\n",
    "        if l2.next:\n",
    "            print(l1.val)\n",
    "            l1.next = l2.next\n",
    "            print('l2.val = ', l2.val, l1.val, next1)\n",
    "        #next1, l1.val= divmod(l1.val + l2.val + next1,10)  \n",
    "        while l1:\n",
    "            if l1.next == None:\n",
    "                print('right')\n",
    "                if next1 == 1:\n",
    "                    new_nodes = ListNode(val = next1)\n",
    "                    print('new_val:',new_nodes.val)\n",
    "                    l1.next = new_nodes\n",
    "                return temp\n",
    "            else:\n",
    "                l1 = l1.next\n",
    "                next1, l1.val= divmod(l1.val + next1,10) \n",
    "#         while l1.next:\n",
    "#             next1, l1.val = divmod(l1.val + next1,10)\n",
    "#             l1 = l1.next\n",
    "#         if l1.next == None:\n",
    "#             if next1 == 1:\n",
    "#                 new_nodes = ListNode(val =next1)\n",
    "#                 #print(new_nodes.val)\n",
    "#                 l1.next = new_nodes\n",
    "        return temp\n",
    "        \n",
    "            "
   ]
  },
  {
   "cell_type": "code",
   "execution_count": 5,
   "metadata": {},
   "outputs": [
    {
     "name": "stdout",
     "output_type": "stream",
     "text": [
      "1 3\n"
     ]
    }
   ],
   "source": [
    "\n",
    "a,b = divmod(10+3, 10)\n",
    "print(a,b)"
   ]
  },
  {
   "cell_type": "code",
   "execution_count": 22,
   "metadata": {},
   "outputs": [],
   "source": [
    "class ListNode:\n",
    "    def __init__(self, val = 0, next =None):\n",
    "        self.val = val\n",
    "        self.next = None"
   ]
  },
  {
   "cell_type": "code",
   "execution_count": 113,
   "metadata": {},
   "outputs": [],
   "source": [
    "listA = [2,4,3]\n",
    "for i in range(len(listA)):\n",
    "    name='A'+str(i+1)\n",
    "    locals()[name]=ListNode(listA[i])\n",
    "for i in range(len(listA)-1):\n",
    "    locals()['A'+str(i+1)].next = locals()['A' + str(i+2)]\n",
    "headA = A1\n",
    "listB = [5,6,6,9,9]\n",
    "for i in range(len(listB)):\n",
    "    name='B'+str(i+1)\n",
    "    locals()[name]=ListNode(listB[i])\n",
    "for i in range(len(listB)-1):\n",
    "    locals()['B'+str(i+1)].next = locals()['B' + str(i+2)]\n",
    "headB = B1"
   ]
  },
  {
   "cell_type": "code",
   "execution_count": 50,
   "metadata": {},
   "outputs": [
    {
     "name": "stdout",
     "output_type": "stream",
     "text": [
      "2 5\n",
      "2\n",
      "6\n",
      "4\n",
      "2\n"
     ]
    }
   ],
   "source": [
    "print(headA.val, headB.val)\n",
    "headA.next = headB.next\n",
    "while headA:\n",
    "    print(headA.val)\n",
    "    headA = headA.next"
   ]
  },
  {
   "cell_type": "code",
   "execution_count": 114,
   "metadata": {},
   "outputs": [
    {
     "name": "stdout",
     "output_type": "stream",
     "text": [
      "0\n",
      "l2.val =  6 0 1\n",
      "right\n",
      "new_val: 1\n",
      "7\n",
      "0\n",
      "0\n",
      "0\n",
      "0\n",
      "1\n"
     ]
    }
   ],
   "source": [
    "if __name__ == '__main__':\n",
    "    solution = Solution()\n",
    "    num = solution.addTwoNumbers(l1 = headA, l2 = headB)\n",
    "    while num:\n",
    "        print(num.val)\n",
    "        num = num.next"
   ]
  },
  {
   "cell_type": "code",
   "execution_count": null,
   "metadata": {},
   "outputs": [],
   "source": []
  },
  {
   "cell_type": "code",
   "execution_count": null,
   "metadata": {},
   "outputs": [],
   "source": []
  },
  {
   "cell_type": "code",
   "execution_count": null,
   "metadata": {},
   "outputs": [],
   "source": []
  },
  {
   "cell_type": "code",
   "execution_count": null,
   "metadata": {},
   "outputs": [],
   "source": []
  },
  {
   "cell_type": "code",
   "execution_count": null,
   "metadata": {},
   "outputs": [],
   "source": []
  }
 ],
 "metadata": {
  "kernelspec": {
   "display_name": "Python 3",
   "language": "python",
   "name": "python3"
  },
  "language_info": {
   "codemirror_mode": {
    "name": "ipython",
    "version": 3
   },
   "file_extension": ".py",
   "mimetype": "text/x-python",
   "name": "python",
   "nbconvert_exporter": "python",
   "pygments_lexer": "ipython3",
   "version": "3.6.12"
  }
 },
 "nbformat": 4,
 "nbformat_minor": 4
}
