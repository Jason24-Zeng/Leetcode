{
 "cells": [
  {
   "cell_type": "markdown",
   "metadata": {},
   "source": [
    "Implement a basic calculator to evaluate a simple expression string.\n",
    "\n",
    "The expression string contains only non-negative integers, +, -, *, / operators and empty spaces . The integer division should truncate toward zero.\n",
    "\n",
    "Example 1:\n",
    "```\n",
    "Input: \"3+2*2\"\n",
    "Output: 7\n",
    "```\n",
    "Example 2:\n",
    "```\n",
    "Input: \" 3/2 \"\n",
    "Output: 1\n",
    "```\n",
    "Example 3:\n",
    "```\n",
    "Input: \" 3+5 / 2 \"\n",
    "Output: 5\n",
    "```\n",
    "Note:\n",
    "\n",
    "- You may assume that the given expression is always valid.\n",
    "- Do not use the eval built-in library function."
   ]
  },
  {
   "cell_type": "code",
   "execution_count": 28,
   "metadata": {},
   "outputs": [
    {
     "data": {
      "text/plain": [
       "2"
      ]
     },
     "execution_count": 28,
     "metadata": {},
     "output_type": "execute_result"
    }
   ],
   "source": [
    "-(-a//2)"
   ]
  },
  {
   "cell_type": "code",
   "execution_count": 26,
   "metadata": {},
   "outputs": [
    {
     "data": {
      "text/plain": [
       "-2"
      ]
     },
     "execution_count": 26,
     "metadata": {},
     "output_type": "execute_result"
    }
   ],
   "source": [
    "a//2"
   ]
  },
  {
   "cell_type": "code",
   "execution_count": null,
   "metadata": {},
   "outputs": [],
   "source": [
    "class Solution:\n",
    "    def calculate(self, s: str) -> int:\n",
    "        prev_number = 0\n",
    "        start, end = 0, len(s)-1\n",
    "        curr_number = 0\n",
    "        operation = '+'\n",
    "        result = 0\n",
    "        while start <= end:\n",
    "            currstr = s[start]\n",
    "            if currstr.isdigit():\n",
    "                curr_number = curr_number * 10 + ord(currstr) - ord('0')\n",
    "                \n",
    "            if (not currstr.isdigit() and not currstr.isspace()) or start == end:\n",
    "                #print(result, operation, prev_number, curr_number)\n",
    "                if operation == '+' or operation == '-':\n",
    "                    result += prev_number\n",
    "                    if operation == '+':\n",
    "                        prev_number = curr_number \n",
    "                    else:\n",
    "                        print(result, operation, prev_number, curr_number)\n",
    "                        prev_number = - curr_number\n",
    "                        print(result, operation, prev_number, curr_number)\n",
    "                # elif operation == '-':\n",
    "                #     result -= prev_number\n",
    "                    #prev_number = curr_number\n",
    "                elif operation == '*':\n",
    "                    prev_number = prev_number * curr_number\n",
    "                    #curr_number = 0\n",
    "                elif operation == '/':\n",
    "                    print(result, operation, prev_number, curr_number)\n",
    "                    if prev_number >= 0:\n",
    "                        prev_number = prev_number // curr_number\n",
    "                    else:\n",
    "                        prev_number = - prev_number\n",
    "                        prev_number = prev_number //curr_number\n",
    "                        prev_number = -prev_number\n",
    "                    print(result, operation, prev_number, curr_number)\n",
    "                curr_number = 0\n",
    "                operation = currstr\n",
    "            #print(operation, prev_number, curr_number)    \n",
    "            start += 1\n",
    "        result += prev_number\n",
    "        return result\n",
    "                \n",
    "                "
   ]
  },
  {
   "cell_type": "code",
   "execution_count": null,
   "metadata": {},
   "outputs": [],
   "source": [
    "class Solution:\n",
    "    def calculate(self, s: str) -> int:\n",
    "        prev_num, curr_num, result = 0, 0, 0\n",
    "        operation = '+'\n",
    "        operations = ('+', '-', '*', '/')\n",
    "        for index in range(len(s)):\n",
    "            cha = s[index]\n",
    "            if cha.isdigit():\n",
    "                curr_num = 10*curr_num + int(cha)\n",
    "            if cha in operations or index == len(s) - 1:\n",
    "                if operation == '+' or operation == '-':\n",
    "                    result += prev_num\n",
    "                    prev_num = curr_num if operation == '+' else - curr_num\n",
    "                elif operation == '*':\n",
    "                    prev_num *= curr_num\n",
    "                elif operation == '/':\n",
    "                    prev_num  = -(-prev_num//curr_num) if prev_num <= 0 else prev_num//curr_num\n",
    "                curr_num = 0\n",
    "                operation = cha\n",
    "        result += prev_num\n",
    "        return result\n",
    "                    \n",
    "        "
   ]
  },
  {
   "cell_type": "code",
   "execution_count": 15,
   "metadata": {},
   "outputs": [
    {
     "data": {
      "text/plain": [
       "1"
      ]
     },
     "execution_count": 15,
     "metadata": {},
     "output_type": "execute_result"
    }
   ],
   "source": [
    "(- - 3)//2"
   ]
  }
 ],
 "metadata": {
  "kernelspec": {
   "display_name": "Python 3",
   "language": "python",
   "name": "python3"
  },
  "language_info": {
   "codemirror_mode": {
    "name": "ipython",
    "version": 3
   },
   "file_extension": ".py",
   "mimetype": "text/x-python",
   "name": "python",
   "nbconvert_exporter": "python",
   "pygments_lexer": "ipython3",
   "version": "3.7.8"
  }
 },
 "nbformat": 4,
 "nbformat_minor": 4
}
