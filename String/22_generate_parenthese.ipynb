{
 "cells": [
  {
   "cell_type": "markdown",
   "metadata": {},
   "source": [
    "Given n pairs of parentheses, write a function to generate all combinations of well-formed parentheses.\n",
    "\n",
    "For example, given n = 3, a solution set is:\n",
    "```\n",
    "[\n",
    "  \"((()))\",\n",
    "  \"(()())\",\n",
    "  \"(())()\",\n",
    "  \"()(())\",\n",
    "  \"()()()\"\n",
    "]\n",
    "```"
   ]
  },
  {
   "cell_type": "code",
   "execution_count": 31,
   "metadata": {},
   "outputs": [],
   "source": [
    "class Solution:\n",
    "    def generateParenthesis(self, n: int):\n",
    "        #left_basket = '(', right_basket = ')'\n",
    "        list_generated = self.generateParenthesis_proc(n,n,0)\n",
    "        return list_generated\n",
    "    #it should be count backwards \n",
    "    #两个限制： 右括号数小于n,未整合括号数小于右括号数，也就是ungroup_basket<= num_right_bakset<= n\n",
    "    def generateParenthesis_proc(self, n:int, num_right_basket:int, ungroup_basket:int):\n",
    "        list1 = []\n",
    "        if n >= num_right_basket and num_right_basket >= ungroup_basket:\n",
    "            if ungroup_basket == 0:\n",
    "                #num_right_basket, ungroup_basket = 1, 1\n",
    "                if num_right_basket == 0:\n",
    "                    list1 = [')']\n",
    "                    return list1\n",
    "                else:\n",
    "                    list_plus_left = self.generateParenthesis_proc(n, num_right_basket, ungroup_basket+1)\n",
    "                    for ind in list_plus_left:\n",
    "                        list1.append('('+ind)\n",
    "                    return list1\n",
    "            elif ungroup_basket == num_right_basket:\n",
    "                list_plus_right = self.generateParenthesis_proc(n, num_right_basket-1, ungroup_basket-1)\n",
    "                if list_plus_right == [')'] and ungroup_basket == 1:\n",
    "                    list1.append(')')\n",
    "                else:\n",
    "                    for ind in list_plus_right:\n",
    "                        list1.append(')' + ind)\n",
    "                return list1\n",
    "            else:\n",
    "                list_plus_right = self.generateParenthesis_proc(n, num_right_basket-1, ungroup_basket-1)\n",
    "                if list_plus_right == [')'] and ungroup_basket == 1: \n",
    "                    list1.append(')')\n",
    "                else:\n",
    "                    for ind in list_plus_right:\n",
    "                        list1.append(')' + ind)\n",
    "                list_plus_left = self.generateParenthesis_proc(n, num_right_basket, ungroup_basket+1)\n",
    "                for ind in list_plus_left:\n",
    "                    list1.append('('+ind)\n",
    "                \n",
    "                return list1\n",
    "        else:\n",
    "            return []\n",
    "                \n",
    "                \n",
    "#                     else:\n",
    "#                 list_plus_right = self.generateParenthesis_proc(n,num_right_basket-1,ungroup_basket-1)\n",
    "#         else: \n",
    "#             return []\n",
    "#         list1 = []\n",
    "#         if num_right_basket == n:\n",
    "#             ungroup_basket = 1\n",
    "#             num_right_basket = n - 1\n",
    "#             return num_right_basket[')']\n",
    "#         elif num_right_basket < n:\n",
    "#             list_plus_right = generateParenthesis_proc(n,num_right_basket-1,ungroup_basket-1)\n",
    "#             for ind in list_plus_right:\n",
    "#                 list1.append[')'+ind]\n",
    "#             if ungroup_basket > 0:\n",
    "#                 list_plus_left = generateParenthesis_proc(n,num_left_basket,ungroup_basket+1)\n",
    "#                 for ind in list_plus_left:\n",
    "#                     list1.append['('+ind]\n",
    "#             return ind\n",
    "                \n",
    "#         else:#num_left_basket = n\n",
    "#             list_plus_right = generateParenthesis_proc(n,num_left_basket,ungroup_basket-1)"
   ]
  },
  {
   "cell_type": "code",
   "execution_count": 32,
   "metadata": {},
   "outputs": [
    {
     "name": "stdout",
     "output_type": "stream",
     "text": [
      "['()()()', '()(())', '(())()', '(()())', '((()))']\n"
     ]
    }
   ],
   "source": [
    "if __name__ == '__main__':\n",
    "    solution = Solution()\n",
    "    list1 = solution.generateParenthesis(3)\n",
    "    print(list1)"
   ]
  },
  {
   "cell_type": "code",
   "execution_count": 2,
   "metadata": {},
   "outputs": [
    {
     "data": {
      "text/plain": [
       "[2, 3]"
      ]
     },
     "execution_count": 2,
     "metadata": {},
     "output_type": "execute_result"
    }
   ],
   "source": [
    "[2,3] + []"
   ]
  },
  {
   "cell_type": "code",
   "execution_count": 4,
   "metadata": {},
   "outputs": [],
   "source": [
    "for i in []:\n",
    "    print(i)"
   ]
  },
  {
   "cell_type": "code",
   "execution_count": null,
   "metadata": {},
   "outputs": [],
   "source": []
  },
  {
   "cell_type": "code",
   "execution_count": 30,
   "metadata": {},
   "outputs": [
    {
     "ename": "AttributeError",
     "evalue": "'str' object has no attribute 'pop'",
     "output_type": "error",
     "traceback": [
      "\u001b[1;31m---------------------------------------------------------------------------\u001b[0m",
      "\u001b[1;31mAttributeError\u001b[0m                            Traceback (most recent call last)",
      "\u001b[1;32m<ipython-input-30-1dd6e226123a>\u001b[0m in \u001b[0;36m<module>\u001b[1;34m\u001b[0m\n\u001b[1;32m----> 1\u001b[1;33m \u001b[1;34m'abc'\u001b[0m\u001b[1;33m.\u001b[0m\u001b[0mpop\u001b[0m\u001b[1;33m(\u001b[0m\u001b[1;33m-\u001b[0m\u001b[1;36m1\u001b[0m\u001b[1;33m)\u001b[0m\u001b[1;33m\u001b[0m\u001b[1;33m\u001b[0m\u001b[0m\n\u001b[0m",
      "\u001b[1;31mAttributeError\u001b[0m: 'str' object has no attribute 'pop'"
     ]
    }
   ],
   "source": [
    "'abc'.pop(-1)"
   ]
  },
  {
   "cell_type": "code",
   "execution_count": null,
   "metadata": {},
   "outputs": [],
   "source": []
  },
  {
   "cell_type": "code",
   "execution_count": null,
   "metadata": {},
   "outputs": [],
   "source": []
  },
  {
   "cell_type": "code",
   "execution_count": null,
   "metadata": {},
   "outputs": [],
   "source": []
  },
  {
   "cell_type": "code",
   "execution_count": null,
   "metadata": {},
   "outputs": [],
   "source": []
  },
  {
   "cell_type": "code",
   "execution_count": null,
   "metadata": {},
   "outputs": [],
   "source": []
  },
  {
   "cell_type": "code",
   "execution_count": null,
   "metadata": {},
   "outputs": [],
   "source": []
  },
  {
   "cell_type": "code",
   "execution_count": null,
   "metadata": {},
   "outputs": [],
   "source": []
  }
 ],
 "metadata": {
  "kernelspec": {
   "display_name": "Python 3",
   "language": "python",
   "name": "python3"
  },
  "language_info": {
   "codemirror_mode": {
    "name": "ipython",
    "version": 3
   },
   "file_extension": ".py",
   "mimetype": "text/x-python",
   "name": "python",
   "nbconvert_exporter": "python",
   "pygments_lexer": "ipython3",
   "version": "3.6.12"
  }
 },
 "nbformat": 4,
 "nbformat_minor": 4
}
