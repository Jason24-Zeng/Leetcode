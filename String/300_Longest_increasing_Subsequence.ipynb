{
 "cells": [
  {
   "cell_type": "markdown",
   "metadata": {},
   "source": [
    "Given an unsorted array of integers, find the length of longest increasing subsequence.\n",
    "\n",
    "Example:\n",
    "```\n",
    "Input: [10,9,2,5,3,7,101,18]\n",
    "Output: 4 \n",
    "Explanation: The longest increasing subsequence is [2,3,7,101], therefore the length is 4.\n",
    "```\n",
    "Note:\n",
    "\n",
    "There may be more than one LIS combination, it is only necessary for you to return the length.\n",
    "Your algorithm should run in O(n2) complexity.\n",
    "Follow up: Could you improve it to O(n log n) time complexity?"
   ]
  },
  {
   "cell_type": "markdown",
   "metadata": {},
   "source": [
    "此题非常有意思，O(NlogN)做法不仅用到了动态规划，还用到了二分搜索去缩减时间"
   ]
  },
  {
   "cell_type": "code",
   "execution_count": 16,
   "metadata": {},
   "outputs": [],
   "source": [
    "# version 1, 只用DP, Time complexity依然是O(N^2)\n",
    "class Solution:\n",
    "    def lengthOfLIS(self, nums) -> int:\n",
    "        lenn = len(nums)\n",
    "        if lenn == 0 or lenn == 1:\n",
    "            return lenn\n",
    "        end_quency = [nums[0]]\n",
    "        \n",
    "        for i in range(1,lenn):\n",
    "            for j in range(len(end_quency)):\n",
    "                if nums[i] <= end_quency[j]:\n",
    "                    end_quency[j] = nums[i]\n",
    "                    break\n",
    "                elif j == len(end_quency) - 1:\n",
    "                    end_quency.append(nums[i]) \n",
    "                else:\n",
    "                    j += 1                                   \n",
    "            else:\n",
    "                continue\n",
    "        return len(end_quency)\n",
    "            \n",
    "            \n",
    "            "
   ]
  },
  {
   "cell_type": "code",
   "execution_count": 59,
   "metadata": {},
   "outputs": [],
   "source": [
    "# version 2, DP + binary search\n",
    "# notice: binary search is used in the end_quency list.\n",
    "class Solution:\n",
    "    def lengthOfLIS(self, nums) -> int:\n",
    "        lenn = len(nums)\n",
    "        if lenn == 0 or lenn == 1:\n",
    "            return lenn\n",
    "        end_quency = [nums[0]]\n",
    "        \n",
    "        for i in range(1,lenn):\n",
    "            lene = len(end_quency)\n",
    "            low, high = 0, lene-1\n",
    "            if nums[i] <= end_quency[low]:\n",
    "                end_quency[low] = nums[i]\n",
    "            elif nums[i] > end_quency[high]:\n",
    "                end_quency.append(nums[i])\n",
    "            elif nums[i] == end_quency[high]:\n",
    "                pass\n",
    "            else:\n",
    "                mid = (low + high)//2\n",
    "                while high-low >= 1: #主要时间节省就在这个地方了\n",
    "                    #print(end_quency)\n",
    "                    if high - low == 1:\n",
    "                        end_quency[high] = nums[i]                        \n",
    "                        break\n",
    "                    mid = (low + high)//2\n",
    "                    if nums[i] == end_quency[mid]:\n",
    "                        break\n",
    "                    elif nums[i] < end_quency[mid]:\n",
    "                        high = mid\n",
    "                    else:\n",
    "                        low = mid\n",
    "                else:\n",
    "                    continue\n",
    "                if nums[i] == end_quency[mid]:\n",
    "                    pass\n",
    "                else:\n",
    "                    end_quency[high] = nums[i]\n",
    "                \n",
    "            #print(end_quency)     \n",
    "        return len(end_quency)"
   ]
  },
  {
   "cell_type": "code",
   "execution_count": 60,
   "metadata": {},
   "outputs": [
    {
     "name": "stdout",
     "output_type": "stream",
     "text": [
      "[3, 5]\n",
      "[3, 5, 6]\n",
      "[2, 5, 6]\n",
      "[2, 5, 6]\n",
      "[2, 4, 6]\n",
      "[2, 4, 6, 19]\n",
      "[2, 4, 5, 19]\n",
      "[2, 4, 5, 6]\n",
      "[2, 4, 5, 6, 7]\n",
      "[2, 4, 5, 6, 7, 12]\n",
      "6\n"
     ]
    }
   ],
   "source": [
    "if __name__ == '__main__':\n",
    "    nums =  [3,5,6,2,5,4,19,5,6,7,12]\n",
    "    solution = Solution()\n",
    "    print(solution.lengthOfLIS(nums))"
   ]
  },
  {
   "cell_type": "code",
   "execution_count": 32,
   "metadata": {},
   "outputs": [
    {
     "ename": "SyntaxError",
     "evalue": "invalid syntax (<ipython-input-32-8ef57e5ebb19>, line 6)",
     "output_type": "error",
     "traceback": [
      "\u001b[1;36m  File \u001b[1;32m\"<ipython-input-32-8ef57e5ebb19>\"\u001b[1;36m, line \u001b[1;32m6\u001b[0m\n\u001b[1;33m    else:\u001b[0m\n\u001b[1;37m       ^\u001b[0m\n\u001b[1;31mSyntaxError\u001b[0m\u001b[1;31m:\u001b[0m invalid syntax\n"
     ]
    }
   ],
   "source": [
    "for i in range(10):\n",
    "    for j in range(6):\n",
    "        print(i+j)\n",
    "        break\n",
    "    se = 5\n",
    "    else:\n",
    "        continue\n",
    "    print(i+j)\n",
    "    "
   ]
  },
  {
   "cell_type": "code",
   "execution_count": null,
   "metadata": {},
   "outputs": [],
   "source": []
  },
  {
   "cell_type": "code",
   "execution_count": null,
   "metadata": {},
   "outputs": [],
   "source": []
  },
  {
   "cell_type": "code",
   "execution_count": null,
   "metadata": {},
   "outputs": [],
   "source": []
  },
  {
   "cell_type": "code",
   "execution_count": null,
   "metadata": {},
   "outputs": [],
   "source": []
  }
 ],
 "metadata": {
  "kernelspec": {
   "display_name": "Python 3",
   "language": "python",
   "name": "python3"
  },
  "language_info": {
   "codemirror_mode": {
    "name": "ipython",
    "version": 3
   },
   "file_extension": ".py",
   "mimetype": "text/x-python",
   "name": "python",
   "nbconvert_exporter": "python",
   "pygments_lexer": "ipython3",
   "version": "3.6.12"
  }
 },
 "nbformat": 4,
 "nbformat_minor": 4
}
