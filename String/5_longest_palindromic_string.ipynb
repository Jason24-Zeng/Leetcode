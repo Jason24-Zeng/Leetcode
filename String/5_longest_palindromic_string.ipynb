{
 "cells": [
  {
   "cell_type": "markdown",
   "metadata": {},
   "source": [
    "Given a string s, find the longest palindromic substring in s. You may assume that the maximum length of s is 1000.\n",
    "\n",
    "Example 1:\n",
    "```\n",
    "Input: \"babad\"\n",
    "Output: \"bab\"\n",
    "Note: \"aba\" is also a valid answer.\n",
    "```\n",
    "Example 2:\n",
    "```\n",
    "Input: \"cbbd\"\n",
    "Output: \"bb\"\n",
    "```"
   ]
  },
  {
   "cell_type": "code",
   "execution_count": 69,
   "metadata": {},
   "outputs": [],
   "source": [
    "class Solution:\n",
    "    def longestPalindrome(self, s: str) -> str:\n",
    "        max_length = 0\n",
    "        if len(s) == 0:\n",
    "            return None\n",
    "        elif len(s) == 1:\n",
    "            return s\n",
    "        for i in range(len(s)):\n",
    "            length1 = self.Palindromeati_single_center(s, i)\n",
    "            length2 = self.Palindromeati_double_center(s, i)\n",
    "            if length1 >= length2 and 2*length1 + 1> max_length:\n",
    "                max_length = 2*length1+1\n",
    "                string = s[i-length1: i+length1+1]\n",
    "            elif length2 > length1 and 2*length2 > max_length:\n",
    "                max_length = 2*length2\n",
    "                string = s[i-length2+1:i+length2+1]\n",
    "            \n",
    "#             if length > max_length:\n",
    "#                 max_length = length\n",
    "                \n",
    "#                 string = s[i-int(length-1/2)+1:i-int(length-1/2)+length+1]\n",
    "                \n",
    "        return string\n",
    "        \n",
    "        \n",
    "    def Palindromeati_single_center(self, s:str, pointer1) -> str:\n",
    "        length = 1\n",
    "        while pointer1 >= length and pointer1 + length <= len(s) - 1:\n",
    "            if s[pointer1 - length] == s[pointer1 + length]:\n",
    "                length += 1\n",
    "            else:\n",
    "                break\n",
    "        length -= 1\n",
    "        return length\n",
    "    def Palindromeati_double_center(self, s:str, pointer2) -> str:\n",
    "        length = 0\n",
    "        while pointer2 >= length and pointer2 + 1 + length <= len(s) - 1:\n",
    "            if s[pointer2-length] == s[pointer2 + 1 + length]:\n",
    "                length += 1\n",
    "            else: \n",
    "                break\n",
    "        return length\n",
    "            \n",
    "        \n",
    "            \n",
    "                \n",
    "        "
   ]
  },
  {
   "cell_type": "code",
   "execution_count": 26,
   "metadata": {},
   "outputs": [
    {
     "data": {
      "text/plain": [
       "2"
      ]
     },
     "execution_count": 26,
     "metadata": {},
     "output_type": "execute_result"
    }
   ],
   "source": [
    "int(4/2)"
   ]
  },
  {
   "cell_type": "code",
   "execution_count": 71,
   "metadata": {},
   "outputs": [
    {
     "name": "stdout",
     "output_type": "stream",
     "text": [
      "aaa 0 1\n"
     ]
    }
   ],
   "source": [
    "if __name__ == '__main__':\n",
    "    s = \"aaa\"\n",
    "    solution = Solution()\n",
    "    longest_string = solution.longestPalindrome(s)\n",
    "    longest_string1 = solution.Palindromeati_single_center(s,3)\n",
    "    longest_string2 = solution.Palindromeati_double_center(s,1)\n",
    "    print(longest_string, longest_string1, longest_string2)"
   ]
  },
  {
   "cell_type": "code",
   "execution_count": 47,
   "metadata": {},
   "outputs": [
    {
     "data": {
      "text/plain": [
       "'baab'"
      ]
     },
     "execution_count": 47,
     "metadata": {},
     "output_type": "execute_result"
    }
   ],
   "source": [
    "s[0:4]"
   ]
  },
  {
   "cell_type": "code",
   "execution_count": null,
   "metadata": {},
   "outputs": [],
   "source": []
  },
  {
   "cell_type": "code",
   "execution_count": null,
   "metadata": {},
   "outputs": [],
   "source": []
  },
  {
   "cell_type": "code",
   "execution_count": null,
   "metadata": {},
   "outputs": [],
   "source": []
  },
  {
   "cell_type": "code",
   "execution_count": null,
   "metadata": {},
   "outputs": [],
   "source": []
  },
  {
   "cell_type": "code",
   "execution_count": null,
   "metadata": {},
   "outputs": [],
   "source": []
  }
 ],
 "metadata": {
  "kernelspec": {
   "display_name": "Python 3",
   "language": "python",
   "name": "python3"
  },
  "language_info": {
   "codemirror_mode": {
    "name": "ipython",
    "version": 3
   },
   "file_extension": ".py",
   "mimetype": "text/x-python",
   "name": "python",
   "nbconvert_exporter": "python",
   "pygments_lexer": "ipython3",
   "version": "3.6.12"
  }
 },
 "nbformat": 4,
 "nbformat_minor": 4
}
