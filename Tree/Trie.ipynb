{
 "cells": [
  {
   "cell_type": "code",
   "execution_count": 86,
   "metadata": {},
   "outputs": [],
   "source": [
    "class Trie(object):\n",
    "    def __init__(self):\n",
    "        self.tree = {}\n",
    "        self.Key = '#'\n",
    "    def _add_w(self, word:str):\n",
    "        node = self.tree\n",
    "        for cha in word:\n",
    "            node = node.setdefault(cha, {})\n",
    "        node[self.Key] =  word\n",
    "    def _see_w(self, word:str):\n",
    "        node = self.tree\n",
    "        for cha in word:\n",
    "            if cha in node:\n",
    "                node = node[cha]\n",
    "            else:\n",
    "                return False\n",
    "        if self.Key in node:\n",
    "            return True\n",
    "        else:\n",
    "            return False\n",
    "    def _see_del(self, word: str, node, start = 0):\n",
    "        self.seen = False\n",
    "        if start == len(word):\n",
    "            if self.Key in node:\n",
    "                #print(start, word[start], node)\n",
    "                self.seen = True\n",
    "                del node[self.Key]\n",
    "                #print(node == {})\n",
    "            return\n",
    "        \n",
    "        if word[start] in node:  \n",
    "            #print(node[word[start]], word[start + 1])\n",
    "            self._see_del(word,  node[word[start]], start + 1)\n",
    "            #print(node, node[word[start]] == {}, self.seen)\n",
    "            if node[word[start]] == {} and self.seen:\n",
    "                \n",
    "                del node[word[start]]\n",
    "        \n",
    "            \n",
    "        if start == 0:        \n",
    "            return self.seen\n",
    "            \n",
    "    "
   ]
  },
  {
   "cell_type": "code",
   "execution_count": 92,
   "metadata": {},
   "outputs": [
    {
     "name": "stdout",
     "output_type": "stream",
     "text": [
      "{'l': {'i': {'f': {'e': {'#': 'life'}}, 'v': {'e': {'#': 'live'}}}}}\n",
      "False\n"
     ]
    },
    {
     "data": {
      "text/plain": [
       "{'l': {'i': {'f': {'e': {'#': 'life'}}, 'v': {'e': {'#': 'live'}}}}}"
      ]
     },
     "execution_count": 92,
     "metadata": {},
     "output_type": "execute_result"
    }
   ],
   "source": [
    "trie = Trie()\n",
    "trie._add_w(word = 'life')\n",
    "trie._add_w('live')\n",
    "trie._see_w('lives')\n",
    "print(trie.tree)\n",
    "print(trie._see_del('lives', node = trie.tree))\n",
    "trie.tree\n"
   ]
  },
  {
   "cell_type": "code",
   "execution_count": 17,
   "metadata": {},
   "outputs": [],
   "source": []
  },
  {
   "cell_type": "code",
   "execution_count": 18,
   "metadata": {},
   "outputs": [],
   "source": []
  },
  {
   "cell_type": "code",
   "execution_count": 20,
   "metadata": {},
   "outputs": [
    {
     "data": {
      "text/plain": [
       "{'l': {'i': {'f': {'e': {'#': 'life'}}, 'v': {'e': {'#': 'live'}}}}}"
      ]
     },
     "execution_count": 20,
     "metadata": {},
     "output_type": "execute_result"
    }
   ],
   "source": [
    "trie.tree"
   ]
  }
 ],
 "metadata": {
  "kernelspec": {
   "display_name": "Python 3",
   "language": "python",
   "name": "python3"
  },
  "language_info": {
   "codemirror_mode": {
    "name": "ipython",
    "version": 3
   },
   "file_extension": ".py",
   "mimetype": "text/x-python",
   "name": "python",
   "nbconvert_exporter": "python",
   "pygments_lexer": "ipython3",
   "version": "3.7.8"
  }
 },
 "nbformat": 4,
 "nbformat_minor": 4
}
