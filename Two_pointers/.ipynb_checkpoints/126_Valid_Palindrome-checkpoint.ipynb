{
 "cells": [
  {
   "cell_type": "markdown",
   "metadata": {},
   "source": [
    "Given a string, determine if it is a palindrome, considering only alphanumeric characters and ignoring cases.\n",
    "\n",
    "Note: For the purpose of this problem, we define empty string as valid palindrome.\n",
    "\n",
    "Example 1:\n",
    "```python\n",
    "Input: \"A man, a plan, a canal: Panama\"\n",
    "Output: true\n",
    "```\n",
    "Example 2:\n",
    "```python\n",
    "Input: \"race a car\"\n",
    "Output: false\n",
    "```"
   ]
  },
  {
   "cell_type": "code",
   "execution_count": 10,
   "metadata": {
    "tags": [
     "Solution1"
    ]
   },
   "outputs": [],
   "source": [
    "class Solution:\n",
    "    def isPalindrome(self, s: str) -> bool:\n",
    "        total_alpha = ''\n",
    "        for index in s:\n",
    "            if index.isalpha() or index.isnumeric():\n",
    "                total_alpha += index.lower()\n",
    "        start, end = 0, len(total_alpha) - 1\n",
    "        while start < end:\n",
    "            if total_alpha[start] == total_alpha[end]:\n",
    "                start += 1\n",
    "                end -= 1\n",
    "            else:\n",
    "                print(start, end, total_alpha[start], total_alpha[end])\n",
    "                return False\n",
    "        return True\n",
    "                \n",
    "        "
   ]
  },
  {
   "cell_type": "code",
   "execution_count": 48,
   "metadata": {
    "tags": [
     "Solution2"
    ]
   },
   "outputs": [],
   "source": [
    "class Solution:\n",
    "    def isPalindrome(self, s: str) -> bool:\n",
    "        if len(s) == 0:\n",
    "            return True\n",
    "        start, end = 0, len(s) - 1\n",
    "        print(s[start], s[end])\n",
    "        while start < end:\n",
    "            while not s[start].isnumeric() and not s[start].isalpha() and start < end:\n",
    "                start += 1\n",
    "            #print(a)\n",
    "            while not s[end].isnumeric() and not s[end].isalpha() and start < end:\n",
    "                #print(end, s[end], not s[end].isnumeric(), not s[end].isnumeric())\n",
    "                end -= 1\n",
    "            #print(s[start], s[end])\n",
    "            if s[start].lower() != s[end].lower():\n",
    "                return False\n",
    "            else:\n",
    "                start += 1\n",
    "                end -= 1\n",
    "        return True"
   ]
  },
  {
   "cell_type": "code",
   "execution_count": null,
   "metadata": {
    "tags": [
     "Solution3"
    ]
   },
   "outputs": [],
   "source": [
    "class Solution:\n",
    "    def isPalindrome(self, s: str) -> bool:\n",
    "        if len(s) == 0:\n",
    "            return True\n",
    "        start, end = 0, len(s) - 1\n",
    "        #print(s[start], s[end])\n",
    "        while start < end:\n",
    "            while not s[start].isalnum() and start < end:\n",
    "                start += 1\n",
    "            #print(a)\n",
    "            while not s[end].isalnum() and start < end:\n",
    "                #print(end, s[end], not s[end].isnumeric(), not s[end].isnumeric())\n",
    "                end -= 1\n",
    "            #print(s[start], s[end])\n",
    "            if start < end and s[start].lower() != s[end].lower():\n",
    "                return False\n",
    "            \n",
    "            start += 1\n",
    "            end -= 1\n",
    "        return True"
   ]
  },
  {
   "cell_type": "code",
   "execution_count": 49,
   "metadata": {},
   "outputs": [
    {
     "name": "stdout",
     "output_type": "stream",
     "text": [
      "A a\n",
      "A a\n",
      "m m\n",
      "a a\n",
      "n n\n",
      "a a\n",
      "p P\n",
      "l l\n",
      "a a\n",
      "n n\n",
      "a a\n",
      "c c\n",
      "True\n"
     ]
    }
   ],
   "source": [
    "if __name__ == '__main__':\n",
    "    solution = Solution()\n",
    "    s = \"A man, a plan, a canal: Panama\"\n",
    "    print(solution.isPalindrome(s))"
   ]
  }
 ],
 "metadata": {
  "celltoolbar": "Tags",
  "kernelspec": {
   "display_name": "Python 3",
   "language": "python",
   "name": "python3"
  },
  "language_info": {
   "codemirror_mode": {
    "name": "ipython",
    "version": 3
   },
   "file_extension": ".py",
   "mimetype": "text/x-python",
   "name": "python",
   "nbconvert_exporter": "python",
   "pygments_lexer": "ipython3",
   "version": "3.7.8"
  }
 },
 "nbformat": 4,
 "nbformat_minor": 4
}
