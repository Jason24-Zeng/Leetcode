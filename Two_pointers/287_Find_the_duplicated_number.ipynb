{
 "cells": [
  {
   "cell_type": "markdown",
   "metadata": {},
   "source": [
    "Given an array of integers nums containing n + 1 integers where each integer is in the range [1, n] inclusive.\n",
    "\n",
    "There is only one duplicate number in nums, return this duplicate number.\n",
    "\n",
    "Follow-ups:\n",
    "\n",
    "1. How can we prove that at least one duplicate number must exist in nums? \n",
    "2. Can you solve the problem without modifying the array nums?\n",
    "3. Can you solve the problem using only constant, O(1) extra space?\n",
    "4. Can you solve the problem with runtime complexity less than O(n2)?"
   ]
  },
  {
   "cell_type": "markdown",
   "metadata": {},
   "source": [
    "此题很像之前的那个find cycle linked list,至少做法是一致的，我刚做完，所以想到了嘻嘻。"
   ]
  },
  {
   "cell_type": "code",
   "execution_count": 7,
   "metadata": {},
   "outputs": [],
   "source": [
    "class Solution:\n",
    "    def findDuplicate(self, nums) -> int:\n",
    "        if len(nums) == 0 or len(nums) == 1:\n",
    "            return False\n",
    "        pointer1, pointer2 = nums[0], nums[nums[0]]\n",
    "        while pointer1 != pointer2:\n",
    "            pointer1, pointer2 = nums[pointer1], nums[nums[pointer2]]\n",
    "        pointer2 = 0\n",
    "        while pointer1 != pointer2:\n",
    "            pointer1, pointer2 = nums[pointer1], nums[pointer2]\n",
    "        return pointer1"
   ]
  },
  {
   "cell_type": "code",
   "execution_count": 11,
   "metadata": {},
   "outputs": [
    {
     "name": "stdout",
     "output_type": "stream",
     "text": [
      "3\n"
     ]
    }
   ],
   "source": [
    "if __name__ == '__main__':\n",
    "    list1 = [1,3,2,4,3]\n",
    "    solution = Solution()\n",
    "    number = solution.findDuplicate(list1)\n",
    "    print(number)"
   ]
  },
  {
   "cell_type": "code",
   "execution_count": null,
   "metadata": {},
   "outputs": [],
   "source": []
  },
  {
   "cell_type": "code",
   "execution_count": null,
   "metadata": {},
   "outputs": [],
   "source": []
  },
  {
   "cell_type": "code",
   "execution_count": null,
   "metadata": {},
   "outputs": [],
   "source": []
  },
  {
   "cell_type": "code",
   "execution_count": null,
   "metadata": {},
   "outputs": [],
   "source": []
  },
  {
   "cell_type": "code",
   "execution_count": null,
   "metadata": {},
   "outputs": [],
   "source": []
  },
  {
   "cell_type": "code",
   "execution_count": null,
   "metadata": {},
   "outputs": [],
   "source": []
  }
 ],
 "metadata": {
  "kernelspec": {
   "display_name": "Python 3",
   "language": "python",
   "name": "python3"
  },
  "language_info": {
   "codemirror_mode": {
    "name": "ipython",
    "version": 3
   },
   "file_extension": ".py",
   "mimetype": "text/x-python",
   "name": "python",
   "nbconvert_exporter": "python",
   "pygments_lexer": "ipython3",
   "version": "3.6.12"
  }
 },
 "nbformat": 4,
 "nbformat_minor": 4
}
