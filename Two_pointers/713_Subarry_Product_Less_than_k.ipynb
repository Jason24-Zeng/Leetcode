{
 "cells": [
  {
   "cell_type": "markdown",
   "metadata": {},
   "source": [
    "Your are given an array of positive integers nums.\n",
    "\n",
    "Count and print the number of (contiguous) subarrays where the product of all the elements in the subarray is less than k.\n",
    "\n",
    "Example 1:\n",
    "```python\n",
    "Input: nums = [10, 5, 2, 6], k = 100\n",
    "Output: 8\n",
    "Explanation: The 8 subarrays that have product less than 100 are: [10], [5], [2], [6], [10, 5], [5, 2], [2, 6], [5, 2, 6].\n",
    "Note that [10, 5, 2] is not included as the product of 100 is not strictly less than k.\n",
    "```\n",
    "Note:\n",
    "\n",
    "- 0 < nums.length <= 50000.\n",
    "- 0 < nums[i] < 1000.\n",
    "- 0 <= k < 10^6."
   ]
  },
  {
   "cell_type": "code",
   "execution_count": null,
   "metadata": {},
   "outputs": [],
   "source": [
    "class Solution:\n",
    "    def numSubarrayProductLessThanK(self, nums: List[int], k: int) -> int:\n",
    "        n = len(nums)\n",
    "        left, right = 0, 1\n",
    "        number = nums[0]\n",
    "        count = 0\n",
    "        \n",
    "                \n",
    "        "
   ]
  }
 ],
 "metadata": {
  "kernelspec": {
   "display_name": "Python 3",
   "language": "python",
   "name": "python3"
  },
  "language_info": {
   "codemirror_mode": {
    "name": "ipython",
    "version": 3
   },
   "file_extension": ".py",
   "mimetype": "text/x-python",
   "name": "python",
   "nbconvert_exporter": "python",
   "pygments_lexer": "ipython3",
   "version": "3.6.11"
  }
 },
 "nbformat": 4,
 "nbformat_minor": 4
}
