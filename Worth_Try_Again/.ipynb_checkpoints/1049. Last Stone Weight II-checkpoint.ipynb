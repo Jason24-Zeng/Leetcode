{
 "cells": [
  {
   "cell_type": "markdown",
   "metadata": {},
   "source": [
    "We have a collection of rocks, each rock has a positive integer weight.\n",
    "\n",
    "Each turn, we choose any two rocks and smash them together.  Suppose the stones have weights x and y with x <= y.  The result of this smash is:\n",
    "\n",
    "If x == y, both stones are totally destroyed;\n",
    "If x != y, the stone of weight x is totally destroyed, and the stone of weight y has new weight y-x.\n",
    "At the end, there is at most 1 stone left.  Return the smallest possible weight of this stone (the weight is 0 if there are no stones left.)\n",
    "\n",
    " \n",
    "\n",
    "Example 1:\n",
    "```\n",
    "Input: [2,7,4,1,8,1]\n",
    "Output: 1\n",
    "Explanation: \n",
    "We can combine 2 and 4 to get 2 so the array converts to [2,7,1,8,1] then,\n",
    "we can combine 7 and 8 to get 1 so the array converts to [2,1,1,1] then,\n",
    "we can combine 2 and 1 to get 1 so the array converts to [1,1,1] then,\n",
    "we can combine 1 and 1 to get 0 so the array converts to [1] then that's the optimal value.\n",
    "``` \n",
    "\n",
    "Note:\n",
    "\n",
    "- 1 <= stones.length <= 30\n",
    "- 1 <= stones[i] <= 100"
   ]
  },
  {
   "cell_type": "code",
   "execution_count": null,
   "metadata": {},
   "outputs": [],
   "source": [
    "class Solution:\n",
    "    def lastStoneWeightII(self, stones: List[int]) -> int:\n",
    "        sums = sum(stones)\n",
    "        lens = len(stones)\n",
    "        dp = [0] * (sums//2 + 1) \n",
    "        #dp[0] = True\n",
    "        target = 0\n",
    "        for stone in stones:\n",
    "            for j in range(sums//2, 0, -1):\n",
    "                if j >= stone:\n",
    "                    dp[j] = max(dp[j], dp[j - stone] + stone)\n",
    "                \n",
    "        return sums - 2*dp[-1]"
   ]
  },
  {
   "cell_type": "code",
   "execution_count": null,
   "metadata": {},
   "outputs": [],
   "source": []
  }
 ],
 "metadata": {
  "kernelspec": {
   "display_name": "Python 3",
   "language": "python",
   "name": "python3"
  },
  "language_info": {
   "codemirror_mode": {
    "name": "ipython",
    "version": 3
   },
   "file_extension": ".py",
   "mimetype": "text/x-python",
   "name": "python",
   "nbconvert_exporter": "python",
   "pygments_lexer": "ipython3",
   "version": "3.6.11"
  }
 },
 "nbformat": 4,
 "nbformat_minor": 4
}
