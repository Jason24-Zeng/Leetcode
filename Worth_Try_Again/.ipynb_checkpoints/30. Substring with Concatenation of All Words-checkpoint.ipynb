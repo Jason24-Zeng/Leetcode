{
 "cells": [
  {
   "cell_type": "markdown",
   "metadata": {},
   "source": [
    "You are given a string s and an array of strings words of the same length. Return all starting indices of substring(s) in s that is a concatenation of each word in words exactly once, in any order, and without any intervening characters.\n",
    "\n",
    "You can return the answer in any order.\n",
    "\n",
    " \n",
    "\n",
    "Example 1:\n",
    "```\n",
    "Input: s = \"barfoothefoobarman\", words = [\"foo\",\"bar\"]\n",
    "Output: [0,9]\n",
    "Explanation: Substrings starting at index 0 and 9 are \"barfoo\" and \"foobar\" respectively.\n",
    "The output order does not matter, returning [9,0] is fine too.\n",
    "```\n",
    "Example 2:\n",
    "```\n",
    "Input: s = \"wordgoodgoodgoodbestword\", words = [\"word\",\"good\",\"best\",\"word\"]\n",
    "Output: []\n",
    "```\n",
    "Example 3:\n",
    "```\n",
    "Input: s = \"barfoofoobarthefoobarman\", words = [\"bar\",\"foo\",\"the\"]\n",
    "Output: [6,9,12]\n",
    "``` \n",
    "\n",
    "Constraints:\n",
    "\n",
    "- 1 <= s.length <= 104\n",
    "- s consists of lower-case English letters.\n",
    "- 1 <= words.length <= 5000\n",
    "- 1 <= words[i].length <= 30\n",
    "- words[i] consists of lower-case English letters."
   ]
  },
  {
   "cell_type": "code",
   "execution_count": null,
   "metadata": {},
   "outputs": [],
   "source": [
    "# Fixed Sliding window\n",
    "from collections import Counter\n",
    "class Solution:\n",
    "    def findSubstring(self, s: str, words: List[str]) -> List[int]:\n",
    "        lens, lenws = len(s), len(words)\n",
    "        lenw = len(words[0])\n",
    "        word_count = Counter(words)\n",
    "        result = []\n",
    "        for start in range(lens - lenw*lenws + 1):\n",
    "            word_count_copy = word_count.copy()\n",
    "            for i in range(lenws):\n",
    "                new_word = s[start + lenw * i: start + lenw * (i + 1) ] \n",
    "                if new_word in word_count_copy:\n",
    "                    \n",
    "                    if word_count_copy[new_word] == 0:\n",
    "                        break\n",
    "                    else:\n",
    "                        word_count_copy[new_word] -= 1\n",
    "                else:\n",
    "                    break\n",
    "            else:\n",
    "                result.append(start)\n",
    "        return result"
   ]
  },
  {
   "cell_type": "code",
   "execution_count": 3,
   "metadata": {},
   "outputs": [
    {
     "data": {
      "text/plain": [
       "3"
      ]
     },
     "execution_count": 3,
     "metadata": {},
     "output_type": "execute_result"
    }
   ],
   "source": [
    "import math\n",
    "math.floor(3.4)"
   ]
  },
  {
   "cell_type": "code",
   "execution_count": null,
   "metadata": {},
   "outputs": [],
   "source": [
    "# My method, hard to achieve in a short time....\n",
    "from collections import Counter\n",
    "class Solution:\n",
    "    def findSubstring(self, s: str, words: List[str]) -> List[int]:\n",
    "        lens, lenws = len(s), len(words)\n",
    "        lenw = len(words[0])\n",
    "        word_count = Counter(words)\n",
    "        result = []\n",
    "        for i in range(lenw):\n",
    "            times = floor((lens-i)/(lenw))\n",
    "            start, count_step = 0, 0\n",
    "            word_count_copy = word_count.copy()\n",
    "            while start < times:\n",
    "                print(i, start, count_step)\n",
    "                \n",
    "                count_step += 1\n",
    "                new_word = s[i + start * lenw: i + (start + 1) *lenw]\n",
    "                if new_word not in word_count_copy:\n",
    "                    count_step = 0\n",
    "                    word_count_copy = word_count.copy()                    \n",
    "                else:\n",
    "                    while word_count_copy[new_word] == 0:                          \n",
    "                        count_step -= 1\n",
    "                        prev_word = s[i + (start - count_step) * lenw : i + (start - count_step + 1) * lenw]  \n",
    "                        print(prev_word, new_word, start, count_step)                        \n",
    "                        word_count_copy[prev_word] += 1   \n",
    "                        \n",
    "                    word_count_copy[new_word] -= 1\n",
    "                start += 1\n",
    "                if count_step == lenws:\n",
    "                    result.append(i + (start - lenws)*lenw)                    \n",
    "                    count_step -= 1\n",
    "                    #print(i + (start - lenws)*lenw, s[i + (start - lenws)*lenw : i + (start - lenws + 1)*lenw])\n",
    "                    word_count_copy[s[i + (start - lenws)*lenw : i + (start - lenws + 1)*lenw]] = 1\n",
    "                \n",
    "        return result"
   ]
  },
  {
   "cell_type": "code",
   "execution_count": null,
   "metadata": {},
   "outputs": [],
   "source": []
  }
 ],
 "metadata": {
  "kernelspec": {
   "display_name": "Python 3",
   "language": "python",
   "name": "python3"
  },
  "language_info": {
   "codemirror_mode": {
    "name": "ipython",
    "version": 3
   },
   "file_extension": ".py",
   "mimetype": "text/x-python",
   "name": "python",
   "nbconvert_exporter": "python",
   "pygments_lexer": "ipython3",
   "version": "3.7.8"
  }
 },
 "nbformat": 4,
 "nbformat_minor": 4
}
