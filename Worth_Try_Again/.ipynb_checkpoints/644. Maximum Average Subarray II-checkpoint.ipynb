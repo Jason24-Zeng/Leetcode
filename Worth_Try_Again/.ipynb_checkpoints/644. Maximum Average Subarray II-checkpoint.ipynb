{
 "cells": [
  {
   "cell_type": "code",
   "execution_count": null,
   "metadata": {},
   "outputs": [],
   "source": []
  },
  {
   "cell_type": "code",
   "execution_count": null,
   "metadata": {},
   "outputs": [],
   "source": [
    "# This Problem is pretty hard for me now but I would best underdig it.\n",
    "class Solution:\n",
    "    def findMaxAverage(self, nums: List[int], k: int) -> float:\n",
    "        min_num, max_num = min(nums), max(nums)\n",
    "        error = 1e-5\n",
    "        # define function check(target), to determine whether the target is above the average or not\n",
    "        def check(target):\n",
    "            preSum, minSum, total = 0, 0, 0\n",
    "            for i in range(len(nums)):\n",
    "                total += nums[i] - target\n",
    "                if i >= k:\n",
    "                    preSum += nums[i-k] - target\n",
    "                    minSum = min(preSum, minSum)\n",
    "                if i >= k - 1 and total > minSum:\n",
    "                    return True\n",
    "            return False\n",
    "        while max_num - min_num >= error:\n",
    "            mid = (max_num + min_num)/2\n",
    "            if check(mid):\n",
    "                min_num = mid\n",
    "            else:\n",
    "                max_num = mid\n",
    "        return max_num\n",
    "    "
   ]
  },
  {
   "cell_type": "code",
   "execution_count": null,
   "metadata": {},
   "outputs": [],
   "source": []
  },
  {
   "cell_type": "code",
   "execution_count": null,
   "metadata": {},
   "outputs": [],
   "source": []
  },
  {
   "cell_type": "code",
   "execution_count": null,
   "metadata": {},
   "outputs": [],
   "source": []
  }
 ],
 "metadata": {
  "kernelspec": {
   "display_name": "Python 3",
   "language": "python",
   "name": "python3"
  },
  "language_info": {
   "codemirror_mode": {
    "name": "ipython",
    "version": 3
   },
   "file_extension": ".py",
   "mimetype": "text/x-python",
   "name": "python",
   "nbconvert_exporter": "python",
   "pygments_lexer": "ipython3",
   "version": "3.7.8"
  }
 },
 "nbformat": 4,
 "nbformat_minor": 4
}
