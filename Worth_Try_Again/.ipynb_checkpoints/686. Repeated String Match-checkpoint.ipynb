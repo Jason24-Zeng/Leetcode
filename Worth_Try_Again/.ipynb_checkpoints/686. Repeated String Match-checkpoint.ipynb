{
 "cells": [
  {
   "cell_type": "code",
   "execution_count": 2,
   "metadata": {},
   "outputs": [],
   "source": [
    "def kmpTable(s: str):\n",
    "    kmp = [0] * len(s)\n",
    "\n",
    "    for i in range(1, len(s)):\n",
    "        idx = kmp[i - 1]\n",
    "\n",
    "        while idx > 0 and s[idx] != s[i]:\n",
    "            idx = kmp[idx - 1]  # trace backwards to find the last matching char\n",
    "\n",
    "        if s[i] == s[idx]:  # matches next char, increment our last known good case\n",
    "            idx += 1\n",
    "\n",
    "        kmp[i] = idx\n",
    "\n",
    "    return kmp"
   ]
  },
  {
   "cell_type": "markdown",
   "metadata": {},
   "source": [
    "Given two strings a and b, return the minimum number of times you should repeat string a so that string b is a substring of it. If it is impossible for b​​​​​​ to be a substring of a after repeating it, return -1.\n",
    "\n",
    "Notice: string \"abc\" repeated 0 times is \"\",  repeated 1 time is \"abc\" and repeated 2 times is \"abcabc\".\n",
    "\n",
    " \n",
    "\n",
    "Example 1:\n",
    "```\n",
    "Input: a = \"abcd\", b = \"cdabcdab\"\n",
    "Output: 3\n",
    "Explanation: We return 3 because by repeating a three times \"abcdabcdabcd\", b is a substring of it.\n",
    "```\n",
    "Example 2:\n",
    "```\n",
    "Input: a = \"a\", b = \"aa\"\n",
    "Output: 2\n",
    "```\n",
    "Example 3:\n",
    "```\n",
    "Input: a = \"a\", b = \"a\"\n",
    "Output: 1\n",
    "```\n",
    "Example 4:\n",
    "```\n",
    "Input: a = \"abc\", b = \"wxyz\"\n",
    "Output: -1\n",
    "``` \n",
    "\n",
    "Constraints:\n",
    "\n",
    "- 1 <= a.length <= 104\n",
    "- 1 <= b.length <= 104\n",
    "- a and b consist of lower-case English letters."
   ]
  },
  {
   "cell_type": "code",
   "execution_count": 3,
   "metadata": {},
   "outputs": [],
   "source": [
    "s = 'abcabcacd'\n",
    "kmp = kmpTable(s)"
   ]
  },
  {
   "cell_type": "code",
   "execution_count": 4,
   "metadata": {},
   "outputs": [
    {
     "data": {
      "text/plain": [
       "[0, 0, 0, 1, 2, 3, 4, 0, 0]"
      ]
     },
     "execution_count": 4,
     "metadata": {},
     "output_type": "execute_result"
    }
   ],
   "source": [
    "kmp"
   ]
  },
  {
   "cell_type": "code",
   "execution_count": null,
   "metadata": {},
   "outputs": [],
   "source": [
    "class Solution:\n",
    "    def repeatedStringMatch(self, A: str, B: str) -> int:\n",
    "        times = (len(B) - 1) // len(A) + 1  # Ceiling.\n",
    "        kmp = self.kmpTable(B)  # build kmp pattern table\n",
    "\n",
    "        for i in range(0, 2):\n",
    "            index = self.search(kmp, A * (times + i), B)\n",
    "\n",
    "            if index is not None:\n",
    "                return times + i\n",
    "\n",
    "        return -1\n",
    "\n",
    "    def search(self, kmp, str, pattern):\n",
    "        j = 0  # num of patterns match in pattern (string B)\n",
    "\n",
    "        for i in range(len(str)):\n",
    "            while j > 0 and str[i] != pattern[j]:\n",
    "                j = kmp[j - 1]  # fall back to best known match in our kmp list\n",
    "\n",
    "            if str[i] == pattern[j]:\n",
    "                j += 1\n",
    "\n",
    "                if j == len(pattern):\n",
    "                    return i - (j - 1)\n",
    "\n",
    "        return None\n",
    "\n",
    "    def kmpTable(self, s: str):\n",
    "        kmp = [0] * len(s)\n",
    "\n",
    "        for i in range(1, len(s)):\n",
    "            idx = kmp[i - 1]\n",
    "\n",
    "            while idx > 0 and s[idx] != s[i]:\n",
    "                idx = kmp[idx - 1]  # trace backwards to find the last matching char\n",
    "\n",
    "            if s[i] == s[idx]:  # matches next char, increment our last known good case\n",
    "                idx += 1\n",
    "\n",
    "            kmp[i] = idx\n",
    "\n",
    "        return kmp"
   ]
  },
  {
   "cell_type": "code",
   "execution_count": null,
   "metadata": {},
   "outputs": [],
   "source": [
    "class Solution:\n",
    "    def repeatedStringMatch(self, a: str, b: str) -> int:\n",
    "        lena, lenb = len(a), len(b)\n",
    "        times = ceil(lenb/lena)\n",
    "        #print(times)\n",
    "        \n",
    "        def kmpTable(s:str):\n",
    "            kmp = [0 for _ in range(len(s))]\n",
    "            for i in range(1, len(s)):\n",
    "                idx = kmp[i-1]\n",
    "                while idx > 0 and s[idx] != s[i]:\n",
    "                    idx = kmp[idx - 1]\n",
    "                if s[idx] == s[i]:\n",
    "                    idx += 1\n",
    "                kmp[i] = idx\n",
    "            return kmp\n",
    "        kmp = kmpTable(b)\n",
    "        def check(A, B, kmp):\n",
    "            j = 0\n",
    "            for i in range(len(A)):\n",
    "                while j > 0 and A[i] != B[j]:\n",
    "                    j = kmp[j-1]\n",
    "                if A[i] == B[j]:\n",
    "                    j += 1\n",
    "                    if j == len(B):\n",
    "                        return True\n",
    "            return False\n",
    "        for i in range(2):\n",
    "            if check(a*(times+i), b, kmp):\n",
    "                return times + i\n",
    "        return -1\n",
    "    \n"
   ]
  },
  {
   "cell_type": "code",
   "execution_count": null,
   "metadata": {},
   "outputs": [],
   "source": []
  }
 ],
 "metadata": {
  "kernelspec": {
   "display_name": "Python 3",
   "language": "python",
   "name": "python3"
  },
  "language_info": {
   "codemirror_mode": {
    "name": "ipython",
    "version": 3
   },
   "file_extension": ".py",
   "mimetype": "text/x-python",
   "name": "python",
   "nbconvert_exporter": "python",
   "pygments_lexer": "ipython3",
   "version": "3.7.8"
  }
 },
 "nbformat": 4,
 "nbformat_minor": 4
}
