{
 "cells": [
  {
   "cell_type": "markdown",
   "metadata": {},
   "source": [
    "Given a string s and an integer k, find out if the given string is a K-Palindrome or not.\n",
    "\n",
    "A string is K-Palindrome if it can be transformed into a palindrome by removing at most k characters from it.\n",
    "\n",
    " \n",
    "\n",
    "Example 1:\n",
    "```\n",
    "Input: s = \"abcdeca\", k = 2\n",
    "Output: true\n",
    "Explanation: Remove 'b' and 'e' characters.\n",
    "``` \n",
    "\n",
    "Constraints:\n",
    "\n",
    "- 1 <= s.length <= 1000\n",
    "- s has only lowercase English letters.\n",
    "- 1 <= k <= s.length"
   ]
  },
  {
   "cell_type": "code",
   "execution_count": 1,
   "metadata": {},
   "outputs": [],
   "source": [
    "class Solution:\n",
    "    def isValidPalindrome(self, s: str, k: int) -> bool:\n",
    "        self.length = len(s)\n",
    "        dp = [[0] * self.length for _ in range(self.length)]\n",
    "        for i in range(self.length):\n",
    "            for j in range(self.length - i):\n",
    "                if i == 0:\n",
    "                    dp[j][j+i] = 1\n",
    "                else:\n",
    "                    if s[j] == s[j + i]:\n",
    "                        dp[j][i+j] = 2 + dp[j+1][i+j-1]\n",
    "                    else:\n",
    "                        dp[j][i+j] = max(dp[j+1][i+j], dp[j][i+j-1])\n",
    "                if dp[j][j+i] >= self.length - k:\n",
    "                    return True\n",
    "        return False\n",
    "                \n",
    "                    "
   ]
  },
  {
   "cell_type": "code",
   "execution_count": null,
   "metadata": {},
   "outputs": [],
   "source": []
  },
  {
   "cell_type": "code",
   "execution_count": null,
   "metadata": {},
   "outputs": [],
   "source": []
  }
 ],
 "metadata": {
  "kernelspec": {
   "display_name": "Python 3",
   "language": "python",
   "name": "python3"
  },
  "language_info": {
   "codemirror_mode": {
    "name": "ipython",
    "version": 3
   },
   "file_extension": ".py",
   "mimetype": "text/x-python",
   "name": "python",
   "nbconvert_exporter": "python",
   "pygments_lexer": "ipython3",
   "version": "3.6.11"
  }
 },
 "nbformat": 4,
 "nbformat_minor": 4
}
