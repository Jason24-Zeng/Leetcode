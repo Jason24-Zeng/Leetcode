{
 "cells": [
  {
   "cell_type": "markdown",
   "metadata": {},
   "source": [
    "Given a singly linked list L: L0→L1→…→Ln-1→Ln,\n",
    "reorder it to: L0→Ln→L1→Ln-1→L2→Ln-2→…\n",
    "\n",
    "You may not modify the values in the list's nodes, only nodes itself may be changed.\n",
    "\n",
    "Example 1:\n",
    "```\n",
    "Given 1->2->3->4, reorder it to 1->4->2->3.\n",
    "```\n",
    "Example 2:\n",
    "```\n",
    "Given 1->2->3->4->5, reorder it to 1->5->2->4->3.\n",
    "```"
   ]
  },
  {
   "cell_type": "code",
   "execution_count": null,
   "metadata": {},
   "outputs": [],
   "source": [
    "# Definition for singly-linked list.\n",
    "# class ListNode:\n",
    "#     def __init__(self, val=0, next=None):\n",
    "#         self.val = val\n",
    "#         self.next = next\n",
    "class Solution:\n",
    "    def reorderList(self, head: ListNode) -> None:\n",
    "        \"\"\"\n",
    "        Do not return anything, modify head in-place instead.\n",
    "        \"\"\"\n",
    "        start, end = 1, 0\n",
    "        if not head:\n",
    "            return head\n",
    "        def reorganize(node):\n",
    "            nonlocal head, start, end\n",
    "            if node.next:\n",
    "                start += 1\n",
    "                reorganize(node.next)\n",
    "                start -=1\n",
    "                end +=1\n",
    "                if start >= end:\n",
    "                    node.next, temp = None, node.next\n",
    "                    head.next, head.next.next = temp, head.next\n",
    "                    head = head.next.next\n",
    "        reorganize(head)\n",
    "            \n",
    "                \n",
    "                \n",
    "            "
   ]
  },
  {
   "cell_type": "code",
   "execution_count": null,
   "metadata": {},
   "outputs": [],
   "source": []
  },
  {
   "cell_type": "code",
   "execution_count": null,
   "metadata": {},
   "outputs": [],
   "source": []
  },
  {
   "cell_type": "code",
   "execution_count": null,
   "metadata": {},
   "outputs": [],
   "source": []
  }
 ],
 "metadata": {
  "kernelspec": {
   "display_name": "Python 3",
   "language": "python",
   "name": "python3"
  },
  "language_info": {
   "codemirror_mode": {
    "name": "ipython",
    "version": 3
   },
   "file_extension": ".py",
   "mimetype": "text/x-python",
   "name": "python",
   "nbconvert_exporter": "python",
   "pygments_lexer": "ipython3",
   "version": "3.7.8"
  }
 },
 "nbformat": 4,
 "nbformat_minor": 4
}
