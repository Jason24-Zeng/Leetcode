{
 "cells": [
  {
   "cell_type": "markdown",
   "metadata": {},
   "source": [
    "Given n balloons, indexed from 0 to n-1. Each balloon is painted with a number on it represented by array nums. You are asked to burst all the balloons. If the you burst balloon i you will get nums[left] * nums[i] * nums[right] coins. Here left and right are adjacent indices of i. After the burst, the left and right then becomes adjacent.\n",
    "\n",
    "Find the maximum coins you can collect by bursting the balloons wisely.\n",
    "\n",
    "Note:\n",
    "\n",
    "You may imagine nums[-1] = nums[n] = 1. They are not real therefore you can not burst them.\n",
    "0 ≤ n ≤ 500, 0 ≤ nums[i] ≤ 100\n",
    "Example:\n",
    "```python\n",
    "Input: [3,1,5,8]\n",
    "Output: 167 \n",
    "Explanation: nums = [3,1,5,8] --> [3,5,8] -->   [3,8]   -->  [8]  --> []\n",
    "             coins =  3*1*5      +  3*5*8    +  1*3*8      + 1*8*1   = 167\n",
    "```"
   ]
  },
  {
   "cell_type": "code",
   "execution_count": null,
   "metadata": {},
   "outputs": [],
   "source": [
    "class Solution:\n",
    "    def maxCoins(self, nums: List[int]) -> int:\n",
    "        nums = [1] + nums + [1]\n",
    "        lenn = len(nums)\n",
    "        \n",
    "        dp = [[0] * lenn for _ in range(lenn)]\n",
    "        \n",
    "        for l in range(2, lenn):\n",
    "            for left in range(lenn - l):\n",
    "                right = left + l\n",
    "                dp[left][right] = max(nums[left]*nums[k]*nums[right] + dp[left][k] + dp[k][right] for k in range(left+1, right))\n",
    "        return dp[0][lenn-1]"
   ]
  }
 ],
 "metadata": {
  "kernelspec": {
   "display_name": "Python 3",
   "language": "python",
   "name": "python3"
  },
  "language_info": {
   "codemirror_mode": {
    "name": "ipython",
    "version": 3
   },
   "file_extension": ".py",
   "mimetype": "text/x-python",
   "name": "python",
   "nbconvert_exporter": "python",
   "pygments_lexer": "ipython3",
   "version": "3.7.8"
  }
 },
 "nbformat": 4,
 "nbformat_minor": 4
}
