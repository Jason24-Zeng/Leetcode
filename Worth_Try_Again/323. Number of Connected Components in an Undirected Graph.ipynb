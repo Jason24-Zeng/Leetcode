{
 "cells": [
  {
   "cell_type": "markdown",
   "metadata": {},
   "source": [
    "Given n nodes labeled from 0 to n - 1 and a list of undirected edges (each edge is a pair of nodes), write a function to find the number of connected components in an undirected graph.\n",
    "\n",
    "Example 1:\n",
    "```\n",
    "Input: n = 5 and edges = [[0, 1], [1, 2], [3, 4]]\n",
    "\n",
    "     0          3\n",
    "     |          |\n",
    "     1 --- 2    4 \n",
    "\n",
    "Output: 2\n",
    "```\n",
    "Example 2:\n",
    "```\n",
    "Input: n = 5 and edges = [[0, 1], [1, 2], [2, 3], [3, 4]]\n",
    "\n",
    "     0           4\n",
    "     |           |\n",
    "     1 --- 2 --- 3\n",
    "\n",
    "Output:  1\n",
    "```\n",
    "Note:\n",
    "- You can assume that no duplicate edges will appear in edges. Since all edges are undirected, [0, 1] is the same as [1, 0] and thus will not appear together in edges.\n"
   ]
  },
  {
   "cell_type": "code",
   "execution_count": null,
   "metadata": {},
   "outputs": [],
   "source": [
    "class Solution:\n",
    "    def countComponents(self, n: int, edges: List[List[int]]) -> int:\n",
    "        self.parent = [i for i in range(n)]\n",
    "        for node1, node2 in edges:\n",
    "            self.union(node1, node2)\n",
    "        count = 0\n",
    "        for i in range(n):\n",
    "            if self.parent[i] == i:\n",
    "                count += 1\n",
    "        return count\n",
    "            \n",
    "    def find_parent(self, edge:int) -> int:\n",
    "        node = edge\n",
    "        while self.parent[node] != node:\n",
    "            node = self.parent[node]\n",
    "        # 将所有经历过的node都连接到主parent上，这样后续查找会节省时间\n",
    "        while node != edge:\n",
    "            temp = self.parent[edge]\n",
    "            self.parent[edge] = node\n",
    "            edge = temp\n",
    "        return node\n",
    "    def union(self, node1, node2):\n",
    "        root1 = self.find_parent(node1)\n",
    "        root2 = self.find_parent(node2)\n",
    "        self.parent[root1] = self.parent[root2]"
   ]
  },
  {
   "cell_type": "code",
   "execution_count": 6,
   "metadata": {},
   "outputs": [],
   "source": [
    "class Solution:\n",
    "    def countComponents(self, n: int, edges) -> int:\n",
    "        self.parent =  {i:[i, 1] for i in range(n)}\n",
    "        for node1, node2 in edges:\n",
    "            self.union(node1, node2)\n",
    "        count = 0\n",
    "        for i in range(n):\n",
    "            if self.parent[i][0] == i:\n",
    "                count += 1\n",
    "        return count\n",
    "    def find(self, edge):\n",
    "        root = edge\n",
    "        while self.parent[root][0] != root:\n",
    "            root = self.parent[root][0]\n",
    "        while root != edge:\n",
    "            temp = self.parent[edge][0]\n",
    "            self.parent[edge][0] = root\n",
    "            edge = temp\n",
    "        return root\n",
    "    def union(self, node1, node2):\n",
    "        root1 = self.find(node1)\n",
    "        root2 = self.find(node2)\n",
    "        if root1 == root2:\n",
    "            return\n",
    "        elif self.parent[root1][1] > self.parent[root2][1]:\n",
    "            self.parent[root2][0] = self.parent[root1][0]\n",
    "            self.parent[root1][1] += self.parent[root2][1]\n",
    "        else:\n",
    "            self.parent[root1][0] = self.parent[root2][0]\n",
    "            self.parent[root2][1] += self.parent[root1][1]\n",
    "            \n",
    "            "
   ]
  },
  {
   "cell_type": "markdown",
   "metadata": {},
   "source": [
    "## matrix\n",
    "- 如果是通过一个矩阵去表达两点之间的连接关系呢？"
   ]
  },
  {
   "cell_type": "code",
   "execution_count": 17,
   "metadata": {},
   "outputs": [],
   "source": [
    "class Solution:\n",
    "    def countComponents(self, matrix):\n",
    "        n = len(matrix)\n",
    "        self.parent = [i for i in range(n)]\n",
    "        for i in range(n):\n",
    "            for j in range(i):\n",
    "                if matrix[i][j] == 1:\n",
    "                    self.union(i, j)\n",
    "        count = 0\n",
    "        for i in range(n):\n",
    "            if self.parent[i] == i:\n",
    "                count += 1\n",
    "        print(self.parent)\n",
    "        return count\n",
    "    def union(self, node1, node2):\n",
    "        root1 = self.find_parent(node1)\n",
    "        root2 = self.find_parent(node2)\n",
    "        if root1 == root2:\n",
    "            return\n",
    "        self.parent[node1] = self.parent[node2]\n",
    "    def find_parent(self, edge):\n",
    "        root = edge\n",
    "        while self.parent[root] != root:\n",
    "            root = self.parent[root]\n",
    "        while root != edge:\n",
    "            self.parent[edge], edge = root, self.parent[edge]\n",
    "        return root\n",
    "        "
   ]
  },
  {
   "cell_type": "code",
   "execution_count": 10,
   "metadata": {},
   "outputs": [
    {
     "data": {
      "text/plain": [
       "[[0, 1, 0, 1], [1, 0, 0, 1], [0, 0, 0, 0], [1, 1, 0, 0]]"
      ]
     },
     "execution_count": 10,
     "metadata": {},
     "output_type": "execute_result"
    }
   ],
   "source": [
    "matrix = [  [0, 1, 0, 1],\n",
    "            [1, 0, 0, 1],\n",
    "            [0, 0, 0, 0],\n",
    "            [1, 1, 0, 0]]\n",
    "matrix"
   ]
  },
  {
   "cell_type": "code",
   "execution_count": 18,
   "metadata": {},
   "outputs": [
    {
     "name": "stdout",
     "output_type": "stream",
     "text": [
      "[0, 0, 2, 0]\n",
      "2\n"
     ]
    }
   ],
   "source": [
    "if __name__ == '__main__':\n",
    "    matrix = [[0, 1, 0, 1],\n",
    "            [1, 0, 0, 1],\n",
    "            [0, 0, 0, 0],\n",
    "            [1, 1, 0, 0]]\n",
    "    solution = Solution()\n",
    "    print(solution.countComponents(matrix))"
   ]
  }
 ],
 "metadata": {
  "kernelspec": {
   "display_name": "Python 3",
   "language": "python",
   "name": "python3"
  },
  "language_info": {
   "codemirror_mode": {
    "name": "ipython",
    "version": 3
   },
   "file_extension": ".py",
   "mimetype": "text/x-python",
   "name": "python",
   "nbconvert_exporter": "python",
   "pygments_lexer": "ipython3",
   "version": "3.7.8"
  }
 },
 "nbformat": 4,
 "nbformat_minor": 4
}
