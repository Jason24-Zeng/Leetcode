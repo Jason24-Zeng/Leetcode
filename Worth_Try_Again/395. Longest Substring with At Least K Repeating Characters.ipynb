{
 "cells": [
  {
   "cell_type": "markdown",
   "metadata": {},
   "source": [
    "Given a string s and an integer k, return the length of the longest substring of s such that the frequency of each character in this substring is less than or equal to k.\n",
    "\n",
    " \n",
    "\n",
    "Example 1:\n",
    "```python\n",
    "Input: s = \"aaabb\", k = 3\n",
    "Output: 3\n",
    "Explanation: The longest substring is \"aaa\", as 'a' is repeated 3 times.\n",
    "```\n",
    "Example 2:\n",
    "```python\n",
    "Input: s = \"ababbc\", k = 2\n",
    "Output: 5\n",
    "Explanation: The longest substring is \"ababb\", as 'a' is repeated 2 times and 'b' is repeated 3 times.\n",
    "``` \n",
    "\n",
    "Constraints:\n",
    "\n",
    "- 1 <= s.length <= 104\n",
    "- s consists of only lowercase English letters.\n",
    "- 1 <= k <= 105"
   ]
  },
  {
   "cell_type": "code",
   "execution_count": 25,
   "metadata": {},
   "outputs": [],
   "source": [
    "# version 1: sliding windows\n",
    "from collections import defaultdict, Counter\n",
    "class Solution:\n",
    "    def longestSubstring(self, s: str, k: int) -> int:\n",
    "        \n",
    "        def helper(unique):\n",
    "            num, left, right, get_k = 0, 0, 0, 0\n",
    "            dic = defaultdict(int)\n",
    "            count = 0\n",
    "            while right < len(s):\n",
    "                dic[s[right]] += 1\n",
    "                if dic[s[right]] == 1:\n",
    "                    num += 1\n",
    "                if dic[s[right]] == k:\n",
    "                    get_k += 1\n",
    "                while num > unique:\n",
    "                    if dic[s[left]] == 1:\n",
    "                        num -= 1\n",
    "                    if dic[s[left]] == k:\n",
    "                        get_k -= 1\n",
    "                    dic[s[left]] -= 1\n",
    "                    left += 1\n",
    "                if num == get_k:\n",
    "                    count = max(count, right - left + 1) \n",
    "                print(s[left:right+1])\n",
    "                right += 1\n",
    "            return count\n",
    "        max_cha = len(Counter(s).values())\n",
    "        \n",
    "        return max(0, max(helper(i) for i in range(1, max_cha+1)))"
   ]
  },
  {
   "cell_type": "code",
   "execution_count": 46,
   "metadata": {},
   "outputs": [],
   "source": [
    "# version 2: divide and conquer\n",
    "from collections import defaultdict, Counter\n",
    "class Solution:\n",
    "    def longestSubstring(self, s: str, k: int) -> int:\n",
    "        if len(s) < k:\n",
    "            return 0\n",
    "        t = min(set(s), key = s.count)\n",
    "        if s.count(t) >= k:\n",
    "            return len(s)\n",
    "        return max(self.longestSubstring(a, k) for a in s.split(t))\n",
    "                "
   ]
  },
  {
   "cell_type": "code",
   "execution_count": 47,
   "metadata": {},
   "outputs": [
    {
     "name": "stdout",
     "output_type": "stream",
     "text": [
      "3\n"
     ]
    }
   ],
   "source": [
    "if __name__ == '__main__':\n",
    "    s  = \"aaabb\"\n",
    "    solution = Solution()\n",
    "    print(solution.longestSubstring(s, 3))"
   ]
  },
  {
   "cell_type": "code",
   "execution_count": 41,
   "metadata": {},
   "outputs": [
    {
     "data": {
      "text/plain": [
       "<function str.count>"
      ]
     },
     "execution_count": 41,
     "metadata": {},
     "output_type": "execute_result"
    }
   ],
   "source": [
    "s = \"aaabb\"\n",
    "s.count"
   ]
  }
 ],
 "metadata": {
  "kernelspec": {
   "display_name": "Python 3",
   "language": "python",
   "name": "python3"
  },
  "language_info": {
   "codemirror_mode": {
    "name": "ipython",
    "version": 3
   },
   "file_extension": ".py",
   "mimetype": "text/x-python",
   "name": "python",
   "nbconvert_exporter": "python",
   "pygments_lexer": "ipython3",
   "version": "3.7.8"
  }
 },
 "nbformat": 4,
 "nbformat_minor": 4
}
