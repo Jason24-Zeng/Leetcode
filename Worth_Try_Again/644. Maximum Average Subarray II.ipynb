{
 "cells": [
  {
   "cell_type": "code",
   "execution_count": null,
   "metadata": {},
   "outputs": [],
   "source": []
  },
  {
   "cell_type": "markdown",
   "metadata": {},
   "source": [
    "You are given an integer array nums consisting of n elements, and an integer k.\n",
    "\n",
    "Find a contiguous subarray whose length is greater than or equal to k that has the maximum average value and return this value. Any answer with a calculation error less than 10-5 will be accepted.\n",
    "\n",
    " \n",
    "\n",
    "Example 1:\n",
    "```python\n",
    "Input: nums = [1,12,-5,-6,50,3], k = 4\n",
    "Output: 12.75000\n",
    "Explanation:\n",
    "- When the length is 4, averages are [0.5, 12.75, 10.5] and the maximum average is 12.75\n",
    "- When the length is 5, averages are [10.4, 10.8] and the maximum average is 10.8\n",
    "- When the length is 6, averages are [9.16667] and the maximum average is 9.16667\n",
    "The maximum average is when we choose a subarray of length 4 (i.e., the sub array [12, -5, -6, 50]) which has the max average 12.75, so we return 12.75\n",
    "Note that we do not consider the subarrays of length < 4.\n",
    "Example 2:\n",
    "\n",
    "Input: nums = [5], k = 1\n",
    "Output: 5.00000\n",
    "``` \n",
    "\n",
    "Constraints:\n",
    "\n",
    "- n == nums.length\n",
    "- 1 <= k <= n <= 104\n",
    "- -104 <= nums[i] <= 104"
   ]
  },
  {
   "cell_type": "code",
   "execution_count": null,
   "metadata": {},
   "outputs": [],
   "source": [
    "# This Problem is pretty hard for me now but I would best underdig it.\n",
    "# Binary Search\n",
    "class Solution:\n",
    "    def findMaxAverage(self, nums: List[int], k: int) -> float:\n",
    "        min_num, max_num = min(nums), max(nums)\n",
    "        error = 1e-5\n",
    "        # define function check(target), to determine whether the target is above the average or not\n",
    "        def check(target):\n",
    "            preSum, minSum, total = 0, 0, 0\n",
    "            for i in range(len(nums)):\n",
    "                total += nums[i] - target\n",
    "                if i >= k:\n",
    "                    preSum += nums[i-k] - target\n",
    "                    minSum = min(preSum, minSum)\n",
    "                if i >= k - 1 and total > minSum:\n",
    "                    return True\n",
    "            return False\n",
    "        while max_num - min_num >= error:\n",
    "            mid = (max_num + min_num)/2\n",
    "            if check(mid):\n",
    "                min_num = mid\n",
    "            else:\n",
    "                max_num = mid\n",
    "        return max_num\n",
    "    "
   ]
  },
  {
   "cell_type": "code",
   "execution_count": null,
   "metadata": {},
   "outputs": [],
   "source": []
  },
  {
   "cell_type": "code",
   "execution_count": null,
   "metadata": {},
   "outputs": [],
   "source": []
  },
  {
   "cell_type": "code",
   "execution_count": null,
   "metadata": {},
   "outputs": [],
   "source": []
  }
 ],
 "metadata": {
  "kernelspec": {
   "display_name": "Python 3",
   "language": "python",
   "name": "python3"
  },
  "language_info": {
   "codemirror_mode": {
    "name": "ipython",
    "version": 3
   },
   "file_extension": ".py",
   "mimetype": "text/x-python",
   "name": "python",
   "nbconvert_exporter": "python",
   "pygments_lexer": "ipython3",
   "version": "3.7.8"
  }
 },
 "nbformat": 4,
 "nbformat_minor": 4
}
