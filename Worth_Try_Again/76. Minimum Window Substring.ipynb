{
 "cells": [
  {
   "cell_type": "markdown",
   "metadata": {},
   "source": [
    "Given two strings s and t, return the minimum window in s which will contain all the characters in t. If there is no such window in s that covers all characters in t, return the empty string \"\".\n",
    "\n",
    "Note that If there is such a window, it is guaranteed that there will always be only one unique minimum window in s.\n",
    "\n",
    " \n",
    "\n",
    "Example 1:\n",
    "```\n",
    "Input: s = \"ADOBECODEBANC\", t = \"ABC\"\n",
    "Output: \"BANC\"\n",
    "```\n",
    "Example 2:\n",
    "```\n",
    "Input: s = \"a\", t = \"a\"\n",
    "Output: \"a\"\n",
    "```\n"
   ]
  },
  {
   "cell_type": "code",
   "execution_count": 1,
   "metadata": {},
   "outputs": [],
   "source": [
    "# sliding windows\n",
    "from collections import Counter, defaultdict\n",
    "class Solution:\n",
    "    def minWindow(self, s: str, t: str) -> str:\n",
    "        dict_t = Counter(t)\n",
    "        window_count = defaultdict(int)\n",
    "        ans = [float('inf'), None, None]\n",
    "        start, end, count_c, required_c = 0, 0, 0, len(dict_t.keys())\n",
    "        while end < len(s):\n",
    "            cha = s[end]\n",
    "            window_count[cha] += 1\n",
    "            if cha in dict_t and window_count[cha] == dict_t[cha]:\n",
    "                count_c += 1\n",
    "            while start <= end and count_c == required_c:\n",
    "                cha = s[start]\n",
    "                if end - start + 1 < ans[0]:\n",
    "                    #print(s[start:end+1])\n",
    "                    ans = [end - start + 1, start, end]\n",
    "                window_count[cha] -= 1\n",
    "                if cha in dict_t and window_count[cha] < dict_t[cha]:\n",
    "                    count_c -= 1\n",
    "                start += 1\n",
    "            end += 1\n",
    "        return \"\" if ans[0] == float('inf') else s[ans[1]: ans[2]+1]\n",
    "                \n",
    "                "
   ]
  },
  {
   "cell_type": "code",
   "execution_count": null,
   "metadata": {},
   "outputs": [],
   "source": []
  },
  {
   "cell_type": "code",
   "execution_count": null,
   "metadata": {},
   "outputs": [],
   "source": []
  },
  {
   "cell_type": "code",
   "execution_count": null,
   "metadata": {},
   "outputs": [],
   "source": []
  }
 ],
 "metadata": {
  "kernelspec": {
   "display_name": "Python 3",
   "language": "python",
   "name": "python3"
  },
  "language_info": {
   "codemirror_mode": {
    "name": "ipython",
    "version": 3
   },
   "file_extension": ".py",
   "mimetype": "text/x-python",
   "name": "python",
   "nbconvert_exporter": "python",
   "pygments_lexer": "ipython3",
   "version": "3.7.8"
  }
 },
 "nbformat": 4,
 "nbformat_minor": 4
}
