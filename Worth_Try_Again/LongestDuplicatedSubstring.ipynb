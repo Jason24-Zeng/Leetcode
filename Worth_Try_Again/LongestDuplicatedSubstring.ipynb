{
 "cells": [
  {
   "cell_type": "markdown",
   "metadata": {},
   "source": [
    "给定一个字符串，希望能找出一个子串，使该子串的长度为偶数，且可以分成两个完全相同的子串，求这样的最长子串"
   ]
  },
  {
   "cell_type": "code",
   "execution_count": 16,
   "metadata": {},
   "outputs": [],
   "source": [
    "# Dynamic Programming\n",
    "class Solution:\n",
    "    def findLongestDuplicatedString(self, s:str) -> str:\n",
    "        n = len(s)\n",
    "        dp = [[False for _ in range(n)]for _ in range(n)]\n",
    "        ans = []\n",
    "        max_length = 0\n",
    "        for k in range(1, len(s)//2+1):\n",
    "            new_ans = []\n",
    "            for i in range(len(s) - 2*k + 1):\n",
    "                for j in range(i + k, len(s) - k + 1):\n",
    "                    if k == 1:\n",
    "                        if s[i] == s[j]:\n",
    "                            dp[i][j] = True\n",
    "                            if j == k + i:\n",
    "                                new_ans.append(i)\n",
    "                    else:\n",
    "                        if dp[i][j] == True:\n",
    "                            if s[i+k-1] == s[j+k-1]:\n",
    "                                if j == k + i:\n",
    "                                    print(s[i], s[j], i, j)\n",
    "                                    new_ans.append(i)\n",
    "                            else:\n",
    "                                dp[i][j] = False\n",
    "            if new_ans != []:\n",
    "                ans = new_ans.copy()\n",
    "                max_length = k\n",
    "                \n",
    "        return ans, max_length\n",
    "                            \n",
    "                                \n",
    "                        \n",
    "                            "
   ]
  },
  {
   "cell_type": "code",
   "execution_count": 17,
   "metadata": {},
   "outputs": [
    {
     "name": "stdout",
     "output_type": "stream",
     "text": [
      "a a 3 7\n",
      "([3], 4)\n"
     ]
    }
   ],
   "source": [
    "if __name__ == '__main__':\n",
    "    s = 'abcabdaabdad'\n",
    "    solution = Solution()\n",
    "    print(solution.findLongestDuplicatedString(s))"
   ]
  },
  {
   "cell_type": "code",
   "execution_count": null,
   "metadata": {},
   "outputs": [],
   "source": []
  },
  {
   "cell_type": "code",
   "execution_count": null,
   "metadata": {},
   "outputs": [],
   "source": []
  }
 ],
 "metadata": {
  "kernelspec": {
   "display_name": "Python 3",
   "language": "python",
   "name": "python3"
  },
  "language_info": {
   "codemirror_mode": {
    "name": "ipython",
    "version": 3
   },
   "file_extension": ".py",
   "mimetype": "text/x-python",
   "name": "python",
   "nbconvert_exporter": "python",
   "pygments_lexer": "ipython3",
   "version": "3.7.8"
  }
 },
 "nbformat": 4,
 "nbformat_minor": 4
}
