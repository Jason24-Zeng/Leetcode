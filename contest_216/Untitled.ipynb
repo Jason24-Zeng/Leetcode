{
 "cells": [
  {
   "cell_type": "code",
   "execution_count": 1,
   "metadata": {},
   "outputs": [
    {
     "name": "stdout",
     "output_type": "stream",
     "text": [
      "[1, 1, 4, 2]\n"
     ]
    }
   ],
   "source": [
    "nums =[1,1,4,2,3]\n",
    "print(nums[:-1])"
   ]
  },
  {
   "cell_type": "code",
   "execution_count": 5,
   "metadata": {},
   "outputs": [
    {
     "ename": "TypeError",
     "evalue": "unhashable type: 'list'",
     "output_type": "error",
     "traceback": [
      "\u001b[0;31m---------------------------------------------------------------------------\u001b[0m",
      "\u001b[0;31mTypeError\u001b[0m                                 Traceback (most recent call last)",
      "\u001b[0;32m<ipython-input-5-c63a89b89175>\u001b[0m in \u001b[0;36m<module>\u001b[0;34m\u001b[0m\n\u001b[0;32m----> 1\u001b[0;31m \u001b[0;34m{\u001b[0m\u001b[0;34m[\u001b[0m\u001b[0;36m1\u001b[0m\u001b[0;34m,\u001b[0m\u001b[0;36m2\u001b[0m\u001b[0;34m,\u001b[0m\u001b[0;36m3\u001b[0m\u001b[0;34m]\u001b[0m\u001b[0;34m:\u001b[0m\u001b[0;36m1\u001b[0m\u001b[0;34m,\u001b[0m\u001b[0;34m[\u001b[0m\u001b[0;36m2\u001b[0m\u001b[0;34m,\u001b[0m\u001b[0;36m3\u001b[0m\u001b[0;34m,\u001b[0m\u001b[0;36m4\u001b[0m\u001b[0;34m]\u001b[0m\u001b[0;34m:\u001b[0m\u001b[0;36m1\u001b[0m\u001b[0;34m}\u001b[0m\u001b[0;34m\u001b[0m\u001b[0;34m\u001b[0m\u001b[0m\n\u001b[0m",
      "\u001b[0;31mTypeError\u001b[0m: unhashable type: 'list'"
     ]
    }
   ],
   "source": []
  },
  {
   "cell_type": "code",
   "execution_count": 15,
   "metadata": {},
   "outputs": [
    {
     "data": {
      "text/plain": [
       "'123'"
      ]
     },
     "execution_count": 15,
     "metadata": {},
     "output_type": "execute_result"
    }
   ],
   "source": [
    " a = ''\n",
    "for i in [1,2,3]:\n",
    "    a += str(i)\n",
    "a"
   ]
  },
  {
   "cell_type": "code",
   "execution_count": null,
   "metadata": {},
   "outputs": [],
   "source": [
    "[5483,2112,4272,4961,7693,6433,6160,8474,6658,7516,8284,1765,4627,9734,7854,4924,5345,9899,7688,8925,8097,5883,8089,7742,8956,6335,5056,2953,8423,7696,1841,7395,7254,204,1620,9689,471,1717,2122,175,8702,7440,8071,6210,374,5994,5284,4561,1637,8773,7886,2303,2127,198,2461,3841,9445,1575,9211,1178,2779,3707,5343,6577,6822,5462,8444,5206,3670,1972,5700,4142,1168,9340,4711,6154,4651,3173,8278,4885,289,8027,3934,961,2973,769,9530,5976,9298,383,7807,8187,9217,8910,8204,8444,6965,1011,3616,3116,2480,7981,5319,9703,7267,7572,3152,3909,2639,2842,6266,1234,5118,2698,657,4428,7897,7667,4233,8043,9460,2229,5321,7761,4825,1218,2308,4468,6934,5516,2500,4250,3422,127,3834,1821,3871,7399,7177,8573,989,985,6870,6825,6147,3419,1907,4991,9346,178,635,9602,4177,2028,5625,1967,4456,5913,5634,1675,9073,5458,2697,2506,6941,5704,9759,1395,5724,287,833,9782,8918,5474,9296,1110,7697,9286,1690,656,6652,5330,9828,4124,9010,881,9230,5902,1923,2912,1611,3366,1610,145,8031,8965,470,5057,2787,8589,7524,6082,7479,8615,3938,5035,4433,9675,2010,9412,1724,4905,9957,9273,4193,2915,9096,8365,1439,3250,3411,1863,8700,8788,4305,2341,6069,7135,6897,537,6578,6876,3134,346,1926,6404,4333,4126,1729,4904,6614,8813,7341,4013,3665,9106,9232,629,7871,404,1771,7448,4793,7034,6360,4500,3876,2726,607,5427,2107,5706,9684,4937,9583,1519,2000,5555,8659,6452,2720,807,9761,6602,3297,5286,2052,4162,3772,4939,1719,2042,3981,3520,9233,4885,3543,9663,2913,7987,4999,3766,1236,4347,2287,1799,2383,3736,4104,786,5933]\n",
    "1183298"
   ]
  },
  {
   "cell_type": "code",
   "execution_count": null,
   "metadata": {},
   "outputs": [],
   "source": [
    "class Solution:\n",
    "    def minOperations(self, nums: List[int], x: int) -> int:\n",
    "        min_step = float('inf')\n",
    "        seen_left = {}\n",
    "        seen_right = {}\n",
    "        def remove(target = x, left = True, num_list = nums, step = 0):\n",
    "            nonlocal min_step, seen_left, seen_right\n",
    "            #print(step)\n",
    "            if len(num_list) == 0:\n",
    "                return\n",
    "            number = ''\n",
    "            for i in num_list:\n",
    "                number += str(i)\n",
    "            \n",
    "            \n",
    "            \n",
    "            if left == True:\n",
    "                if number in seen_left.keys():\n",
    "                    if seen_left[number] <= step:\n",
    "                        return\n",
    "                seen_left[number] = step\n",
    "                if target == 0:\n",
    "                    min_step = min(step, min_step)\n",
    "                    return\n",
    "                elif target < 0:\n",
    "                    return\n",
    "                remove(target - num_list[0], True, num_list[1:], step + 1)\n",
    "                remove(target - num_list[0], False, num_list[1:], step + 1)\n",
    "            else:\n",
    "                if number in seen_right.keys():\n",
    "                    if seen_right[number] <= step:\n",
    "                        return\n",
    "                seen_right[number] = step \n",
    "                if target == 0:\n",
    "                    min_step = min(step, min_step)\n",
    "                    return\n",
    "                elif target < 0:\n",
    "                    return\n",
    "                remove(target - num_list[-1], True, num_list[:-1], step + 1)\n",
    "                remove(target - num_list[-1], False, num_list[:-1], step + 1)\n",
    "                \n",
    "        remove(left = True)\n",
    "        remove(left = False)\n",
    "        #print(seen_left, seen_right)\n",
    "        return min_step if min_step != float('inf') else -1\n",
    "        "
   ]
  },
  {
   "cell_type": "code",
   "execution_count": null,
   "metadata": {},
   "outputs": [],
   "source": [
    "class Solution:\n",
    "    def minOperations(self, nums: List[int], x: int) -> int:\n",
    "        min_step = float('inf')\n",
    "        seen_left = {}\n",
    "        seen_right = {}\n",
    "        def remove(target = x, left = True, num_list = nums, step = 0):\n",
    "            nonlocal min_step, seen_left, seen_right\n",
    "            #print(step)\n",
    "            if len(num_list) == 0:\n",
    "                if target == 0:\n",
    "                    min_step = min(step, min_step)                    \n",
    "                return\n",
    "            number = ''\n",
    "            for i in num_list:\n",
    "                number += str(i)\n",
    "            if target == 0:\n",
    "                    min_step = min(step, min_step)\n",
    "                    return\n",
    "            elif target < 0:\n",
    "                    return\n",
    "            \n",
    "            \n",
    "            if left == True:\n",
    "                if number in seen_left.keys():\n",
    "                    if seen_left[number] <= step:\n",
    "                        return\n",
    "                seen_left[number] = step\n",
    "                \n",
    "                \n",
    "                remove(target - num_list[0], True, num_list[1:], step + 1)\n",
    "                remove(target - num_list[0], False, num_list[1:], step + 1)\n",
    "            else:\n",
    "                if number in seen_right.keys():\n",
    "                    if seen_right[number] <= step:\n",
    "                        return\n",
    "                \n",
    "                seen_right[number] = step                \n",
    "                remove(target - num_list[-1], True, num_list[:-1], step + 1)\n",
    "                remove(target - num_list[-1], False, num_list[:-1], step + 1)\n",
    "                \n",
    "        remove(left = True)\n",
    "        remove(left = False)\n",
    "        #print(seen_left, seen_right)\n",
    "        return min_step if min_step != float('inf') else -1\n",
    "        "
   ]
  },
  {
   "cell_type": "code",
   "execution_count": null,
   "metadata": {},
   "outputs": [],
   "source": []
  },
  {
   "cell_type": "code",
   "execution_count": 17,
   "metadata": {},
   "outputs": [
    {
     "name": "stdout",
     "output_type": "stream",
     "text": [
      "{True: [], False: []}\n"
     ]
    }
   ],
   "source": [
    "seen = {}\n",
    "seen[True] = []\n",
    "seen[False] = []\n",
    "print(seen)"
   ]
  },
  {
   "cell_type": "code",
   "execution_count": null,
   "metadata": {},
   "outputs": [],
   "source": [
    "class Solution:\n",
    "    def minOperations(self, nums: List[int], x: int) -> int:\n",
    "        min_step = float('inf')\n",
    "        seen = {}\n",
    "        seen[True] = []\n",
    "        seen[False] = []\n",
    "        def remove(target = x, start = 0, end = len(nums) - 1, left = True, step = 0):\n",
    "            nonlocal min_step, seen\n",
    "            #print(step)\n",
    "            if target == 0:\n",
    "                min_step = min(step, min_step)\n",
    "                return            \n",
    "            elif target < 0:\n",
    "                return\n",
    "            if start > end:\n",
    "                return\n",
    "            if [start, end] in seen[left]:\n",
    "                return\n",
    "            seen[left].append([start, end])\n",
    "            \n",
    "            \n",
    "            \n",
    "            if left == True:                \n",
    "                remove(target - nums[start], start + 1, end, True,  step + 1)\n",
    "                remove(target - nums[start], start, end - 1, False, step + 1)\n",
    "            else:                          \n",
    "                remove(target - nums[end], start + 1, end, True,  step + 1)\n",
    "                remove(target - nums[end], start, end - 1, False,step + 1)\n",
    "                \n",
    "        remove(left = True)\n",
    "        remove(left = False)\n",
    "        #print(seen_left, seen_right)\n",
    "        return min_step if min_step != float('inf') else -1\n",
    "        "
   ]
  },
  {
   "cell_type": "code",
   "execution_count": null,
   "metadata": {},
   "outputs": [],
   "source": [
    "class Solution:\n",
    "    def minOperations(self, nums: List[int], x: int) -> int:\n",
    "        min_step = float('inf')\n",
    "        seen = {}\n",
    "        def remove(target = x, start = 0, end = len(nums) - 1, step = 0):\n",
    "            nonlocal min_step, seen\n",
    "            if target == 0:\n",
    "                min_step = min(min_step, step)\n",
    "            number = str(start) + str(end)\n",
    "            if start > end:\n",
    "                return\n",
    "            if number in seen:\n",
    "                if seen[number] <= step:\n",
    "                    return\n",
    "            seen[number] = step\n",
    "                \n",
    "            \n",
    "            \n",
    "            remove(target-nums[start], start + 1, end, step + 1)\n",
    "            remove(target-nums[end], start, end - 1, step + 1)\n",
    "            \n",
    "                \n",
    "        \n",
    "        remove()\n",
    "        #print(seen_left, seen_right)\n",
    "        return min_step if min_step != float('inf') else -1\n",
    "        "
   ]
  }
 ],
 "metadata": {
  "kernelspec": {
   "display_name": "Python 3",
   "language": "python",
   "name": "python3"
  },
  "language_info": {
   "codemirror_mode": {
    "name": "ipython",
    "version": 3
   },
   "file_extension": ".py",
   "mimetype": "text/x-python",
   "name": "python",
   "nbconvert_exporter": "python",
   "pygments_lexer": "ipython3",
   "version": "3.7.8"
  }
 },
 "nbformat": 4,
 "nbformat_minor": 4
}
