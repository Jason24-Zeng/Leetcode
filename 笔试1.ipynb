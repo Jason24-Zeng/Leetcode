{
 "cells": [
  {
   "cell_type": "markdown",
   "metadata": {},
   "source": [
    "有一个已经排好序的整数序列（升序，无重复项），序列中可能有正整数、负整数或者0，请用你认为最优的方法求序列中绝对值最小的数。要求不能使用顺序比较的方法（时间复杂度需要小于O(n)），不能使用内置查找函数，可以用任何语言实现。\n",
    "- 输入：一个有序的整数序列。\n",
    "- 输出：绝对值最小的数。"
   ]
  },
  {
   "cell_type": "code",
   "execution_count": null,
   "metadata": {},
   "outputs": [],
   "source": [
    "def findmin(nums):\n",
    "    if nums[0] >= 0:\n",
    "        return nums[0]\n",
    "    elif nums[-1] <= 0:\n",
    "        return nums[-1]\n",
    "    lenn = len(nums)\n",
    "    low, high = 0, lenn - 1\n",
    "    while left < right:\n",
    "        mid = low + (high - low)//2\n",
    "        if nums[mid] == 0:\n",
    "            return 0\n",
    "        elif nums[mid] < 0:\n",
    "            left = mid\n",
    "        else:\n",
    "            right = mid\n",
    "        if right - left == 1:\n",
    "            return max(abs(nums[left]), abs(nums[right]))\n",
    "            \n",
    "    "
   ]
  },
  {
   "cell_type": "markdown",
   "metadata": {},
   "source": [
    "有一个无序的整数序列（无重复项，长度为奇数），请用你认为最优的方法求序列的中位数。例如给定数组1、5、2、9、8、0、6，中位数是5。要求算法的时间复杂度需要小于O(n2)，不能使用内置排序函数，可以用任何语言实现。\n",
    "输入：一个无序的整数序列。\n",
    "输出：中位数。"
   ]
  },
  {
   "cell_type": "code",
   "execution_count": 3,
   "metadata": {},
   "outputs": [],
   "source": [
    "# 排序，归并排序, 找到中间值\n",
    "def Msort_median(nums):\n",
    "    lenn = len(nums)\n",
    "    stack = [[nums[i]] for i in range(lenn)] # O(n), split\n",
    "    while len(stack) > 1:\n",
    "        nums1 = stack.pop(0)\n",
    "        nums2 = stack.pop(0)\n",
    "        new_nums = merge(nums1, nums2)\n",
    "        stack.append(new_nums)\n",
    "    return stack[0][lenn//2]\n",
    "def merge(nums1, nums2):\n",
    "    new_nums = []\n",
    "    num1, num2 = nums1.pop(0), nums2.pop(0)\n",
    "    flag1, flag2 = 1, 1\n",
    "    while flag1 and flag2:\n",
    "        if num1 <= num2:\n",
    "            new_nums.append(num1)\n",
    "            if nums1 == []:\n",
    "                flag1 = 0\n",
    "            else:\n",
    "                num1 = nums1.pop(0)\n",
    "        else:\n",
    "            new_nums.append(num2)\n",
    "            if nums2 == []:\n",
    "                flag2 = 0\n",
    "            else:\n",
    "                num2 = nums2.pop(0)\n",
    "    if flag1:\n",
    "        new_nums.append(num1)\n",
    "        new_nums += nums1\n",
    "    else:\n",
    "        new_nums.append(num2)\n",
    "        new_nums += nums2\n",
    "    return new_nums\n",
    "        \n",
    "        "
   ]
  },
  {
   "cell_type": "code",
   "execution_count": 4,
   "metadata": {},
   "outputs": [
    {
     "data": {
      "text/plain": [
       "5"
      ]
     },
     "execution_count": 4,
     "metadata": {},
     "output_type": "execute_result"
    }
   ],
   "source": [
    "nums = [1,5,2,9,8,0,6]\n",
    "Msort_median(nums)"
   ]
  },
  {
   "cell_type": "markdown",
   "metadata": {},
   "source": [
    "有一座高度是k级台阶的楼梯，从下往上走，每跨一步只能向上1级或者3级台阶。请用你认为最优的方法求一共有多少种走法。例如给定楼梯台阶数k为3，一共有2种走法。要求算法的时间复杂度需要小于O(2n)，可以用任何语言实现。\n",
    "输入：楼梯台阶数k。\n",
    "输出：走法总数。"
   ]
  },
  {
   "cell_type": "code",
   "execution_count": 11,
   "metadata": {},
   "outputs": [],
   "source": [
    "def findsummethod(k:int) -> int:\n",
    "    if k < 3:\n",
    "        return 1\n",
    "    dp = [0] * (k + 1)\n",
    "    dp[1] = 1\n",
    "    dp[2] = 1\n",
    "    dp[3] = 2\n",
    "    for i in range(4, k+1):\n",
    "        dp[i] = dp[i-1] + dp[i-3]\n",
    "    return dp[-1]"
   ]
  },
  {
   "cell_type": "code",
   "execution_count": 13,
   "metadata": {},
   "outputs": [
    {
     "data": {
      "text/plain": [
       "1"
      ]
     },
     "execution_count": 13,
     "metadata": {},
     "output_type": "execute_result"
    }
   ],
   "source": [
    "k = 2\n",
    "findsummethod(k)"
   ]
  },
  {
   "cell_type": "code",
   "execution_count": 16,
   "metadata": {},
   "outputs": [
    {
     "name": "stdout",
     "output_type": "stream",
     "text": [
      "3\n",
      "1\n"
     ]
    }
   ],
   "source": [
    "def func1():\n",
    "    try:\n",
    "        return 1\n",
    "    except:\n",
    "        return 2\n",
    "    finally:\n",
    "        print(3)\n",
    "print(func1())"
   ]
  },
  {
   "cell_type": "code",
   "execution_count": 15,
   "metadata": {},
   "outputs": [
    {
     "name": "stdout",
     "output_type": "stream",
     "text": [
      "3\n",
      "2\n"
     ]
    }
   ],
   "source": [
    "def func2():\n",
    "    try:\n",
    "        raise ValueError()\n",
    "        return 1\n",
    "    except:\n",
    "        return 2\n",
    "    finally:\n",
    "        print(3)\n",
    "print(func2())"
   ]
  }
 ],
 "metadata": {
  "kernelspec": {
   "display_name": "Python 3",
   "language": "python",
   "name": "python3"
  },
  "language_info": {
   "codemirror_mode": {
    "name": "ipython",
    "version": 3
   },
   "file_extension": ".py",
   "mimetype": "text/x-python",
   "name": "python",
   "nbconvert_exporter": "python",
   "pygments_lexer": "ipython3",
   "version": "3.7.8"
  }
 },
 "nbformat": 4,
 "nbformat_minor": 4
}
